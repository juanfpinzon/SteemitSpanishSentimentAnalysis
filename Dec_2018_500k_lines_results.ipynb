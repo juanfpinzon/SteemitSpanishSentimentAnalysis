{
 "cells": [
  {
   "cell_type": "code",
   "execution_count": 1,
   "metadata": {},
   "outputs": [
    {
     "name": "stderr",
     "output_type": "stream",
     "text": [
      "Using TensorFlow backend.\n"
     ]
    }
   ],
   "source": [
    "import pandas as pd\n",
    "import numpy as np\n",
    "import matplotlib.pyplot as plt\n",
    "from sklearn.model_selection import train_test_split\n",
    "from sklearn.feature_extraction.text import TfidfVectorizer\n",
    "from sklearn.linear_model import LogisticRegression\n",
    "from sklearn.metrics import classification_report\n",
    "from keras.preprocessing.text import Tokenizer\n",
    "from sklearn.metrics import f1_score\n",
    "from keras.utils import to_categorical\n",
    "from keras import optimizers\n",
    "from keras import regularizers\n",
    "from keras.layers import Dense, concatenate, Activation, Dropout\n",
    "from keras.models import Model\n",
    "from keras.layers.convolutional import Conv1D\n",
    "from keras.layers.pooling import GlobalMaxPooling1D\n",
    "from keras.models import Sequential\n",
    "from keras.regularizers import l2\n",
    "from keras import layers\n",
    "from keras.layers import Dense, Embedding, LSTM, SpatialDropout1D, GRU, Bidirectional \n",
    "from keras import backend as K\n",
    "from keras.preprocessing.sequence import pad_sequences\n",
    "from sklearn.naive_bayes import GaussianNB, BernoulliNB, MultinomialNB\n",
    "from sklearn.svm import SVC\n",
    "from tqdm import tqdm\n",
    "from langua import Predict\n",
    "import gensim\n",
    "import time\n",
    "import re"
   ]
  },
  {
   "cell_type": "markdown",
   "metadata": {},
   "source": [
    "# Data Preparation & Exploration:"
   ]
  },
  {
   "cell_type": "code",
   "execution_count": 2,
   "metadata": {
    "collapsed": true
   },
   "outputs": [],
   "source": [
    "# Load data to pandas df:\n",
    "df = pd.DataFrame.from_csv('exportESP500k.csv', encoding='utf-8')"
   ]
  },
  {
   "cell_type": "code",
   "execution_count": 3,
   "metadata": {
    "collapsed": true
   },
   "outputs": [],
   "source": [
    "#Drop unnecessary columns\n",
    "df.drop(['tx_id', 'author', 'parent_author', 'timestamp', 'json_metadata', \n",
    "         'title', 'title', 'lang'], axis=1, inplace = True, errors='ignore')"
   ]
  },
  {
   "cell_type": "code",
   "execution_count": 4,
   "metadata": {
    "slideshow": {
     "slide_type": "fragment"
    }
   },
   "outputs": [
    {
     "data": {
      "text/html": [
       "<div>\n",
       "<style>\n",
       "    .dataframe thead tr:only-child th {\n",
       "        text-align: right;\n",
       "    }\n",
       "\n",
       "    .dataframe thead th {\n",
       "        text-align: left;\n",
       "    }\n",
       "\n",
       "    .dataframe tbody tr th {\n",
       "        vertical-align: top;\n",
       "    }\n",
       "</style>\n",
       "<table border=\"1\" class=\"dataframe\">\n",
       "  <thead>\n",
       "    <tr style=\"text-align: right;\">\n",
       "      <th></th>\n",
       "      <th>body</th>\n",
       "      <th>words_pos_polarity</th>\n",
       "      <th>words_neg_polarity</th>\n",
       "      <th>emoji_pos_polarity</th>\n",
       "      <th>emoji_neg_polarity</th>\n",
       "      <th>word_emoji_pos_pol_diff</th>\n",
       "      <th>word_emoji_neg_pol_diff</th>\n",
       "      <th>label</th>\n",
       "    </tr>\n",
       "  </thead>\n",
       "  <tbody>\n",
       "    <tr>\n",
       "      <th>0</th>\n",
       "      <td>Abit is no spammer</td>\n",
       "      <td>0.000000</td>\n",
       "      <td>-0.200000</td>\n",
       "      <td>0.0</td>\n",
       "      <td>0.0</td>\n",
       "      <td>0.00</td>\n",
       "      <td>0.0</td>\n",
       "      <td>0.0</td>\n",
       "    </tr>\n",
       "    <tr>\n",
       "      <th>1</th>\n",
       "      <td>You da man</td>\n",
       "      <td>0.000000</td>\n",
       "      <td>0.000000</td>\n",
       "      <td>0.0</td>\n",
       "      <td>0.0</td>\n",
       "      <td>0.00</td>\n",
       "      <td>0.0</td>\n",
       "      <td>0.0</td>\n",
       "    </tr>\n",
       "    <tr>\n",
       "      <th>2</th>\n",
       "      <td>B vs S</td>\n",
       "      <td>0.000000</td>\n",
       "      <td>0.000000</td>\n",
       "      <td>0.0</td>\n",
       "      <td>0.0</td>\n",
       "      <td>0.00</td>\n",
       "      <td>0.0</td>\n",
       "      <td>0.0</td>\n",
       "    </tr>\n",
       "    <tr>\n",
       "      <th>3</th>\n",
       "      <td>URL  Como ya sabéis Aniestudio esta en una con...</td>\n",
       "      <td>0.588500</td>\n",
       "      <td>-0.477500</td>\n",
       "      <td>0.0</td>\n",
       "      <td>0.0</td>\n",
       "      <td>0.00</td>\n",
       "      <td>0.0</td>\n",
       "      <td>1.0</td>\n",
       "    </tr>\n",
       "    <tr>\n",
       "      <th>4</th>\n",
       "      <td>Hace días que no puedo perder un rato en una g...</td>\n",
       "      <td>0.512667</td>\n",
       "      <td>-0.421667</td>\n",
       "      <td>0.0</td>\n",
       "      <td>0.0</td>\n",
       "      <td>0.00</td>\n",
       "      <td>0.0</td>\n",
       "      <td>1.0</td>\n",
       "    </tr>\n",
       "    <tr>\n",
       "      <th>5</th>\n",
       "      <td>El halving e acerca y con el las expectativas ...</td>\n",
       "      <td>0.000000</td>\n",
       "      <td>0.000000</td>\n",
       "      <td>0.0</td>\n",
       "      <td>0.0</td>\n",
       "      <td>0.00</td>\n",
       "      <td>0.0</td>\n",
       "      <td>0.0</td>\n",
       "    </tr>\n",
       "    <tr>\n",
       "      <th>6</th>\n",
       "      <td>Espero  pasarla muy bien en este sitio conocer...</td>\n",
       "      <td>0.841500</td>\n",
       "      <td>-0.200000</td>\n",
       "      <td>0.0</td>\n",
       "      <td>0.0</td>\n",
       "      <td>0.00</td>\n",
       "      <td>0.0</td>\n",
       "      <td>1.0</td>\n",
       "    </tr>\n",
       "    <tr>\n",
       "      <th>7</th>\n",
       "      <td>info  quien desea trabajar desde su casa</td>\n",
       "      <td>0.000000</td>\n",
       "      <td>0.000000</td>\n",
       "      <td>0.0</td>\n",
       "      <td>0.0</td>\n",
       "      <td>0.00</td>\n",
       "      <td>0.0</td>\n",
       "      <td>0.0</td>\n",
       "    </tr>\n",
       "    <tr>\n",
       "      <th>8</th>\n",
       "      <td>información.  Quien quiere trabajar desde casa</td>\n",
       "      <td>0.000000</td>\n",
       "      <td>0.000000</td>\n",
       "      <td>0.0</td>\n",
       "      <td>0.0</td>\n",
       "      <td>0.00</td>\n",
       "      <td>0.0</td>\n",
       "      <td>0.0</td>\n",
       "    </tr>\n",
       "    <tr>\n",
       "      <th>9</th>\n",
       "      <td>Quiero que alguien me explique como funciona r...</td>\n",
       "      <td>0.321500</td>\n",
       "      <td>0.000000</td>\n",
       "      <td>0.0</td>\n",
       "      <td>0.0</td>\n",
       "      <td>0.00</td>\n",
       "      <td>0.0</td>\n",
       "      <td>0.0</td>\n",
       "    </tr>\n",
       "    <tr>\n",
       "      <th>10</th>\n",
       "      <td>Yo tampoco entiendo muy bien pero creo que emp...</td>\n",
       "      <td>0.833000</td>\n",
       "      <td>0.000000</td>\n",
       "      <td>0.0</td>\n",
       "      <td>0.0</td>\n",
       "      <td>0.00</td>\n",
       "      <td>0.0</td>\n",
       "      <td>1.0</td>\n",
       "    </tr>\n",
       "    <tr>\n",
       "      <th>11</th>\n",
       "      <td>Es lamentable pero cierto Dios bendiga a Venez...</td>\n",
       "      <td>0.000000</td>\n",
       "      <td>-0.400000</td>\n",
       "      <td>0.0</td>\n",
       "      <td>0.0</td>\n",
       "      <td>0.00</td>\n",
       "      <td>0.0</td>\n",
       "      <td>-1.0</td>\n",
       "    </tr>\n",
       "    <tr>\n",
       "      <th>12</th>\n",
       "      <td>Espectacular</td>\n",
       "      <td>0.375000</td>\n",
       "      <td>0.000000</td>\n",
       "      <td>0.0</td>\n",
       "      <td>0.0</td>\n",
       "      <td>0.00</td>\n",
       "      <td>0.0</td>\n",
       "      <td>1.0</td>\n",
       "    </tr>\n",
       "    <tr>\n",
       "      <th>13</th>\n",
       "      <td>No</td>\n",
       "      <td>0.000000</td>\n",
       "      <td>-0.200000</td>\n",
       "      <td>0.0</td>\n",
       "      <td>0.0</td>\n",
       "      <td>0.00</td>\n",
       "      <td>0.0</td>\n",
       "      <td>0.0</td>\n",
       "    </tr>\n",
       "    <tr>\n",
       "      <th>14</th>\n",
       "      <td>Adorable</td>\n",
       "      <td>0.500000</td>\n",
       "      <td>0.000000</td>\n",
       "      <td>0.0</td>\n",
       "      <td>0.0</td>\n",
       "      <td>0.00</td>\n",
       "      <td>0.0</td>\n",
       "      <td>1.0</td>\n",
       "    </tr>\n",
       "    <tr>\n",
       "      <th>15</th>\n",
       "      <td>No</td>\n",
       "      <td>0.000000</td>\n",
       "      <td>-0.200000</td>\n",
       "      <td>0.0</td>\n",
       "      <td>0.0</td>\n",
       "      <td>0.00</td>\n",
       "      <td>0.0</td>\n",
       "      <td>0.0</td>\n",
       "    </tr>\n",
       "    <tr>\n",
       "      <th>16</th>\n",
       "      <td>no</td>\n",
       "      <td>0.000000</td>\n",
       "      <td>-0.200000</td>\n",
       "      <td>0.0</td>\n",
       "      <td>0.0</td>\n",
       "      <td>0.00</td>\n",
       "      <td>0.0</td>\n",
       "      <td>0.0</td>\n",
       "    </tr>\n",
       "    <tr>\n",
       "      <th>17</th>\n",
       "      <td>Dentista se hacía pasar por biólogo marino con...</td>\n",
       "      <td>0.000000</td>\n",
       "      <td>-0.630000</td>\n",
       "      <td>0.0</td>\n",
       "      <td>0.0</td>\n",
       "      <td>0.00</td>\n",
       "      <td>0.0</td>\n",
       "      <td>-1.0</td>\n",
       "    </tr>\n",
       "    <tr>\n",
       "      <th>18</th>\n",
       "      <td>Hoy me robaron violentamente un sony xpria e4g...</td>\n",
       "      <td>0.462600</td>\n",
       "      <td>-0.496250</td>\n",
       "      <td>0.0</td>\n",
       "      <td>0.0</td>\n",
       "      <td>0.00</td>\n",
       "      <td>0.0</td>\n",
       "      <td>-1.0</td>\n",
       "    </tr>\n",
       "    <tr>\n",
       "      <th>19</th>\n",
       "      <td>a</td>\n",
       "      <td>0.000000</td>\n",
       "      <td>0.000000</td>\n",
       "      <td>0.0</td>\n",
       "      <td>0.0</td>\n",
       "      <td>0.00</td>\n",
       "      <td>0.0</td>\n",
       "      <td>0.0</td>\n",
       "    </tr>\n",
       "    <tr>\n",
       "      <th>20</th>\n",
       "      <td>a</td>\n",
       "      <td>0.000000</td>\n",
       "      <td>0.000000</td>\n",
       "      <td>0.0</td>\n",
       "      <td>0.0</td>\n",
       "      <td>0.00</td>\n",
       "      <td>0.0</td>\n",
       "      <td>0.0</td>\n",
       "    </tr>\n",
       "    <tr>\n",
       "      <th>21</th>\n",
       "      <td>no :)</td>\n",
       "      <td>0.000000</td>\n",
       "      <td>-0.200000</td>\n",
       "      <td>1.0</td>\n",
       "      <td>0.0</td>\n",
       "      <td>1.00</td>\n",
       "      <td>0.0</td>\n",
       "      <td>1.0</td>\n",
       "    </tr>\n",
       "    <tr>\n",
       "      <th>22</th>\n",
       "      <td>aaaaaa</td>\n",
       "      <td>0.000000</td>\n",
       "      <td>0.000000</td>\n",
       "      <td>0.0</td>\n",
       "      <td>0.0</td>\n",
       "      <td>0.00</td>\n",
       "      <td>0.0</td>\n",
       "      <td>0.0</td>\n",
       "    </tr>\n",
       "    <tr>\n",
       "      <th>23</th>\n",
       "      <td>eeee</td>\n",
       "      <td>0.000000</td>\n",
       "      <td>0.000000</td>\n",
       "      <td>0.0</td>\n",
       "      <td>0.0</td>\n",
       "      <td>0.00</td>\n",
       "      <td>0.0</td>\n",
       "      <td>0.0</td>\n",
       "    </tr>\n",
       "    <tr>\n",
       "      <th>24</th>\n",
       "      <td>a</td>\n",
       "      <td>0.000000</td>\n",
       "      <td>0.000000</td>\n",
       "      <td>0.0</td>\n",
       "      <td>0.0</td>\n",
       "      <td>0.00</td>\n",
       "      <td>0.0</td>\n",
       "      <td>0.0</td>\n",
       "    </tr>\n",
       "    <tr>\n",
       "      <th>25</th>\n",
       "      <td>Quien puede explicarme que es exactamente URL</td>\n",
       "      <td>0.640000</td>\n",
       "      <td>0.000000</td>\n",
       "      <td>0.0</td>\n",
       "      <td>0.0</td>\n",
       "      <td>0.00</td>\n",
       "      <td>0.0</td>\n",
       "      <td>1.0</td>\n",
       "    </tr>\n",
       "    <tr>\n",
       "      <th>26</th>\n",
       "      <td>Donde se realizan los pagos</td>\n",
       "      <td>0.000000</td>\n",
       "      <td>0.000000</td>\n",
       "      <td>0.0</td>\n",
       "      <td>0.0</td>\n",
       "      <td>0.00</td>\n",
       "      <td>0.0</td>\n",
       "      <td>0.0</td>\n",
       "    </tr>\n",
       "    <tr>\n",
       "      <th>27</th>\n",
       "      <td>En que precio pensais que se estabilizara Steem</td>\n",
       "      <td>0.000000</td>\n",
       "      <td>0.000000</td>\n",
       "      <td>0.0</td>\n",
       "      <td>0.0</td>\n",
       "      <td>0.00</td>\n",
       "      <td>0.0</td>\n",
       "      <td>0.0</td>\n",
       "    </tr>\n",
       "    <tr>\n",
       "      <th>28</th>\n",
       "      <td>solar panel</td>\n",
       "      <td>0.000000</td>\n",
       "      <td>0.000000</td>\n",
       "      <td>0.0</td>\n",
       "      <td>0.0</td>\n",
       "      <td>0.00</td>\n",
       "      <td>0.0</td>\n",
       "      <td>0.0</td>\n",
       "    </tr>\n",
       "    <tr>\n",
       "      <th>29</th>\n",
       "      <td>Cual es la mejor criptodivisa</td>\n",
       "      <td>0.625000</td>\n",
       "      <td>0.000000</td>\n",
       "      <td>0.0</td>\n",
       "      <td>0.0</td>\n",
       "      <td>0.00</td>\n",
       "      <td>0.0</td>\n",
       "      <td>1.0</td>\n",
       "    </tr>\n",
       "    <tr>\n",
       "      <th>...</th>\n",
       "      <td>...</td>\n",
       "      <td>...</td>\n",
       "      <td>...</td>\n",
       "      <td>...</td>\n",
       "      <td>...</td>\n",
       "      <td>...</td>\n",
       "      <td>...</td>\n",
       "      <td>...</td>\n",
       "    </tr>\n",
       "    <tr>\n",
       "      <th>4791</th>\n",
       "      <td>Ciao Ciao</td>\n",
       "      <td>0.000000</td>\n",
       "      <td>0.000000</td>\n",
       "      <td>0.0</td>\n",
       "      <td>0.0</td>\n",
       "      <td>0.00</td>\n",
       "      <td>0.0</td>\n",
       "      <td>0.0</td>\n",
       "    </tr>\n",
       "    <tr>\n",
       "      <th>4792</th>\n",
       "      <td>Ciao Ciao</td>\n",
       "      <td>0.000000</td>\n",
       "      <td>0.000000</td>\n",
       "      <td>0.0</td>\n",
       "      <td>0.0</td>\n",
       "      <td>0.00</td>\n",
       "      <td>0.0</td>\n",
       "      <td>0.0</td>\n",
       "    </tr>\n",
       "    <tr>\n",
       "      <th>4793</th>\n",
       "      <td>Muchas gracias de verdad por tu upvote :)</td>\n",
       "      <td>0.300000</td>\n",
       "      <td>0.000000</td>\n",
       "      <td>1.0</td>\n",
       "      <td>0.0</td>\n",
       "      <td>0.70</td>\n",
       "      <td>0.0</td>\n",
       "      <td>1.0</td>\n",
       "    </tr>\n",
       "    <tr>\n",
       "      <th>4794</th>\n",
       "      <td>Bienvenido</td>\n",
       "      <td>0.750000</td>\n",
       "      <td>0.000000</td>\n",
       "      <td>0.0</td>\n",
       "      <td>0.0</td>\n",
       "      <td>0.00</td>\n",
       "      <td>0.0</td>\n",
       "      <td>1.0</td>\n",
       "    </tr>\n",
       "    <tr>\n",
       "      <th>4795</th>\n",
       "      <td>Ciao Ciao</td>\n",
       "      <td>0.000000</td>\n",
       "      <td>0.000000</td>\n",
       "      <td>0.0</td>\n",
       "      <td>0.0</td>\n",
       "      <td>0.00</td>\n",
       "      <td>0.0</td>\n",
       "      <td>0.0</td>\n",
       "    </tr>\n",
       "    <tr>\n",
       "      <th>4796</th>\n",
       "      <td>Gracias</td>\n",
       "      <td>0.000000</td>\n",
       "      <td>0.000000</td>\n",
       "      <td>0.0</td>\n",
       "      <td>0.0</td>\n",
       "      <td>0.00</td>\n",
       "      <td>0.0</td>\n",
       "      <td>0.0</td>\n",
       "    </tr>\n",
       "    <tr>\n",
       "      <th>4797</th>\n",
       "      <td>Gracias paisano</td>\n",
       "      <td>0.000000</td>\n",
       "      <td>0.000000</td>\n",
       "      <td>0.0</td>\n",
       "      <td>0.0</td>\n",
       "      <td>0.00</td>\n",
       "      <td>0.0</td>\n",
       "      <td>0.0</td>\n",
       "    </tr>\n",
       "    <tr>\n",
       "      <th>4798</th>\n",
       "      <td>Ciao Ciao</td>\n",
       "      <td>0.000000</td>\n",
       "      <td>0.000000</td>\n",
       "      <td>0.0</td>\n",
       "      <td>0.0</td>\n",
       "      <td>0.00</td>\n",
       "      <td>0.0</td>\n",
       "      <td>0.0</td>\n",
       "    </tr>\n",
       "    <tr>\n",
       "      <th>4799</th>\n",
       "      <td>Ciao Ciao</td>\n",
       "      <td>0.000000</td>\n",
       "      <td>0.000000</td>\n",
       "      <td>0.0</td>\n",
       "      <td>0.0</td>\n",
       "      <td>0.00</td>\n",
       "      <td>0.0</td>\n",
       "      <td>0.0</td>\n",
       "    </tr>\n",
       "    <tr>\n",
       "      <th>4800</th>\n",
       "      <td>Ciao Ciao</td>\n",
       "      <td>0.000000</td>\n",
       "      <td>0.000000</td>\n",
       "      <td>0.0</td>\n",
       "      <td>0.0</td>\n",
       "      <td>0.00</td>\n",
       "      <td>0.0</td>\n",
       "      <td>0.0</td>\n",
       "    </tr>\n",
       "    <tr>\n",
       "      <th>4801</th>\n",
       "      <td>jajajaja divertido como la vida misma</td>\n",
       "      <td>0.653000</td>\n",
       "      <td>0.000000</td>\n",
       "      <td>0.0</td>\n",
       "      <td>0.0</td>\n",
       "      <td>0.00</td>\n",
       "      <td>0.0</td>\n",
       "      <td>1.0</td>\n",
       "    </tr>\n",
       "    <tr>\n",
       "      <th>4802</th>\n",
       "      <td>Ciao Ciao</td>\n",
       "      <td>0.000000</td>\n",
       "      <td>0.000000</td>\n",
       "      <td>0.0</td>\n",
       "      <td>0.0</td>\n",
       "      <td>0.00</td>\n",
       "      <td>0.0</td>\n",
       "      <td>0.0</td>\n",
       "    </tr>\n",
       "    <tr>\n",
       "      <th>4803</th>\n",
       "      <td>Boooo</td>\n",
       "      <td>0.000000</td>\n",
       "      <td>0.000000</td>\n",
       "      <td>0.0</td>\n",
       "      <td>0.0</td>\n",
       "      <td>0.00</td>\n",
       "      <td>0.0</td>\n",
       "      <td>0.0</td>\n",
       "    </tr>\n",
       "    <tr>\n",
       "      <th>4804</th>\n",
       "      <td>Ciao Ciao</td>\n",
       "      <td>0.000000</td>\n",
       "      <td>0.000000</td>\n",
       "      <td>0.0</td>\n",
       "      <td>0.0</td>\n",
       "      <td>0.00</td>\n",
       "      <td>0.0</td>\n",
       "      <td>0.0</td>\n",
       "    </tr>\n",
       "    <tr>\n",
       "      <th>4805</th>\n",
       "      <td>Super</td>\n",
       "      <td>0.500000</td>\n",
       "      <td>0.000000</td>\n",
       "      <td>0.0</td>\n",
       "      <td>0.0</td>\n",
       "      <td>0.00</td>\n",
       "      <td>0.0</td>\n",
       "      <td>1.0</td>\n",
       "    </tr>\n",
       "    <tr>\n",
       "      <th>4806</th>\n",
       "      <td>Ciao Ciao</td>\n",
       "      <td>0.000000</td>\n",
       "      <td>0.000000</td>\n",
       "      <td>0.0</td>\n",
       "      <td>0.0</td>\n",
       "      <td>0.00</td>\n",
       "      <td>0.0</td>\n",
       "      <td>0.0</td>\n",
       "    </tr>\n",
       "    <tr>\n",
       "      <th>4807</th>\n",
       "      <td>Muchas gracias</td>\n",
       "      <td>0.000000</td>\n",
       "      <td>0.000000</td>\n",
       "      <td>0.0</td>\n",
       "      <td>0.0</td>\n",
       "      <td>0.00</td>\n",
       "      <td>0.0</td>\n",
       "      <td>0.0</td>\n",
       "    </tr>\n",
       "    <tr>\n",
       "      <th>4808</th>\n",
       "      <td>Ciao Ciao</td>\n",
       "      <td>0.000000</td>\n",
       "      <td>0.000000</td>\n",
       "      <td>0.0</td>\n",
       "      <td>0.0</td>\n",
       "      <td>0.00</td>\n",
       "      <td>0.0</td>\n",
       "      <td>0.0</td>\n",
       "    </tr>\n",
       "    <tr>\n",
       "      <th>4809</th>\n",
       "      <td>Bienvenido a steemit :)</td>\n",
       "      <td>0.750000</td>\n",
       "      <td>0.000000</td>\n",
       "      <td>1.0</td>\n",
       "      <td>0.0</td>\n",
       "      <td>0.25</td>\n",
       "      <td>0.0</td>\n",
       "      <td>1.0</td>\n",
       "    </tr>\n",
       "    <tr>\n",
       "      <th>4810</th>\n",
       "      <td>Ciao Ciao</td>\n",
       "      <td>0.000000</td>\n",
       "      <td>0.000000</td>\n",
       "      <td>0.0</td>\n",
       "      <td>0.0</td>\n",
       "      <td>0.00</td>\n",
       "      <td>0.0</td>\n",
       "      <td>0.0</td>\n",
       "    </tr>\n",
       "    <tr>\n",
       "      <th>4811</th>\n",
       "      <td>Gracias</td>\n",
       "      <td>0.000000</td>\n",
       "      <td>0.000000</td>\n",
       "      <td>0.0</td>\n",
       "      <td>0.0</td>\n",
       "      <td>0.00</td>\n",
       "      <td>0.0</td>\n",
       "      <td>0.0</td>\n",
       "    </tr>\n",
       "    <tr>\n",
       "      <th>4812</th>\n",
       "      <td>Yo</td>\n",
       "      <td>0.000000</td>\n",
       "      <td>0.000000</td>\n",
       "      <td>0.0</td>\n",
       "      <td>0.0</td>\n",
       "      <td>0.00</td>\n",
       "      <td>0.0</td>\n",
       "      <td>0.0</td>\n",
       "    </tr>\n",
       "    <tr>\n",
       "      <th>4813</th>\n",
       "      <td>Ciao Ciao</td>\n",
       "      <td>0.000000</td>\n",
       "      <td>0.000000</td>\n",
       "      <td>0.0</td>\n",
       "      <td>0.0</td>\n",
       "      <td>0.00</td>\n",
       "      <td>0.0</td>\n",
       "      <td>0.0</td>\n",
       "    </tr>\n",
       "    <tr>\n",
       "      <th>4814</th>\n",
       "      <td>Ciao Ciao</td>\n",
       "      <td>0.000000</td>\n",
       "      <td>0.000000</td>\n",
       "      <td>0.0</td>\n",
       "      <td>0.0</td>\n",
       "      <td>0.00</td>\n",
       "      <td>0.0</td>\n",
       "      <td>0.0</td>\n",
       "    </tr>\n",
       "    <tr>\n",
       "      <th>4815</th>\n",
       "      <td>Ciao Ciao</td>\n",
       "      <td>0.000000</td>\n",
       "      <td>0.000000</td>\n",
       "      <td>0.0</td>\n",
       "      <td>0.0</td>\n",
       "      <td>0.00</td>\n",
       "      <td>0.0</td>\n",
       "      <td>0.0</td>\n",
       "    </tr>\n",
       "    <tr>\n",
       "      <th>4816</th>\n",
       "      <td>Ciao Ciao</td>\n",
       "      <td>0.000000</td>\n",
       "      <td>0.000000</td>\n",
       "      <td>0.0</td>\n",
       "      <td>0.0</td>\n",
       "      <td>0.00</td>\n",
       "      <td>0.0</td>\n",
       "      <td>0.0</td>\n",
       "    </tr>\n",
       "    <tr>\n",
       "      <th>4817</th>\n",
       "      <td>Ciao Ciao</td>\n",
       "      <td>0.000000</td>\n",
       "      <td>0.000000</td>\n",
       "      <td>0.0</td>\n",
       "      <td>0.0</td>\n",
       "      <td>0.00</td>\n",
       "      <td>0.0</td>\n",
       "      <td>0.0</td>\n",
       "    </tr>\n",
       "    <tr>\n",
       "      <th>4818</th>\n",
       "      <td>sexy</td>\n",
       "      <td>0.375000</td>\n",
       "      <td>0.000000</td>\n",
       "      <td>0.0</td>\n",
       "      <td>0.0</td>\n",
       "      <td>0.00</td>\n",
       "      <td>0.0</td>\n",
       "      <td>1.0</td>\n",
       "    </tr>\n",
       "    <tr>\n",
       "      <th>4819</th>\n",
       "      <td>que bonita fotografia USER</td>\n",
       "      <td>0.000000</td>\n",
       "      <td>0.000000</td>\n",
       "      <td>0.0</td>\n",
       "      <td>0.0</td>\n",
       "      <td>0.00</td>\n",
       "      <td>0.0</td>\n",
       "      <td>0.0</td>\n",
       "    </tr>\n",
       "    <tr>\n",
       "      <th>4820</th>\n",
       "      <td>excelentes fotografías un saludo desde venezuela</td>\n",
       "      <td>0.380000</td>\n",
       "      <td>-0.375000</td>\n",
       "      <td>0.0</td>\n",
       "      <td>0.0</td>\n",
       "      <td>0.00</td>\n",
       "      <td>0.0</td>\n",
       "      <td>1.0</td>\n",
       "    </tr>\n",
       "  </tbody>\n",
       "</table>\n",
       "<p>4821 rows × 8 columns</p>\n",
       "</div>"
      ],
      "text/plain": [
       "                                                   body  words_pos_polarity  \\\n",
       "0                                    Abit is no spammer            0.000000   \n",
       "1                                            You da man            0.000000   \n",
       "2                                                B vs S            0.000000   \n",
       "3     URL  Como ya sabéis Aniestudio esta en una con...            0.588500   \n",
       "4     Hace días que no puedo perder un rato en una g...            0.512667   \n",
       "5     El halving e acerca y con el las expectativas ...            0.000000   \n",
       "6     Espero  pasarla muy bien en este sitio conocer...            0.841500   \n",
       "7              info  quien desea trabajar desde su casa            0.000000   \n",
       "8        información.  Quien quiere trabajar desde casa            0.000000   \n",
       "9     Quiero que alguien me explique como funciona r...            0.321500   \n",
       "10    Yo tampoco entiendo muy bien pero creo que emp...            0.833000   \n",
       "11    Es lamentable pero cierto Dios bendiga a Venez...            0.000000   \n",
       "12                                         Espectacular            0.375000   \n",
       "13                                                   No            0.000000   \n",
       "14                                             Adorable            0.500000   \n",
       "15                                                   No            0.000000   \n",
       "16                                                   no            0.000000   \n",
       "17    Dentista se hacía pasar por biólogo marino con...            0.000000   \n",
       "18    Hoy me robaron violentamente un sony xpria e4g...            0.462600   \n",
       "19                                                    a            0.000000   \n",
       "20                                                    a            0.000000   \n",
       "21                                                no :)            0.000000   \n",
       "22                                               aaaaaa            0.000000   \n",
       "23                                                 eeee            0.000000   \n",
       "24                                                    a            0.000000   \n",
       "25        Quien puede explicarme que es exactamente URL            0.640000   \n",
       "26                          Donde se realizan los pagos            0.000000   \n",
       "27      En que precio pensais que se estabilizara Steem            0.000000   \n",
       "28                                          solar panel            0.000000   \n",
       "29                        Cual es la mejor criptodivisa            0.625000   \n",
       "...                                                 ...                 ...   \n",
       "4791                                          Ciao Ciao            0.000000   \n",
       "4792                                          Ciao Ciao            0.000000   \n",
       "4793          Muchas gracias de verdad por tu upvote :)            0.300000   \n",
       "4794                                         Bienvenido            0.750000   \n",
       "4795                                          Ciao Ciao            0.000000   \n",
       "4796                                            Gracias            0.000000   \n",
       "4797                                    Gracias paisano            0.000000   \n",
       "4798                                          Ciao Ciao            0.000000   \n",
       "4799                                          Ciao Ciao            0.000000   \n",
       "4800                                          Ciao Ciao            0.000000   \n",
       "4801              jajajaja divertido como la vida misma            0.653000   \n",
       "4802                                          Ciao Ciao            0.000000   \n",
       "4803                                              Boooo            0.000000   \n",
       "4804                                          Ciao Ciao            0.000000   \n",
       "4805                                              Super            0.500000   \n",
       "4806                                          Ciao Ciao            0.000000   \n",
       "4807                                     Muchas gracias            0.000000   \n",
       "4808                                          Ciao Ciao            0.000000   \n",
       "4809                            Bienvenido a steemit :)            0.750000   \n",
       "4810                                          Ciao Ciao            0.000000   \n",
       "4811                                            Gracias            0.000000   \n",
       "4812                                                 Yo            0.000000   \n",
       "4813                                          Ciao Ciao            0.000000   \n",
       "4814                                          Ciao Ciao            0.000000   \n",
       "4815                                          Ciao Ciao            0.000000   \n",
       "4816                                          Ciao Ciao            0.000000   \n",
       "4817                                          Ciao Ciao            0.000000   \n",
       "4818                                               sexy            0.375000   \n",
       "4819                         que bonita fotografia USER            0.000000   \n",
       "4820   excelentes fotografías un saludo desde venezuela            0.380000   \n",
       "\n",
       "      words_neg_polarity  emoji_pos_polarity  emoji_neg_polarity  \\\n",
       "0              -0.200000                 0.0                 0.0   \n",
       "1               0.000000                 0.0                 0.0   \n",
       "2               0.000000                 0.0                 0.0   \n",
       "3              -0.477500                 0.0                 0.0   \n",
       "4              -0.421667                 0.0                 0.0   \n",
       "5               0.000000                 0.0                 0.0   \n",
       "6              -0.200000                 0.0                 0.0   \n",
       "7               0.000000                 0.0                 0.0   \n",
       "8               0.000000                 0.0                 0.0   \n",
       "9               0.000000                 0.0                 0.0   \n",
       "10              0.000000                 0.0                 0.0   \n",
       "11             -0.400000                 0.0                 0.0   \n",
       "12              0.000000                 0.0                 0.0   \n",
       "13             -0.200000                 0.0                 0.0   \n",
       "14              0.000000                 0.0                 0.0   \n",
       "15             -0.200000                 0.0                 0.0   \n",
       "16             -0.200000                 0.0                 0.0   \n",
       "17             -0.630000                 0.0                 0.0   \n",
       "18             -0.496250                 0.0                 0.0   \n",
       "19              0.000000                 0.0                 0.0   \n",
       "20              0.000000                 0.0                 0.0   \n",
       "21             -0.200000                 1.0                 0.0   \n",
       "22              0.000000                 0.0                 0.0   \n",
       "23              0.000000                 0.0                 0.0   \n",
       "24              0.000000                 0.0                 0.0   \n",
       "25              0.000000                 0.0                 0.0   \n",
       "26              0.000000                 0.0                 0.0   \n",
       "27              0.000000                 0.0                 0.0   \n",
       "28              0.000000                 0.0                 0.0   \n",
       "29              0.000000                 0.0                 0.0   \n",
       "...                  ...                 ...                 ...   \n",
       "4791            0.000000                 0.0                 0.0   \n",
       "4792            0.000000                 0.0                 0.0   \n",
       "4793            0.000000                 1.0                 0.0   \n",
       "4794            0.000000                 0.0                 0.0   \n",
       "4795            0.000000                 0.0                 0.0   \n",
       "4796            0.000000                 0.0                 0.0   \n",
       "4797            0.000000                 0.0                 0.0   \n",
       "4798            0.000000                 0.0                 0.0   \n",
       "4799            0.000000                 0.0                 0.0   \n",
       "4800            0.000000                 0.0                 0.0   \n",
       "4801            0.000000                 0.0                 0.0   \n",
       "4802            0.000000                 0.0                 0.0   \n",
       "4803            0.000000                 0.0                 0.0   \n",
       "4804            0.000000                 0.0                 0.0   \n",
       "4805            0.000000                 0.0                 0.0   \n",
       "4806            0.000000                 0.0                 0.0   \n",
       "4807            0.000000                 0.0                 0.0   \n",
       "4808            0.000000                 0.0                 0.0   \n",
       "4809            0.000000                 1.0                 0.0   \n",
       "4810            0.000000                 0.0                 0.0   \n",
       "4811            0.000000                 0.0                 0.0   \n",
       "4812            0.000000                 0.0                 0.0   \n",
       "4813            0.000000                 0.0                 0.0   \n",
       "4814            0.000000                 0.0                 0.0   \n",
       "4815            0.000000                 0.0                 0.0   \n",
       "4816            0.000000                 0.0                 0.0   \n",
       "4817            0.000000                 0.0                 0.0   \n",
       "4818            0.000000                 0.0                 0.0   \n",
       "4819            0.000000                 0.0                 0.0   \n",
       "4820           -0.375000                 0.0                 0.0   \n",
       "\n",
       "      word_emoji_pos_pol_diff  word_emoji_neg_pol_diff  label  \n",
       "0                        0.00                      0.0    0.0  \n",
       "1                        0.00                      0.0    0.0  \n",
       "2                        0.00                      0.0    0.0  \n",
       "3                        0.00                      0.0    1.0  \n",
       "4                        0.00                      0.0    1.0  \n",
       "5                        0.00                      0.0    0.0  \n",
       "6                        0.00                      0.0    1.0  \n",
       "7                        0.00                      0.0    0.0  \n",
       "8                        0.00                      0.0    0.0  \n",
       "9                        0.00                      0.0    0.0  \n",
       "10                       0.00                      0.0    1.0  \n",
       "11                       0.00                      0.0   -1.0  \n",
       "12                       0.00                      0.0    1.0  \n",
       "13                       0.00                      0.0    0.0  \n",
       "14                       0.00                      0.0    1.0  \n",
       "15                       0.00                      0.0    0.0  \n",
       "16                       0.00                      0.0    0.0  \n",
       "17                       0.00                      0.0   -1.0  \n",
       "18                       0.00                      0.0   -1.0  \n",
       "19                       0.00                      0.0    0.0  \n",
       "20                       0.00                      0.0    0.0  \n",
       "21                       1.00                      0.0    1.0  \n",
       "22                       0.00                      0.0    0.0  \n",
       "23                       0.00                      0.0    0.0  \n",
       "24                       0.00                      0.0    0.0  \n",
       "25                       0.00                      0.0    1.0  \n",
       "26                       0.00                      0.0    0.0  \n",
       "27                       0.00                      0.0    0.0  \n",
       "28                       0.00                      0.0    0.0  \n",
       "29                       0.00                      0.0    1.0  \n",
       "...                       ...                      ...    ...  \n",
       "4791                     0.00                      0.0    0.0  \n",
       "4792                     0.00                      0.0    0.0  \n",
       "4793                     0.70                      0.0    1.0  \n",
       "4794                     0.00                      0.0    1.0  \n",
       "4795                     0.00                      0.0    0.0  \n",
       "4796                     0.00                      0.0    0.0  \n",
       "4797                     0.00                      0.0    0.0  \n",
       "4798                     0.00                      0.0    0.0  \n",
       "4799                     0.00                      0.0    0.0  \n",
       "4800                     0.00                      0.0    0.0  \n",
       "4801                     0.00                      0.0    1.0  \n",
       "4802                     0.00                      0.0    0.0  \n",
       "4803                     0.00                      0.0    0.0  \n",
       "4804                     0.00                      0.0    0.0  \n",
       "4805                     0.00                      0.0    1.0  \n",
       "4806                     0.00                      0.0    0.0  \n",
       "4807                     0.00                      0.0    0.0  \n",
       "4808                     0.00                      0.0    0.0  \n",
       "4809                     0.25                      0.0    1.0  \n",
       "4810                     0.00                      0.0    0.0  \n",
       "4811                     0.00                      0.0    0.0  \n",
       "4812                     0.00                      0.0    0.0  \n",
       "4813                     0.00                      0.0    0.0  \n",
       "4814                     0.00                      0.0    0.0  \n",
       "4815                     0.00                      0.0    0.0  \n",
       "4816                     0.00                      0.0    0.0  \n",
       "4817                     0.00                      0.0    0.0  \n",
       "4818                     0.00                      0.0    1.0  \n",
       "4819                     0.00                      0.0    0.0  \n",
       "4820                     0.00                      0.0    1.0  \n",
       "\n",
       "[4821 rows x 8 columns]"
      ]
     },
     "execution_count": 4,
     "metadata": {},
     "output_type": "execute_result"
    }
   ],
   "source": [
    "df"
   ]
  },
  {
   "cell_type": "markdown",
   "metadata": {},
   "source": [
    "### Label Distribution:"
   ]
  },
  {
   "cell_type": "markdown",
   "metadata": {},
   "source": [
    "-1 = Negative sentiment,\n",
    " 0 = No sentiment,\n",
    " 1 = Positive sentiment"
   ]
  },
  {
   "cell_type": "code",
   "execution_count": 5,
   "metadata": {},
   "outputs": [
    {
     "data": {
      "text/plain": [
       " 0.0    3498\n",
       " 1.0    1079\n",
       "-1.0     244\n",
       "Name: label, dtype: int64"
      ]
     },
     "execution_count": 5,
     "metadata": {},
     "output_type": "execute_result"
    }
   ],
   "source": [
    "df.label.value_counts()"
   ]
  },
  {
   "cell_type": "markdown",
   "metadata": {},
   "source": [
    "## Data Description:"
   ]
  },
  {
   "cell_type": "code",
   "execution_count": 6,
   "metadata": {
    "scrolled": true
   },
   "outputs": [
    {
     "data": {
      "text/html": [
       "<div>\n",
       "<style>\n",
       "    .dataframe thead tr:only-child th {\n",
       "        text-align: right;\n",
       "    }\n",
       "\n",
       "    .dataframe thead th {\n",
       "        text-align: left;\n",
       "    }\n",
       "\n",
       "    .dataframe tbody tr th {\n",
       "        vertical-align: top;\n",
       "    }\n",
       "</style>\n",
       "<table border=\"1\" class=\"dataframe\">\n",
       "  <thead>\n",
       "    <tr style=\"text-align: right;\">\n",
       "      <th></th>\n",
       "      <th>words_pos_polarity</th>\n",
       "      <th>words_neg_polarity</th>\n",
       "      <th>emoji_pos_polarity</th>\n",
       "      <th>emoji_neg_polarity</th>\n",
       "      <th>word_emoji_pos_pol_diff</th>\n",
       "      <th>word_emoji_neg_pol_diff</th>\n",
       "      <th>label</th>\n",
       "    </tr>\n",
       "  </thead>\n",
       "  <tbody>\n",
       "    <tr>\n",
       "      <th>count</th>\n",
       "      <td>4821.000000</td>\n",
       "      <td>4821.000000</td>\n",
       "      <td>4821.000000</td>\n",
       "      <td>4821.000000</td>\n",
       "      <td>4821.000000</td>\n",
       "      <td>4821.000000</td>\n",
       "      <td>4821.000000</td>\n",
       "    </tr>\n",
       "    <tr>\n",
       "      <th>mean</th>\n",
       "      <td>0.145173</td>\n",
       "      <td>-0.063368</td>\n",
       "      <td>0.038789</td>\n",
       "      <td>-0.001452</td>\n",
       "      <td>0.030847</td>\n",
       "      <td>0.001187</td>\n",
       "      <td>0.173201</td>\n",
       "    </tr>\n",
       "    <tr>\n",
       "      <th>std</th>\n",
       "      <td>0.247626</td>\n",
       "      <td>0.152551</td>\n",
       "      <td>0.193111</td>\n",
       "      <td>0.038081</td>\n",
       "      <td>0.162315</td>\n",
       "      <td>0.032406</td>\n",
       "      <td>0.494446</td>\n",
       "    </tr>\n",
       "    <tr>\n",
       "      <th>min</th>\n",
       "      <td>0.000000</td>\n",
       "      <td>-1.000000</td>\n",
       "      <td>0.000000</td>\n",
       "      <td>-1.000000</td>\n",
       "      <td>0.000000</td>\n",
       "      <td>0.000000</td>\n",
       "      <td>-1.000000</td>\n",
       "    </tr>\n",
       "    <tr>\n",
       "      <th>25%</th>\n",
       "      <td>0.000000</td>\n",
       "      <td>0.000000</td>\n",
       "      <td>0.000000</td>\n",
       "      <td>0.000000</td>\n",
       "      <td>0.000000</td>\n",
       "      <td>0.000000</td>\n",
       "      <td>0.000000</td>\n",
       "    </tr>\n",
       "    <tr>\n",
       "      <th>50%</th>\n",
       "      <td>0.000000</td>\n",
       "      <td>0.000000</td>\n",
       "      <td>0.000000</td>\n",
       "      <td>0.000000</td>\n",
       "      <td>0.000000</td>\n",
       "      <td>0.000000</td>\n",
       "      <td>0.000000</td>\n",
       "    </tr>\n",
       "    <tr>\n",
       "      <th>75%</th>\n",
       "      <td>0.250000</td>\n",
       "      <td>0.000000</td>\n",
       "      <td>0.000000</td>\n",
       "      <td>0.000000</td>\n",
       "      <td>0.000000</td>\n",
       "      <td>0.000000</td>\n",
       "      <td>0.000000</td>\n",
       "    </tr>\n",
       "    <tr>\n",
       "      <th>max</th>\n",
       "      <td>0.990000</td>\n",
       "      <td>0.000000</td>\n",
       "      <td>1.000000</td>\n",
       "      <td>0.000000</td>\n",
       "      <td>1.000000</td>\n",
       "      <td>1.000000</td>\n",
       "      <td>1.000000</td>\n",
       "    </tr>\n",
       "  </tbody>\n",
       "</table>\n",
       "</div>"
      ],
      "text/plain": [
       "       words_pos_polarity  words_neg_polarity  emoji_pos_polarity  \\\n",
       "count         4821.000000         4821.000000         4821.000000   \n",
       "mean             0.145173           -0.063368            0.038789   \n",
       "std              0.247626            0.152551            0.193111   \n",
       "min              0.000000           -1.000000            0.000000   \n",
       "25%              0.000000            0.000000            0.000000   \n",
       "50%              0.000000            0.000000            0.000000   \n",
       "75%              0.250000            0.000000            0.000000   \n",
       "max              0.990000            0.000000            1.000000   \n",
       "\n",
       "       emoji_neg_polarity  word_emoji_pos_pol_diff  word_emoji_neg_pol_diff  \\\n",
       "count         4821.000000              4821.000000              4821.000000   \n",
       "mean            -0.001452                 0.030847                 0.001187   \n",
       "std              0.038081                 0.162315                 0.032406   \n",
       "min             -1.000000                 0.000000                 0.000000   \n",
       "25%              0.000000                 0.000000                 0.000000   \n",
       "50%              0.000000                 0.000000                 0.000000   \n",
       "75%              0.000000                 0.000000                 0.000000   \n",
       "max              0.000000                 1.000000                 1.000000   \n",
       "\n",
       "             label  \n",
       "count  4821.000000  \n",
       "mean      0.173201  \n",
       "std       0.494446  \n",
       "min      -1.000000  \n",
       "25%       0.000000  \n",
       "50%       0.000000  \n",
       "75%       0.000000  \n",
       "max       1.000000  "
      ]
     },
     "execution_count": 6,
     "metadata": {},
     "output_type": "execute_result"
    }
   ],
   "source": [
    "df.describe()"
   ]
  },
  {
   "cell_type": "markdown",
   "metadata": {},
   "source": [
    "### Train Test Split"
   ]
  },
  {
   "cell_type": "code",
   "execution_count": 136,
   "metadata": {
    "collapsed": true
   },
   "outputs": [],
   "source": [
    "# TRAIN TEST SPLIT DATA:\n",
    "X = df.iloc[:, :-1]\n",
    "y = df.iloc[:, -1]\n",
    "y = y.astype(int)\n",
    "\n",
    "X_train, X_test, y_train, y_test = train_test_split(X, y, test_size=0.25, random_state=42)"
   ]
  },
  {
   "cell_type": "markdown",
   "metadata": {},
   "source": [
    "## TF-IDF Vectorizer:"
   ]
  },
  {
   "cell_type": "code",
   "execution_count": 69,
   "metadata": {},
   "outputs": [
    {
     "name": "stderr",
     "output_type": "stream",
     "text": [
      "/Users/juan/anaconda3/lib/python3.6/site-packages/sklearn/feature_extraction/text.py:1089: FutureWarning: Conversion of the second argument of issubdtype from `float` to `np.floating` is deprecated. In future, it will be treated as `np.float64 == np.dtype(float).type`.\n",
      "  if hasattr(X, 'dtype') and np.issubdtype(X.dtype, np.float):\n"
     ]
    },
    {
     "data": {
      "text/plain": [
       "(3615, 4686)"
      ]
     },
     "execution_count": 69,
     "metadata": {},
     "output_type": "execute_result"
    }
   ],
   "source": [
    "vectorizer = TfidfVectorizer()\n",
    "X_train = vectorizer.fit_transform(X_train.body)\n",
    "X_train.shape"
   ]
  },
  {
   "cell_type": "code",
   "execution_count": 70,
   "metadata": {},
   "outputs": [
    {
     "name": "stderr",
     "output_type": "stream",
     "text": [
      "/Users/juan/anaconda3/lib/python3.6/site-packages/sklearn/feature_extraction/text.py:1089: FutureWarning: Conversion of the second argument of issubdtype from `float` to `np.floating` is deprecated. In future, it will be treated as `np.float64 == np.dtype(float).type`.\n",
      "  if hasattr(X, 'dtype') and np.issubdtype(X.dtype, np.float):\n"
     ]
    },
    {
     "data": {
      "text/plain": [
       "(1206, 4686)"
      ]
     },
     "execution_count": 70,
     "metadata": {},
     "output_type": "execute_result"
    }
   ],
   "source": [
    "X_test = vectorizer.transform(X_test.body)\n",
    "X_test.shape"
   ]
  },
  {
   "cell_type": "markdown",
   "metadata": {},
   "source": [
    "# MACHINE LEARNING ALGORITHMS:"
   ]
  },
  {
   "cell_type": "markdown",
   "metadata": {},
   "source": [
    "## NAIVE BAYES:"
   ]
  },
  {
   "cell_type": "code",
   "execution_count": 24,
   "metadata": {},
   "outputs": [
    {
     "data": {
      "text/plain": [
       "GaussianNB(priors=None)"
      ]
     },
     "execution_count": 24,
     "metadata": {},
     "output_type": "execute_result"
    }
   ],
   "source": [
    "gnb = GaussianNB()\n",
    "gnb.fit(X_train.toarray(), y_train)"
   ]
  },
  {
   "cell_type": "code",
   "execution_count": 25,
   "metadata": {},
   "outputs": [
    {
     "name": "stdout",
     "output_type": "stream",
     "text": [
      "Model Accuracy: 70.81260364842454 %\n"
     ]
    }
   ],
   "source": [
    "score = gnb.score(X_test.toarray(), y_test)\n",
    "print('Model Accuracy:', (score*100), '%')"
   ]
  },
  {
   "cell_type": "code",
   "execution_count": 26,
   "metadata": {},
   "outputs": [
    {
     "name": "stdout",
     "output_type": "stream",
     "text": [
      "             precision    recall  f1-score   support\n",
      "\n",
      "         -1       0.12      0.42      0.19        69\n",
      "          0       0.93      0.75      0.83       854\n",
      "          1       0.67      0.65      0.66       283\n",
      "\n",
      "avg / total       0.82      0.71      0.75      1206\n",
      "\n"
     ]
    }
   ],
   "source": [
    "predicted = gnb.predict(X_test.toarray())\n",
    "report = classification_report(y_test, predicted)\n",
    "print(report)"
   ]
  },
  {
   "cell_type": "markdown",
   "metadata": {},
   "source": [
    "## LOGISTIC REGRESSION:"
   ]
  },
  {
   "cell_type": "code",
   "execution_count": 61,
   "metadata": {
    "collapsed": true
   },
   "outputs": [],
   "source": [
    "model = LogisticRegression(multi_class='ovr')"
   ]
  },
  {
   "cell_type": "code",
   "execution_count": 18,
   "metadata": {},
   "outputs": [
    {
     "data": {
      "text/plain": [
       "LogisticRegression(C=1.0, class_weight=None, dual=False, fit_intercept=True,\n",
       "          intercept_scaling=1, max_iter=100, multi_class='ovr', n_jobs=1,\n",
       "          penalty='l2', random_state=None, solver='liblinear', tol=0.0001,\n",
       "          verbose=0, warm_start=False)"
      ]
     },
     "execution_count": 18,
     "metadata": {},
     "output_type": "execute_result"
    }
   ],
   "source": [
    "model.fit(X_train, y_train)"
   ]
  },
  {
   "cell_type": "code",
   "execution_count": 19,
   "metadata": {},
   "outputs": [
    {
     "name": "stdout",
     "output_type": "stream",
     "text": [
      "Model Accuracy: 85.7379767827529 %\n"
     ]
    }
   ],
   "source": [
    "score = model.score(X_test, y_test)\n",
    "print('Model Accuracy:', (score*100), '%')"
   ]
  },
  {
   "cell_type": "code",
   "execution_count": 20,
   "metadata": {},
   "outputs": [
    {
     "name": "stdout",
     "output_type": "stream",
     "text": [
      "             precision    recall  f1-score   support\n",
      "\n",
      "         -1       1.00      0.09      0.16        69\n",
      "          0       0.90      0.95      0.92       854\n",
      "          1       0.73      0.75      0.74       283\n",
      "\n",
      "avg / total       0.86      0.86      0.84      1206\n",
      "\n"
     ]
    }
   ],
   "source": [
    "predicted = model.predict(X_test)\n",
    "report = classification_report(y_test, predicted)\n",
    "print(report)"
   ]
  },
  {
   "cell_type": "markdown",
   "metadata": {},
   "source": [
    "## SVM (GAUSIAN KERNEL):"
   ]
  },
  {
   "cell_type": "code",
   "execution_count": 21,
   "metadata": {},
   "outputs": [
    {
     "data": {
      "text/plain": [
       "SVC(C=1.0, cache_size=200, class_weight=None, coef0=0.0,\n",
       "  decision_function_shape='ovr', degree=3, gamma='auto', kernel='rbf',\n",
       "  max_iter=-1, probability=False, random_state=None, shrinking=True,\n",
       "  tol=0.001, verbose=False)"
      ]
     },
     "execution_count": 21,
     "metadata": {},
     "output_type": "execute_result"
    }
   ],
   "source": [
    "svclassifier = SVC(kernel='rbf')  \n",
    "svclassifier.fit(X_train, y_train)"
   ]
  },
  {
   "cell_type": "code",
   "execution_count": 22,
   "metadata": {},
   "outputs": [
    {
     "name": "stdout",
     "output_type": "stream",
     "text": [
      "Model Accuracy: 70.81260364842454 %\n"
     ]
    }
   ],
   "source": [
    "score = svclassifier.score(X_test, y_test)\n",
    "print('Model Accuracy:', (score*100), '%')"
   ]
  },
  {
   "cell_type": "code",
   "execution_count": 23,
   "metadata": {},
   "outputs": [
    {
     "name": "stdout",
     "output_type": "stream",
     "text": [
      "             precision    recall  f1-score   support\n",
      "\n",
      "         -1       0.00      0.00      0.00        69\n",
      "          0       0.71      1.00      0.83       854\n",
      "          1       0.00      0.00      0.00       283\n",
      "\n",
      "avg / total       0.50      0.71      0.59      1206\n",
      "\n"
     ]
    },
    {
     "name": "stderr",
     "output_type": "stream",
     "text": [
      "/Users/juan/anaconda3/lib/python3.6/site-packages/sklearn/metrics/classification.py:1135: UndefinedMetricWarning: Precision and F-score are ill-defined and being set to 0.0 in labels with no predicted samples.\n",
      "  'precision', 'predicted', average, warn_for)\n"
     ]
    }
   ],
   "source": [
    "predicted = svclassifier.predict(X_test)\n",
    "report = classification_report(y_test, predicted)\n",
    "print(report)"
   ]
  },
  {
   "cell_type": "markdown",
   "metadata": {},
   "source": [
    "# DEEP LEARNING IMPLEMENTATIONS:"
   ]
  },
  {
   "cell_type": "markdown",
   "metadata": {},
   "source": [
    "### WORD2VEC & EMBEDDING MATRIX:"
   ]
  },
  {
   "cell_type": "code",
   "execution_count": 137,
   "metadata": {
    "collapsed": true
   },
   "outputs": [],
   "source": [
    "# Split text:\n",
    "split_text = X.body.apply(lambda sent: sent.lower().split())"
   ]
  },
  {
   "cell_type": "code",
   "execution_count": 138,
   "metadata": {
    "collapsed": true
   },
   "outputs": [],
   "source": [
    "# Training W2V on posts texts:\n",
    "w2v = gensim.models.Word2Vec(sentences=split_text, sg=1, min_count=1)"
   ]
  },
  {
   "cell_type": "code",
   "execution_count": 139,
   "metadata": {},
   "outputs": [
    {
     "data": {
      "text/plain": [
       "5870"
      ]
     },
     "execution_count": 139,
     "metadata": {},
     "output_type": "execute_result"
    }
   ],
   "source": [
    "# Check # of unique words:\n",
    "keys = len(list(w2v.wv.vocab.keys()))\n",
    "keys"
   ]
  },
  {
   "cell_type": "code",
   "execution_count": 140,
   "metadata": {},
   "outputs": [
    {
     "data": {
      "text/plain": [
       "2     1991\n",
       "1     1046\n",
       "3      308\n",
       "4      145\n",
       "6       95\n",
       "5       90\n",
       "7       82\n",
       "9       70\n",
       "8       58\n",
       "10      51\n",
       "11      46\n",
       "12      46\n",
       "13      44\n",
       "16      41\n",
       "17      41\n",
       "14      38\n",
       "15      35\n",
       "22      29\n",
       "18      27\n",
       "19      26\n",
       "27      26\n",
       "20      25\n",
       "21      25\n",
       "24      24\n",
       "23      21\n",
       "35      18\n",
       "30      17\n",
       "25      16\n",
       "32      16\n",
       "31      13\n",
       "      ... \n",
       "55       7\n",
       "42       7\n",
       "53       7\n",
       "47       6\n",
       "56       6\n",
       "50       6\n",
       "63       5\n",
       "57       5\n",
       "43       5\n",
       "72       5\n",
       "51       5\n",
       "75       5\n",
       "61       4\n",
       "66       4\n",
       "46       4\n",
       "77       3\n",
       "60       3\n",
       "64       3\n",
       "65       3\n",
       "70       3\n",
       "74       3\n",
       "71       3\n",
       "76       2\n",
       "69       2\n",
       "59       2\n",
       "79       2\n",
       "68       1\n",
       "80       1\n",
       "73       1\n",
       "67       1\n",
       "Name: body, Length: 79, dtype: int64"
      ]
     },
     "execution_count": 140,
     "metadata": {},
     "output_type": "execute_result"
    }
   ],
   "source": [
    "split_text.apply(lambda row: len(row)).value_counts()"
   ]
  },
  {
   "cell_type": "code",
   "execution_count": 141,
   "metadata": {},
   "outputs": [
    {
     "name": "stdout",
     "output_type": "stream",
     "text": [
      "                                                   body words_pos_polarity  \\\n",
      "4096                                          Ciao Ciao                  0   \n",
      "4108                                          Ciao Ciao                  0   \n",
      "1172                                Mas falo quis dizer                  0   \n",
      "2268                                          Ciao Ciao                  0   \n",
      "325                                                  Oh                  0   \n",
      "1051  Creo que se usa una media semanal de todos mod...            0.41375   \n",
      "2763                                          Ciao Ciao                  0   \n",
      "3603                                          Ciao Ciao                  0   \n",
      "3321                                          Ciao Ciao                  0   \n",
      "1946                                               Ciao                  0   \n",
      "1196       Te amo Fyrstikken eres lo mejor del mundo <3             0.4625   \n",
      "620   En el año 2011 Erdogán dijo que ¡Bashar alAssa...             0.5415   \n",
      "3656                                          Ciao Ciao                  0   \n",
      "4509                                          Ciao Ciao                  0   \n",
      "1189                                              LOLOL                  0   \n",
      "328   En español no es más fácil ingresar al mundo d...               0.25   \n",
      "2024                                               Ciao                  0   \n",
      "897              Préférable de bien sécher par la suite              0.833   \n",
      "4558                                          Ciao Ciao                  0   \n",
      "1123  Suerte mi hermano ojalá ya mejoren las cosas p...             0.3525   \n",
      "3126                                          Ciao Ciao                  0   \n",
      "4478                                          Ciao Ciao                  0   \n",
      "2173                                               Ciao                  0   \n",
      "4539                                              Y E P                  0   \n",
      "3102                                          Ciao Ciao                  0   \n",
      "2615  Listo el tag es está incluido en steemiobot ju...              0.381   \n",
      "2095  Desperté en mi cama a eso de las 9 de la mañan...           0.291667   \n",
      "4053  Hola soy frances pero me gusta más escribir en...                  0   \n",
      "2409                          Congratulations kuya Poli                  0   \n",
      "2251                                          Ciao Ciao                  0   \n",
      "...                                                 ...                ...   \n",
      "1899                                               Ciao                  0   \n",
      "4658                                          Ciao Ciao                  0   \n",
      "3005                                          Ciao Ciao                  0   \n",
      "2734                                          Ciao Ciao                  0   \n",
      "189      Gracias muy amable !  caluroso recibimiento :)              0.688   \n",
      "1806                                               Ciao                  0   \n",
      "975   gracias por tu voto la idea es mostrar el sufr...                  0   \n",
      "2747                                          Ciao Ciao                  0   \n",
      "2047                                                meh                  0   \n",
      "2558                                          Ciao Ciao                  0   \n",
      "1082                           WAO AMIGO QUE LINDO POST             0.7275   \n",
      "474   Steem una criptomoneda que nos brinda una red ...              0.393   \n",
      "2904  Me parece que eso no es problema Problema es q...                  0   \n",
      "4117                                          Ciao Ciao                  0   \n",
      "3385                                          Ciao Ciao                  0   \n",
      "4555                                          Ciao Ciao                  0   \n",
      "1184                                           adorable                0.5   \n",
      "2433                                          Ciao Ciao                  0   \n",
      "2391                                          Ciao Ciao                  0   \n",
      "769   Gran aporte estaba un poco confundido en algun...             0.3178   \n",
      "1685   Oh eres Chileno eh Un placer amigo conocerte URL              0.442   \n",
      "130   Gracias por tu respuesta y comentarios  Si qui...           0.527667   \n",
      "2919  puedes usar el traductor de google a un amigo ...             0.7065   \n",
      "3171  excelentes noticias Ya podemos pasar página y ...                  0   \n",
      "3444                                                  a                  0   \n",
      "4426                                          Ciao Ciao                  0   \n",
      "466   En este episodio de Keiser Report USER y Stacy...             0.5172   \n",
      "3092  URL  Un nuevo paradigma económico se está crea...             0.4208   \n",
      "3772                                          Ciao Ciao                  0   \n",
      "860                                          ay caramba               0.57   \n",
      "\n",
      "     words_neg_polarity emoji_pos_polarity emoji_neg_polarity  \\\n",
      "4096                  0                  0                  0   \n",
      "4108                  0                  0                  0   \n",
      "1172                  0                  0                  0   \n",
      "2268                  0                  0                  0   \n",
      "325                   0                  0                  0   \n",
      "1051             -0.375                  0                  0   \n",
      "2763                  0                  0                  0   \n",
      "3603                  0                  0                  0   \n",
      "3321                  0                  0                  0   \n",
      "1946                  0                  0                  0   \n",
      "1196                  0                  0                  0   \n",
      "620             -0.3725                  0                  0   \n",
      "3656                  0                  0                  0   \n",
      "4509                  0                  0                  0   \n",
      "1189                  0                  0                  0   \n",
      "328                -0.2                  0                  0   \n",
      "2024                  0                  0                  0   \n",
      "897                   0                  0                  0   \n",
      "4558                  0                  0                  0   \n",
      "1123                  0                  0                  0   \n",
      "3126                  0                  0                  0   \n",
      "4478                  0                  0                  0   \n",
      "2173                  0                  0                  0   \n",
      "4539                  0                  0                  0   \n",
      "3102                  0                  0                  0   \n",
      "2615                  0                  0                  0   \n",
      "2095             -0.555                  0                  0   \n",
      "4053                  0                  0                  0   \n",
      "2409              -0.25                  0                  0   \n",
      "2251                  0                  0                  0   \n",
      "...                 ...                ...                ...   \n",
      "1899                  0                  0                  0   \n",
      "4658                  0                  0                  0   \n",
      "3005                  0                  0                  0   \n",
      "2734                  0                  0                  0   \n",
      "189                   0                  1                  0   \n",
      "1806                  0                  0                  0   \n",
      "975              -0.578                  0                  0   \n",
      "2747                  0                  0                  0   \n",
      "2047                  0                  0                  0   \n",
      "2558                  0                  0                  0   \n",
      "1082                  0                  0                  0   \n",
      "474                   0                  0                  0   \n",
      "2904            -0.3298                  0                  0   \n",
      "4117                  0                  0                  0   \n",
      "3385                  0                  0                  0   \n",
      "4555                  0                  0                  0   \n",
      "1184                  0                  0                  0   \n",
      "2433                  0                  0                  0   \n",
      "2391                  0                  0                  0   \n",
      "769              -0.375                  0                  0   \n",
      "1685             -0.375                  0                  0   \n",
      "130                   0                  0                  0   \n",
      "2919             -0.375                  0                  0   \n",
      "3171                  0                  0                  0   \n",
      "3444                  0                  0                  0   \n",
      "4426                  0                  0                  0   \n",
      "466              -0.445                  0                  0   \n",
      "3092             -0.375                  0                  0   \n",
      "3772                  0                  0                  0   \n",
      "860                -0.5                  0                  0   \n",
      "\n",
      "     word_emoji_pos_pol_diff word_emoji_neg_pol_diff  \n",
      "4096                       0                       0  \n",
      "4108                       0                       0  \n",
      "1172                       0                       0  \n",
      "2268                       0                       0  \n",
      "325                        0                       0  \n",
      "1051                       0                       0  \n",
      "2763                       0                       0  \n",
      "3603                       0                       0  \n",
      "3321                       0                       0  \n",
      "1946                       0                       0  \n",
      "1196                       0                       0  \n",
      "620                        0                       0  \n",
      "3656                       0                       0  \n",
      "4509                       0                       0  \n",
      "1189                       0                       0  \n",
      "328                        0                       0  \n",
      "2024                       0                       0  \n",
      "897                        0                       0  \n",
      "4558                       0                       0  \n",
      "1123                       0                       0  \n",
      "3126                       0                       0  \n",
      "4478                       0                       0  \n",
      "2173                       0                       0  \n",
      "4539                       0                       0  \n",
      "3102                       0                       0  \n",
      "2615                       0                       0  \n",
      "2095                       0                       0  \n",
      "4053                       0                       0  \n",
      "2409                       0                       0  \n",
      "2251                       0                       0  \n",
      "...                      ...                     ...  \n",
      "1899                       0                       0  \n",
      "4658                       0                       0  \n",
      "3005                       0                       0  \n",
      "2734                       0                       0  \n",
      "189                    0.312                       0  \n",
      "1806                       0                       0  \n",
      "975                        0                       0  \n",
      "2747                       0                       0  \n",
      "2047                       0                       0  \n",
      "2558                       0                       0  \n",
      "1082                       0                       0  \n",
      "474                        0                       0  \n",
      "2904                       0                       0  \n",
      "4117                       0                       0  \n",
      "3385                       0                       0  \n",
      "4555                       0                       0  \n",
      "1184                       0                       0  \n",
      "2433                       0                       0  \n",
      "2391                       0                       0  \n",
      "769                        0                       0  \n",
      "1685                       0                       0  \n",
      "130                        0                       0  \n",
      "2919                       0                       0  \n",
      "3171                       0                       0  \n",
      "3444                       0                       0  \n",
      "4426                       0                       0  \n",
      "466                        0                       0  \n",
      "3092                       0                       0  \n",
      "3772                       0                       0  \n",
      "860                        0                       0  \n",
      "\n",
      "[3615 rows x 7 columns]\n"
     ]
    }
   ],
   "source": [
    "print(X_train)"
   ]
  },
  {
   "cell_type": "code",
   "execution_count": 142,
   "metadata": {
    "collapsed": true
   },
   "outputs": [],
   "source": [
    "# TRANSFORMING DATA:\n",
    "tokenizer = Tokenizer()\n",
    "tokenizer.fit_on_texts(X.body)\n",
    "X_train = tokenizer.texts_to_sequences(X_train.body)\n",
    "X_test = tokenizer.texts_to_sequences(X_test.body)"
   ]
  },
  {
   "cell_type": "code",
   "execution_count": 143,
   "metadata": {},
   "outputs": [
    {
     "name": "stdout",
     "output_type": "stream",
     "text": [
      "max: 96 min: 1 avg: 7.353803596127247\n"
     ]
    }
   ],
   "source": [
    "# Checking length of sequences\n",
    "seq = []\n",
    "for s in range(len(X_train)):\n",
    "    seq.append(len(X_train[s]))\n",
    "    #print(s, len(X_train[s]))\n",
    "print('max:', max(seq), 'min:', min(seq), 'avg:', sum(seq)/len(seq))"
   ]
  },
  {
   "cell_type": "code",
   "execution_count": 144,
   "metadata": {
    "collapsed": true
   },
   "outputs": [],
   "source": [
    "X_train = pad_sequences(X_train, maxlen=90)\n",
    "X_test = pad_sequences(X_test, maxlen=90)"
   ]
  },
  {
   "cell_type": "code",
   "execution_count": 145,
   "metadata": {},
   "outputs": [
    {
     "data": {
      "text/plain": [
       "array([[   0,    0,    0, ...,    0,    1,    1],\n",
       "       [   0,    0,    0, ...,    0,    1,    1],\n",
       "       [   0,    0,    0, ..., 3954, 3955, 3956],\n",
       "       ...,\n",
       "       [   0,    0,    0, ...,    6,  233,  291],\n",
       "       [   0,    0,    0, ...,    0,    1,    1],\n",
       "       [   0,    0,    0, ...,    0,  758, 3594]], dtype=int32)"
      ]
     },
     "execution_count": 145,
     "metadata": {},
     "output_type": "execute_result"
    }
   ],
   "source": [
    "X_train"
   ]
  },
  {
   "cell_type": "code",
   "execution_count": 146,
   "metadata": {
    "collapsed": true
   },
   "outputs": [],
   "source": [
    "# Embedding Matrix:\n",
    "embedding_matrix = np.zeros((len(tokenizer.word_index) + 1, 100))\n",
    "vec = []\n",
    "for word, i in tokenizer.word_index.items():\n",
    "    if word in w2v.wv.vocab:\n",
    "        embedding_vector = w2v.wv.get_vector(word)\n",
    "        # words not found in embedding index will be all-zeros.\n",
    "        embedding_matrix[i] = embedding_vector\n",
    "    else:\n",
    "        vec.append(word)"
   ]
  },
  {
   "cell_type": "code",
   "execution_count": 147,
   "metadata": {},
   "outputs": [
    {
     "data": {
      "text/plain": [
       "(5692, 100)"
      ]
     },
     "execution_count": 147,
     "metadata": {},
     "output_type": "execute_result"
    }
   ],
   "source": [
    "embedding_matrix.shape"
   ]
  },
  {
   "cell_type": "code",
   "execution_count": 148,
   "metadata": {
    "collapsed": true
   },
   "outputs": [],
   "source": [
    "# y as categorical\n",
    "y = to_categorical(y_train.as_matrix()+1)"
   ]
  },
  {
   "cell_type": "code",
   "execution_count": 149,
   "metadata": {},
   "outputs": [
    {
     "data": {
      "text/plain": [
       "array([[0., 1., 0.],\n",
       "       [0., 1., 0.],\n",
       "       [0., 1., 0.],\n",
       "       ...,\n",
       "       [0., 0., 1.],\n",
       "       [0., 1., 0.],\n",
       "       [0., 0., 1.]], dtype=float32)"
      ]
     },
     "execution_count": 149,
     "metadata": {},
     "output_type": "execute_result"
    }
   ],
   "source": [
    "y"
   ]
  },
  {
   "cell_type": "markdown",
   "metadata": {
    "collapsed": true
   },
   "source": [
    "## 1D CNN:"
   ]
  },
  {
   "cell_type": "code",
   "execution_count": 28,
   "metadata": {
    "collapsed": true
   },
   "outputs": [],
   "source": [
    "# CNN Model\n",
    "model = Sequential()       \n",
    "model.add(layers.Embedding(keys+1, 128, input_length=90))\n",
    "model.add(layers.Dropout(0.2))\n",
    "model.add(layers.Conv1D(8, 5, activation='relu', kernel_regularizer=regularizers.l2(0.001)))\n",
    "model.add(layers.MaxPooling1D(2))\n",
    "model.add(layers.Dropout(0.2))\n",
    "model.add(layers.Conv1D(8, 2, activation='relu', kernel_regularizer=regularizers.l2(0.001)))\n",
    "model.add(layers.MaxPooling1D(2))\n",
    "model.add(layers.Dropout(0.2))\n",
    "model.add(layers.Conv1D(8, 5, activation='relu', kernel_regularizer=regularizers.l2(0.001)))\n",
    "model.add(layers.GlobalMaxPooling1D())\n",
    "model.add(layers.Dropout(0.5))\n",
    "model.add(layers.Dense(3, activation='softmax'))"
   ]
  },
  {
   "cell_type": "code",
   "execution_count": 29,
   "metadata": {},
   "outputs": [
    {
     "name": "stdout",
     "output_type": "stream",
     "text": [
      "_________________________________________________________________\n",
      "Layer (type)                 Output Shape              Param #   \n",
      "=================================================================\n",
      "embedding_1 (Embedding)      (None, 90, 128)           751488    \n",
      "_________________________________________________________________\n",
      "dropout_1 (Dropout)          (None, 90, 128)           0         \n",
      "_________________________________________________________________\n",
      "conv1d_1 (Conv1D)            (None, 86, 8)             5128      \n",
      "_________________________________________________________________\n",
      "max_pooling1d_1 (MaxPooling1 (None, 43, 8)             0         \n",
      "_________________________________________________________________\n",
      "dropout_2 (Dropout)          (None, 43, 8)             0         \n",
      "_________________________________________________________________\n",
      "conv1d_2 (Conv1D)            (None, 42, 8)             136       \n",
      "_________________________________________________________________\n",
      "max_pooling1d_2 (MaxPooling1 (None, 21, 8)             0         \n",
      "_________________________________________________________________\n",
      "dropout_3 (Dropout)          (None, 21, 8)             0         \n",
      "_________________________________________________________________\n",
      "conv1d_3 (Conv1D)            (None, 17, 8)             328       \n",
      "_________________________________________________________________\n",
      "global_max_pooling1d_1 (Glob (None, 8)                 0         \n",
      "_________________________________________________________________\n",
      "dropout_4 (Dropout)          (None, 8)                 0         \n",
      "_________________________________________________________________\n",
      "dense_1 (Dense)              (None, 3)                 27        \n",
      "=================================================================\n",
      "Total params: 757,107\n",
      "Trainable params: 757,107\n",
      "Non-trainable params: 0\n",
      "_________________________________________________________________\n"
     ]
    }
   ],
   "source": [
    "model.compile(loss='categorical_crossentropy', \n",
    "              optimizer='adam', \n",
    "              metrics=['accuracy'])\n",
    "model.summary()"
   ]
  },
  {
   "cell_type": "code",
   "execution_count": 30,
   "metadata": {},
   "outputs": [
    {
     "name": "stdout",
     "output_type": "stream",
     "text": [
      "Train on 2892 samples, validate on 723 samples\n",
      "Epoch 1/60\n",
      "2892/2892 [==============================] - 2s 709us/step - loss: 0.9765 - acc: 0.5595 - val_loss: 0.8709 - val_acc: 0.7303\n",
      "Epoch 2/60\n",
      "2892/2892 [==============================] - 1s 436us/step - loss: 0.8974 - acc: 0.6511 - val_loss: 0.8853 - val_acc: 0.7303\n",
      "Epoch 3/60\n",
      "2892/2892 [==============================] - 1s 442us/step - loss: 0.8523 - acc: 0.6629 - val_loss: 0.8650 - val_acc: 0.7303\n",
      "Epoch 4/60\n",
      "2892/2892 [==============================] - 1s 487us/step - loss: 0.8562 - acc: 0.6625 - val_loss: 0.8228 - val_acc: 0.7303\n",
      "Epoch 5/60\n",
      "2892/2892 [==============================] - 1s 445us/step - loss: 0.8173 - acc: 0.7109 - val_loss: 0.7833 - val_acc: 0.7303\n",
      "Epoch 6/60\n",
      "2892/2892 [==============================] - 1s 398us/step - loss: 0.8104 - acc: 0.7286 - val_loss: 0.7547 - val_acc: 0.7303\n",
      "Epoch 7/60\n",
      "2892/2892 [==============================] - 1s 382us/step - loss: 0.7704 - acc: 0.7268 - val_loss: 0.6711 - val_acc: 0.7303\n",
      "Epoch 8/60\n",
      "2892/2892 [==============================] - 1s 395us/step - loss: 0.7040 - acc: 0.7220 - val_loss: 0.5670 - val_acc: 0.7303\n",
      "Epoch 9/60\n",
      "2892/2892 [==============================] - 1s 413us/step - loss: 0.6688 - acc: 0.7227 - val_loss: 0.5374 - val_acc: 0.7303\n",
      "Epoch 10/60\n",
      "2892/2892 [==============================] - 1s 400us/step - loss: 0.6411 - acc: 0.7327 - val_loss: 0.5213 - val_acc: 0.7303\n",
      "Epoch 11/60\n",
      "2892/2892 [==============================] - 1s 430us/step - loss: 0.5927 - acc: 0.7420 - val_loss: 0.5036 - val_acc: 0.7566\n",
      "Epoch 12/60\n",
      "2892/2892 [==============================] - 1s 462us/step - loss: 0.5769 - acc: 0.7652 - val_loss: 0.4859 - val_acc: 0.7911\n",
      "Epoch 13/60\n",
      "2892/2892 [==============================] - 1s 518us/step - loss: 0.5580 - acc: 0.7797 - val_loss: 0.4733 - val_acc: 0.7967\n",
      "Epoch 14/60\n",
      "2892/2892 [==============================] - 1s 442us/step - loss: 0.5227 - acc: 0.8109 - val_loss: 0.4560 - val_acc: 0.8202\n",
      "Epoch 15/60\n",
      "2892/2892 [==============================] - 1s 393us/step - loss: 0.4835 - acc: 0.8354 - val_loss: 0.4463 - val_acc: 0.8562\n",
      "Epoch 16/60\n",
      "2892/2892 [==============================] - 1s 383us/step - loss: 0.4498 - acc: 0.8610 - val_loss: 0.4208 - val_acc: 0.8631\n",
      "Epoch 17/60\n",
      "2892/2892 [==============================] - 1s 370us/step - loss: 0.4290 - acc: 0.8731 - val_loss: 0.3958 - val_acc: 0.8741\n",
      "Epoch 18/60\n",
      "2892/2892 [==============================] - 1s 404us/step - loss: 0.3909 - acc: 0.8838 - val_loss: 0.3899 - val_acc: 0.8700\n",
      "Epoch 19/60\n",
      "2892/2892 [==============================] - 1s 365us/step - loss: 0.3719 - acc: 0.8797 - val_loss: 0.3880 - val_acc: 0.8686\n",
      "Epoch 20/60\n",
      "2892/2892 [==============================] - 1s 383us/step - loss: 0.3258 - acc: 0.8883 - val_loss: 0.3957 - val_acc: 0.8617\n",
      "Epoch 21/60\n",
      "2892/2892 [==============================] - 1s 384us/step - loss: 0.3239 - acc: 0.8897 - val_loss: 0.4048 - val_acc: 0.8603\n",
      "Epoch 22/60\n",
      "2892/2892 [==============================] - 1s 415us/step - loss: 0.3060 - acc: 0.8973 - val_loss: 0.4030 - val_acc: 0.8631\n",
      "Epoch 23/60\n",
      "2892/2892 [==============================] - 1s 380us/step - loss: 0.3031 - acc: 0.8956 - val_loss: 0.4079 - val_acc: 0.8617\n",
      "Epoch 24/60\n",
      "2892/2892 [==============================] - 1s 374us/step - loss: 0.2941 - acc: 0.8966 - val_loss: 0.4055 - val_acc: 0.8658\n",
      "Epoch 25/60\n",
      "2892/2892 [==============================] - 1s 363us/step - loss: 0.2861 - acc: 0.8973 - val_loss: 0.4149 - val_acc: 0.8658\n",
      "Epoch 26/60\n",
      "2892/2892 [==============================] - 1s 377us/step - loss: 0.2730 - acc: 0.9015 - val_loss: 0.4243 - val_acc: 0.8700\n",
      "Epoch 27/60\n",
      "2892/2892 [==============================] - 1s 402us/step - loss: 0.2806 - acc: 0.8945 - val_loss: 0.4273 - val_acc: 0.8700\n",
      "Epoch 28/60\n",
      "2892/2892 [==============================] - 1s 388us/step - loss: 0.2769 - acc: 0.8949 - val_loss: 0.4281 - val_acc: 0.8741\n",
      "Epoch 29/60\n",
      "2892/2892 [==============================] - 1s 406us/step - loss: 0.2719 - acc: 0.8987 - val_loss: 0.4345 - val_acc: 0.8755\n",
      "Epoch 30/60\n",
      "2892/2892 [==============================] - 1s 385us/step - loss: 0.2588 - acc: 0.9021 - val_loss: 0.4355 - val_acc: 0.8741\n",
      "Epoch 31/60\n",
      "2892/2892 [==============================] - 1s 388us/step - loss: 0.2731 - acc: 0.8976 - val_loss: 0.4394 - val_acc: 0.8728\n",
      "Epoch 32/60\n",
      "2892/2892 [==============================] - 1s 366us/step - loss: 0.2628 - acc: 0.9025 - val_loss: 0.4409 - val_acc: 0.8755\n",
      "Epoch 33/60\n",
      "2892/2892 [==============================] - 1s 387us/step - loss: 0.2538 - acc: 0.9035 - val_loss: 0.4404 - val_acc: 0.8741\n",
      "Epoch 34/60\n",
      "2892/2892 [==============================] - 1s 394us/step - loss: 0.2533 - acc: 0.9025 - val_loss: 0.4368 - val_acc: 0.8755\n",
      "Epoch 35/60\n",
      "2892/2892 [==============================] - 1s 402us/step - loss: 0.2638 - acc: 0.8990 - val_loss: 0.4431 - val_acc: 0.8741\n",
      "Epoch 36/60\n",
      "2892/2892 [==============================] - 1s 401us/step - loss: 0.2473 - acc: 0.9059 - val_loss: 0.4547 - val_acc: 0.8769\n",
      "Epoch 37/60\n",
      "2892/2892 [==============================] - 1s 381us/step - loss: 0.2563 - acc: 0.8942 - val_loss: 0.4622 - val_acc: 0.8714\n",
      "Epoch 38/60\n",
      "2892/2892 [==============================] - 1s 382us/step - loss: 0.2570 - acc: 0.8963 - val_loss: 0.4571 - val_acc: 0.8783\n",
      "Epoch 39/60\n",
      "2892/2892 [==============================] - 1s 370us/step - loss: 0.2597 - acc: 0.9004 - val_loss: 0.4664 - val_acc: 0.8741\n",
      "Epoch 40/60\n",
      "2892/2892 [==============================] - 1s 395us/step - loss: 0.2517 - acc: 0.8956 - val_loss: 0.4725 - val_acc: 0.8783\n",
      "Epoch 41/60\n",
      "2892/2892 [==============================] - 1s 379us/step - loss: 0.2486 - acc: 0.9028 - val_loss: 0.4732 - val_acc: 0.8769\n",
      "Epoch 42/60\n",
      "2892/2892 [==============================] - 1s 377us/step - loss: 0.2456 - acc: 0.9015 - val_loss: 0.4705 - val_acc: 0.8755\n",
      "Epoch 43/60\n",
      "2892/2892 [==============================] - 1s 410us/step - loss: 0.2478 - acc: 0.9004 - val_loss: 0.4731 - val_acc: 0.8769\n",
      "Epoch 44/60\n",
      "2892/2892 [==============================] - 1s 385us/step - loss: 0.2371 - acc: 0.9063 - val_loss: 0.4743 - val_acc: 0.8755\n",
      "Epoch 45/60\n",
      "2892/2892 [==============================] - 1s 387us/step - loss: 0.2432 - acc: 0.9011 - val_loss: 0.4767 - val_acc: 0.8783\n",
      "Epoch 46/60\n",
      "2892/2892 [==============================] - 1s 375us/step - loss: 0.2488 - acc: 0.8994 - val_loss: 0.4802 - val_acc: 0.8783\n",
      "Epoch 47/60\n",
      "2892/2892 [==============================] - 1s 383us/step - loss: 0.2478 - acc: 0.8987 - val_loss: 0.4855 - val_acc: 0.8797\n",
      "Epoch 48/60\n",
      "2892/2892 [==============================] - 1s 391us/step - loss: 0.2464 - acc: 0.8949 - val_loss: 0.4814 - val_acc: 0.8755\n",
      "Epoch 49/60\n",
      "2892/2892 [==============================] - 1s 411us/step - loss: 0.2447 - acc: 0.8966 - val_loss: 0.4835 - val_acc: 0.8811\n",
      "Epoch 50/60\n",
      "2892/2892 [==============================] - 1s 371us/step - loss: 0.2431 - acc: 0.9008 - val_loss: 0.4809 - val_acc: 0.8769\n",
      "Epoch 51/60\n",
      "2892/2892 [==============================] - 1s 392us/step - loss: 0.2344 - acc: 0.9039 - val_loss: 0.4831 - val_acc: 0.8741\n",
      "Epoch 52/60\n",
      "2892/2892 [==============================] - 1s 385us/step - loss: 0.2408 - acc: 0.8976 - val_loss: 0.4928 - val_acc: 0.8741\n",
      "Epoch 53/60\n",
      "2892/2892 [==============================] - 1s 382us/step - loss: 0.2359 - acc: 0.9025 - val_loss: 0.4950 - val_acc: 0.8769\n",
      "Epoch 54/60\n",
      "2892/2892 [==============================] - 1s 386us/step - loss: 0.2278 - acc: 0.9021 - val_loss: 0.4930 - val_acc: 0.8700\n",
      "Epoch 55/60\n",
      "2892/2892 [==============================] - 1s 347us/step - loss: 0.2332 - acc: 0.8973 - val_loss: 0.4937 - val_acc: 0.8755\n",
      "Epoch 56/60\n",
      "2892/2892 [==============================] - 1s 398us/step - loss: 0.2330 - acc: 0.9015 - val_loss: 0.4969 - val_acc: 0.8741\n",
      "Epoch 57/60\n",
      "2892/2892 [==============================] - 1s 391us/step - loss: 0.2447 - acc: 0.8980 - val_loss: 0.4963 - val_acc: 0.8783\n",
      "Epoch 58/60\n",
      "2892/2892 [==============================] - 1s 407us/step - loss: 0.2215 - acc: 0.9111 - val_loss: 0.5016 - val_acc: 0.8769\n",
      "Epoch 59/60\n",
      "2892/2892 [==============================] - 1s 452us/step - loss: 0.2356 - acc: 0.8970 - val_loss: 0.5037 - val_acc: 0.8769\n",
      "Epoch 60/60\n",
      "2892/2892 [==============================] - 1s 401us/step - loss: 0.2372 - acc: 0.9015 - val_loss: 0.5039 - val_acc: 0.8797\n",
      "CPU times: user 3min 50s, sys: 48.1 s, total: 4min 38s\n",
      "Wall time: 1min 10s\n"
     ]
    }
   ],
   "source": [
    "%%time\n",
    "# Fit Model\n",
    "history = model.fit([X_train], y, verbose=1, epochs=60, \n",
    "                    batch_size=128, validation_split=0.2)"
   ]
  },
  {
   "cell_type": "code",
   "execution_count": 31,
   "metadata": {},
   "outputs": [
    {
     "data": {
      "text/plain": [
       "dict_keys(['val_loss', 'val_acc', 'loss', 'acc'])"
      ]
     },
     "execution_count": 31,
     "metadata": {},
     "output_type": "execute_result"
    }
   ],
   "source": [
    "# Plotting Loss & Accuracy\n",
    "history_dict = history.history\n",
    "history_dict.keys()"
   ]
  },
  {
   "cell_type": "code",
   "execution_count": 32,
   "metadata": {},
   "outputs": [
    {
     "data": {
      "image/png": "[encoded data removed]",
      "text/plain": [
       "<Figure size 432x288 with 1 Axes>"
      ]
     },
     "metadata": {},
     "output_type": "display_data"
    }
   ],
   "source": [
    "acc = history.history['acc']\n",
    "val_acc = history.history['val_acc']\n",
    "loss = history.history['loss']\n",
    "val_loss = history.history['val_loss']\n",
    "\n",
    "epochs = range(1, len(acc) + 1)\n",
    "\n",
    "# \"bo\" is for \"blue dot\"\n",
    "plt.plot(epochs, loss, 'bo', label='Training loss')\n",
    "# b is for \"solid blue line\"\n",
    "plt.plot(epochs, val_loss, 'b', label='Validation loss')\n",
    "plt.title('Training and validation loss')\n",
    "plt.xlabel('Epochs')\n",
    "plt.ylabel('Loss')\n",
    "plt.legend()\n",
    "\n",
    "plt.show()"
   ]
  },
  {
   "cell_type": "code",
   "execution_count": 33,
   "metadata": {},
   "outputs": [
    {
     "data": {
      "image/png": "[encoded data removed]",
      "text/plain": [
       "<Figure size 432x288 with 1 Axes>"
      ]
     },
     "metadata": {},
     "output_type": "display_data"
    }
   ],
   "source": [
    "plt.clf()   # clear figure\n",
    "acc_values = history_dict['acc']\n",
    "val_acc_values = history_dict['val_acc']\n",
    "\n",
    "plt.plot(epochs, acc, 'bo', label='Training acc')\n",
    "plt.plot(epochs, val_acc, 'b', label='Validation acc')\n",
    "plt.title('Training and validation accuracy')\n",
    "plt.xlabel('Epochs')\n",
    "plt.ylabel('Loss')\n",
    "plt.legend()\n",
    "\n",
    "plt.show()"
   ]
  },
  {
   "cell_type": "code",
   "execution_count": 34,
   "metadata": {},
   "outputs": [
    {
     "name": "stdout",
     "output_type": "stream",
     "text": [
      "Best Training Accuracy: 91.11341627966483 Epoch: 57 Best Validation Accuracy: 88.1051173760848 Epoch: 48\n",
      "Lowest Training Loss value: 22.153809233819796 Epoch: 57 Lowest Validation Loss: 38.799144811979794 Epoch: 18\n"
     ]
    }
   ],
   "source": [
    "print('Best Training Accuracy:', max(acc)*100, 'Epoch:', np.argmax(acc),\n",
    "     'Best Validation Accuracy:', max(val_acc)*100, 'Epoch:', np.argmax(val_acc))\n",
    "print('Lowest Training Loss value:', min(loss)*100, 'Epoch:', np.argmin(loss),\n",
    "     'Lowest Validation Loss:', min(val_loss)*100, 'Epoch:', np.argmin(val_loss))"
   ]
  },
  {
   "cell_type": "markdown",
   "metadata": {},
   "source": [
    "### 1D CNN BEST MODEL TEST RESULTS:"
   ]
  },
  {
   "cell_type": "code",
   "execution_count": 35,
   "metadata": {
    "collapsed": true
   },
   "outputs": [],
   "source": [
    "# Some memory clean-up\n",
    "K.clear_session()"
   ]
  },
  {
   "cell_type": "code",
   "execution_count": 36,
   "metadata": {
    "collapsed": true
   },
   "outputs": [],
   "source": [
    "model = Sequential()       \n",
    "model.add(layers.Embedding(keys+1, 128, input_length=90))\n",
    "model.add(layers.Dropout(0.2))\n",
    "model.add(layers.Conv1D(8, 5, activation='relu', kernel_regularizer=regularizers.l2(0.001)))\n",
    "model.add(layers.MaxPooling1D(2))\n",
    "model.add(layers.Dropout(0.2))\n",
    "model.add(layers.Conv1D(8, 2, activation='relu', kernel_regularizer=regularizers.l2(0.001)))\n",
    "model.add(layers.MaxPooling1D(2))\n",
    "model.add(layers.Dropout(0.2))\n",
    "model.add(layers.Conv1D(8, 5, activation='relu', kernel_regularizer=regularizers.l2(0.001)))\n",
    "model.add(layers.GlobalMaxPooling1D())\n",
    "model.add(layers.Dropout(0.5))\n",
    "model.add(layers.Dense(3, activation='softmax'))"
   ]
  },
  {
   "cell_type": "code",
   "execution_count": 37,
   "metadata": {
    "collapsed": true
   },
   "outputs": [],
   "source": [
    "model.compile(loss='categorical_crossentropy', \n",
    "              optimizer='adam', \n",
    "              metrics=['accuracy'])"
   ]
  },
  {
   "cell_type": "code",
   "execution_count": 38,
   "metadata": {},
   "outputs": [
    {
     "data": {
      "text/plain": [
       "<keras.callbacks.History at 0x12fbb7438>"
      ]
     },
     "execution_count": 38,
     "metadata": {},
     "output_type": "execute_result"
    }
   ],
   "source": [
    "model.fit([X_train], y, verbose=0, epochs=48, \n",
    "          batch_size=128)"
   ]
  },
  {
   "cell_type": "code",
   "execution_count": 39,
   "metadata": {},
   "outputs": [
    {
     "name": "stdout",
     "output_type": "stream",
     "text": [
      "1206/1206 [==============================] - 0s 218us/step\n"
     ]
    },
    {
     "data": {
      "text/plain": [
       "[0.6469550292883346, 0.8383084579091364]"
      ]
     },
     "execution_count": 39,
     "metadata": {},
     "output_type": "execute_result"
    }
   ],
   "source": [
    "model.evaluate(X_test, to_categorical(y_test.as_matrix()+1))"
   ]
  },
  {
   "cell_type": "code",
   "execution_count": 40,
   "metadata": {
    "collapsed": true
   },
   "outputs": [],
   "source": [
    "y_train.as_matrix()+1\n",
    "y_ = model.predict(X_test)\n",
    "y_[-1] = [0,0,1]"
   ]
  },
  {
   "cell_type": "code",
   "execution_count": 41,
   "metadata": {},
   "outputs": [
    {
     "name": "stdout",
     "output_type": "stream",
     "text": [
      "F1 Score (Macro): 0.6224848933454865\n",
      "F1 Score (Micro): 0.8374792703150912\n"
     ]
    }
   ],
   "source": [
    "f_macro = f1_score(to_categorical([np.argmax(x) for x in y_]), to_categorical(y_test.as_matrix()+1), average='macro')\n",
    "f_micro = f1_score(to_categorical([np.argmax(x) for x in y_]), to_categorical(y_test.as_matrix()+1), average='micro')\n",
    "print('F1 Score (Macro):', f_macro)\n",
    "print('F1 Score (Micro):', f_micro)"
   ]
  },
  {
   "cell_type": "code",
   "execution_count": 42,
   "metadata": {
    "scrolled": true
   },
   "outputs": [
    {
     "name": "stdout",
     "output_type": "stream",
     "text": [
      "             precision    recall  f1-score   support\n",
      "\n",
      "         -1       0.17      0.32      0.22        38\n",
      "          0       0.91      0.93      0.92       834\n",
      "          1       0.79      0.67      0.73       334\n",
      "\n",
      "avg / total       0.85      0.84      0.84      1206\n",
      "\n"
     ]
    }
   ],
   "source": [
    "target_names = ['-1', '0', '1']\n",
    "report = classification_report(to_categorical([np.argmax(x) for x in y_]), \n",
    "                               to_categorical(y_test.as_matrix()+1), target_names=target_names)\n",
    "print(report)"
   ]
  },
  {
   "cell_type": "markdown",
   "metadata": {},
   "source": [
    "## LSTM:"
   ]
  },
  {
   "cell_type": "code",
   "execution_count": 60,
   "metadata": {},
   "outputs": [
    {
     "name": "stdout",
     "output_type": "stream",
     "text": [
      "_________________________________________________________________\n",
      "Layer (type)                 Output Shape              Param #   \n",
      "=================================================================\n",
      "embedding_2 (Embedding)      (None, 90, 128)           751488    \n",
      "_________________________________________________________________\n",
      "spatial_dropout1d_1 (Spatial (None, 90, 128)           0         \n",
      "_________________________________________________________________\n",
      "lstm_1 (LSTM)                (None, 128)               131584    \n",
      "_________________________________________________________________\n",
      "dense_2 (Dense)              (None, 3)                 387       \n",
      "=================================================================\n",
      "Total params: 883,459\n",
      "Trainable params: 883,459\n",
      "Non-trainable params: 0\n",
      "_________________________________________________________________\n"
     ]
    }
   ],
   "source": [
    "model = Sequential()\n",
    "model.add(Embedding(keys+1, 128, input_length=90))\n",
    "model.add(SpatialDropout1D(0.4))\n",
    "model.add(LSTM(128, dropout=0.4, recurrent_dropout=0.4))\n",
    "model.add(Dense(3, activation='softmax'))\n",
    "model.compile(loss = 'categorical_crossentropy', optimizer='adam',metrics = ['accuracy'])\n",
    "\n",
    "model.summary()"
   ]
  },
  {
   "cell_type": "code",
   "execution_count": 61,
   "metadata": {},
   "outputs": [
    {
     "name": "stdout",
     "output_type": "stream",
     "text": [
      "Train on 2892 samples, validate on 723 samples\n",
      "Epoch 1/50\n",
      "2892/2892 [==============================] - 15s 5ms/step - loss: 0.5822 - acc: 0.7552 - val_loss: 0.4634 - val_acc: 0.8174\n",
      "Epoch 2/50\n",
      "2892/2892 [==============================] - 14s 5ms/step - loss: 0.3786 - acc: 0.8520 - val_loss: 0.3778 - val_acc: 0.8409\n",
      "Epoch 3/50\n",
      "2892/2892 [==============================] - 14s 5ms/step - loss: 0.2763 - acc: 0.9018 - val_loss: 0.3633 - val_acc: 0.8520\n",
      "Epoch 4/50\n",
      "2892/2892 [==============================] - 13s 5ms/step - loss: 0.2054 - acc: 0.9250 - val_loss: 0.3836 - val_acc: 0.8548\n",
      "Epoch 5/50\n",
      "2892/2892 [==============================] - 13s 4ms/step - loss: 0.1541 - acc: 0.9443 - val_loss: 0.3971 - val_acc: 0.8451\n",
      "Epoch 6/50\n",
      "2892/2892 [==============================] - 13s 4ms/step - loss: 0.1201 - acc: 0.9640 - val_loss: 0.3949 - val_acc: 0.8506\n",
      "Epoch 7/50\n",
      "2892/2892 [==============================] - 12s 4ms/step - loss: 0.0854 - acc: 0.9744 - val_loss: 0.4819 - val_acc: 0.8326\n",
      "Epoch 8/50\n",
      "2892/2892 [==============================] - 12s 4ms/step - loss: 0.0719 - acc: 0.9796 - val_loss: 0.4260 - val_acc: 0.8617\n",
      "Epoch 9/50\n",
      "2892/2892 [==============================] - 12s 4ms/step - loss: 0.0576 - acc: 0.9834 - val_loss: 0.4997 - val_acc: 0.8562\n",
      "Epoch 10/50\n",
      "2892/2892 [==============================] - 12s 4ms/step - loss: 0.0526 - acc: 0.9855 - val_loss: 0.4678 - val_acc: 0.8562\n",
      "Epoch 11/50\n",
      "2892/2892 [==============================] - 12s 4ms/step - loss: 0.0498 - acc: 0.9855 - val_loss: 0.4314 - val_acc: 0.8672\n",
      "Epoch 12/50\n",
      "2892/2892 [==============================] - 13s 4ms/step - loss: 0.0428 - acc: 0.9889 - val_loss: 0.4421 - val_acc: 0.8617\n",
      "Epoch 13/50\n",
      "2892/2892 [==============================] - 12s 4ms/step - loss: 0.0403 - acc: 0.9872 - val_loss: 0.4783 - val_acc: 0.8603\n",
      "Epoch 14/50\n",
      "2892/2892 [==============================] - 12s 4ms/step - loss: 0.0363 - acc: 0.9893 - val_loss: 0.4887 - val_acc: 0.8631\n",
      "Epoch 15/50\n",
      "2892/2892 [==============================] - 12s 4ms/step - loss: 0.0318 - acc: 0.9910 - val_loss: 0.4966 - val_acc: 0.8465\n",
      "Epoch 16/50\n",
      "2892/2892 [==============================] - 11s 4ms/step - loss: 0.0306 - acc: 0.9910 - val_loss: 0.5310 - val_acc: 0.8562\n",
      "Epoch 17/50\n",
      "2892/2892 [==============================] - 12s 4ms/step - loss: 0.0282 - acc: 0.9896 - val_loss: 0.5557 - val_acc: 0.8479\n",
      "Epoch 18/50\n",
      "2892/2892 [==============================] - 12s 4ms/step - loss: 0.0340 - acc: 0.9882 - val_loss: 0.4892 - val_acc: 0.8465\n",
      "Epoch 19/50\n",
      "2892/2892 [==============================] - 12s 4ms/step - loss: 0.0306 - acc: 0.9914 - val_loss: 0.5775 - val_acc: 0.8575\n",
      "Epoch 20/50\n",
      "2892/2892 [==============================] - 12s 4ms/step - loss: 0.0312 - acc: 0.9914 - val_loss: 0.5319 - val_acc: 0.8631\n",
      "Epoch 21/50\n",
      "2892/2892 [==============================] - 12s 4ms/step - loss: 0.0283 - acc: 0.9903 - val_loss: 0.5848 - val_acc: 0.8575\n",
      "Epoch 22/50\n",
      "2892/2892 [==============================] - 12s 4ms/step - loss: 0.0306 - acc: 0.9907 - val_loss: 0.5668 - val_acc: 0.8603\n",
      "Epoch 23/50\n",
      "2892/2892 [==============================] - 12s 4ms/step - loss: 0.0310 - acc: 0.9896 - val_loss: 0.5378 - val_acc: 0.8617\n",
      "Epoch 24/50\n",
      "2892/2892 [==============================] - 12s 4ms/step - loss: 0.0288 - acc: 0.9903 - val_loss: 0.5591 - val_acc: 0.8589\n",
      "Epoch 25/50\n",
      "2892/2892 [==============================] - 12s 4ms/step - loss: 0.0269 - acc: 0.9914 - val_loss: 0.5945 - val_acc: 0.8603\n",
      "Epoch 26/50\n",
      "2892/2892 [==============================] - 12s 4ms/step - loss: 0.0263 - acc: 0.9920 - val_loss: 0.6190 - val_acc: 0.8672\n",
      "Epoch 27/50\n",
      "2892/2892 [==============================] - 12s 4ms/step - loss: 0.0262 - acc: 0.9920 - val_loss: 0.5765 - val_acc: 0.8700\n",
      "Epoch 28/50\n",
      "2892/2892 [==============================] - 12s 4ms/step - loss: 0.0230 - acc: 0.9920 - val_loss: 0.6105 - val_acc: 0.8658\n",
      "Epoch 29/50\n",
      "2892/2892 [==============================] - 12s 4ms/step - loss: 0.0238 - acc: 0.9924 - val_loss: 0.6055 - val_acc: 0.8603\n",
      "Epoch 30/50\n",
      "2892/2892 [==============================] - 12s 4ms/step - loss: 0.0261 - acc: 0.9917 - val_loss: 0.5929 - val_acc: 0.8520\n",
      "Epoch 31/50\n",
      "2892/2892 [==============================] - 12s 4ms/step - loss: 0.0249 - acc: 0.9920 - val_loss: 0.6338 - val_acc: 0.8548\n",
      "Epoch 32/50\n",
      "2892/2892 [==============================] - 12s 4ms/step - loss: 0.0244 - acc: 0.9910 - val_loss: 0.6859 - val_acc: 0.8575\n",
      "Epoch 33/50\n",
      "2892/2892 [==============================] - 13s 4ms/step - loss: 0.0280 - acc: 0.9914 - val_loss: 0.5476 - val_acc: 0.8562\n",
      "Epoch 34/50\n",
      "2892/2892 [==============================] - 12s 4ms/step - loss: 0.0269 - acc: 0.9920 - val_loss: 0.5711 - val_acc: 0.8631\n",
      "Epoch 35/50\n",
      "2892/2892 [==============================] - 13s 4ms/step - loss: 0.0260 - acc: 0.9920 - val_loss: 0.5583 - val_acc: 0.8575\n",
      "Epoch 36/50\n",
      "2892/2892 [==============================] - 12s 4ms/step - loss: 0.0265 - acc: 0.9917 - val_loss: 0.5572 - val_acc: 0.8686\n",
      "Epoch 37/50\n",
      "2892/2892 [==============================] - 12s 4ms/step - loss: 0.0258 - acc: 0.9924 - val_loss: 0.5630 - val_acc: 0.8617\n",
      "Epoch 38/50\n",
      "2892/2892 [==============================] - 12s 4ms/step - loss: 0.0243 - acc: 0.9920 - val_loss: 0.5794 - val_acc: 0.8589\n",
      "Epoch 39/50\n",
      "2892/2892 [==============================] - 11s 4ms/step - loss: 0.0235 - acc: 0.9917 - val_loss: 0.6591 - val_acc: 0.8562\n",
      "Epoch 40/50\n",
      "2892/2892 [==============================] - 11s 4ms/step - loss: 0.0241 - acc: 0.9907 - val_loss: 0.6226 - val_acc: 0.8686\n",
      "Epoch 41/50\n",
      "2892/2892 [==============================] - 12s 4ms/step - loss: 0.0242 - acc: 0.9927 - val_loss: 0.6295 - val_acc: 0.8617\n",
      "Epoch 42/50\n",
      "2892/2892 [==============================] - 12s 4ms/step - loss: 0.0238 - acc: 0.9917 - val_loss: 0.6357 - val_acc: 0.8617\n",
      "Epoch 43/50\n",
      "2892/2892 [==============================] - 12s 4ms/step - loss: 0.0238 - acc: 0.9924 - val_loss: 0.6365 - val_acc: 0.8631\n",
      "Epoch 44/50\n",
      "2892/2892 [==============================] - 12s 4ms/step - loss: 0.0242 - acc: 0.9924 - val_loss: 0.6536 - val_acc: 0.8714\n",
      "Epoch 45/50\n",
      "2892/2892 [==============================] - 12s 4ms/step - loss: 0.0228 - acc: 0.9924 - val_loss: 0.6841 - val_acc: 0.8658\n",
      "Epoch 46/50\n",
      "2892/2892 [==============================] - 13s 4ms/step - loss: 0.0234 - acc: 0.9917 - val_loss: 0.6222 - val_acc: 0.8617\n",
      "Epoch 47/50\n",
      "2892/2892 [==============================] - 13s 4ms/step - loss: 0.0228 - acc: 0.9924 - val_loss: 0.6358 - val_acc: 0.8686\n",
      "Epoch 48/50\n",
      "2892/2892 [==============================] - 12s 4ms/step - loss: 0.0230 - acc: 0.9927 - val_loss: 0.6423 - val_acc: 0.8686\n",
      "Epoch 49/50\n",
      "2892/2892 [==============================] - 11s 4ms/step - loss: 0.0218 - acc: 0.9934 - val_loss: 0.6610 - val_acc: 0.8658\n",
      "Epoch 50/50\n",
      "2892/2892 [==============================] - 12s 4ms/step - loss: 0.0228 - acc: 0.9927 - val_loss: 0.6682 - val_acc: 0.8700\n"
     ]
    }
   ],
   "source": [
    "history = model.fit([X_train], y,\n",
    "                    epochs=50,\n",
    "                    batch_size=32,\n",
    "                    validation_split=0.2)"
   ]
  },
  {
   "cell_type": "code",
   "execution_count": 62,
   "metadata": {},
   "outputs": [
    {
     "data": {
      "text/plain": [
       "dict_keys(['val_loss', 'val_acc', 'loss', 'acc'])"
      ]
     },
     "execution_count": 62,
     "metadata": {},
     "output_type": "execute_result"
    }
   ],
   "source": [
    "# Plotting Loss & Accuracy\n",
    "history_dict = history.history\n",
    "history_dict.keys()"
   ]
  },
  {
   "cell_type": "code",
   "execution_count": 63,
   "metadata": {},
   "outputs": [
    {
     "data": {
      "image/png": "[encoded data removed]",
      "text/plain": [
       "<Figure size 432x288 with 1 Axes>"
      ]
     },
     "metadata": {},
     "output_type": "display_data"
    }
   ],
   "source": [
    "acc = history.history['acc']\n",
    "val_acc = history.history['val_acc']\n",
    "loss = history.history['loss']\n",
    "val_loss = history.history['val_loss']\n",
    "\n",
    "epochs = range(1, len(acc) + 1)\n",
    "\n",
    "# \"bo\" is for \"blue dot\"\n",
    "plt.plot(epochs, loss, 'bo', label='Training loss')\n",
    "# b is for \"solid blue line\"\n",
    "plt.plot(epochs, val_loss, 'b', label='Validation loss')\n",
    "plt.title('Training and validation loss')\n",
    "plt.xlabel('Epochs')\n",
    "plt.ylabel('Loss')\n",
    "plt.legend()\n",
    "\n",
    "plt.show()"
   ]
  },
  {
   "cell_type": "code",
   "execution_count": 64,
   "metadata": {},
   "outputs": [
    {
     "data": {
      "image/png": "[encoded data removed]",
      "text/plain": [
       "<Figure size 432x288 with 1 Axes>"
      ]
     },
     "metadata": {},
     "output_type": "display_data"
    }
   ],
   "source": [
    "plt.clf()   # clear figure\n",
    "acc_values = history_dict['acc']\n",
    "val_acc_values = history_dict['val_acc']\n",
    "\n",
    "plt.plot(epochs, acc, 'bo', label='Training acc')\n",
    "plt.plot(epochs, val_acc, 'b', label='Validation acc')\n",
    "plt.title('Training and validation accuracy')\n",
    "plt.xlabel('Epochs')\n",
    "plt.ylabel('Loss')\n",
    "plt.legend()\n",
    "\n",
    "plt.show()"
   ]
  },
  {
   "cell_type": "code",
   "execution_count": 65,
   "metadata": {},
   "outputs": [
    {
     "name": "stdout",
     "output_type": "stream",
     "text": [
      "Best Training Accuracy: 99.34301521438451 Epoch: 48 Best Validation Accuracy: 87.13692953477756 Epoch: 43\n",
      "Lowest Training Loss value: 2.177151137374259 Epoch: 48 Lowest Validation Loss: 36.328719488318036 Epoch: 2\n"
     ]
    }
   ],
   "source": [
    "print('Best Training Accuracy:', max(acc)*100, 'Epoch:', np.argmax(acc),\n",
    "     'Best Validation Accuracy:', max(val_acc)*100, 'Epoch:', np.argmax(val_acc))\n",
    "print('Lowest Training Loss value:', min(loss)*100, 'Epoch:', np.argmin(loss),\n",
    "     'Lowest Validation Loss:', min(val_loss)*100, 'Epoch:', np.argmin(val_loss))"
   ]
  },
  {
   "cell_type": "markdown",
   "metadata": {},
   "source": [
    "### LSTM BEST MODEL TEST RESULTS:"
   ]
  },
  {
   "cell_type": "code",
   "execution_count": 74,
   "metadata": {
    "collapsed": true
   },
   "outputs": [],
   "source": [
    "# Some memory clean-up\n",
    "K.clear_session()"
   ]
  },
  {
   "cell_type": "code",
   "execution_count": 67,
   "metadata": {
    "collapsed": true
   },
   "outputs": [],
   "source": [
    "model = Sequential()\n",
    "model.add(Embedding(keys+1, 128, input_length=90))\n",
    "model.add(SpatialDropout1D(0.4))\n",
    "model.add(LSTM(128, dropout=0.4, recurrent_dropout=0.4))\n",
    "model.add(Dense(3, activation='softmax'))\n",
    "model.compile(loss = 'categorical_crossentropy', optimizer='adam',metrics = ['accuracy'])"
   ]
  },
  {
   "cell_type": "code",
   "execution_count": 68,
   "metadata": {
    "collapsed": true
   },
   "outputs": [],
   "source": [
    "model.compile(loss='categorical_crossentropy', \n",
    "              optimizer='adam', \n",
    "              metrics=['accuracy'])"
   ]
  },
  {
   "cell_type": "code",
   "execution_count": 69,
   "metadata": {},
   "outputs": [
    {
     "data": {
      "text/plain": [
       "<keras.callbacks.History at 0x129f21978>"
      ]
     },
     "execution_count": 69,
     "metadata": {},
     "output_type": "execute_result"
    }
   ],
   "source": [
    "model.fit([X_train], y, verbose=0, epochs=43, \n",
    "          batch_size=32)"
   ]
  },
  {
   "cell_type": "code",
   "execution_count": 70,
   "metadata": {},
   "outputs": [
    {
     "name": "stdout",
     "output_type": "stream",
     "text": [
      "1206/1206 [==============================] - 1s 1ms/step\n"
     ]
    },
    {
     "data": {
      "text/plain": [
       "[0.7793047416269483, 0.8673300167814416]"
      ]
     },
     "execution_count": 70,
     "metadata": {},
     "output_type": "execute_result"
    }
   ],
   "source": [
    "model.evaluate(X_test, to_categorical(y_test.as_matrix()+1))"
   ]
  },
  {
   "cell_type": "code",
   "execution_count": 71,
   "metadata": {
    "collapsed": true
   },
   "outputs": [],
   "source": [
    "y_train.as_matrix()+1\n",
    "y_ = model.predict(X_test)\n",
    "y_[-1] = [0,0,1]"
   ]
  },
  {
   "cell_type": "code",
   "execution_count": 72,
   "metadata": {},
   "outputs": [
    {
     "name": "stdout",
     "output_type": "stream",
     "text": [
      "F1 Score (Macro): 0.7295032769490044\n",
      "F1 Score (Micro): 0.8665008291873963\n"
     ]
    }
   ],
   "source": [
    "f_macro = f1_score(to_categorical([np.argmax(x) for x in y_]), to_categorical(y_test.as_matrix()+1), average='macro')\n",
    "f_micro = f1_score(to_categorical([np.argmax(x) for x in y_]), to_categorical(y_test.as_matrix()+1), average='micro')\n",
    "print('F1 Score (Macro):', f_macro)\n",
    "print('F1 Score (Micro):', f_micro)"
   ]
  },
  {
   "cell_type": "code",
   "execution_count": 73,
   "metadata": {
    "scrolled": true
   },
   "outputs": [
    {
     "name": "stdout",
     "output_type": "stream",
     "text": [
      "             precision    recall  f1-score   support\n",
      "\n",
      "         -1       0.45      0.55      0.50        56\n",
      "          0       0.94      0.91      0.92       878\n",
      "          1       0.75      0.78      0.77       272\n",
      "\n",
      "avg / total       0.87      0.87      0.87      1206\n",
      "\n"
     ]
    }
   ],
   "source": [
    "target_names = ['-1', '0', '1']\n",
    "report = classification_report(to_categorical([np.argmax(x) for x in y_]), \n",
    "                               to_categorical(y_test.as_matrix()+1), target_names=target_names)\n",
    "print(report)"
   ]
  },
  {
   "cell_type": "markdown",
   "metadata": {},
   "source": [
    "## GRU RNN:"
   ]
  },
  {
   "cell_type": "code",
   "execution_count": 92,
   "metadata": {},
   "outputs": [
    {
     "name": "stdout",
     "output_type": "stream",
     "text": [
      "_________________________________________________________________\n",
      "Layer (type)                 Output Shape              Param #   \n",
      "=================================================================\n",
      "embedding_1 (Embedding)      (None, 90, 128)           751488    \n",
      "_________________________________________________________________\n",
      "gru_1 (GRU)                  (None, 90, 128)           98688     \n",
      "_________________________________________________________________\n",
      "gru_2 (GRU)                  (None, 128)               98688     \n",
      "_________________________________________________________________\n",
      "dense_1 (Dense)              (None, 3)                 387       \n",
      "_________________________________________________________________\n",
      "activation_1 (Activation)    (None, 3)                 0         \n",
      "=================================================================\n",
      "Total params: 949,251\n",
      "Trainable params: 949,251\n",
      "Non-trainable params: 0\n",
      "_________________________________________________________________\n"
     ]
    }
   ],
   "source": [
    "model = Sequential()\n",
    "model.add(Embedding(keys+1, 128, input_length=90))\n",
    "model.add(GRU(128, dropout=0.2, return_sequences=True)) \n",
    "model.add(GRU(128, dropout=0.2))\n",
    "model.add(Dense(3))\n",
    "model.add(Activation('softmax'))\n",
    "\n",
    "model.compile(loss = 'categorical_crossentropy', optimizer='adam',metrics = ['accuracy'])\n",
    "\n",
    "model.summary()"
   ]
  },
  {
   "cell_type": "code",
   "execution_count": 93,
   "metadata": {},
   "outputs": [
    {
     "name": "stdout",
     "output_type": "stream",
     "text": [
      "Train on 2892 samples, validate on 723 samples\n",
      "Epoch 1/50\n",
      "2892/2892 [==============================] - 18s 6ms/step - loss: 0.5013 - acc: 0.7825 - val_loss: 0.3748 - val_acc: 0.8423\n",
      "Epoch 2/50\n",
      "2892/2892 [==============================] - 17s 6ms/step - loss: 0.2752 - acc: 0.8983 - val_loss: 0.3704 - val_acc: 0.8603\n",
      "Epoch 3/50\n",
      "2892/2892 [==============================] - 16s 6ms/step - loss: 0.1496 - acc: 0.9485 - val_loss: 0.4136 - val_acc: 0.8672\n",
      "Epoch 4/50\n",
      "2892/2892 [==============================] - 17s 6ms/step - loss: 0.0795 - acc: 0.9772 - val_loss: 0.4377 - val_acc: 0.8769\n",
      "Epoch 5/50\n",
      "2892/2892 [==============================] - 18s 6ms/step - loss: 0.0497 - acc: 0.9837 - val_loss: 0.4675 - val_acc: 0.8700\n",
      "Epoch 6/50\n",
      "2892/2892 [==============================] - 20s 7ms/step - loss: 0.0469 - acc: 0.9876 - val_loss: 0.4298 - val_acc: 0.8769\n",
      "Epoch 7/50\n",
      "2892/2892 [==============================] - 18s 6ms/step - loss: 0.0345 - acc: 0.9900 - val_loss: 0.5054 - val_acc: 0.8631\n",
      "Epoch 8/50\n",
      "2892/2892 [==============================] - 17s 6ms/step - loss: 0.0348 - acc: 0.9907 - val_loss: 0.4976 - val_acc: 0.8700\n",
      "Epoch 9/50\n",
      "2892/2892 [==============================] - 17s 6ms/step - loss: 0.0291 - acc: 0.9914 - val_loss: 0.5174 - val_acc: 0.8714\n",
      "Epoch 10/50\n",
      "2892/2892 [==============================] - 19s 7ms/step - loss: 0.0295 - acc: 0.9917 - val_loss: 0.4764 - val_acc: 0.8575\n",
      "Epoch 11/50\n",
      "2892/2892 [==============================] - 18s 6ms/step - loss: 0.0264 - acc: 0.9924 - val_loss: 0.5299 - val_acc: 0.8686\n",
      "Epoch 12/50\n",
      "2892/2892 [==============================] - 18s 6ms/step - loss: 0.0296 - acc: 0.9903 - val_loss: 0.5770 - val_acc: 0.8645\n",
      "Epoch 13/50\n",
      "2892/2892 [==============================] - 17s 6ms/step - loss: 0.0257 - acc: 0.9924 - val_loss: 0.5446 - val_acc: 0.8631\n",
      "Epoch 14/50\n",
      "2892/2892 [==============================] - 19s 7ms/step - loss: 0.0268 - acc: 0.9903 - val_loss: 0.5693 - val_acc: 0.8645\n",
      "Epoch 15/50\n",
      "2892/2892 [==============================] - 17s 6ms/step - loss: 0.0259 - acc: 0.9907 - val_loss: 0.5611 - val_acc: 0.8603\n",
      "Epoch 16/50\n",
      "2892/2892 [==============================] - 17s 6ms/step - loss: 0.0238 - acc: 0.9920 - val_loss: 0.5343 - val_acc: 0.8645\n",
      "Epoch 17/50\n",
      "2892/2892 [==============================] - 18s 6ms/step - loss: 0.0233 - acc: 0.9917 - val_loss: 0.5800 - val_acc: 0.8672\n",
      "Epoch 18/50\n",
      "2892/2892 [==============================] - 18s 6ms/step - loss: 0.0259 - acc: 0.9914 - val_loss: 0.5427 - val_acc: 0.8686\n",
      "Epoch 19/50\n",
      "2892/2892 [==============================] - 18s 6ms/step - loss: 0.0248 - acc: 0.9914 - val_loss: 0.5585 - val_acc: 0.8714\n",
      "Epoch 20/50\n",
      "2892/2892 [==============================] - 17s 6ms/step - loss: 0.0243 - acc: 0.9920 - val_loss: 0.5630 - val_acc: 0.8741\n",
      "Epoch 21/50\n",
      "2892/2892 [==============================] - 17s 6ms/step - loss: 0.0243 - acc: 0.9920 - val_loss: 0.5890 - val_acc: 0.8741\n",
      "Epoch 22/50\n",
      "2892/2892 [==============================] - 17s 6ms/step - loss: 0.0249 - acc: 0.9917 - val_loss: 0.6308 - val_acc: 0.8672\n",
      "Epoch 23/50\n",
      "2892/2892 [==============================] - 17s 6ms/step - loss: 0.0579 - acc: 0.9824 - val_loss: 0.4634 - val_acc: 0.8907\n",
      "Epoch 24/50\n",
      "2892/2892 [==============================] - 18s 6ms/step - loss: 0.0499 - acc: 0.9837 - val_loss: 0.5140 - val_acc: 0.8672\n",
      "Epoch 25/50\n",
      "2892/2892 [==============================] - 18s 6ms/step - loss: 0.0310 - acc: 0.9914 - val_loss: 0.5485 - val_acc: 0.8700\n",
      "Epoch 26/50\n",
      "2892/2892 [==============================] - 17s 6ms/step - loss: 0.0255 - acc: 0.9920 - val_loss: 0.5758 - val_acc: 0.8672\n",
      "Epoch 27/50\n",
      "2892/2892 [==============================] - 17s 6ms/step - loss: 0.0244 - acc: 0.9920 - val_loss: 0.6082 - val_acc: 0.8672\n",
      "Epoch 28/50\n",
      "2892/2892 [==============================] - 18s 6ms/step - loss: 0.0240 - acc: 0.9917 - val_loss: 0.5997 - val_acc: 0.8658\n",
      "Epoch 29/50\n",
      "2892/2892 [==============================] - 18s 6ms/step - loss: 0.0230 - acc: 0.9907 - val_loss: 0.6283 - val_acc: 0.8645\n",
      "Epoch 30/50\n",
      "2892/2892 [==============================] - 17s 6ms/step - loss: 0.0232 - acc: 0.9931 - val_loss: 0.6140 - val_acc: 0.8645\n",
      "Epoch 31/50\n",
      "2892/2892 [==============================] - 17s 6ms/step - loss: 0.0232 - acc: 0.9927 - val_loss: 0.6014 - val_acc: 0.8658\n",
      "Epoch 32/50\n",
      "2892/2892 [==============================] - 17s 6ms/step - loss: 0.0227 - acc: 0.9924 - val_loss: 0.6191 - val_acc: 0.8658\n",
      "Epoch 33/50\n",
      "2892/2892 [==============================] - 17s 6ms/step - loss: 0.0224 - acc: 0.9917 - val_loss: 0.6299 - val_acc: 0.8658\n",
      "Epoch 34/50\n",
      "2892/2892 [==============================] - 16s 6ms/step - loss: 0.0232 - acc: 0.9924 - val_loss: 0.6084 - val_acc: 0.8686\n",
      "Epoch 35/50\n",
      "2892/2892 [==============================] - 16s 6ms/step - loss: 0.0230 - acc: 0.9924 - val_loss: 0.6157 - val_acc: 0.8700\n",
      "Epoch 36/50\n",
      "2892/2892 [==============================] - 19s 7ms/step - loss: 0.0232 - acc: 0.9914 - val_loss: 0.6250 - val_acc: 0.8672\n",
      "Epoch 37/50\n",
      "2892/2892 [==============================] - 16s 6ms/step - loss: 0.0222 - acc: 0.9917 - val_loss: 0.6363 - val_acc: 0.8631\n",
      "Epoch 38/50\n",
      "2892/2892 [==============================] - 16s 6ms/step - loss: 0.0230 - acc: 0.9914 - val_loss: 0.6108 - val_acc: 0.8728\n",
      "Epoch 39/50\n",
      "2892/2892 [==============================] - 18s 6ms/step - loss: 0.0214 - acc: 0.9931 - val_loss: 0.6842 - val_acc: 0.8728\n",
      "Epoch 40/50\n",
      "2892/2892 [==============================] - 16s 6ms/step - loss: 0.0241 - acc: 0.9917 - val_loss: 0.6267 - val_acc: 0.8658\n",
      "Epoch 41/50\n",
      "2892/2892 [==============================] - 17s 6ms/step - loss: 0.0223 - acc: 0.9920 - val_loss: 0.6411 - val_acc: 0.8714\n",
      "Epoch 42/50\n",
      "2892/2892 [==============================] - 16s 5ms/step - loss: 0.0221 - acc: 0.9927 - val_loss: 0.6327 - val_acc: 0.8741\n",
      "Epoch 43/50\n",
      "2892/2892 [==============================] - 16s 5ms/step - loss: 0.0229 - acc: 0.9931 - val_loss: 0.6270 - val_acc: 0.8728\n",
      "Epoch 44/50\n",
      "2892/2892 [==============================] - 16s 5ms/step - loss: 0.0222 - acc: 0.9924 - val_loss: 0.6656 - val_acc: 0.8686\n",
      "Epoch 45/50\n",
      "2892/2892 [==============================] - 17s 6ms/step - loss: 0.0221 - acc: 0.9924 - val_loss: 0.6656 - val_acc: 0.8714\n",
      "Epoch 46/50\n",
      "2892/2892 [==============================] - 16s 5ms/step - loss: 0.0222 - acc: 0.9914 - val_loss: 0.6287 - val_acc: 0.8700\n",
      "Epoch 47/50\n",
      "2892/2892 [==============================] - 16s 5ms/step - loss: 0.0226 - acc: 0.9920 - val_loss: 0.6470 - val_acc: 0.8714\n",
      "Epoch 48/50\n",
      "2892/2892 [==============================] - 16s 5ms/step - loss: 0.0217 - acc: 0.9917 - val_loss: 0.6851 - val_acc: 0.8700\n",
      "Epoch 49/50\n",
      "2892/2892 [==============================] - 16s 5ms/step - loss: 0.0215 - acc: 0.9917 - val_loss: 0.6370 - val_acc: 0.8645\n",
      "Epoch 50/50\n",
      "2892/2892 [==============================] - 17s 6ms/step - loss: 0.0218 - acc: 0.9924 - val_loss: 0.6553 - val_acc: 0.8714\n"
     ]
    }
   ],
   "source": [
    "history = model.fit([X_train], y,\n",
    "                    epochs=50,\n",
    "                    batch_size=32,\n",
    "                    validation_split=0.2)"
   ]
  },
  {
   "cell_type": "code",
   "execution_count": 94,
   "metadata": {},
   "outputs": [
    {
     "data": {
      "text/plain": [
       "dict_keys(['val_loss', 'val_acc', 'loss', 'acc'])"
      ]
     },
     "execution_count": 94,
     "metadata": {},
     "output_type": "execute_result"
    }
   ],
   "source": [
    "# Plotting Loss & Accuracy\n",
    "history_dict = history.history\n",
    "history_dict.keys()"
   ]
  },
  {
   "cell_type": "code",
   "execution_count": 95,
   "metadata": {},
   "outputs": [
    {
     "data": {
      "image/png": "[encoded data removed]",
      "text/plain": [
       "<Figure size 432x288 with 1 Axes>"
      ]
     },
     "metadata": {},
     "output_type": "display_data"
    }
   ],
   "source": [
    "acc = history.history['acc']\n",
    "val_acc = history.history['val_acc']\n",
    "loss = history.history['loss']\n",
    "val_loss = history.history['val_loss']\n",
    "\n",
    "epochs = range(1, len(acc) + 1)\n",
    "\n",
    "# \"bo\" is for \"blue dot\"\n",
    "plt.plot(epochs, loss, 'bo', label='Training loss')\n",
    "# b is for \"solid blue line\"\n",
    "plt.plot(epochs, val_loss, 'b', label='Validation loss')\n",
    "plt.title('Training and validation loss')\n",
    "plt.xlabel('Epochs')\n",
    "plt.ylabel('Loss')\n",
    "plt.legend()\n",
    "\n",
    "plt.show()"
   ]
  },
  {
   "cell_type": "code",
   "execution_count": 96,
   "metadata": {},
   "outputs": [
    {
     "data": {
      "image/png": "[encoded data removed]",
      "text/plain": [
       "<Figure size 432x288 with 1 Axes>"
      ]
     },
     "metadata": {},
     "output_type": "display_data"
    }
   ],
   "source": [
    "plt.clf()   # clear figure\n",
    "acc_values = history_dict['acc']\n",
    "val_acc_values = history_dict['val_acc']\n",
    "\n",
    "plt.plot(epochs, acc, 'bo', label='Training acc')\n",
    "plt.plot(epochs, val_acc, 'b', label='Validation acc')\n",
    "plt.title('Training and validation accuracy')\n",
    "plt.xlabel('Epochs')\n",
    "plt.ylabel('Loss')\n",
    "plt.legend()\n",
    "\n",
    "plt.show()"
   ]
  },
  {
   "cell_type": "code",
   "execution_count": 97,
   "metadata": {},
   "outputs": [
    {
     "name": "stdout",
     "output_type": "stream",
     "text": [
      "Best Training Accuracy: 99.30843706777317 Epoch: 29 Best Validation Accuracy: 89.0733056873042 Epoch: 22\n",
      "Lowest Training Loss value: 2.142882282136557 Epoch: 38 Lowest Validation Loss: 37.04314381090272 Epoch: 1\n"
     ]
    }
   ],
   "source": [
    "print('Best Training Accuracy:', max(acc)*100, 'Epoch:', np.argmax(acc),\n",
    "     'Best Validation Accuracy:', max(val_acc)*100, 'Epoch:', np.argmax(val_acc))\n",
    "print('Lowest Training Loss value:', min(loss)*100, 'Epoch:', np.argmin(loss),\n",
    "     'Lowest Validation Loss:', min(val_loss)*100, 'Epoch:', np.argmin(val_loss))"
   ]
  },
  {
   "cell_type": "markdown",
   "metadata": {},
   "source": [
    "### GRU RNN BEST MODEL TEST RESULTS:"
   ]
  },
  {
   "cell_type": "code",
   "execution_count": 106,
   "metadata": {
    "collapsed": true
   },
   "outputs": [],
   "source": [
    "# Some memory clean-up\n",
    "K.clear_session()"
   ]
  },
  {
   "cell_type": "code",
   "execution_count": 99,
   "metadata": {
    "collapsed": true
   },
   "outputs": [],
   "source": [
    "model = Sequential()\n",
    "model.add(Embedding(keys+1, 128, input_length=90))\n",
    "model.add(GRU(128, dropout=0.2, return_sequences=True)) \n",
    "model.add(GRU(128, dropout=0.2))\n",
    "model.add(Dense(3))\n",
    "model.add(Activation('softmax'))\n",
    "\n",
    "model.compile(loss = 'categorical_crossentropy', optimizer='adam', metrics = ['accuracy'])"
   ]
  },
  {
   "cell_type": "code",
   "execution_count": 100,
   "metadata": {
    "collapsed": true
   },
   "outputs": [],
   "source": [
    "model.compile(loss='categorical_crossentropy', \n",
    "              optimizer='adam', \n",
    "              metrics=['accuracy'])"
   ]
  },
  {
   "cell_type": "code",
   "execution_count": 101,
   "metadata": {},
   "outputs": [
    {
     "name": "stdout",
     "output_type": "stream",
     "text": [
      "CPU times: user 22min 45s, sys: 5min 6s, total: 27min 52s\n",
      "Wall time: 6min 29s\n"
     ]
    },
    {
     "data": {
      "text/plain": [
       "<keras.callbacks.History at 0x12ed349b0>"
      ]
     },
     "execution_count": 101,
     "metadata": {},
     "output_type": "execute_result"
    }
   ],
   "source": [
    "%%time\n",
    "model.fit([X_train], y, verbose=0, epochs=22, \n",
    "          batch_size=32)"
   ]
  },
  {
   "cell_type": "code",
   "execution_count": 102,
   "metadata": {},
   "outputs": [
    {
     "name": "stdout",
     "output_type": "stream",
     "text": [
      "1206/1206 [==============================] - 2s 1ms/step\n"
     ]
    },
    {
     "data": {
      "text/plain": [
       "[0.5169531807772951, 0.8731343285559027]"
      ]
     },
     "execution_count": 102,
     "metadata": {},
     "output_type": "execute_result"
    }
   ],
   "source": [
    "model.evaluate(X_test, to_categorical(y_test.as_matrix()+1))"
   ]
  },
  {
   "cell_type": "code",
   "execution_count": 103,
   "metadata": {
    "collapsed": true
   },
   "outputs": [],
   "source": [
    "y_train.as_matrix()+1\n",
    "y_ = model.predict(X_test)\n",
    "y_[-1] = [0,0,1]"
   ]
  },
  {
   "cell_type": "code",
   "execution_count": 104,
   "metadata": {},
   "outputs": [
    {
     "name": "stdout",
     "output_type": "stream",
     "text": [
      "F1 Score (Macro): 0.7142184847465757\n",
      "F1 Score (Micro): 0.8723051409618574\n"
     ]
    }
   ],
   "source": [
    "f_macro = f1_score(to_categorical([np.argmax(x) for x in y_]), to_categorical(y_test.as_matrix()+1), average='macro')\n",
    "f_micro = f1_score(to_categorical([np.argmax(x) for x in y_]), to_categorical(y_test.as_matrix()+1), average='micro')\n",
    "print('F1 Score (Macro):', f_macro)\n",
    "print('F1 Score (Micro):', f_micro)"
   ]
  },
  {
   "cell_type": "code",
   "execution_count": 105,
   "metadata": {
    "scrolled": true
   },
   "outputs": [
    {
     "name": "stdout",
     "output_type": "stream",
     "text": [
      "             precision    recall  f1-score   support\n",
      "\n",
      "         -1       0.39      0.47      0.43        57\n",
      "          0       0.95      0.91      0.93       895\n",
      "          1       0.74      0.83      0.78       254\n",
      "\n",
      "avg / total       0.88      0.87      0.88      1206\n",
      "\n"
     ]
    }
   ],
   "source": [
    "target_names = ['-1', '0', '1']\n",
    "report = classification_report(to_categorical([np.argmax(x) for x in y_]), \n",
    "                               to_categorical(y_test.as_matrix()+1), target_names=target_names)\n",
    "print(report)"
   ]
  },
  {
   "cell_type": "markdown",
   "metadata": {},
   "source": [
    "## BiLSTM:"
   ]
  },
  {
   "cell_type": "code",
   "execution_count": 150,
   "metadata": {},
   "outputs": [
    {
     "name": "stdout",
     "output_type": "stream",
     "text": [
      "_________________________________________________________________\n",
      "Layer (type)                 Output Shape              Param #   \n",
      "=================================================================\n",
      "embedding_1 (Embedding)      (None, 90, 128)           751488    \n",
      "_________________________________________________________________\n",
      "bidirectional_1 (Bidirection (None, 128)               98816     \n",
      "_________________________________________________________________\n",
      "dropout_1 (Dropout)          (None, 128)               0         \n",
      "_________________________________________________________________\n",
      "dense_1 (Dense)              (None, 3)                 387       \n",
      "=================================================================\n",
      "Total params: 850,691\n",
      "Trainable params: 850,691\n",
      "Non-trainable params: 0\n",
      "_________________________________________________________________\n"
     ]
    }
   ],
   "source": [
    "model = Sequential()\n",
    "model.add(Embedding(keys+1, 128, input_length=90))\n",
    "model.add(Bidirectional(LSTM(64)))\n",
    "model.add(Dropout(0.5))\n",
    "model.add(Dense(3, activation='softmax'))\n",
    "\n",
    "model.compile(loss = 'categorical_crossentropy', optimizer='adam', metrics = ['accuracy'])\n",
    "\n",
    "model.summary()"
   ]
  },
  {
   "cell_type": "code",
   "execution_count": 151,
   "metadata": {},
   "outputs": [
    {
     "name": "stdout",
     "output_type": "stream",
     "text": [
      "Train on 2892 samples, validate on 723 samples\n",
      "Epoch 1/50\n",
      "2892/2892 [==============================] - 12s 4ms/step - loss: 0.5785 - acc: 0.7663 - val_loss: 0.4189 - val_acc: 0.8050\n",
      "Epoch 2/50\n",
      "2892/2892 [==============================] - 10s 3ms/step - loss: 0.3332 - acc: 0.8817 - val_loss: 0.3551 - val_acc: 0.8658\n",
      "Epoch 3/50\n",
      "2892/2892 [==============================] - 10s 4ms/step - loss: 0.2077 - acc: 0.9243 - val_loss: 0.3615 - val_acc: 0.8631\n",
      "Epoch 4/50\n",
      "2892/2892 [==============================] - 10s 3ms/step - loss: 0.1347 - acc: 0.9540 - val_loss: 0.4167 - val_acc: 0.8492\n",
      "Epoch 5/50\n",
      "2892/2892 [==============================] - 10s 4ms/step - loss: 0.0918 - acc: 0.9692 - val_loss: 0.4115 - val_acc: 0.8672\n",
      "Epoch 6/50\n",
      "2892/2892 [==============================] - 10s 4ms/step - loss: 0.0551 - acc: 0.9865 - val_loss: 0.5688 - val_acc: 0.8575\n",
      "Epoch 7/50\n",
      "2892/2892 [==============================] - 10s 4ms/step - loss: 0.0460 - acc: 0.9872 - val_loss: 0.4907 - val_acc: 0.8617\n",
      "Epoch 8/50\n",
      "2892/2892 [==============================] - 10s 4ms/step - loss: 0.0402 - acc: 0.9889 - val_loss: 0.5166 - val_acc: 0.8686\n",
      "Epoch 9/50\n",
      "2892/2892 [==============================] - 10s 4ms/step - loss: 0.0457 - acc: 0.9862 - val_loss: 0.4565 - val_acc: 0.8658\n",
      "Epoch 10/50\n",
      "2892/2892 [==============================] - 10s 4ms/step - loss: 0.0356 - acc: 0.9903 - val_loss: 0.4621 - val_acc: 0.8686\n",
      "Epoch 11/50\n",
      "2892/2892 [==============================] - 10s 4ms/step - loss: 0.0282 - acc: 0.9917 - val_loss: 0.5099 - val_acc: 0.8686\n",
      "Epoch 12/50\n",
      "2892/2892 [==============================] - 11s 4ms/step - loss: 0.0281 - acc: 0.9927 - val_loss: 0.4879 - val_acc: 0.8741\n",
      "Epoch 13/50\n",
      "2892/2892 [==============================] - 11s 4ms/step - loss: 0.0286 - acc: 0.9920 - val_loss: 0.4862 - val_acc: 0.8631\n",
      "Epoch 14/50\n",
      "2892/2892 [==============================] - 10s 4ms/step - loss: 0.0281 - acc: 0.9907 - val_loss: 0.5110 - val_acc: 0.8728\n",
      "Epoch 15/50\n",
      "2892/2892 [==============================] - 10s 4ms/step - loss: 0.0279 - acc: 0.9917 - val_loss: 0.5141 - val_acc: 0.870057 \n",
      "Epoch 16/50\n",
      "2892/2892 [==============================] - 10s 4ms/step - loss: 0.0247 - acc: 0.9907 - val_loss: 0.5200 - val_acc: 0.8672\n",
      "Epoch 17/50\n",
      "2892/2892 [==============================] - 10s 4ms/step - loss: 0.0248 - acc: 0.9917 - val_loss: 0.5658 - val_acc: 0.8755\n",
      "Epoch 18/50\n",
      "2892/2892 [==============================] - 10s 4ms/step - loss: 0.0264 - acc: 0.9920 - val_loss: 0.5769 - val_acc: 0.8700\n",
      "Epoch 19/50\n",
      "2892/2892 [==============================] - 10s 4ms/step - loss: 0.0265 - acc: 0.9910 - val_loss: 0.5576 - val_acc: 0.8728\n",
      "Epoch 20/50\n",
      "2892/2892 [==============================] - 10s 4ms/step - loss: 0.0249 - acc: 0.9910 - val_loss: 0.5660 - val_acc: 0.8700\n",
      "Epoch 21/50\n",
      "2892/2892 [==============================] - 10s 4ms/step - loss: 0.0265 - acc: 0.9910 - val_loss: 0.5473 - val_acc: 0.8714\n",
      "Epoch 22/50\n",
      "2892/2892 [==============================] - 10s 4ms/step - loss: 0.0255 - acc: 0.9924 - val_loss: 0.5903 - val_acc: 0.8728\n",
      "Epoch 23/50\n",
      "2892/2892 [==============================] - 10s 4ms/step - loss: 0.0251 - acc: 0.9914 - val_loss: 0.6041 - val_acc: 0.8755\n",
      "Epoch 24/50\n",
      "2892/2892 [==============================] - 10s 4ms/step - loss: 0.0262 - acc: 0.9924 - val_loss: 0.6032 - val_acc: 0.8769\n",
      "Epoch 25/50\n",
      "2892/2892 [==============================] - 10s 4ms/step - loss: 0.0264 - acc: 0.9920 - val_loss: 0.5575 - val_acc: 0.8824\n",
      "Epoch 26/50\n",
      "2892/2892 [==============================] - 11s 4ms/step - loss: 0.0248 - acc: 0.9920 - val_loss: 0.6425 - val_acc: 0.8658\n",
      "Epoch 27/50\n",
      "2892/2892 [==============================] - 10s 4ms/step - loss: 0.0291 - acc: 0.9907 - val_loss: 0.5474 - val_acc: 0.8852\n",
      "Epoch 28/50\n",
      "2892/2892 [==============================] - 10s 4ms/step - loss: 0.0343 - acc: 0.9903 - val_loss: 0.5283 - val_acc: 0.8755\n",
      "Epoch 29/50\n",
      "2892/2892 [==============================] - 10s 4ms/step - loss: 0.0230 - acc: 0.9931 - val_loss: 0.5358 - val_acc: 0.8783\n",
      "Epoch 30/50\n",
      "2892/2892 [==============================] - 10s 4ms/step - loss: 0.0243 - acc: 0.9920 - val_loss: 0.5401 - val_acc: 0.8783\n",
      "Epoch 31/50\n",
      "2892/2892 [==============================] - 10s 4ms/step - loss: 0.0231 - acc: 0.9920 - val_loss: 0.5330 - val_acc: 0.8728\n",
      "Epoch 32/50\n",
      "2892/2892 [==============================] - 11s 4ms/step - loss: 0.0247 - acc: 0.9920 - val_loss: 0.5411 - val_acc: 0.8783\n",
      "Epoch 33/50\n",
      "2892/2892 [==============================] - 11s 4ms/step - loss: 0.0246 - acc: 0.9917 - val_loss: 0.5356 - val_acc: 0.8769\n",
      "Epoch 34/50\n",
      "2892/2892 [==============================] - 11s 4ms/step - loss: 0.0226 - acc: 0.9924 - val_loss: 0.5782 - val_acc: 0.8797\n",
      "Epoch 35/50\n",
      "2892/2892 [==============================] - 11s 4ms/step - loss: 0.0236 - acc: 0.9920 - val_loss: 0.5584 - val_acc: 0.8797\n",
      "Epoch 36/50\n",
      "2892/2892 [==============================] - 10s 4ms/step - loss: 0.0217 - acc: 0.9920 - val_loss: 0.5612 - val_acc: 0.8755\n",
      "Epoch 37/50\n",
      "2892/2892 [==============================] - 10s 4ms/step - loss: 0.0223 - acc: 0.9924 - val_loss: 0.5674 - val_acc: 0.8728\n",
      "Epoch 38/50\n",
      "2892/2892 [==============================] - 10s 4ms/step - loss: 0.0234 - acc: 0.9917 - val_loss: 0.6312 - val_acc: 0.8755\n",
      "Epoch 39/50\n",
      "2892/2892 [==============================] - 10s 4ms/step - loss: 0.0236 - acc: 0.9914 - val_loss: 0.6094 - val_acc: 0.8728\n",
      "Epoch 40/50\n",
      "2892/2892 [==============================] - 10s 3ms/step - loss: 0.0244 - acc: 0.9917 - val_loss: 0.5622 - val_acc: 0.8769\n",
      "Epoch 41/50\n",
      "2892/2892 [==============================] - 10s 4ms/step - loss: 0.0262 - acc: 0.9914 - val_loss: 0.5991 - val_acc: 0.8645\n",
      "Epoch 42/50\n",
      "2892/2892 [==============================] - 10s 4ms/step - loss: 0.0226 - acc: 0.9920 - val_loss: 0.6928 - val_acc: 0.8728\n",
      "Epoch 43/50\n",
      "2892/2892 [==============================] - 11s 4ms/step - loss: 0.0229 - acc: 0.9924 - val_loss: 0.6617 - val_acc: 0.8741\n",
      "Epoch 44/50\n",
      "2892/2892 [==============================] - 10s 4ms/step - loss: 0.0241 - acc: 0.9920 - val_loss: 0.6343 - val_acc: 0.8755\n",
      "Epoch 45/50\n",
      "2892/2892 [==============================] - 10s 4ms/step - loss: 0.0222 - acc: 0.9927 - val_loss: 0.6340 - val_acc: 0.8741\n",
      "Epoch 46/50\n",
      "2892/2892 [==============================] - 10s 4ms/step - loss: 0.0228 - acc: 0.9920 - val_loss: 0.6634 - val_acc: 0.8769\n",
      "Epoch 47/50\n",
      "2892/2892 [==============================] - 10s 4ms/step - loss: 0.0233 - acc: 0.9917 - val_loss: 0.6644 - val_acc: 0.8811\n",
      "Epoch 48/50\n",
      "2892/2892 [==============================] - 10s 4ms/step - loss: 0.0219 - acc: 0.9924 - val_loss: 0.6866 - val_acc: 0.8741\n",
      "Epoch 49/50\n",
      "2892/2892 [==============================] - 10s 4ms/step - loss: 0.0217 - acc: 0.9927 - val_loss: 0.7008 - val_acc: 0.8783\n",
      "Epoch 50/50\n",
      "2892/2892 [==============================] - 10s 4ms/step - loss: 0.0229 - acc: 0.9927 - val_loss: 0.6458 - val_acc: 0.8728\n",
      "CPU times: user 34min 47s, sys: 5min 37s, total: 40min 24s\n",
      "Wall time: 8min 41s\n"
     ]
    }
   ],
   "source": [
    "%%time\n",
    "history = model.fit([X_train], y,\n",
    "                    epochs=50,\n",
    "                    batch_size=32,\n",
    "                    validation_split=0.2)"
   ]
  },
  {
   "cell_type": "code",
   "execution_count": 152,
   "metadata": {},
   "outputs": [
    {
     "data": {
      "text/plain": [
       "dict_keys(['val_loss', 'val_acc', 'loss', 'acc'])"
      ]
     },
     "execution_count": 152,
     "metadata": {},
     "output_type": "execute_result"
    }
   ],
   "source": [
    "# Plotting Loss & Accuracy\n",
    "history_dict = history.history\n",
    "history_dict.keys()"
   ]
  },
  {
   "cell_type": "code",
   "execution_count": 153,
   "metadata": {},
   "outputs": [
    {
     "data": {
      "image/png": "[encoded data removed]",
      "text/plain": [
       "<Figure size 432x288 with 1 Axes>"
      ]
     },
     "metadata": {},
     "output_type": "display_data"
    }
   ],
   "source": [
    "acc = history.history['acc']\n",
    "val_acc = history.history['val_acc']\n",
    "loss = history.history['loss']\n",
    "val_loss = history.history['val_loss']\n",
    "\n",
    "epochs = range(1, len(acc) + 1)\n",
    "\n",
    "# \"bo\" is for \"blue dot\"\n",
    "plt.plot(epochs, loss, 'bo', label='Training loss')\n",
    "# b is for \"solid blue line\"\n",
    "plt.plot(epochs, val_loss, 'b', label='Validation loss')\n",
    "plt.title('Training and validation loss')\n",
    "plt.xlabel('Epochs')\n",
    "plt.ylabel('Loss')\n",
    "plt.legend()\n",
    "\n",
    "plt.show()"
   ]
  },
  {
   "cell_type": "code",
   "execution_count": 154,
   "metadata": {},
   "outputs": [
    {
     "data": {
      "image/png": "[encoded data removed]",
      "text/plain": [
       "<Figure size 432x288 with 1 Axes>"
      ]
     },
     "metadata": {},
     "output_type": "display_data"
    }
   ],
   "source": [
    "plt.clf()   # clear figure\n",
    "acc_values = history_dict['acc']\n",
    "val_acc_values = history_dict['val_acc']\n",
    "\n",
    "plt.plot(epochs, acc, 'bo', label='Training acc')\n",
    "plt.plot(epochs, val_acc, 'b', label='Validation acc')\n",
    "plt.title('Training and validation accuracy')\n",
    "plt.xlabel('Epochs')\n",
    "plt.ylabel('Loss')\n",
    "plt.legend()\n",
    "\n",
    "plt.show()"
   ]
  },
  {
   "cell_type": "code",
   "execution_count": 155,
   "metadata": {},
   "outputs": [
    {
     "name": "stdout",
     "output_type": "stream",
     "text": [
      "Best Training Accuracy: 99.30843706777317 Epoch: 28 Best Validation Accuracy: 88.52005539923124 Epoch: 26\n",
      "Lowest Training Loss value: 2.171425742256928 Epoch: 48 Lowest Validation Loss: 35.50742372025428 Epoch: 1\n"
     ]
    }
   ],
   "source": [
    "print('Best Training Accuracy:', max(acc)*100, 'Epoch:', np.argmax(acc),\n",
    "     'Best Validation Accuracy:', max(val_acc)*100, 'Epoch:', np.argmax(val_acc))\n",
    "print('Lowest Training Loss value:', min(loss)*100, 'Epoch:', np.argmin(loss),\n",
    "     'Lowest Validation Loss:', min(val_loss)*100, 'Epoch:', np.argmin(val_loss))"
   ]
  },
  {
   "cell_type": "markdown",
   "metadata": {},
   "source": [
    "### BiLSTM BEST MODEL TEST RESULTS:"
   ]
  },
  {
   "cell_type": "code",
   "execution_count": 156,
   "metadata": {
    "collapsed": true
   },
   "outputs": [],
   "source": [
    "# Some memory clean-up\n",
    "K.clear_session()"
   ]
  },
  {
   "cell_type": "code",
   "execution_count": 157,
   "metadata": {
    "collapsed": true
   },
   "outputs": [],
   "source": [
    "model = Sequential()\n",
    "model.add(Embedding(keys+1, 128, input_length=90))\n",
    "model.add(Bidirectional(LSTM(64)))\n",
    "model.add(Dropout(0.5))\n",
    "model.add(Dense(3, activation='softmax'))\n",
    "\n",
    "model.compile(loss = 'categorical_crossentropy', optimizer='adam', metrics = ['accuracy'])"
   ]
  },
  {
   "cell_type": "code",
   "execution_count": 142,
   "metadata": {
    "collapsed": true
   },
   "outputs": [],
   "source": [
    "model.compile(loss='categorical_crossentropy', \n",
    "              optimizer='adam', \n",
    "              metrics=['accuracy'])"
   ]
  },
  {
   "cell_type": "code",
   "execution_count": 158,
   "metadata": {},
   "outputs": [
    {
     "name": "stdout",
     "output_type": "stream",
     "text": [
      "CPU times: user 20min 54s, sys: 3min 42s, total: 24min 37s\n",
      "Wall time: 4min 57s\n"
     ]
    },
    {
     "data": {
      "text/plain": [
       "<keras.callbacks.History at 0x12ed32f28>"
      ]
     },
     "execution_count": 158,
     "metadata": {},
     "output_type": "execute_result"
    }
   ],
   "source": [
    "%%time\n",
    "model.fit([X_train], y, verbose=0, epochs=26, \n",
    "          batch_size=32)"
   ]
  },
  {
   "cell_type": "code",
   "execution_count": 159,
   "metadata": {},
   "outputs": [
    {
     "name": "stdout",
     "output_type": "stream",
     "text": [
      "1206/1206 [==============================] - 1s 852us/step\n"
     ]
    },
    {
     "data": {
      "text/plain": [
       "[0.6096071033533137, 0.8747927033486058]"
      ]
     },
     "execution_count": 159,
     "metadata": {},
     "output_type": "execute_result"
    }
   ],
   "source": [
    "model.evaluate(X_test, to_categorical(y_test.as_matrix()+1))"
   ]
  },
  {
   "cell_type": "code",
   "execution_count": 160,
   "metadata": {
    "collapsed": true
   },
   "outputs": [],
   "source": [
    "y_train.as_matrix()+1\n",
    "y_ = model.predict(X_test)\n",
    "y_[-1] = [0,0,1]"
   ]
  },
  {
   "cell_type": "code",
   "execution_count": 161,
   "metadata": {},
   "outputs": [
    {
     "name": "stdout",
     "output_type": "stream",
     "text": [
      "F1 Score (Macro): 0.7462613242739143\n",
      "F1 Score (Micro): 0.8739635157545605\n"
     ]
    }
   ],
   "source": [
    "f_macro = f1_score(to_categorical([np.argmax(x) for x in y_]), to_categorical(y_test.as_matrix()+1), average='macro')\n",
    "f_micro = f1_score(to_categorical([np.argmax(x) for x in y_]), to_categorical(y_test.as_matrix()+1), average='micro')\n",
    "print('F1 Score (Macro):', f_macro)\n",
    "print('F1 Score (Micro):', f_micro)"
   ]
  },
  {
   "cell_type": "code",
   "execution_count": 162,
   "metadata": {
    "scrolled": true
   },
   "outputs": [
    {
     "name": "stdout",
     "output_type": "stream",
     "text": [
      "             precision    recall  f1-score   support\n",
      "\n",
      "         -1       0.49      0.58      0.53        59\n",
      "          0       0.94      0.92      0.93       874\n",
      "          1       0.76      0.79      0.78       273\n",
      "\n",
      "avg / total       0.88      0.87      0.88      1206\n",
      "\n"
     ]
    }
   ],
   "source": [
    "target_names = ['-1', '0', '1']\n",
    "report = classification_report(to_categorical([np.argmax(x) for x in y_]), \n",
    "                               to_categorical(y_test.as_matrix()+1), target_names=target_names)\n",
    "print(report)"
   ]
  },
  {
   "cell_type": "code",
   "execution_count": null,
   "metadata": {
    "collapsed": true
   },
   "outputs": [],
   "source": []
  }
 ],
 "metadata": {
  "kernelspec": {
   "display_name": "Python 3",
   "language": "python",
   "name": "python3"
  },
  "language_info": {
   "codemirror_mode": {
    "name": "ipython",
    "version": 3
   },
   "file_extension": ".py",
   "mimetype": "text/x-python",
   "name": "python",
   "nbconvert_exporter": "python",
   "pygments_lexer": "ipython3",
   "version": "3.6.2"
  }
 },
 "nbformat": 4,
 "nbformat_minor": 2
}
