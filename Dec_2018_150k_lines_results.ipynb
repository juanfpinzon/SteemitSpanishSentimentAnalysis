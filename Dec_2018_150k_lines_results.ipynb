{
 "cells": [
  {
   "cell_type": "code",
   "execution_count": 1,
   "metadata": {},
   "outputs": [
    {
     "name": "stderr",
     "output_type": "stream",
     "text": [
      "Using TensorFlow backend.\n"
     ]
    }
   ],
   "source": [
    "import pandas as pd\n",
    "import numpy as np\n",
    "import matplotlib.pyplot as plt\n",
    "from sklearn.model_selection import train_test_split\n",
    "from sklearn.feature_extraction.text import TfidfVectorizer\n",
    "from sklearn.linear_model import LogisticRegression\n",
    "from sklearn.metrics import classification_report\n",
    "from keras.preprocessing.text import Tokenizer\n",
    "from sklearn.metrics import f1_score\n",
    "from keras.utils import to_categorical\n",
    "from keras import optimizers\n",
    "from keras import regularizers\n",
    "from keras.layers import Dense, concatenate, Activation, Dropout\n",
    "from keras.models import Model\n",
    "from keras.layers.convolutional import Conv1D\n",
    "from keras.layers.pooling import GlobalMaxPooling1D\n",
    "from keras.models import Sequential\n",
    "from keras.regularizers import l2\n",
    "from keras import layers\n",
    "from keras.layers import Dense, Embedding, LSTM, SpatialDropout1D, GRU, Bidirectional \n",
    "from keras import backend as K\n",
    "from keras.preprocessing.sequence import pad_sequences\n",
    "from sklearn.naive_bayes import GaussianNB, BernoulliNB, MultinomialNB\n",
    "from sklearn.svm import SVC\n",
    "from tqdm import tqdm\n",
    "from langua import Predict\n",
    "import gensim\n",
    "import time\n",
    "import re"
   ]
  },
  {
   "cell_type": "markdown",
   "metadata": {},
   "source": [
    "# Data Preparation & Exploration:"
   ]
  },
  {
   "cell_type": "code",
   "execution_count": 2,
   "metadata": {
    "collapsed": true
   },
   "outputs": [],
   "source": [
    "# Load data to pandas df:\n",
    "df = pd.DataFrame.from_csv('exportESP150k.csv', encoding='utf-8')"
   ]
  },
  {
   "cell_type": "code",
   "execution_count": 4,
   "metadata": {},
   "outputs": [],
   "source": [
    "#Drop unnecessary columns\n",
    "df.drop(['tx_id', 'author', 'parent_author', 'timestamp', 'json_metadata', \n",
    "         'title', 'title', 'lang'], axis=1, inplace = True, errors='ignore')"
   ]
  },
  {
   "cell_type": "code",
   "execution_count": 10,
   "metadata": {
    "slideshow": {
     "slide_type": "fragment"
    }
   },
   "outputs": [
    {
     "data": {
      "text/html": [
       "<div>\n",
       "<style>\n",
       "    .dataframe thead tr:only-child th {\n",
       "        text-align: right;\n",
       "    }\n",
       "\n",
       "    .dataframe thead th {\n",
       "        text-align: left;\n",
       "    }\n",
       "\n",
       "    .dataframe tbody tr th {\n",
       "        vertical-align: top;\n",
       "    }\n",
       "</style>\n",
       "<table border=\"1\" class=\"dataframe\">\n",
       "  <thead>\n",
       "    <tr style=\"text-align: right;\">\n",
       "      <th></th>\n",
       "      <th>body</th>\n",
       "      <th>words_pos_polarity</th>\n",
       "      <th>words_neg_polarity</th>\n",
       "      <th>emoji_pos_polarity</th>\n",
       "      <th>emoji_neg_polarity</th>\n",
       "      <th>word_emoji_pos_pol_diff</th>\n",
       "      <th>word_emoji_neg_pol_diff</th>\n",
       "      <th>label</th>\n",
       "    </tr>\n",
       "  </thead>\n",
       "  <tbody>\n",
       "    <tr>\n",
       "      <th>0</th>\n",
       "      <td>Abit is no spammer</td>\n",
       "      <td>0.000000</td>\n",
       "      <td>-0.200000</td>\n",
       "      <td>0.0</td>\n",
       "      <td>0.0</td>\n",
       "      <td>0.000000</td>\n",
       "      <td>0.0</td>\n",
       "      <td>0.0</td>\n",
       "    </tr>\n",
       "    <tr>\n",
       "      <th>1</th>\n",
       "      <td>You da man</td>\n",
       "      <td>0.000000</td>\n",
       "      <td>0.000000</td>\n",
       "      <td>0.0</td>\n",
       "      <td>0.0</td>\n",
       "      <td>0.000000</td>\n",
       "      <td>0.0</td>\n",
       "      <td>0.0</td>\n",
       "    </tr>\n",
       "    <tr>\n",
       "      <th>2</th>\n",
       "      <td>B vs S</td>\n",
       "      <td>0.000000</td>\n",
       "      <td>0.000000</td>\n",
       "      <td>0.0</td>\n",
       "      <td>0.0</td>\n",
       "      <td>0.000000</td>\n",
       "      <td>0.0</td>\n",
       "      <td>0.0</td>\n",
       "    </tr>\n",
       "    <tr>\n",
       "      <th>3</th>\n",
       "      <td>URL  Como ya sabéis Aniestudio esta en una con...</td>\n",
       "      <td>0.588500</td>\n",
       "      <td>-0.477500</td>\n",
       "      <td>0.0</td>\n",
       "      <td>0.0</td>\n",
       "      <td>0.000000</td>\n",
       "      <td>0.0</td>\n",
       "      <td>1.0</td>\n",
       "    </tr>\n",
       "    <tr>\n",
       "      <th>4</th>\n",
       "      <td>Hace días que no puedo perder un rato en una g...</td>\n",
       "      <td>0.512667</td>\n",
       "      <td>-0.421667</td>\n",
       "      <td>0.0</td>\n",
       "      <td>0.0</td>\n",
       "      <td>0.000000</td>\n",
       "      <td>0.0</td>\n",
       "      <td>1.0</td>\n",
       "    </tr>\n",
       "    <tr>\n",
       "      <th>5</th>\n",
       "      <td>El halving e acerca y con el las expectativas ...</td>\n",
       "      <td>0.000000</td>\n",
       "      <td>0.000000</td>\n",
       "      <td>0.0</td>\n",
       "      <td>0.0</td>\n",
       "      <td>0.000000</td>\n",
       "      <td>0.0</td>\n",
       "      <td>0.0</td>\n",
       "    </tr>\n",
       "    <tr>\n",
       "      <th>6</th>\n",
       "      <td>Espero  pasarla muy bien en este sitio conocer...</td>\n",
       "      <td>0.841500</td>\n",
       "      <td>-0.200000</td>\n",
       "      <td>0.0</td>\n",
       "      <td>0.0</td>\n",
       "      <td>0.000000</td>\n",
       "      <td>0.0</td>\n",
       "      <td>1.0</td>\n",
       "    </tr>\n",
       "    <tr>\n",
       "      <th>7</th>\n",
       "      <td>info  quien desea trabajar desde su casa</td>\n",
       "      <td>0.000000</td>\n",
       "      <td>0.000000</td>\n",
       "      <td>0.0</td>\n",
       "      <td>0.0</td>\n",
       "      <td>0.000000</td>\n",
       "      <td>0.0</td>\n",
       "      <td>0.0</td>\n",
       "    </tr>\n",
       "    <tr>\n",
       "      <th>8</th>\n",
       "      <td>información.  Quien quiere trabajar desde casa</td>\n",
       "      <td>0.000000</td>\n",
       "      <td>0.000000</td>\n",
       "      <td>0.0</td>\n",
       "      <td>0.0</td>\n",
       "      <td>0.000000</td>\n",
       "      <td>0.0</td>\n",
       "      <td>0.0</td>\n",
       "    </tr>\n",
       "    <tr>\n",
       "      <th>9</th>\n",
       "      <td>Quiero que alguien me explique como funciona r...</td>\n",
       "      <td>0.321500</td>\n",
       "      <td>0.000000</td>\n",
       "      <td>0.0</td>\n",
       "      <td>0.0</td>\n",
       "      <td>0.000000</td>\n",
       "      <td>0.0</td>\n",
       "      <td>0.0</td>\n",
       "    </tr>\n",
       "    <tr>\n",
       "      <th>10</th>\n",
       "      <td>Yo tampoco entiendo muy bien pero creo que emp...</td>\n",
       "      <td>0.833000</td>\n",
       "      <td>0.000000</td>\n",
       "      <td>0.0</td>\n",
       "      <td>0.0</td>\n",
       "      <td>0.000000</td>\n",
       "      <td>0.0</td>\n",
       "      <td>1.0</td>\n",
       "    </tr>\n",
       "    <tr>\n",
       "      <th>11</th>\n",
       "      <td>Es lamentable pero cierto Dios bendiga a Venez...</td>\n",
       "      <td>0.000000</td>\n",
       "      <td>-0.400000</td>\n",
       "      <td>0.0</td>\n",
       "      <td>0.0</td>\n",
       "      <td>0.000000</td>\n",
       "      <td>0.0</td>\n",
       "      <td>-1.0</td>\n",
       "    </tr>\n",
       "    <tr>\n",
       "      <th>12</th>\n",
       "      <td>Espectacular</td>\n",
       "      <td>0.375000</td>\n",
       "      <td>0.000000</td>\n",
       "      <td>0.0</td>\n",
       "      <td>0.0</td>\n",
       "      <td>0.000000</td>\n",
       "      <td>0.0</td>\n",
       "      <td>1.0</td>\n",
       "    </tr>\n",
       "    <tr>\n",
       "      <th>13</th>\n",
       "      <td>No</td>\n",
       "      <td>0.000000</td>\n",
       "      <td>-0.200000</td>\n",
       "      <td>0.0</td>\n",
       "      <td>0.0</td>\n",
       "      <td>0.000000</td>\n",
       "      <td>0.0</td>\n",
       "      <td>0.0</td>\n",
       "    </tr>\n",
       "    <tr>\n",
       "      <th>14</th>\n",
       "      <td>Adorable</td>\n",
       "      <td>0.500000</td>\n",
       "      <td>0.000000</td>\n",
       "      <td>0.0</td>\n",
       "      <td>0.0</td>\n",
       "      <td>0.000000</td>\n",
       "      <td>0.0</td>\n",
       "      <td>1.0</td>\n",
       "    </tr>\n",
       "    <tr>\n",
       "      <th>15</th>\n",
       "      <td>No</td>\n",
       "      <td>0.000000</td>\n",
       "      <td>-0.200000</td>\n",
       "      <td>0.0</td>\n",
       "      <td>0.0</td>\n",
       "      <td>0.000000</td>\n",
       "      <td>0.0</td>\n",
       "      <td>0.0</td>\n",
       "    </tr>\n",
       "    <tr>\n",
       "      <th>16</th>\n",
       "      <td>no</td>\n",
       "      <td>0.000000</td>\n",
       "      <td>-0.200000</td>\n",
       "      <td>0.0</td>\n",
       "      <td>0.0</td>\n",
       "      <td>0.000000</td>\n",
       "      <td>0.0</td>\n",
       "      <td>0.0</td>\n",
       "    </tr>\n",
       "    <tr>\n",
       "      <th>17</th>\n",
       "      <td>Dentista se hacía pasar por biólogo marino con...</td>\n",
       "      <td>0.000000</td>\n",
       "      <td>-0.630000</td>\n",
       "      <td>0.0</td>\n",
       "      <td>0.0</td>\n",
       "      <td>0.000000</td>\n",
       "      <td>0.0</td>\n",
       "      <td>-1.0</td>\n",
       "    </tr>\n",
       "    <tr>\n",
       "      <th>18</th>\n",
       "      <td>Hoy me robaron violentamente un sony xpria e4g...</td>\n",
       "      <td>0.462600</td>\n",
       "      <td>-0.496250</td>\n",
       "      <td>0.0</td>\n",
       "      <td>0.0</td>\n",
       "      <td>0.000000</td>\n",
       "      <td>0.0</td>\n",
       "      <td>-1.0</td>\n",
       "    </tr>\n",
       "    <tr>\n",
       "      <th>19</th>\n",
       "      <td>a</td>\n",
       "      <td>0.000000</td>\n",
       "      <td>0.000000</td>\n",
       "      <td>0.0</td>\n",
       "      <td>0.0</td>\n",
       "      <td>0.000000</td>\n",
       "      <td>0.0</td>\n",
       "      <td>0.0</td>\n",
       "    </tr>\n",
       "    <tr>\n",
       "      <th>20</th>\n",
       "      <td>a</td>\n",
       "      <td>0.000000</td>\n",
       "      <td>0.000000</td>\n",
       "      <td>0.0</td>\n",
       "      <td>0.0</td>\n",
       "      <td>0.000000</td>\n",
       "      <td>0.0</td>\n",
       "      <td>0.0</td>\n",
       "    </tr>\n",
       "    <tr>\n",
       "      <th>21</th>\n",
       "      <td>no :)</td>\n",
       "      <td>0.000000</td>\n",
       "      <td>-0.200000</td>\n",
       "      <td>1.0</td>\n",
       "      <td>0.0</td>\n",
       "      <td>1.000000</td>\n",
       "      <td>0.0</td>\n",
       "      <td>1.0</td>\n",
       "    </tr>\n",
       "    <tr>\n",
       "      <th>22</th>\n",
       "      <td>aaaaaa</td>\n",
       "      <td>0.000000</td>\n",
       "      <td>0.000000</td>\n",
       "      <td>0.0</td>\n",
       "      <td>0.0</td>\n",
       "      <td>0.000000</td>\n",
       "      <td>0.0</td>\n",
       "      <td>0.0</td>\n",
       "    </tr>\n",
       "    <tr>\n",
       "      <th>23</th>\n",
       "      <td>eeee</td>\n",
       "      <td>0.000000</td>\n",
       "      <td>0.000000</td>\n",
       "      <td>0.0</td>\n",
       "      <td>0.0</td>\n",
       "      <td>0.000000</td>\n",
       "      <td>0.0</td>\n",
       "      <td>0.0</td>\n",
       "    </tr>\n",
       "    <tr>\n",
       "      <th>24</th>\n",
       "      <td>a</td>\n",
       "      <td>0.000000</td>\n",
       "      <td>0.000000</td>\n",
       "      <td>0.0</td>\n",
       "      <td>0.0</td>\n",
       "      <td>0.000000</td>\n",
       "      <td>0.0</td>\n",
       "      <td>0.0</td>\n",
       "    </tr>\n",
       "    <tr>\n",
       "      <th>25</th>\n",
       "      <td>Quien puede explicarme que es exactamente URL</td>\n",
       "      <td>0.640000</td>\n",
       "      <td>0.000000</td>\n",
       "      <td>0.0</td>\n",
       "      <td>0.0</td>\n",
       "      <td>0.000000</td>\n",
       "      <td>0.0</td>\n",
       "      <td>1.0</td>\n",
       "    </tr>\n",
       "    <tr>\n",
       "      <th>26</th>\n",
       "      <td>Donde se realizan los pagos</td>\n",
       "      <td>0.000000</td>\n",
       "      <td>0.000000</td>\n",
       "      <td>0.0</td>\n",
       "      <td>0.0</td>\n",
       "      <td>0.000000</td>\n",
       "      <td>0.0</td>\n",
       "      <td>0.0</td>\n",
       "    </tr>\n",
       "    <tr>\n",
       "      <th>27</th>\n",
       "      <td>En que precio pensais que se estabilizara Steem</td>\n",
       "      <td>0.000000</td>\n",
       "      <td>0.000000</td>\n",
       "      <td>0.0</td>\n",
       "      <td>0.0</td>\n",
       "      <td>0.000000</td>\n",
       "      <td>0.0</td>\n",
       "      <td>0.0</td>\n",
       "    </tr>\n",
       "    <tr>\n",
       "      <th>28</th>\n",
       "      <td>solar panel</td>\n",
       "      <td>0.000000</td>\n",
       "      <td>0.000000</td>\n",
       "      <td>0.0</td>\n",
       "      <td>0.0</td>\n",
       "      <td>0.000000</td>\n",
       "      <td>0.0</td>\n",
       "      <td>0.0</td>\n",
       "    </tr>\n",
       "    <tr>\n",
       "      <th>29</th>\n",
       "      <td>Cual es la mejor criptodivisa</td>\n",
       "      <td>0.625000</td>\n",
       "      <td>0.000000</td>\n",
       "      <td>0.0</td>\n",
       "      <td>0.0</td>\n",
       "      <td>0.000000</td>\n",
       "      <td>0.0</td>\n",
       "      <td>1.0</td>\n",
       "    </tr>\n",
       "    <tr>\n",
       "      <th>...</th>\n",
       "      <td>...</td>\n",
       "      <td>...</td>\n",
       "      <td>...</td>\n",
       "      <td>...</td>\n",
       "      <td>...</td>\n",
       "      <td>...</td>\n",
       "      <td>...</td>\n",
       "      <td>...</td>\n",
       "    </tr>\n",
       "    <tr>\n",
       "      <th>870</th>\n",
       "      <td>jajaja</td>\n",
       "      <td>0.000000</td>\n",
       "      <td>0.000000</td>\n",
       "      <td>0.0</td>\n",
       "      <td>0.0</td>\n",
       "      <td>0.000000</td>\n",
       "      <td>0.0</td>\n",
       "      <td>0.0</td>\n",
       "    </tr>\n",
       "    <tr>\n",
       "      <th>871</th>\n",
       "      <td>Yoyo</td>\n",
       "      <td>0.000000</td>\n",
       "      <td>0.000000</td>\n",
       "      <td>0.0</td>\n",
       "      <td>0.0</td>\n",
       "      <td>0.000000</td>\n",
       "      <td>0.0</td>\n",
       "      <td>0.0</td>\n",
       "    </tr>\n",
       "    <tr>\n",
       "      <th>872</th>\n",
       "      <td>LOLOL</td>\n",
       "      <td>0.000000</td>\n",
       "      <td>0.000000</td>\n",
       "      <td>0.0</td>\n",
       "      <td>0.0</td>\n",
       "      <td>0.000000</td>\n",
       "      <td>0.0</td>\n",
       "      <td>0.0</td>\n",
       "    </tr>\n",
       "    <tr>\n",
       "      <th>873</th>\n",
       "      <td>¡Que viva Colombia :D</td>\n",
       "      <td>0.000000</td>\n",
       "      <td>0.000000</td>\n",
       "      <td>1.0</td>\n",
       "      <td>0.0</td>\n",
       "      <td>1.000000</td>\n",
       "      <td>0.0</td>\n",
       "      <td>1.0</td>\n",
       "    </tr>\n",
       "    <tr>\n",
       "      <th>874</th>\n",
       "      <td>¡Que viva Colombia</td>\n",
       "      <td>0.000000</td>\n",
       "      <td>0.000000</td>\n",
       "      <td>0.0</td>\n",
       "      <td>0.0</td>\n",
       "      <td>0.000000</td>\n",
       "      <td>0.0</td>\n",
       "      <td>0.0</td>\n",
       "    </tr>\n",
       "    <tr>\n",
       "      <th>875</th>\n",
       "      <td>Bravo</td>\n",
       "      <td>0.700000</td>\n",
       "      <td>0.000000</td>\n",
       "      <td>0.0</td>\n",
       "      <td>0.0</td>\n",
       "      <td>0.000000</td>\n",
       "      <td>0.0</td>\n",
       "      <td>1.0</td>\n",
       "    </tr>\n",
       "    <tr>\n",
       "      <th>876</th>\n",
       "      <td>Oh genial! pues yo estoy  igual que tú</td>\n",
       "      <td>0.000000</td>\n",
       "      <td>0.000000</td>\n",
       "      <td>0.0</td>\n",
       "      <td>0.0</td>\n",
       "      <td>0.000000</td>\n",
       "      <td>0.0</td>\n",
       "      <td>0.0</td>\n",
       "    </tr>\n",
       "    <tr>\n",
       "      <th>877</th>\n",
       "      <td>Muy bien hecho</td>\n",
       "      <td>0.573000</td>\n",
       "      <td>0.000000</td>\n",
       "      <td>0.0</td>\n",
       "      <td>0.0</td>\n",
       "      <td>0.000000</td>\n",
       "      <td>0.0</td>\n",
       "      <td>1.0</td>\n",
       "    </tr>\n",
       "    <tr>\n",
       "      <th>878</th>\n",
       "      <td>que bueno le deseos el mayor de los exitos</td>\n",
       "      <td>0.664333</td>\n",
       "      <td>0.000000</td>\n",
       "      <td>0.0</td>\n",
       "      <td>0.0</td>\n",
       "      <td>0.000000</td>\n",
       "      <td>0.0</td>\n",
       "      <td>1.0</td>\n",
       "    </tr>\n",
       "    <tr>\n",
       "      <th>879</th>\n",
       "      <td>Me uno creo que la mejor etiqueta seria Españo...</td>\n",
       "      <td>0.587500</td>\n",
       "      <td>0.000000</td>\n",
       "      <td>0.0</td>\n",
       "      <td>0.0</td>\n",
       "      <td>0.000000</td>\n",
       "      <td>0.0</td>\n",
       "      <td>1.0</td>\n",
       "    </tr>\n",
       "    <tr>\n",
       "      <th>880</th>\n",
       "      <td>¡Maravilloso  Me parece que voy mejor en españ...</td>\n",
       "      <td>0.341667</td>\n",
       "      <td>-0.375000</td>\n",
       "      <td>1.0</td>\n",
       "      <td>0.0</td>\n",
       "      <td>0.658333</td>\n",
       "      <td>0.0</td>\n",
       "      <td>1.0</td>\n",
       "    </tr>\n",
       "    <tr>\n",
       "      <th>881</th>\n",
       "      <td>USER Sí de hecho prefiero escribir en español ...</td>\n",
       "      <td>0.284000</td>\n",
       "      <td>-0.275000</td>\n",
       "      <td>1.0</td>\n",
       "      <td>0.0</td>\n",
       "      <td>0.716000</td>\n",
       "      <td>0.0</td>\n",
       "      <td>1.0</td>\n",
       "    </tr>\n",
       "    <tr>\n",
       "      <th>882</th>\n",
       "      <td>La verdad es mi primera prueba en este medio p...</td>\n",
       "      <td>0.537000</td>\n",
       "      <td>-0.250000</td>\n",
       "      <td>0.0</td>\n",
       "      <td>0.0</td>\n",
       "      <td>0.000000</td>\n",
       "      <td>0.0</td>\n",
       "      <td>1.0</td>\n",
       "    </tr>\n",
       "    <tr>\n",
       "      <th>883</th>\n",
       "      <td>Gracias USER muy pronto voy a subir más adelantos</td>\n",
       "      <td>0.000000</td>\n",
       "      <td>-0.250000</td>\n",
       "      <td>0.0</td>\n",
       "      <td>0.0</td>\n",
       "      <td>0.000000</td>\n",
       "      <td>0.0</td>\n",
       "      <td>0.0</td>\n",
       "    </tr>\n",
       "    <tr>\n",
       "      <th>884</th>\n",
       "      <td>si excelente y sabemos que steemit aún anda en...</td>\n",
       "      <td>0.475000</td>\n",
       "      <td>0.000000</td>\n",
       "      <td>0.0</td>\n",
       "      <td>0.0</td>\n",
       "      <td>0.000000</td>\n",
       "      <td>0.0</td>\n",
       "      <td>1.0</td>\n",
       "    </tr>\n",
       "    <tr>\n",
       "      <th>885</th>\n",
       "      <td>Namaste</td>\n",
       "      <td>0.000000</td>\n",
       "      <td>0.000000</td>\n",
       "      <td>0.0</td>\n",
       "      <td>0.0</td>\n",
       "      <td>0.000000</td>\n",
       "      <td>0.0</td>\n",
       "      <td>0.0</td>\n",
       "    </tr>\n",
       "    <tr>\n",
       "      <th>886</th>\n",
       "      <td>Oh noooo</td>\n",
       "      <td>0.000000</td>\n",
       "      <td>0.000000</td>\n",
       "      <td>0.0</td>\n",
       "      <td>0.0</td>\n",
       "      <td>0.000000</td>\n",
       "      <td>0.0</td>\n",
       "      <td>0.0</td>\n",
       "    </tr>\n",
       "    <tr>\n",
       "      <th>887</th>\n",
       "      <td>Gracias por una interesante discusión de la fruta</td>\n",
       "      <td>0.563000</td>\n",
       "      <td>0.000000</td>\n",
       "      <td>0.0</td>\n",
       "      <td>0.0</td>\n",
       "      <td>0.000000</td>\n",
       "      <td>0.0</td>\n",
       "      <td>1.0</td>\n",
       "    </tr>\n",
       "    <tr>\n",
       "      <th>888</th>\n",
       "      <td>Yo vivo en Japón Shigeru Miyamoto es la única ...</td>\n",
       "      <td>0.602500</td>\n",
       "      <td>0.000000</td>\n",
       "      <td>0.0</td>\n",
       "      <td>0.0</td>\n",
       "      <td>0.000000</td>\n",
       "      <td>0.0</td>\n",
       "      <td>1.0</td>\n",
       "    </tr>\n",
       "    <tr>\n",
       "      <th>889</th>\n",
       "      <td>no entiendo como funciona</td>\n",
       "      <td>0.000000</td>\n",
       "      <td>-0.200000</td>\n",
       "      <td>0.0</td>\n",
       "      <td>0.0</td>\n",
       "      <td>0.000000</td>\n",
       "      <td>0.0</td>\n",
       "      <td>0.0</td>\n",
       "    </tr>\n",
       "    <tr>\n",
       "      <th>890</th>\n",
       "      <td>Muy interesante la información Deberíamos escr...</td>\n",
       "      <td>0.563000</td>\n",
       "      <td>-0.375000</td>\n",
       "      <td>0.0</td>\n",
       "      <td>0.0</td>\n",
       "      <td>0.000000</td>\n",
       "      <td>0.0</td>\n",
       "      <td>1.0</td>\n",
       "    </tr>\n",
       "    <tr>\n",
       "      <th>891</th>\n",
       "      <td>no entiendo como funciona</td>\n",
       "      <td>0.000000</td>\n",
       "      <td>-0.200000</td>\n",
       "      <td>0.0</td>\n",
       "      <td>0.0</td>\n",
       "      <td>0.000000</td>\n",
       "      <td>0.0</td>\n",
       "      <td>0.0</td>\n",
       "    </tr>\n",
       "    <tr>\n",
       "      <th>892</th>\n",
       "      <td>Aja ya esta</td>\n",
       "      <td>0.000000</td>\n",
       "      <td>0.000000</td>\n",
       "      <td>0.0</td>\n",
       "      <td>0.0</td>\n",
       "      <td>0.000000</td>\n",
       "      <td>0.0</td>\n",
       "      <td>0.0</td>\n",
       "    </tr>\n",
       "    <tr>\n",
       "      <th>893</th>\n",
       "      <td>Oh yay</td>\n",
       "      <td>0.000000</td>\n",
       "      <td>0.000000</td>\n",
       "      <td>0.0</td>\n",
       "      <td>0.0</td>\n",
       "      <td>0.000000</td>\n",
       "      <td>0.0</td>\n",
       "      <td>0.0</td>\n",
       "    </tr>\n",
       "    <tr>\n",
       "      <th>894</th>\n",
       "      <td>MARCO</td>\n",
       "      <td>0.000000</td>\n",
       "      <td>0.000000</td>\n",
       "      <td>0.0</td>\n",
       "      <td>0.0</td>\n",
       "      <td>0.000000</td>\n",
       "      <td>0.0</td>\n",
       "      <td>0.0</td>\n",
       "    </tr>\n",
       "    <tr>\n",
       "      <th>895</th>\n",
       "      <td>Hola Un tema interesante Puedes visitar mi blo...</td>\n",
       "      <td>0.563000</td>\n",
       "      <td>-0.375000</td>\n",
       "      <td>0.0</td>\n",
       "      <td>0.0</td>\n",
       "      <td>0.000000</td>\n",
       "      <td>0.0</td>\n",
       "      <td>1.0</td>\n",
       "    </tr>\n",
       "    <tr>\n",
       "      <th>896</th>\n",
       "      <td>Gracias por compartir Sería bueno comenzar la ...</td>\n",
       "      <td>0.833000</td>\n",
       "      <td>0.000000</td>\n",
       "      <td>0.0</td>\n",
       "      <td>0.0</td>\n",
       "      <td>0.000000</td>\n",
       "      <td>0.0</td>\n",
       "      <td>1.0</td>\n",
       "    </tr>\n",
       "    <tr>\n",
       "      <th>897</th>\n",
       "      <td>Préférable de bien sécher par la suite</td>\n",
       "      <td>0.833000</td>\n",
       "      <td>0.000000</td>\n",
       "      <td>0.0</td>\n",
       "      <td>0.0</td>\n",
       "      <td>0.000000</td>\n",
       "      <td>0.0</td>\n",
       "      <td>1.0</td>\n",
       "    </tr>\n",
       "    <tr>\n",
       "      <th>898</th>\n",
       "      <td>KFC</td>\n",
       "      <td>0.000000</td>\n",
       "      <td>0.000000</td>\n",
       "      <td>0.0</td>\n",
       "      <td>0.0</td>\n",
       "      <td>0.000000</td>\n",
       "      <td>0.0</td>\n",
       "      <td>0.0</td>\n",
       "    </tr>\n",
       "    <tr>\n",
       "      <th>899</th>\n",
       "      <td>Muy buena tu presentacion del steemit gracias ...</td>\n",
       "      <td>0.341250</td>\n",
       "      <td>-0.287500</td>\n",
       "      <td>0.0</td>\n",
       "      <td>0.0</td>\n",
       "      <td>0.000000</td>\n",
       "      <td>0.0</td>\n",
       "      <td>0.0</td>\n",
       "    </tr>\n",
       "  </tbody>\n",
       "</table>\n",
       "<p>900 rows × 8 columns</p>\n",
       "</div>"
      ],
      "text/plain": [
       "                                                  body  words_pos_polarity  \\\n",
       "0                                   Abit is no spammer            0.000000   \n",
       "1                                           You da man            0.000000   \n",
       "2                                               B vs S            0.000000   \n",
       "3    URL  Como ya sabéis Aniestudio esta en una con...            0.588500   \n",
       "4    Hace días que no puedo perder un rato en una g...            0.512667   \n",
       "5    El halving e acerca y con el las expectativas ...            0.000000   \n",
       "6    Espero  pasarla muy bien en este sitio conocer...            0.841500   \n",
       "7             info  quien desea trabajar desde su casa            0.000000   \n",
       "8       información.  Quien quiere trabajar desde casa            0.000000   \n",
       "9    Quiero que alguien me explique como funciona r...            0.321500   \n",
       "10   Yo tampoco entiendo muy bien pero creo que emp...            0.833000   \n",
       "11   Es lamentable pero cierto Dios bendiga a Venez...            0.000000   \n",
       "12                                        Espectacular            0.375000   \n",
       "13                                                  No            0.000000   \n",
       "14                                            Adorable            0.500000   \n",
       "15                                                  No            0.000000   \n",
       "16                                                  no            0.000000   \n",
       "17   Dentista se hacía pasar por biólogo marino con...            0.000000   \n",
       "18   Hoy me robaron violentamente un sony xpria e4g...            0.462600   \n",
       "19                                                   a            0.000000   \n",
       "20                                                   a            0.000000   \n",
       "21                                               no :)            0.000000   \n",
       "22                                              aaaaaa            0.000000   \n",
       "23                                                eeee            0.000000   \n",
       "24                                                   a            0.000000   \n",
       "25       Quien puede explicarme que es exactamente URL            0.640000   \n",
       "26                         Donde se realizan los pagos            0.000000   \n",
       "27     En que precio pensais que se estabilizara Steem            0.000000   \n",
       "28                                         solar panel            0.000000   \n",
       "29                       Cual es la mejor criptodivisa            0.625000   \n",
       "..                                                 ...                 ...   \n",
       "870                                             jajaja            0.000000   \n",
       "871                                               Yoyo            0.000000   \n",
       "872                                              LOLOL            0.000000   \n",
       "873                              ¡Que viva Colombia :D            0.000000   \n",
       "874                                 ¡Que viva Colombia            0.000000   \n",
       "875                                              Bravo            0.700000   \n",
       "876             Oh genial! pues yo estoy  igual que tú            0.000000   \n",
       "877                                     Muy bien hecho            0.573000   \n",
       "878         que bueno le deseos el mayor de los exitos            0.664333   \n",
       "879  Me uno creo que la mejor etiqueta seria Españo...            0.587500   \n",
       "880  ¡Maravilloso  Me parece que voy mejor en españ...            0.341667   \n",
       "881  USER Sí de hecho prefiero escribir en español ...            0.284000   \n",
       "882  La verdad es mi primera prueba en este medio p...            0.537000   \n",
       "883  Gracias USER muy pronto voy a subir más adelantos            0.000000   \n",
       "884  si excelente y sabemos que steemit aún anda en...            0.475000   \n",
       "885                                            Namaste            0.000000   \n",
       "886                                           Oh noooo            0.000000   \n",
       "887  Gracias por una interesante discusión de la fruta            0.563000   \n",
       "888  Yo vivo en Japón Shigeru Miyamoto es la única ...            0.602500   \n",
       "889                          no entiendo como funciona            0.000000   \n",
       "890  Muy interesante la información Deberíamos escr...            0.563000   \n",
       "891                          no entiendo como funciona            0.000000   \n",
       "892                                        Aja ya esta            0.000000   \n",
       "893                                             Oh yay            0.000000   \n",
       "894                                              MARCO            0.000000   \n",
       "895  Hola Un tema interesante Puedes visitar mi blo...            0.563000   \n",
       "896  Gracias por compartir Sería bueno comenzar la ...            0.833000   \n",
       "897             Préférable de bien sécher par la suite            0.833000   \n",
       "898                                                KFC            0.000000   \n",
       "899  Muy buena tu presentacion del steemit gracias ...            0.341250   \n",
       "\n",
       "     words_neg_polarity  emoji_pos_polarity  emoji_neg_polarity  \\\n",
       "0             -0.200000                 0.0                 0.0   \n",
       "1              0.000000                 0.0                 0.0   \n",
       "2              0.000000                 0.0                 0.0   \n",
       "3             -0.477500                 0.0                 0.0   \n",
       "4             -0.421667                 0.0                 0.0   \n",
       "5              0.000000                 0.0                 0.0   \n",
       "6             -0.200000                 0.0                 0.0   \n",
       "7              0.000000                 0.0                 0.0   \n",
       "8              0.000000                 0.0                 0.0   \n",
       "9              0.000000                 0.0                 0.0   \n",
       "10             0.000000                 0.0                 0.0   \n",
       "11            -0.400000                 0.0                 0.0   \n",
       "12             0.000000                 0.0                 0.0   \n",
       "13            -0.200000                 0.0                 0.0   \n",
       "14             0.000000                 0.0                 0.0   \n",
       "15            -0.200000                 0.0                 0.0   \n",
       "16            -0.200000                 0.0                 0.0   \n",
       "17            -0.630000                 0.0                 0.0   \n",
       "18            -0.496250                 0.0                 0.0   \n",
       "19             0.000000                 0.0                 0.0   \n",
       "20             0.000000                 0.0                 0.0   \n",
       "21            -0.200000                 1.0                 0.0   \n",
       "22             0.000000                 0.0                 0.0   \n",
       "23             0.000000                 0.0                 0.0   \n",
       "24             0.000000                 0.0                 0.0   \n",
       "25             0.000000                 0.0                 0.0   \n",
       "26             0.000000                 0.0                 0.0   \n",
       "27             0.000000                 0.0                 0.0   \n",
       "28             0.000000                 0.0                 0.0   \n",
       "29             0.000000                 0.0                 0.0   \n",
       "..                  ...                 ...                 ...   \n",
       "870            0.000000                 0.0                 0.0   \n",
       "871            0.000000                 0.0                 0.0   \n",
       "872            0.000000                 0.0                 0.0   \n",
       "873            0.000000                 1.0                 0.0   \n",
       "874            0.000000                 0.0                 0.0   \n",
       "875            0.000000                 0.0                 0.0   \n",
       "876            0.000000                 0.0                 0.0   \n",
       "877            0.000000                 0.0                 0.0   \n",
       "878            0.000000                 0.0                 0.0   \n",
       "879            0.000000                 0.0                 0.0   \n",
       "880           -0.375000                 1.0                 0.0   \n",
       "881           -0.275000                 1.0                 0.0   \n",
       "882           -0.250000                 0.0                 0.0   \n",
       "883           -0.250000                 0.0                 0.0   \n",
       "884            0.000000                 0.0                 0.0   \n",
       "885            0.000000                 0.0                 0.0   \n",
       "886            0.000000                 0.0                 0.0   \n",
       "887            0.000000                 0.0                 0.0   \n",
       "888            0.000000                 0.0                 0.0   \n",
       "889           -0.200000                 0.0                 0.0   \n",
       "890           -0.375000                 0.0                 0.0   \n",
       "891           -0.200000                 0.0                 0.0   \n",
       "892            0.000000                 0.0                 0.0   \n",
       "893            0.000000                 0.0                 0.0   \n",
       "894            0.000000                 0.0                 0.0   \n",
       "895           -0.375000                 0.0                 0.0   \n",
       "896            0.000000                 0.0                 0.0   \n",
       "897            0.000000                 0.0                 0.0   \n",
       "898            0.000000                 0.0                 0.0   \n",
       "899           -0.287500                 0.0                 0.0   \n",
       "\n",
       "     word_emoji_pos_pol_diff  word_emoji_neg_pol_diff  label  \n",
       "0                   0.000000                      0.0    0.0  \n",
       "1                   0.000000                      0.0    0.0  \n",
       "2                   0.000000                      0.0    0.0  \n",
       "3                   0.000000                      0.0    1.0  \n",
       "4                   0.000000                      0.0    1.0  \n",
       "5                   0.000000                      0.0    0.0  \n",
       "6                   0.000000                      0.0    1.0  \n",
       "7                   0.000000                      0.0    0.0  \n",
       "8                   0.000000                      0.0    0.0  \n",
       "9                   0.000000                      0.0    0.0  \n",
       "10                  0.000000                      0.0    1.0  \n",
       "11                  0.000000                      0.0   -1.0  \n",
       "12                  0.000000                      0.0    1.0  \n",
       "13                  0.000000                      0.0    0.0  \n",
       "14                  0.000000                      0.0    1.0  \n",
       "15                  0.000000                      0.0    0.0  \n",
       "16                  0.000000                      0.0    0.0  \n",
       "17                  0.000000                      0.0   -1.0  \n",
       "18                  0.000000                      0.0   -1.0  \n",
       "19                  0.000000                      0.0    0.0  \n",
       "20                  0.000000                      0.0    0.0  \n",
       "21                  1.000000                      0.0    1.0  \n",
       "22                  0.000000                      0.0    0.0  \n",
       "23                  0.000000                      0.0    0.0  \n",
       "24                  0.000000                      0.0    0.0  \n",
       "25                  0.000000                      0.0    1.0  \n",
       "26                  0.000000                      0.0    0.0  \n",
       "27                  0.000000                      0.0    0.0  \n",
       "28                  0.000000                      0.0    0.0  \n",
       "29                  0.000000                      0.0    1.0  \n",
       "..                       ...                      ...    ...  \n",
       "870                 0.000000                      0.0    0.0  \n",
       "871                 0.000000                      0.0    0.0  \n",
       "872                 0.000000                      0.0    0.0  \n",
       "873                 1.000000                      0.0    1.0  \n",
       "874                 0.000000                      0.0    0.0  \n",
       "875                 0.000000                      0.0    1.0  \n",
       "876                 0.000000                      0.0    0.0  \n",
       "877                 0.000000                      0.0    1.0  \n",
       "878                 0.000000                      0.0    1.0  \n",
       "879                 0.000000                      0.0    1.0  \n",
       "880                 0.658333                      0.0    1.0  \n",
       "881                 0.716000                      0.0    1.0  \n",
       "882                 0.000000                      0.0    1.0  \n",
       "883                 0.000000                      0.0    0.0  \n",
       "884                 0.000000                      0.0    1.0  \n",
       "885                 0.000000                      0.0    0.0  \n",
       "886                 0.000000                      0.0    0.0  \n",
       "887                 0.000000                      0.0    1.0  \n",
       "888                 0.000000                      0.0    1.0  \n",
       "889                 0.000000                      0.0    0.0  \n",
       "890                 0.000000                      0.0    1.0  \n",
       "891                 0.000000                      0.0    0.0  \n",
       "892                 0.000000                      0.0    0.0  \n",
       "893                 0.000000                      0.0    0.0  \n",
       "894                 0.000000                      0.0    0.0  \n",
       "895                 0.000000                      0.0    1.0  \n",
       "896                 0.000000                      0.0    1.0  \n",
       "897                 0.000000                      0.0    1.0  \n",
       "898                 0.000000                      0.0    0.0  \n",
       "899                 0.000000                      0.0    0.0  \n",
       "\n",
       "[900 rows x 8 columns]"
      ]
     },
     "execution_count": 10,
     "metadata": {},
     "output_type": "execute_result"
    }
   ],
   "source": [
    "df"
   ]
  },
  {
   "cell_type": "markdown",
   "metadata": {},
   "source": [
    "### Label Distribution:"
   ]
  },
  {
   "cell_type": "markdown",
   "metadata": {},
   "source": [
    "-1 = Negative sentiment,\n",
    " 0 = No sentiment,\n",
    " 1 = Positive sentiment"
   ]
  },
  {
   "cell_type": "code",
   "execution_count": 18,
   "metadata": {},
   "outputs": [
    {
     "data": {
      "text/plain": [
       " 0.0    437\n",
       " 1.0    371\n",
       "-1.0     92\n",
       "Name: label, dtype: int64"
      ]
     },
     "execution_count": 18,
     "metadata": {},
     "output_type": "execute_result"
    }
   ],
   "source": [
    "df.label.value_counts()"
   ]
  },
  {
   "cell_type": "markdown",
   "metadata": {},
   "source": [
    "## Data Description:"
   ]
  },
  {
   "cell_type": "code",
   "execution_count": 9,
   "metadata": {
    "scrolled": true
   },
   "outputs": [
    {
     "data": {
      "text/html": [
       "<div>\n",
       "<style>\n",
       "    .dataframe thead tr:only-child th {\n",
       "        text-align: right;\n",
       "    }\n",
       "\n",
       "    .dataframe thead th {\n",
       "        text-align: left;\n",
       "    }\n",
       "\n",
       "    .dataframe tbody tr th {\n",
       "        vertical-align: top;\n",
       "    }\n",
       "</style>\n",
       "<table border=\"1\" class=\"dataframe\">\n",
       "  <thead>\n",
       "    <tr style=\"text-align: right;\">\n",
       "      <th></th>\n",
       "      <th>words_pos_polarity</th>\n",
       "      <th>words_neg_polarity</th>\n",
       "      <th>emoji_pos_polarity</th>\n",
       "      <th>emoji_neg_polarity</th>\n",
       "      <th>word_emoji_pos_pol_diff</th>\n",
       "      <th>word_emoji_neg_pol_diff</th>\n",
       "      <th>label</th>\n",
       "    </tr>\n",
       "  </thead>\n",
       "  <tbody>\n",
       "    <tr>\n",
       "      <th>count</th>\n",
       "      <td>900.000000</td>\n",
       "      <td>900.000000</td>\n",
       "      <td>900.000000</td>\n",
       "      <td>900.000000</td>\n",
       "      <td>900.000000</td>\n",
       "      <td>900.000000</td>\n",
       "      <td>900.000000</td>\n",
       "    </tr>\n",
       "    <tr>\n",
       "      <th>mean</th>\n",
       "      <td>0.262696</td>\n",
       "      <td>-0.130088</td>\n",
       "      <td>0.072222</td>\n",
       "      <td>-0.003333</td>\n",
       "      <td>0.054040</td>\n",
       "      <td>0.002692</td>\n",
       "      <td>0.310000</td>\n",
       "    </tr>\n",
       "    <tr>\n",
       "      <th>std</th>\n",
       "      <td>0.277357</td>\n",
       "      <td>0.196214</td>\n",
       "      <td>0.258999</td>\n",
       "      <td>0.057671</td>\n",
       "      <td>0.207672</td>\n",
       "      <td>0.049153</td>\n",
       "      <td>0.647155</td>\n",
       "    </tr>\n",
       "    <tr>\n",
       "      <th>min</th>\n",
       "      <td>0.000000</td>\n",
       "      <td>-1.000000</td>\n",
       "      <td>0.000000</td>\n",
       "      <td>-1.000000</td>\n",
       "      <td>0.000000</td>\n",
       "      <td>0.000000</td>\n",
       "      <td>-1.000000</td>\n",
       "    </tr>\n",
       "    <tr>\n",
       "      <th>25%</th>\n",
       "      <td>0.000000</td>\n",
       "      <td>-0.250000</td>\n",
       "      <td>0.000000</td>\n",
       "      <td>0.000000</td>\n",
       "      <td>0.000000</td>\n",
       "      <td>0.000000</td>\n",
       "      <td>0.000000</td>\n",
       "    </tr>\n",
       "    <tr>\n",
       "      <th>50%</th>\n",
       "      <td>0.250000</td>\n",
       "      <td>0.000000</td>\n",
       "      <td>0.000000</td>\n",
       "      <td>0.000000</td>\n",
       "      <td>0.000000</td>\n",
       "      <td>0.000000</td>\n",
       "      <td>0.000000</td>\n",
       "    </tr>\n",
       "    <tr>\n",
       "      <th>75%</th>\n",
       "      <td>0.500000</td>\n",
       "      <td>0.000000</td>\n",
       "      <td>0.000000</td>\n",
       "      <td>0.000000</td>\n",
       "      <td>0.000000</td>\n",
       "      <td>0.000000</td>\n",
       "      <td>1.000000</td>\n",
       "    </tr>\n",
       "    <tr>\n",
       "      <th>max</th>\n",
       "      <td>0.990000</td>\n",
       "      <td>0.000000</td>\n",
       "      <td>1.000000</td>\n",
       "      <td>0.000000</td>\n",
       "      <td>1.000000</td>\n",
       "      <td>1.000000</td>\n",
       "      <td>1.000000</td>\n",
       "    </tr>\n",
       "  </tbody>\n",
       "</table>\n",
       "</div>"
      ],
      "text/plain": [
       "       words_pos_polarity  words_neg_polarity  emoji_pos_polarity  \\\n",
       "count          900.000000          900.000000          900.000000   \n",
       "mean             0.262696           -0.130088            0.072222   \n",
       "std              0.277357            0.196214            0.258999   \n",
       "min              0.000000           -1.000000            0.000000   \n",
       "25%              0.000000           -0.250000            0.000000   \n",
       "50%              0.250000            0.000000            0.000000   \n",
       "75%              0.500000            0.000000            0.000000   \n",
       "max              0.990000            0.000000            1.000000   \n",
       "\n",
       "       emoji_neg_polarity  word_emoji_pos_pol_diff  word_emoji_neg_pol_diff  \\\n",
       "count          900.000000               900.000000               900.000000   \n",
       "mean            -0.003333                 0.054040                 0.002692   \n",
       "std              0.057671                 0.207672                 0.049153   \n",
       "min             -1.000000                 0.000000                 0.000000   \n",
       "25%              0.000000                 0.000000                 0.000000   \n",
       "50%              0.000000                 0.000000                 0.000000   \n",
       "75%              0.000000                 0.000000                 0.000000   \n",
       "max              0.000000                 1.000000                 1.000000   \n",
       "\n",
       "            label  \n",
       "count  900.000000  \n",
       "mean     0.310000  \n",
       "std      0.647155  \n",
       "min     -1.000000  \n",
       "25%      0.000000  \n",
       "50%      0.000000  \n",
       "75%      1.000000  \n",
       "max      1.000000  "
      ]
     },
     "execution_count": 9,
     "metadata": {},
     "output_type": "execute_result"
    }
   ],
   "source": [
    "df.describe()"
   ]
  },
  {
   "cell_type": "markdown",
   "metadata": {},
   "source": [
    "### Train Test Split"
   ]
  },
  {
   "cell_type": "code",
   "execution_count": 179,
   "metadata": {
    "collapsed": true
   },
   "outputs": [],
   "source": [
    "X = df.iloc[:, :-1]\n",
    "y = df.iloc[:, -1]\n",
    "y = y.astype(int)\n",
    "\n",
    "X_train, X_test, y_train, y_test = train_test_split(X, y, test_size=0.25, random_state=42)"
   ]
  },
  {
   "cell_type": "markdown",
   "metadata": {},
   "source": [
    "## TF-IDF Vectorizer:"
   ]
  },
  {
   "cell_type": "code",
   "execution_count": 25,
   "metadata": {},
   "outputs": [
    {
     "name": "stderr",
     "output_type": "stream",
     "text": [
      "/Users/juan/anaconda3/lib/python3.6/site-packages/sklearn/feature_extraction/text.py:1089: FutureWarning: Conversion of the second argument of issubdtype from `float` to `np.floating` is deprecated. In future, it will be treated as `np.float64 == np.dtype(float).type`.\n",
      "  if hasattr(X, 'dtype') and np.issubdtype(X.dtype, np.float):\n"
     ]
    },
    {
     "data": {
      "text/plain": [
       "(675, 2387)"
      ]
     },
     "execution_count": 25,
     "metadata": {},
     "output_type": "execute_result"
    }
   ],
   "source": [
    "vectorizer = TfidfVectorizer()\n",
    "X_train = vectorizer.fit_transform(X_train.body)\n",
    "X_train.shape"
   ]
  },
  {
   "cell_type": "code",
   "execution_count": 26,
   "metadata": {},
   "outputs": [
    {
     "name": "stderr",
     "output_type": "stream",
     "text": [
      "/Users/juan/anaconda3/lib/python3.6/site-packages/sklearn/feature_extraction/text.py:1089: FutureWarning: Conversion of the second argument of issubdtype from `float` to `np.floating` is deprecated. In future, it will be treated as `np.float64 == np.dtype(float).type`.\n",
      "  if hasattr(X, 'dtype') and np.issubdtype(X.dtype, np.float):\n"
     ]
    },
    {
     "data": {
      "text/plain": [
       "(225, 2387)"
      ]
     },
     "execution_count": 26,
     "metadata": {},
     "output_type": "execute_result"
    }
   ],
   "source": [
    "X_test = vectorizer.transform(X_test.body)\n",
    "X_test.shape"
   ]
  },
  {
   "cell_type": "markdown",
   "metadata": {},
   "source": [
    "# MACHINE LEARNING ALGORITHMS:"
   ]
  },
  {
   "cell_type": "markdown",
   "metadata": {},
   "source": [
    "## NAIVE BAYES:"
   ]
  },
  {
   "cell_type": "code",
   "execution_count": 58,
   "metadata": {},
   "outputs": [
    {
     "data": {
      "text/plain": [
       "GaussianNB(priors=None)"
      ]
     },
     "execution_count": 58,
     "metadata": {},
     "output_type": "execute_result"
    }
   ],
   "source": [
    "# NAIVE BAYES \n",
    "gnb = GaussianNB()\n",
    "gnb.fit(X_train.toarray(), y_train)"
   ]
  },
  {
   "cell_type": "code",
   "execution_count": 60,
   "metadata": {},
   "outputs": [
    {
     "name": "stdout",
     "output_type": "stream",
     "text": [
      "Model Accuracy: 48.0 %\n"
     ]
    }
   ],
   "source": [
    "score = gnb.score(X_test.toarray(), y_test)\n",
    "print('Model Accuracy:', (score*100), '%')"
   ]
  },
  {
   "cell_type": "code",
   "execution_count": 62,
   "metadata": {},
   "outputs": [
    {
     "name": "stdout",
     "output_type": "stream",
     "text": [
      "             precision    recall  f1-score   support\n",
      "\n",
      "         -1       0.08      0.22      0.11        23\n",
      "          0       0.66      0.32      0.43       116\n",
      "          1       0.63      0.77      0.69        86\n",
      "\n",
      "avg / total       0.59      0.48      0.50       225\n",
      "\n"
     ]
    }
   ],
   "source": [
    "predicted = gnb.predict(X_test.toarray())\n",
    "report = classification_report(y_test, predicted)\n",
    "print(report)"
   ]
  },
  {
   "cell_type": "markdown",
   "metadata": {},
   "source": [
    "## LOGISTIC REGRESSION:"
   ]
  },
  {
   "cell_type": "code",
   "execution_count": 28,
   "metadata": {
    "collapsed": true
   },
   "outputs": [],
   "source": [
    "model = LogisticRegression(multi_class='ovr')"
   ]
  },
  {
   "cell_type": "code",
   "execution_count": 30,
   "metadata": {},
   "outputs": [
    {
     "data": {
      "text/plain": [
       "LogisticRegression(C=1.0, class_weight=None, dual=False, fit_intercept=True,\n",
       "          intercept_scaling=1, max_iter=100, multi_class='ovr', n_jobs=1,\n",
       "          penalty='l2', random_state=None, solver='liblinear', tol=0.0001,\n",
       "          verbose=0, warm_start=False)"
      ]
     },
     "execution_count": 30,
     "metadata": {},
     "output_type": "execute_result"
    }
   ],
   "source": [
    "model.fit(X_train, y_train)"
   ]
  },
  {
   "cell_type": "code",
   "execution_count": 31,
   "metadata": {},
   "outputs": [
    {
     "name": "stdout",
     "output_type": "stream",
     "text": [
      "Model Accuracy: 70.66666666666667 %\n"
     ]
    }
   ],
   "source": [
    "score = model.score(X_test, y_test)\n",
    "print('Model Accuracy:', (score*100), '%')"
   ]
  },
  {
   "cell_type": "code",
   "execution_count": 34,
   "metadata": {},
   "outputs": [
    {
     "name": "stdout",
     "output_type": "stream",
     "text": [
      "             precision    recall  f1-score   support\n",
      "\n",
      "         -1       0.00      0.00      0.00        23\n",
      "          0       0.82      0.77      0.79       116\n",
      "          1       0.60      0.81      0.69        86\n",
      "\n",
      "avg / total       0.65      0.71      0.67       225\n",
      "\n"
     ]
    },
    {
     "name": "stderr",
     "output_type": "stream",
     "text": [
      "/Users/juan/anaconda3/lib/python3.6/site-packages/sklearn/metrics/classification.py:1135: UndefinedMetricWarning: Precision and F-score are ill-defined and being set to 0.0 in labels with no predicted samples.\n",
      "  'precision', 'predicted', average, warn_for)\n"
     ]
    }
   ],
   "source": [
    "predicted = model.predict(X_test)\n",
    "report = classification_report(y_test, predicted)\n",
    "print(report)"
   ]
  },
  {
   "cell_type": "markdown",
   "metadata": {},
   "source": [
    "## SVM (GAUSIAN KERNEL):"
   ]
  },
  {
   "cell_type": "code",
   "execution_count": 50,
   "metadata": {},
   "outputs": [
    {
     "data": {
      "text/plain": [
       "SVC(C=1.0, cache_size=200, class_weight=None, coef0=0.0,\n",
       "  decision_function_shape='ovr', degree=3, gamma='auto', kernel='rbf',\n",
       "  max_iter=-1, probability=False, random_state=None, shrinking=True,\n",
       "  tol=0.001, verbose=False)"
      ]
     },
     "execution_count": 50,
     "metadata": {},
     "output_type": "execute_result"
    }
   ],
   "source": [
    "svclassifier = SVC(kernel='rbf')  \n",
    "svclassifier.fit(X_train, y_train)"
   ]
  },
  {
   "cell_type": "code",
   "execution_count": 51,
   "metadata": {},
   "outputs": [
    {
     "name": "stdout",
     "output_type": "stream",
     "text": [
      "Model Accuracy: 51.55555555555556 %\n"
     ]
    }
   ],
   "source": [
    "score = svclassifier.score(X_test, y_test)\n",
    "print('Model Accuracy:', (score*100), '%')"
   ]
  },
  {
   "cell_type": "code",
   "execution_count": 52,
   "metadata": {},
   "outputs": [
    {
     "name": "stdout",
     "output_type": "stream",
     "text": [
      "             precision    recall  f1-score   support\n",
      "\n",
      "         -1       0.00      0.00      0.00        23\n",
      "          0       0.52      1.00      0.68       116\n",
      "          1       0.00      0.00      0.00        86\n",
      "\n",
      "avg / total       0.27      0.52      0.35       225\n",
      "\n"
     ]
    },
    {
     "name": "stderr",
     "output_type": "stream",
     "text": [
      "/Users/juan/anaconda3/lib/python3.6/site-packages/sklearn/metrics/classification.py:1135: UndefinedMetricWarning: Precision and F-score are ill-defined and being set to 0.0 in labels with no predicted samples.\n",
      "  'precision', 'predicted', average, warn_for)\n"
     ]
    }
   ],
   "source": [
    "predicted = svclassifier.predict(X_test)\n",
    "report = classification_report(y_test, predicted)\n",
    "print(report)"
   ]
  },
  {
   "cell_type": "markdown",
   "metadata": {},
   "source": [
    "# DEEP LEARNING IMPLEMENTATIONS:"
   ]
  },
  {
   "cell_type": "markdown",
   "metadata": {},
   "source": [
    "### WORD2VEC & EMBEDDING MATRIX:"
   ]
  },
  {
   "cell_type": "code",
   "execution_count": 180,
   "metadata": {
    "collapsed": true
   },
   "outputs": [],
   "source": [
    "# Split text:\n",
    "split_text = X.body.apply(lambda sent: sent.lower().split())"
   ]
  },
  {
   "cell_type": "code",
   "execution_count": 181,
   "metadata": {
    "collapsed": true
   },
   "outputs": [],
   "source": [
    "# Training W2V on posts texts:\n",
    "w2v = gensim.models.Word2Vec(sentences=split_text, sg=1, min_count=1)"
   ]
  },
  {
   "cell_type": "code",
   "execution_count": 182,
   "metadata": {},
   "outputs": [
    {
     "data": {
      "text/plain": [
       "3141"
      ]
     },
     "execution_count": 182,
     "metadata": {},
     "output_type": "execute_result"
    }
   ],
   "source": [
    "# Check # of unique words:\n",
    "keys = len(list(w2v.wv.vocab.keys()))\n",
    "keys"
   ]
  },
  {
   "cell_type": "code",
   "execution_count": 183,
   "metadata": {},
   "outputs": [
    {
     "data": {
      "text/plain": [
       "1     181\n",
       "3      90\n",
       "2      54\n",
       "4      39\n",
       "6      38\n",
       "7      35\n",
       "5      29\n",
       "8      25\n",
       "9      23\n",
       "11     21\n",
       "12     20\n",
       "17     16\n",
       "10     16\n",
       "16     16\n",
       "13     15\n",
       "15     14\n",
       "22     13\n",
       "27     13\n",
       "14     13\n",
       "18     11\n",
       "24     11\n",
       "20     10\n",
       "23      9\n",
       "30      9\n",
       "21      9\n",
       "35      9\n",
       "19      8\n",
       "44      8\n",
       "62      8\n",
       "26      7\n",
       "     ... \n",
       "51      4\n",
       "28      4\n",
       "63      3\n",
       "53      3\n",
       "29      3\n",
       "33      3\n",
       "61      3\n",
       "52      3\n",
       "57      3\n",
       "56      3\n",
       "55      3\n",
       "58      3\n",
       "36      2\n",
       "34      2\n",
       "47      2\n",
       "74      2\n",
       "71      2\n",
       "50      2\n",
       "64      2\n",
       "46      1\n",
       "60      1\n",
       "75      1\n",
       "65      1\n",
       "66      1\n",
       "69      1\n",
       "45      1\n",
       "72      1\n",
       "73      1\n",
       "42      1\n",
       "76      1\n",
       "Name: body, Length: 72, dtype: int64"
      ]
     },
     "execution_count": 183,
     "metadata": {},
     "output_type": "execute_result"
    }
   ],
   "source": [
    "split_text.apply(lambda row: len(row)).value_counts()"
   ]
  },
  {
   "cell_type": "code",
   "execution_count": 184,
   "metadata": {},
   "outputs": [
    {
     "name": "stdout",
     "output_type": "stream",
     "text": [
      "                                                  body words_pos_polarity  \\\n",
      "613  Tal y como hemos conocido a través de la últim...           0.488667   \n",
      "528  gracias amigo seguiremos creciendo comunidadla...               0.58   \n",
      "815                                          yes ha ha                  0   \n",
      "380  Muchas gracias enserio aprendí demasiado de la...              0.375   \n",
      "300  Todo esta muy bien detallado poco a poco vamos...             0.5161   \n",
      "416  un gran aporte sin duda muchas gracias por com...              0.269   \n",
      "878         que bueno le deseos el mayor de los exitos           0.664333   \n",
      "319  hola german como podemos ganar steem dejo mi n...              0.705   \n",
      "2                                               B vs S                  0   \n",
      "254                                                  o                  0   \n",
      "507              Bienvenida Mucha suerte con tu Steeam               0.54   \n",
      "499                                              Super                0.5   \n",
      "266                                               scam                  0   \n",
      "158                           En las montañas de Suiza                  0   \n",
      "521                                              India                  0   \n",
      "836  Muy útil e interesante esperemos que steemit n...              0.563   \n",
      "567  Así es son muchos los hispanohablantes pero av...               0.36   \n",
      "332  <html> <p><img src=URL a todos los que hablamo...               0.25   \n",
      "432                             Esperamos llegar lejos                  0   \n",
      "305                        innovadora imposible dish^2                  0   \n",
      "436  Una corazonada es la creatividad tratando de d...              0.625   \n",
      "526      steem va a romper records con esta innovación                  0   \n",
      "408                                         its a fake                  0   \n",
      "893                                             Oh yay                  0   \n",
      "359                                                 no                  0   \n",
      "585  Hasta que precio se prevé que suba la ether es...              0.344   \n",
      "655  vivo en nyc disfruto mi vida pero veo el pasad...               0.33   \n",
      "659  Pregunten lo que sea intentare dar respuesta a...               0.25   \n",
      "212                             Woo Yo Mucho Soy Amigo               0.58   \n",
      "828  Los protocolos blockchain se van integrando en...               0.25   \n",
      "..                                                 ...                ...   \n",
      "276                                 French vs Portugal                  0   \n",
      "191   gran trabajo no sé por qué no tiene más me gusta              0.338   \n",
      "385                                       asi es amigo               0.58   \n",
      "805                                              ummmm                  0   \n",
      "413                  Hola soy nuevo en esta red social             0.3715   \n",
      "491                                              oh no                  0   \n",
      "343                                              aaaaa                  0   \n",
      "769  Gran aporte estaba un poco confundido en algun...             0.3178   \n",
      "308                          Vamos a explorar todo ok;               0.25   \n",
      "661                        excelente steem es lo mejor             0.6875   \n",
      "130  Gracias por tu respuesta y comentarios  Si qui...           0.527667   \n",
      "663         espectaculares imagenes sorprendidos estoy                  0   \n",
      "871                                               Yoyo                  0   \n",
      "99                                               robot                  0   \n",
      "372  wow que buena publicación Me encanta felicidad...               0.59   \n",
      "87                                                fake                  0   \n",
      "458                                                  n                  0   \n",
      "330  Me alegra mucho encontrar un buen post en espa...              0.492   \n",
      "214  Buenas USER soy de Murcia nos vemos en las que...              0.745   \n",
      "466  En este episodio de Keiser Report USER y Stacy...             0.5172   \n",
      "121                               Kyoukai no kanata :D                  0   \n",
      "614                                         sexy to me              0.375   \n",
      "20                                                   a                  0   \n",
      "700  Asi es es cuestion de transformar esos habitos...                  0   \n",
      "71   Los 33723$ te los han pagado ya Como se sabe c...                  0   \n",
      "106                                          INDONESIA                  0   \n",
      "270                        Estos chicos son maquinas !                  0   \n",
      "860                                         ay caramba               0.57   \n",
      "435                            genial eso es excelente             0.7055   \n",
      "102                                                 Ha                  0   \n",
      "\n",
      "    words_neg_polarity emoji_pos_polarity emoji_neg_polarity  \\\n",
      "613               -0.2                  0                  0   \n",
      "528                  0                  0                  0   \n",
      "815                  0                  0                  0   \n",
      "380               -0.2                  0                  0   \n",
      "300          -0.416667                  0                  0   \n",
      "416           -0.33125                  0                  0   \n",
      "878                  0                  0                  0   \n",
      "319                  0                  0                  0   \n",
      "2                    0                  0                  0   \n",
      "254                  0                  0                  0   \n",
      "507                  0                  0                  0   \n",
      "499                  0                  0                  0   \n",
      "266              -0.25                  0                  0   \n",
      "158                  0                  0                  0   \n",
      "521                  0                  0                  0   \n",
      "836          -0.526667                  0                  0   \n",
      "567               -0.2                  0                  0   \n",
      "332                  0                  0                  0   \n",
      "432                  0                  0                  0   \n",
      "305              -0.25                  0                  0   \n",
      "436              -0.25                  0                  0   \n",
      "526              -0.65                  0                  0   \n",
      "408               -0.5                  0                  0   \n",
      "893                  0                  0                  0   \n",
      "359               -0.2                  0                  0   \n",
      "585                  0                  0                  0   \n",
      "655                  0                  0                  0   \n",
      "659                  0                  0                  0   \n",
      "212                  0                  0                  0   \n",
      "828             -0.375                  0                  0   \n",
      "..                 ...                ...                ...   \n",
      "276                  0                  0                  0   \n",
      "191               -0.2                  0                  0   \n",
      "385                  0                  0                  0   \n",
      "805                  0                  0                  0   \n",
      "413                  0                  0                  0   \n",
      "491               -0.2                  0                  0   \n",
      "343                  0                  0                  0   \n",
      "769             -0.375                  0                  0   \n",
      "308               -0.5                  0                  0   \n",
      "661                  0                  0                  0   \n",
      "130                  0                  0                  0   \n",
      "663                  0                  0                  0   \n",
      "871                  0                  0                  0   \n",
      "99                   0                  0                  0   \n",
      "372                  0                  0                  0   \n",
      "87                -0.5                  0                  0   \n",
      "458                  0                  0                  0   \n",
      "330             -0.375                  0                  0   \n",
      "214                  0                  0                  0   \n",
      "466             -0.445                  0                  0   \n",
      "121               -0.2                  1                  0   \n",
      "614                  0                  0                  0   \n",
      "20                   0                  0                  0   \n",
      "700            -0.2875                  0                  0   \n",
      "71                   0                  0                  0   \n",
      "106                  0                  0                  0   \n",
      "270                  0                  0                  0   \n",
      "860               -0.5                  0                  0   \n",
      "435                  0                  0                  0   \n",
      "102                  0                  0                  0   \n",
      "\n",
      "    word_emoji_pos_pol_diff word_emoji_neg_pol_diff  \n",
      "613                       0                       0  \n",
      "528                       0                       0  \n",
      "815                       0                       0  \n",
      "380                       0                       0  \n",
      "300                       0                       0  \n",
      "416                       0                       0  \n",
      "878                       0                       0  \n",
      "319                       0                       0  \n",
      "2                         0                       0  \n",
      "254                       0                       0  \n",
      "507                       0                       0  \n",
      "499                       0                       0  \n",
      "266                       0                       0  \n",
      "158                       0                       0  \n",
      "521                       0                       0  \n",
      "836                       0                       0  \n",
      "567                       0                       0  \n",
      "332                       0                       0  \n",
      "432                       0                       0  \n",
      "305                       0                       0  \n",
      "436                       0                       0  \n",
      "526                       0                       0  \n",
      "408                       0                       0  \n",
      "893                       0                       0  \n",
      "359                       0                       0  \n",
      "585                       0                       0  \n",
      "655                       0                       0  \n",
      "659                       0                       0  \n",
      "212                       0                       0  \n",
      "828                       0                       0  \n",
      "..                      ...                     ...  \n",
      "276                       0                       0  \n",
      "191                       0                       0  \n",
      "385                       0                       0  \n",
      "805                       0                       0  \n",
      "413                       0                       0  \n",
      "491                       0                       0  \n",
      "343                       0                       0  \n",
      "769                       0                       0  \n",
      "308                       0                       0  \n",
      "661                       0                       0  \n",
      "130                       0                       0  \n",
      "663                       0                       0  \n",
      "871                       0                       0  \n",
      "99                        0                       0  \n",
      "372                       0                       0  \n",
      "87                        0                       0  \n",
      "458                       0                       0  \n",
      "330                       0                       0  \n",
      "214                       0                       0  \n",
      "466                       0                       0  \n",
      "121                       1                       0  \n",
      "614                       0                       0  \n",
      "20                        0                       0  \n",
      "700                       0                       0  \n",
      "71                        0                       0  \n",
      "106                       0                       0  \n",
      "270                       0                       0  \n",
      "860                       0                       0  \n",
      "435                       0                       0  \n",
      "102                       0                       0  \n",
      "\n",
      "[675 rows x 7 columns]\n"
     ]
    }
   ],
   "source": [
    "print(X_train)"
   ]
  },
  {
   "cell_type": "code",
   "execution_count": 185,
   "metadata": {
    "collapsed": true
   },
   "outputs": [],
   "source": [
    "# TRANSFORMING DATA:\n",
    "tokenizer = Tokenizer()\n",
    "tokenizer.fit_on_texts(X.body)\n",
    "X_train = tokenizer.texts_to_sequences(X_train.body)\n",
    "X_test = tokenizer.texts_to_sequences(X_test.body)"
   ]
  },
  {
   "cell_type": "code",
   "execution_count": 186,
   "metadata": {},
   "outputs": [
    {
     "name": "stdout",
     "output_type": "stream",
     "text": [
      "max: 78 min: 1 avg: 13.764444444444445\n"
     ]
    }
   ],
   "source": [
    "# Checking length of sequences\n",
    "seq = []\n",
    "for s in range(len(X_train)):\n",
    "    seq.append(len(X_train[s]))\n",
    "    #print(s, len(X_train[s]))\n",
    "print('max:', max(seq), 'min:', min(seq), 'avg:', sum(seq)/len(seq))"
   ]
  },
  {
   "cell_type": "code",
   "execution_count": 187,
   "metadata": {
    "collapsed": true
   },
   "outputs": [],
   "source": [
    "X_train = pad_sequences(X_train, maxlen=70)\n",
    "X_test = pad_sequences(X_test, maxlen=70)"
   ]
  },
  {
   "cell_type": "code",
   "execution_count": 188,
   "metadata": {},
   "outputs": [
    {
     "data": {
      "text/plain": [
       "array([[   0,    0,    0, ...,  318,  654,   15],\n",
       "       [   0,    0,    0, ...,  216,  652, 1041],\n",
       "       [   0,    0,    0, ..., 2907,   39,   39],\n",
       "       ...,\n",
       "       [   0,    0,    0, ...,    0, 1093, 3008],\n",
       "       [   0,    0,    0, ...,   69,    9,   94],\n",
       "       [   0,    0,    0, ...,    0,    0,   39]], dtype=int32)"
      ]
     },
     "execution_count": 188,
     "metadata": {},
     "output_type": "execute_result"
    }
   ],
   "source": [
    "X_train"
   ]
  },
  {
   "cell_type": "code",
   "execution_count": 189,
   "metadata": {
    "collapsed": true
   },
   "outputs": [],
   "source": [
    "# Embedding Matrix:\n",
    "embedding_matrix = np.zeros((len(tokenizer.word_index) + 1, 100))\n",
    "vec = []\n",
    "for word, i in tokenizer.word_index.items():\n",
    "    if word in w2v.wv.vocab:\n",
    "        embedding_vector = w2v.wv.get_vector(word)\n",
    "        # words not found in embedding index will be all-zeros.\n",
    "        embedding_matrix[i] = embedding_vector\n",
    "    else:\n",
    "        vec.append(word)"
   ]
  },
  {
   "cell_type": "code",
   "execution_count": 190,
   "metadata": {},
   "outputs": [
    {
     "data": {
      "text/plain": [
       "(3067, 100)"
      ]
     },
     "execution_count": 190,
     "metadata": {},
     "output_type": "execute_result"
    }
   ],
   "source": [
    "embedding_matrix.shape"
   ]
  },
  {
   "cell_type": "code",
   "execution_count": 191,
   "metadata": {
    "collapsed": true
   },
   "outputs": [],
   "source": [
    "# y as categorical\n",
    "y = to_categorical(y_train.as_matrix()+1)"
   ]
  },
  {
   "cell_type": "code",
   "execution_count": 192,
   "metadata": {},
   "outputs": [
    {
     "data": {
      "text/plain": [
       "array([[0., 0., 1.],\n",
       "       [0., 0., 1.],\n",
       "       [0., 1., 0.],\n",
       "       ...,\n",
       "       [0., 0., 1.],\n",
       "       [0., 0., 1.],\n",
       "       [0., 1., 0.]], dtype=float32)"
      ]
     },
     "execution_count": 192,
     "metadata": {},
     "output_type": "execute_result"
    }
   ],
   "source": [
    "y"
   ]
  },
  {
   "cell_type": "markdown",
   "metadata": {},
   "source": [
    "## 1D CNN:"
   ]
  },
  {
   "cell_type": "code",
   "execution_count": 42,
   "metadata": {
    "collapsed": true
   },
   "outputs": [],
   "source": [
    "# CNN Model\n",
    "model = Sequential()       \n",
    "model.add(layers.Embedding(keys+1, 128, input_length=70))\n",
    "model.add(layers.Dropout(0.2))\n",
    "model.add(layers.Conv1D(8, 5, activation='relu', kernel_regularizer=regularizers.l2(0.001)))\n",
    "model.add(layers.MaxPooling1D(2))\n",
    "model.add(layers.Dropout(0.2))\n",
    "model.add(layers.Conv1D(8, 2, activation='relu', kernel_regularizer=regularizers.l2(0.001)))\n",
    "model.add(layers.MaxPooling1D(2))\n",
    "model.add(layers.Dropout(0.2))\n",
    "model.add(layers.Conv1D(8, 5, activation='relu', kernel_regularizer=regularizers.l2(0.001)))\n",
    "model.add(layers.GlobalMaxPooling1D())\n",
    "model.add(layers.Dropout(0.5))\n",
    "model.add(layers.Dense(3, activation='softmax'))"
   ]
  },
  {
   "cell_type": "code",
   "execution_count": 43,
   "metadata": {},
   "outputs": [
    {
     "name": "stdout",
     "output_type": "stream",
     "text": [
      "_________________________________________________________________\n",
      "Layer (type)                 Output Shape              Param #   \n",
      "=================================================================\n",
      "embedding_2 (Embedding)      (None, 70, 128)           402176    \n",
      "_________________________________________________________________\n",
      "dropout_5 (Dropout)          (None, 70, 128)           0         \n",
      "_________________________________________________________________\n",
      "conv1d_4 (Conv1D)            (None, 66, 8)             5128      \n",
      "_________________________________________________________________\n",
      "max_pooling1d_3 (MaxPooling1 (None, 33, 8)             0         \n",
      "_________________________________________________________________\n",
      "dropout_6 (Dropout)          (None, 33, 8)             0         \n",
      "_________________________________________________________________\n",
      "conv1d_5 (Conv1D)            (None, 32, 8)             136       \n",
      "_________________________________________________________________\n",
      "max_pooling1d_4 (MaxPooling1 (None, 16, 8)             0         \n",
      "_________________________________________________________________\n",
      "dropout_7 (Dropout)          (None, 16, 8)             0         \n",
      "_________________________________________________________________\n",
      "conv1d_6 (Conv1D)            (None, 12, 8)             328       \n",
      "_________________________________________________________________\n",
      "global_max_pooling1d_2 (Glob (None, 8)                 0         \n",
      "_________________________________________________________________\n",
      "dropout_8 (Dropout)          (None, 8)                 0         \n",
      "_________________________________________________________________\n",
      "dense_2 (Dense)              (None, 3)                 27        \n",
      "=================================================================\n",
      "Total params: 407,795\n",
      "Trainable params: 407,795\n",
      "Non-trainable params: 0\n",
      "_________________________________________________________________\n"
     ]
    }
   ],
   "source": [
    "model.compile(loss='categorical_crossentropy', \n",
    "              optimizer='adam', \n",
    "              metrics=['accuracy'])\n",
    "model.summary()"
   ]
  },
  {
   "cell_type": "code",
   "execution_count": 44,
   "metadata": {},
   "outputs": [
    {
     "name": "stdout",
     "output_type": "stream",
     "text": [
      "Train on 540 samples, validate on 135 samples\n",
      "Epoch 1/50\n",
      "540/540 [==============================] - 1s 2ms/step - loss: 1.1480 - acc: 0.1944 - val_loss: 1.1293 - val_acc: 0.4889\n",
      "Epoch 2/50\n",
      "540/540 [==============================] - 0s 317us/step - loss: 1.1324 - acc: 0.3630 - val_loss: 1.1268 - val_acc: 0.4741\n",
      "Epoch 3/50\n",
      "540/540 [==============================] - 0s 473us/step - loss: 1.1244 - acc: 0.4685 - val_loss: 1.1237 - val_acc: 0.4667\n",
      "Epoch 4/50\n",
      "540/540 [==============================] - 0s 449us/step - loss: 1.1205 - acc: 0.4852 - val_loss: 1.1208 - val_acc: 0.4667\n",
      "Epoch 5/50\n",
      "540/540 [==============================] - 0s 429us/step - loss: 1.1188 - acc: 0.4852 - val_loss: 1.1179 - val_acc: 0.4667\n",
      "Epoch 6/50\n",
      "540/540 [==============================] - 0s 424us/step - loss: 1.1107 - acc: 0.5167 - val_loss: 1.1151 - val_acc: 0.4667\n",
      "Epoch 7/50\n",
      "540/540 [==============================] - 0s 382us/step - loss: 1.1087 - acc: 0.5056 - val_loss: 1.1124 - val_acc: 0.4667\n",
      "Epoch 8/50\n",
      "540/540 [==============================] - 0s 373us/step - loss: 1.1059 - acc: 0.4963 - val_loss: 1.1097 - val_acc: 0.4667\n",
      "Epoch 9/50\n",
      "540/540 [==============================] - 0s 341us/step - loss: 1.1003 - acc: 0.5130 - val_loss: 1.1068 - val_acc: 0.4667\n",
      "Epoch 10/50\n",
      "540/540 [==============================] - 0s 371us/step - loss: 1.0968 - acc: 0.5093 - val_loss: 1.1036 - val_acc: 0.4667\n",
      "Epoch 11/50\n",
      "540/540 [==============================] - 0s 371us/step - loss: 1.0916 - acc: 0.5222 - val_loss: 1.1003 - val_acc: 0.4667\n",
      "Epoch 12/50\n",
      "540/540 [==============================] - 0s 422us/step - loss: 1.0929 - acc: 0.4963 - val_loss: 1.0971 - val_acc: 0.4667\n",
      "Epoch 13/50\n",
      "540/540 [==============================] - 0s 389us/step - loss: 1.0835 - acc: 0.5444 - val_loss: 1.0939 - val_acc: 0.4667\n",
      "Epoch 14/50\n",
      "540/540 [==============================] - 0s 324us/step - loss: 1.0820 - acc: 0.5074 - val_loss: 1.0907 - val_acc: 0.4741\n",
      "Epoch 15/50\n",
      "540/540 [==============================] - 0s 312us/step - loss: 1.0788 - acc: 0.5056 - val_loss: 1.0872 - val_acc: 0.4741\n",
      "Epoch 16/50\n",
      "540/540 [==============================] - 0s 321us/step - loss: 1.0695 - acc: 0.5241 - val_loss: 1.0834 - val_acc: 0.4815\n",
      "Epoch 17/50\n",
      "540/540 [==============================] - 0s 354us/step - loss: 1.0652 - acc: 0.5296 - val_loss: 1.0795 - val_acc: 0.5037\n",
      "Epoch 18/50\n",
      "540/540 [==============================] - 0s 381us/step - loss: 1.0542 - acc: 0.5463 - val_loss: 1.0756 - val_acc: 0.5333\n",
      "Epoch 19/50\n",
      "540/540 [==============================] - 0s 364us/step - loss: 1.0500 - acc: 0.5315 - val_loss: 1.0707 - val_acc: 0.5333\n",
      "Epoch 20/50\n",
      "540/540 [==============================] - 0s 344us/step - loss: 1.0405 - acc: 0.5463 - val_loss: 1.0655 - val_acc: 0.5259\n",
      "Epoch 21/50\n",
      "540/540 [==============================] - 0s 362us/step - loss: 1.0325 - acc: 0.5519 - val_loss: 1.0597 - val_acc: 0.5333\n",
      "Epoch 22/50\n",
      "540/540 [==============================] - 0s 336us/step - loss: 1.0238 - acc: 0.5537 - val_loss: 1.0526 - val_acc: 0.5481\n",
      "Epoch 23/50\n",
      "540/540 [==============================] - 0s 447us/step - loss: 1.0074 - acc: 0.5704 - val_loss: 1.0452 - val_acc: 0.5704\n",
      "Epoch 24/50\n",
      "540/540 [==============================] - 0s 394us/step - loss: 1.0085 - acc: 0.5593 - val_loss: 1.0382 - val_acc: 0.5852\n",
      "Epoch 25/50\n",
      "540/540 [==============================] - 0s 327us/step - loss: 0.9781 - acc: 0.5907 - val_loss: 1.0309 - val_acc: 0.5926\n",
      "Epoch 26/50\n",
      "540/540 [==============================] - 0s 335us/step - loss: 0.9586 - acc: 0.6093 - val_loss: 1.0225 - val_acc: 0.6000\n",
      "Epoch 27/50\n",
      "540/540 [==============================] - 0s 358us/step - loss: 0.9624 - acc: 0.5981 - val_loss: 1.0140 - val_acc: 0.5926\n",
      "Epoch 28/50\n",
      "540/540 [==============================] - 0s 401us/step - loss: 0.9455 - acc: 0.5981 - val_loss: 1.0082 - val_acc: 0.5926\n",
      "Epoch 29/50\n",
      "540/540 [==============================] - 0s 368us/step - loss: 0.9359 - acc: 0.5963 - val_loss: 1.0005 - val_acc: 0.5926\n",
      "Epoch 30/50\n",
      "540/540 [==============================] - 0s 363us/step - loss: 0.8984 - acc: 0.6222 - val_loss: 0.9923 - val_acc: 0.6000\n",
      "Epoch 31/50\n",
      "540/540 [==============================] - 0s 361us/step - loss: 0.9133 - acc: 0.6185 - val_loss: 0.9860 - val_acc: 0.6074\n",
      "Epoch 32/50\n",
      "540/540 [==============================] - 0s 358us/step - loss: 0.8576 - acc: 0.6685 - val_loss: 0.9817 - val_acc: 0.6074\n",
      "Epoch 33/50\n",
      "540/540 [==============================] - 0s 406us/step - loss: 0.8456 - acc: 0.6593 - val_loss: 0.9764 - val_acc: 0.6148\n",
      "Epoch 34/50\n",
      "540/540 [==============================] - 0s 331us/step - loss: 0.8265 - acc: 0.6778 - val_loss: 0.9694 - val_acc: 0.6148\n",
      "Epoch 35/50\n",
      "540/540 [==============================] - 0s 408us/step - loss: 0.8069 - acc: 0.7185 - val_loss: 0.9618 - val_acc: 0.6222\n",
      "Epoch 36/50\n",
      "540/540 [==============================] - 0s 340us/step - loss: 0.7987 - acc: 0.7278 - val_loss: 0.9572 - val_acc: 0.6519\n",
      "Epoch 37/50\n",
      "540/540 [==============================] - 0s 345us/step - loss: 0.8105 - acc: 0.7463 - val_loss: 0.9504 - val_acc: 0.6667\n",
      "Epoch 38/50\n",
      "540/540 [==============================] - 0s 434us/step - loss: 0.7698 - acc: 0.7463 - val_loss: 0.9382 - val_acc: 0.6444\n",
      "Epoch 39/50\n",
      "540/540 [==============================] - 0s 394us/step - loss: 0.7034 - acc: 0.7796 - val_loss: 0.9235 - val_acc: 0.6741\n",
      "Epoch 40/50\n",
      "540/540 [==============================] - 0s 362us/step - loss: 0.7447 - acc: 0.7407 - val_loss: 0.9172 - val_acc: 0.6741\n",
      "Epoch 41/50\n",
      "540/540 [==============================] - 0s 357us/step - loss: 0.7091 - acc: 0.7870 - val_loss: 0.9222 - val_acc: 0.7037\n",
      "Epoch 42/50\n",
      "540/540 [==============================] - 0s 354us/step - loss: 0.6685 - acc: 0.8037 - val_loss: 0.9198 - val_acc: 0.7037\n",
      "Epoch 43/50\n",
      "540/540 [==============================] - 0s 394us/step - loss: 0.6705 - acc: 0.8056 - val_loss: 0.9168 - val_acc: 0.6963\n",
      "Epoch 44/50\n",
      "540/540 [==============================] - 0s 383us/step - loss: 0.6700 - acc: 0.7926 - val_loss: 0.9335 - val_acc: 0.7037\n",
      "Epoch 45/50\n",
      "540/540 [==============================] - 0s 382us/step - loss: 0.6511 - acc: 0.7944 - val_loss: 0.9302 - val_acc: 0.6889\n",
      "Epoch 46/50\n",
      "540/540 [==============================] - 0s 361us/step - loss: 0.6368 - acc: 0.8037 - val_loss: 0.9125 - val_acc: 0.6889\n",
      "Epoch 47/50\n",
      "540/540 [==============================] - 0s 459us/step - loss: 0.6333 - acc: 0.8019 - val_loss: 0.9138 - val_acc: 0.6963\n",
      "Epoch 48/50\n",
      "540/540 [==============================] - 0s 411us/step - loss: 0.6086 - acc: 0.8167 - val_loss: 0.9305 - val_acc: 0.6889\n",
      "Epoch 49/50\n",
      "540/540 [==============================] - 0s 410us/step - loss: 0.6248 - acc: 0.8204 - val_loss: 0.9486 - val_acc: 0.6593\n",
      "Epoch 50/50\n",
      "540/540 [==============================] - 0s 351us/step - loss: 0.6350 - acc: 0.7981 - val_loss: 0.9550 - val_acc: 0.6444\n",
      "CPU times: user 25.7 s, sys: 8.1 s, total: 33.8 s\n",
      "Wall time: 11.7 s\n"
     ]
    }
   ],
   "source": [
    "%%time\n",
    "# Fit Model\n",
    "history = model.fit([X_train], y, verbose=1, epochs=50, \n",
    "                    batch_size=128, validation_split=0.2)"
   ]
  },
  {
   "cell_type": "code",
   "execution_count": 45,
   "metadata": {},
   "outputs": [
    {
     "data": {
      "text/plain": [
       "dict_keys(['val_loss', 'val_acc', 'loss', 'acc'])"
      ]
     },
     "execution_count": 45,
     "metadata": {},
     "output_type": "execute_result"
    }
   ],
   "source": [
    "# Plotting Loss & Accuracy\n",
    "history_dict = history.history\n",
    "history_dict.keys()"
   ]
  },
  {
   "cell_type": "code",
   "execution_count": 46,
   "metadata": {},
   "outputs": [
    {
     "data": {
      "image/png": "[encoded data removed]",
      "text/plain": [
       "<Figure size 432x288 with 1 Axes>"
      ]
     },
     "metadata": {},
     "output_type": "display_data"
    }
   ],
   "source": [
    "acc = history.history['acc']\n",
    "val_acc = history.history['val_acc']\n",
    "loss = history.history['loss']\n",
    "val_loss = history.history['val_loss']\n",
    "\n",
    "epochs = range(1, len(acc) + 1)\n",
    "\n",
    "# \"bo\" is for \"blue dot\"\n",
    "plt.plot(epochs, loss, 'bo', label='Training loss')\n",
    "# b is for \"solid blue line\"\n",
    "plt.plot(epochs, val_loss, 'b', label='Validation loss')\n",
    "plt.title('Training and validation loss')\n",
    "plt.xlabel('Epochs')\n",
    "plt.ylabel('Loss')\n",
    "plt.legend()\n",
    "\n",
    "plt.show()"
   ]
  },
  {
   "cell_type": "code",
   "execution_count": 47,
   "metadata": {},
   "outputs": [
    {
     "data": {
      "image/png": "[encoded data removed]",
      "text/plain": [
       "<Figure size 432x288 with 1 Axes>"
      ]
     },
     "metadata": {},
     "output_type": "display_data"
    }
   ],
   "source": [
    "plt.clf()   # clear figure\n",
    "acc_values = history_dict['acc']\n",
    "val_acc_values = history_dict['val_acc']\n",
    "\n",
    "plt.plot(epochs, acc, 'bo', label='Training acc')\n",
    "plt.plot(epochs, val_acc, 'b', label='Validation acc')\n",
    "plt.title('Training and validation accuracy')\n",
    "plt.xlabel('Epochs')\n",
    "plt.ylabel('Loss')\n",
    "plt.legend()\n",
    "\n",
    "plt.show()"
   ]
  },
  {
   "cell_type": "code",
   "execution_count": 48,
   "metadata": {},
   "outputs": [
    {
     "name": "stdout",
     "output_type": "stream",
     "text": [
      "Best Training Accuracy: 82.03703699288545 Epoch: 48 Best Validation Accuracy: 70.37037045867355 Epoch: 40\n",
      "Lowest Training Loss value: 60.85625489552816 Epoch: 47 Lowest Validation Loss: 91.25188805438854 Epoch: 45\n"
     ]
    }
   ],
   "source": [
    "print('Best Training Accuracy:', max(acc)*100, 'Epoch:', np.argmax(acc),\n",
    "     'Best Validation Accuracy:', max(val_acc)*100, 'Epoch:', np.argmax(val_acc))\n",
    "print('Lowest Training Loss value:', min(loss)*100, 'Epoch:', np.argmin(loss),\n",
    "     'Lowest Validation Loss:', min(val_loss)*100, 'Epoch:', np.argmin(val_loss))"
   ]
  },
  {
   "cell_type": "markdown",
   "metadata": {},
   "source": [
    "### 1D CNN BEST MODEL TEST RESULTS:"
   ]
  },
  {
   "cell_type": "code",
   "execution_count": 49,
   "metadata": {
    "collapsed": true
   },
   "outputs": [],
   "source": [
    "# Some memory clean-up\n",
    "K.clear_session()"
   ]
  },
  {
   "cell_type": "code",
   "execution_count": 50,
   "metadata": {
    "collapsed": true
   },
   "outputs": [],
   "source": [
    "model = Sequential()       \n",
    "model.add(layers.Embedding(keys+1, 128, input_length=70))\n",
    "model.add(layers.Dropout(0.2))\n",
    "model.add(layers.Conv1D(8, 5, activation='relu', kernel_regularizer=regularizers.l2(0.001)))\n",
    "model.add(layers.MaxPooling1D(2))\n",
    "model.add(layers.Dropout(0.2))\n",
    "model.add(layers.Conv1D(8, 2, activation='relu', kernel_regularizer=regularizers.l2(0.001)))\n",
    "model.add(layers.MaxPooling1D(2))\n",
    "model.add(layers.Dropout(0.2))\n",
    "model.add(layers.Conv1D(8, 5, activation='relu', kernel_regularizer=regularizers.l2(0.001)))\n",
    "model.add(layers.GlobalMaxPooling1D())\n",
    "model.add(layers.Dropout(0.5))\n",
    "model.add(layers.Dense(3, activation='softmax'))"
   ]
  },
  {
   "cell_type": "code",
   "execution_count": 51,
   "metadata": {
    "collapsed": true
   },
   "outputs": [],
   "source": [
    "model.compile(loss='categorical_crossentropy', \n",
    "              optimizer='adam', \n",
    "              metrics=['accuracy'])"
   ]
  },
  {
   "cell_type": "code",
   "execution_count": 52,
   "metadata": {},
   "outputs": [
    {
     "data": {
      "text/plain": [
       "<keras.callbacks.History at 0x132c2ad30>"
      ]
     },
     "execution_count": 52,
     "metadata": {},
     "output_type": "execute_result"
    }
   ],
   "source": [
    "model.fit([X_train], y, verbose=0, epochs=40, \n",
    "          batch_size=128)"
   ]
  },
  {
   "cell_type": "code",
   "execution_count": 53,
   "metadata": {},
   "outputs": [
    {
     "name": "stdout",
     "output_type": "stream",
     "text": [
      "225/225 [==============================] - 0s 454us/step\n"
     ]
    },
    {
     "data": {
      "text/plain": [
       "[0.9215851741366916, 0.7022222222222222]"
      ]
     },
     "execution_count": 53,
     "metadata": {},
     "output_type": "execute_result"
    }
   ],
   "source": [
    "model.evaluate(X_test, to_categorical(y_test.as_matrix()+1))"
   ]
  },
  {
   "cell_type": "code",
   "execution_count": 54,
   "metadata": {
    "collapsed": true
   },
   "outputs": [],
   "source": [
    "y_train.as_matrix()+1\n",
    "y_ = model.predict(X_test)\n",
    "y_[-1] = [0,0,1]"
   ]
  },
  {
   "cell_type": "code",
   "execution_count": 55,
   "metadata": {},
   "outputs": [
    {
     "name": "stdout",
     "output_type": "stream",
     "text": [
      "F1 Score (Macro): 0.4914819376026272\n",
      "F1 Score (Micro): 0.7022222222222222\n"
     ]
    },
    {
     "name": "stderr",
     "output_type": "stream",
     "text": [
      "/Users/juan/anaconda3/lib/python3.6/site-packages/sklearn/metrics/classification.py:1137: UndefinedMetricWarning: F-score is ill-defined and being set to 0.0 in labels with no true samples.\n",
      "  'recall', 'true', average, warn_for)\n"
     ]
    }
   ],
   "source": [
    "f_macro = f1_score(to_categorical([np.argmax(x) for x in y_]), to_categorical(y_test.as_matrix()+1), average='macro')\n",
    "f_micro = f1_score(to_categorical([np.argmax(x) for x in y_]), to_categorical(y_test.as_matrix()+1), average='micro')\n",
    "print('F1 Score (Macro):', f_macro)\n",
    "print('F1 Score (Micro):', f_micro)"
   ]
  },
  {
   "cell_type": "code",
   "execution_count": 65,
   "metadata": {},
   "outputs": [
    {
     "name": "stdout",
     "output_type": "stream",
     "text": [
      "             precision    recall  f1-score   support\n",
      "\n",
      "         -1       0.00      0.00      0.00         0\n",
      "          0       0.77      0.82      0.79       108\n",
      "          1       0.80      0.59      0.68       117\n",
      "\n",
      "avg / total       0.79      0.70      0.73       225\n",
      "\n"
     ]
    },
    {
     "name": "stderr",
     "output_type": "stream",
     "text": [
      "/Users/juan/anaconda3/lib/python3.6/site-packages/sklearn/metrics/classification.py:1137: UndefinedMetricWarning: Recall and F-score are ill-defined and being set to 0.0 in labels with no true samples.\n",
      "  'recall', 'true', average, warn_for)\n"
     ]
    }
   ],
   "source": [
    "target_names = ['-1', '0', '1']\n",
    "report = classification_report(to_categorical([np.argmax(x) for x in y_]), \n",
    "                               to_categorical(y_test.as_matrix()+1), target_names=target_names)\n",
    "print(report)"
   ]
  },
  {
   "cell_type": "markdown",
   "metadata": {},
   "source": [
    "## LSTM:"
   ]
  },
  {
   "cell_type": "code",
   "execution_count": 98,
   "metadata": {},
   "outputs": [
    {
     "name": "stdout",
     "output_type": "stream",
     "text": [
      "_________________________________________________________________\n",
      "Layer (type)                 Output Shape              Param #   \n",
      "=================================================================\n",
      "embedding_1 (Embedding)      (None, 70, 128)           402176    \n",
      "_________________________________________________________________\n",
      "spatial_dropout1d_1 (Spatial (None, 70, 128)           0         \n",
      "_________________________________________________________________\n",
      "lstm_1 (LSTM)                (None, 128)               131584    \n",
      "_________________________________________________________________\n",
      "dense_1 (Dense)              (None, 3)                 387       \n",
      "=================================================================\n",
      "Total params: 534,147\n",
      "Trainable params: 534,147\n",
      "Non-trainable params: 0\n",
      "_________________________________________________________________\n"
     ]
    }
   ],
   "source": [
    "model = Sequential()\n",
    "model.add(Embedding(keys+1, 128, input_length=70))\n",
    "model.add(SpatialDropout1D(0.4))\n",
    "model.add(LSTM(128, dropout=0.4, recurrent_dropout=0.4))\n",
    "model.add(Dense(3, activation='softmax'))\n",
    "model.compile(loss = 'categorical_crossentropy', optimizer='adam',metrics = ['accuracy'])\n",
    "\n",
    "model.summary()"
   ]
  },
  {
   "cell_type": "code",
   "execution_count": 99,
   "metadata": {},
   "outputs": [
    {
     "name": "stdout",
     "output_type": "stream",
     "text": [
      "Train on 540 samples, validate on 135 samples\n",
      "Epoch 1/50\n",
      "540/540 [==============================] - 3s 5ms/step - loss: 1.0025 - acc: 0.4796 - val_loss: 0.9671 - val_acc: 0.4667\n",
      "Epoch 2/50\n",
      "540/540 [==============================] - 2s 3ms/step - loss: 0.8837 - acc: 0.5796 - val_loss: 0.9298 - val_acc: 0.5481\n",
      "Epoch 3/50\n",
      "540/540 [==============================] - 2s 3ms/step - loss: 0.8380 - acc: 0.6333 - val_loss: 0.8953 - val_acc: 0.6074\n",
      "Epoch 4/50\n",
      "540/540 [==============================] - 2s 3ms/step - loss: 0.7685 - acc: 0.6463 - val_loss: 0.8782 - val_acc: 0.6148\n",
      "Epoch 5/50\n",
      "540/540 [==============================] - 2s 3ms/step - loss: 0.6877 - acc: 0.7056 - val_loss: 0.8505 - val_acc: 0.6222\n",
      "Epoch 6/50\n",
      "540/540 [==============================] - 2s 3ms/step - loss: 0.5845 - acc: 0.7796 - val_loss: 0.8218 - val_acc: 0.6444\n",
      "Epoch 7/50\n",
      "540/540 [==============================] - 2s 3ms/step - loss: 0.4431 - acc: 0.8481 - val_loss: 0.8163 - val_acc: 0.6889\n",
      "Epoch 8/50\n",
      "540/540 [==============================] - 2s 3ms/step - loss: 0.3516 - acc: 0.8981 - val_loss: 0.7800 - val_acc: 0.6667\n",
      "Epoch 9/50\n",
      "540/540 [==============================] - 2s 3ms/step - loss: 0.2395 - acc: 0.9278 - val_loss: 0.8430 - val_acc: 0.6667\n",
      "Epoch 10/50\n",
      "540/540 [==============================] - 2s 3ms/step - loss: 0.1887 - acc: 0.9407 - val_loss: 0.8239 - val_acc: 0.6741\n",
      "Epoch 11/50\n",
      "540/540 [==============================] - 2s 3ms/step - loss: 0.1407 - acc: 0.9593 - val_loss: 0.8578 - val_acc: 0.6815\n",
      "Epoch 12/50\n",
      "540/540 [==============================] - 2s 3ms/step - loss: 0.1345 - acc: 0.9648 - val_loss: 0.8733 - val_acc: 0.6741\n",
      "Epoch 13/50\n",
      "540/540 [==============================] - 2s 3ms/step - loss: 0.1235 - acc: 0.9611 - val_loss: 0.8291 - val_acc: 0.6741\n",
      "Epoch 14/50\n",
      "540/540 [==============================] - 2s 3ms/step - loss: 0.0951 - acc: 0.9741 - val_loss: 0.8652 - val_acc: 0.6889\n",
      "Epoch 15/50\n",
      "540/540 [==============================] - 2s 3ms/step - loss: 0.0717 - acc: 0.9815 - val_loss: 0.8810 - val_acc: 0.6963\n",
      "Epoch 16/50\n",
      "540/540 [==============================] - 2s 3ms/step - loss: 0.0692 - acc: 0.9870 - val_loss: 0.9401 - val_acc: 0.6889\n",
      "Epoch 17/50\n",
      "540/540 [==============================] - 2s 3ms/step - loss: 0.0502 - acc: 0.9907 - val_loss: 0.9655 - val_acc: 0.6963\n",
      "Epoch 18/50\n",
      "540/540 [==============================] - 2s 3ms/step - loss: 0.0412 - acc: 0.9889 - val_loss: 1.0056 - val_acc: 0.7037\n",
      "Epoch 19/50\n",
      "540/540 [==============================] - 2s 3ms/step - loss: 0.0393 - acc: 0.9907 - val_loss: 1.0269 - val_acc: 0.7037\n",
      "Epoch 20/50\n",
      "540/540 [==============================] - 2s 3ms/step - loss: 0.0485 - acc: 0.9870 - val_loss: 0.9925 - val_acc: 0.7185\n",
      "Epoch 21/50\n",
      "540/540 [==============================] - 2s 3ms/step - loss: 0.0492 - acc: 0.9870 - val_loss: 0.9776 - val_acc: 0.7259\n",
      "Epoch 22/50\n",
      "540/540 [==============================] - 2s 3ms/step - loss: 0.0440 - acc: 0.9926 - val_loss: 0.9667 - val_acc: 0.7111\n",
      "Epoch 23/50\n",
      "540/540 [==============================] - 2s 3ms/step - loss: 0.0430 - acc: 0.9889 - val_loss: 0.9869 - val_acc: 0.7259\n",
      "Epoch 24/50\n",
      "540/540 [==============================] - 2s 3ms/step - loss: 0.0327 - acc: 0.9926 - val_loss: 1.0386 - val_acc: 0.7333\n",
      "Epoch 25/50\n",
      "540/540 [==============================] - 2s 3ms/step - loss: 0.0303 - acc: 0.9907 - val_loss: 1.0581 - val_acc: 0.7333\n",
      "Epoch 26/50\n",
      "540/540 [==============================] - 2s 3ms/step - loss: 0.0214 - acc: 0.9963 - val_loss: 1.0907 - val_acc: 0.7259\n",
      "Epoch 27/50\n",
      "540/540 [==============================] - 2s 3ms/step - loss: 0.0218 - acc: 0.9944 - val_loss: 1.0797 - val_acc: 0.7333\n",
      "Epoch 28/50\n",
      "540/540 [==============================] - 2s 3ms/step - loss: 0.0294 - acc: 0.9889 - val_loss: 1.1108 - val_acc: 0.7333\n",
      "Epoch 29/50\n",
      "540/540 [==============================] - 2s 3ms/step - loss: 0.0238 - acc: 0.9907 - val_loss: 1.1326 - val_acc: 0.7407\n",
      "Epoch 30/50\n",
      "540/540 [==============================] - 2s 3ms/step - loss: 0.0212 - acc: 0.9944 - val_loss: 1.1554 - val_acc: 0.7185\n",
      "Epoch 31/50\n",
      "540/540 [==============================] - 2s 3ms/step - loss: 0.0312 - acc: 0.9870 - val_loss: 1.1673 - val_acc: 0.7333\n",
      "Epoch 32/50\n",
      "540/540 [==============================] - 2s 3ms/step - loss: 0.0190 - acc: 0.9944 - val_loss: 1.2112 - val_acc: 0.7259\n",
      "Epoch 33/50\n",
      "540/540 [==============================] - 2s 3ms/step - loss: 0.0351 - acc: 0.9870 - val_loss: 1.1052 - val_acc: 0.7333\n",
      "Epoch 34/50\n",
      "540/540 [==============================] - 2s 3ms/step - loss: 0.0316 - acc: 0.9852 - val_loss: 1.1433 - val_acc: 0.7259\n",
      "Epoch 35/50\n",
      "540/540 [==============================] - 2s 3ms/step - loss: 0.0187 - acc: 0.9926 - val_loss: 1.1585 - val_acc: 0.7111\n",
      "Epoch 36/50\n",
      "540/540 [==============================] - 2s 3ms/step - loss: 0.0247 - acc: 0.9889 - val_loss: 1.1555 - val_acc: 0.7185\n",
      "Epoch 37/50\n",
      "540/540 [==============================] - 2s 3ms/step - loss: 0.0146 - acc: 0.9963 - val_loss: 1.2004 - val_acc: 0.7333\n",
      "Epoch 38/50\n",
      "540/540 [==============================] - 2s 3ms/step - loss: 0.0446 - acc: 0.9889 - val_loss: 1.1845 - val_acc: 0.7111\n",
      "Epoch 39/50\n",
      "540/540 [==============================] - 2s 3ms/step - loss: 0.0266 - acc: 0.9870 - val_loss: 1.2395 - val_acc: 0.7111\n",
      "Epoch 40/50\n",
      "540/540 [==============================] - 2s 3ms/step - loss: 0.0264 - acc: 0.9889 - val_loss: 1.2334 - val_acc: 0.7185\n",
      "Epoch 41/50\n",
      "540/540 [==============================] - 2s 3ms/step - loss: 0.0214 - acc: 0.9944 - val_loss: 1.2188 - val_acc: 0.7185\n",
      "Epoch 42/50\n",
      "540/540 [==============================] - 2s 3ms/step - loss: 0.0193 - acc: 0.9926 - val_loss: 1.2197 - val_acc: 0.7333\n",
      "Epoch 43/50\n",
      "540/540 [==============================] - 2s 3ms/step - loss: 0.0292 - acc: 0.9889 - val_loss: 1.1839 - val_acc: 0.7037\n",
      "Epoch 44/50\n",
      "540/540 [==============================] - 2s 3ms/step - loss: 0.0165 - acc: 0.9944 - val_loss: 1.2231 - val_acc: 0.7185\n",
      "Epoch 45/50\n",
      "540/540 [==============================] - 2s 3ms/step - loss: 0.0314 - acc: 0.9889 - val_loss: 1.1247 - val_acc: 0.7259\n",
      "Epoch 46/50\n",
      "540/540 [==============================] - 2s 3ms/step - loss: 0.0183 - acc: 0.9889 - val_loss: 1.1996 - val_acc: 0.7407\n",
      "Epoch 47/50\n",
      "540/540 [==============================] - 2s 4ms/step - loss: 0.0230 - acc: 0.9907 - val_loss: 1.2484 - val_acc: 0.7333\n",
      "Epoch 48/50\n",
      "540/540 [==============================] - 2s 4ms/step - loss: 0.0175 - acc: 0.9907 - val_loss: 1.2324 - val_acc: 0.6963\n",
      "Epoch 49/50\n",
      "540/540 [==============================] - 2s 3ms/step - loss: 0.0185 - acc: 0.9907 - val_loss: 1.2591 - val_acc: 0.6963\n",
      "Epoch 50/50\n",
      "540/540 [==============================] - 2s 3ms/step - loss: 0.0246 - acc: 0.9907 - val_loss: 1.2171 - val_acc: 0.6963\n"
     ]
    }
   ],
   "source": [
    "history = model.fit([X_train], y,\n",
    "                    epochs=50,\n",
    "                    batch_size=32,\n",
    "                    validation_split=0.2)"
   ]
  },
  {
   "cell_type": "code",
   "execution_count": 100,
   "metadata": {},
   "outputs": [
    {
     "data": {
      "text/plain": [
       "dict_keys(['val_loss', 'val_acc', 'loss', 'acc'])"
      ]
     },
     "execution_count": 100,
     "metadata": {},
     "output_type": "execute_result"
    }
   ],
   "source": [
    "# Plotting Loss & Accuracy\n",
    "history_dict = history.history\n",
    "history_dict.keys()"
   ]
  },
  {
   "cell_type": "code",
   "execution_count": 101,
   "metadata": {},
   "outputs": [
    {
     "data": {
      "image/png": "[encoded data removed]",
      "text/plain": [
       "<Figure size 432x288 with 1 Axes>"
      ]
     },
     "metadata": {},
     "output_type": "display_data"
    }
   ],
   "source": [
    "acc = history.history['acc']\n",
    "val_acc = history.history['val_acc']\n",
    "loss = history.history['loss']\n",
    "val_loss = history.history['val_loss']\n",
    "\n",
    "epochs = range(1, len(acc) + 1)\n",
    "\n",
    "# \"bo\" is for \"blue dot\"\n",
    "plt.plot(epochs, loss, 'bo', label='Training loss')\n",
    "# b is for \"solid blue line\"\n",
    "plt.plot(epochs, val_loss, 'b', label='Validation loss')\n",
    "plt.title('Training and validation loss')\n",
    "plt.xlabel('Epochs')\n",
    "plt.ylabel('Loss')\n",
    "plt.legend()\n",
    "\n",
    "plt.show()"
   ]
  },
  {
   "cell_type": "code",
   "execution_count": 102,
   "metadata": {},
   "outputs": [
    {
     "data": {
      "image/png": "[encoded data removed]",
      "text/plain": [
       "<Figure size 432x288 with 1 Axes>"
      ]
     },
     "metadata": {},
     "output_type": "display_data"
    }
   ],
   "source": [
    "plt.clf()   # clear figure\n",
    "acc_values = history_dict['acc']\n",
    "val_acc_values = history_dict['val_acc']\n",
    "\n",
    "plt.plot(epochs, acc, 'bo', label='Training acc')\n",
    "plt.plot(epochs, val_acc, 'b', label='Validation acc')\n",
    "plt.title('Training and validation accuracy')\n",
    "plt.xlabel('Epochs')\n",
    "plt.ylabel('Loss')\n",
    "plt.legend()\n",
    "\n",
    "plt.show()"
   ]
  },
  {
   "cell_type": "code",
   "execution_count": 103,
   "metadata": {},
   "outputs": [
    {
     "name": "stdout",
     "output_type": "stream",
     "text": [
      "Best Training Accuracy: 99.62962971793281 Epoch: 25 Best Validation Accuracy: 74.07407416237726 Epoch: 28\n",
      "Lowest Training Loss value: 1.4628871323333845 Epoch: 36 Lowest Validation Loss: 78.00403162285133 Epoch: 7\n"
     ]
    }
   ],
   "source": [
    "print('Best Training Accuracy:', max(acc)*100, 'Epoch:', np.argmax(acc),\n",
    "     'Best Validation Accuracy:', max(val_acc)*100, 'Epoch:', np.argmax(val_acc))\n",
    "print('Lowest Training Loss value:', min(loss)*100, 'Epoch:', np.argmin(loss),\n",
    "     'Lowest Validation Loss:', min(val_loss)*100, 'Epoch:', np.argmin(val_loss))"
   ]
  },
  {
   "cell_type": "markdown",
   "metadata": {},
   "source": [
    "### LSTM BEST MODEL TEST RESULTS:"
   ]
  },
  {
   "cell_type": "code",
   "execution_count": 112,
   "metadata": {
    "collapsed": true
   },
   "outputs": [],
   "source": [
    "# Some memory clean-up\n",
    "K.clear_session()"
   ]
  },
  {
   "cell_type": "code",
   "execution_count": 105,
   "metadata": {
    "collapsed": true
   },
   "outputs": [],
   "source": [
    "model = Sequential()\n",
    "model.add(Embedding(keys+1, 128, input_length=70))\n",
    "model.add(SpatialDropout1D(0.4))\n",
    "model.add(LSTM(128, dropout=0.4, recurrent_dropout=0.4))\n",
    "model.add(Dense(3, activation='softmax'))\n",
    "model.compile(loss = 'categorical_crossentropy', optimizer='adam',metrics = ['accuracy'])"
   ]
  },
  {
   "cell_type": "code",
   "execution_count": 106,
   "metadata": {
    "collapsed": true
   },
   "outputs": [],
   "source": [
    "model.compile(loss='categorical_crossentropy', \n",
    "              optimizer='adam', \n",
    "              metrics=['accuracy'])"
   ]
  },
  {
   "cell_type": "code",
   "execution_count": 107,
   "metadata": {},
   "outputs": [
    {
     "data": {
      "text/plain": [
       "<keras.callbacks.History at 0x12fb6dcf8>"
      ]
     },
     "execution_count": 107,
     "metadata": {},
     "output_type": "execute_result"
    }
   ],
   "source": [
    "model.fit([X_train], y, verbose=0, epochs=28, \n",
    "          batch_size=32)"
   ]
  },
  {
   "cell_type": "code",
   "execution_count": 108,
   "metadata": {},
   "outputs": [
    {
     "name": "stdout",
     "output_type": "stream",
     "text": [
      "225/225 [==============================] - 0s 2ms/step\n"
     ]
    },
    {
     "data": {
      "text/plain": [
       "[1.1716262732611762, 0.6933333333333334]"
      ]
     },
     "execution_count": 108,
     "metadata": {},
     "output_type": "execute_result"
    }
   ],
   "source": [
    "model.evaluate(X_test, to_categorical(y_test.as_matrix()+1))"
   ]
  },
  {
   "cell_type": "code",
   "execution_count": 109,
   "metadata": {
    "collapsed": true
   },
   "outputs": [],
   "source": [
    "y_train.as_matrix()+1\n",
    "y_ = model.predict(X_test)\n",
    "y_[-1] = [0,0,1]"
   ]
  },
  {
   "cell_type": "code",
   "execution_count": 110,
   "metadata": {},
   "outputs": [
    {
     "name": "stdout",
     "output_type": "stream",
     "text": [
      "F1 Score (Macro): 0.6122567287784679\n",
      "F1 Score (Micro): 0.6933333333333334\n"
     ]
    }
   ],
   "source": [
    "f_macro = f1_score(to_categorical([np.argmax(x) for x in y_]), to_categorical(y_test.as_matrix()+1), average='macro')\n",
    "f_micro = f1_score(to_categorical([np.argmax(x) for x in y_]), to_categorical(y_test.as_matrix()+1), average='micro')\n",
    "print('F1 Score (Macro):', f_macro)\n",
    "print('F1 Score (Micro):', f_micro)"
   ]
  },
  {
   "cell_type": "code",
   "execution_count": 111,
   "metadata": {},
   "outputs": [
    {
     "name": "stdout",
     "output_type": "stream",
     "text": [
      "             precision    recall  f1-score   support\n",
      "\n",
      "         -1       0.39      0.41      0.40        22\n",
      "          0       0.77      0.78      0.77       114\n",
      "          1       0.67      0.65      0.66        89\n",
      "\n",
      "avg / total       0.69      0.69      0.69       225\n",
      "\n"
     ]
    }
   ],
   "source": [
    "target_names = ['-1', '0', '1']\n",
    "report = classification_report(to_categorical([np.argmax(x) for x in y_]), \n",
    "                               to_categorical(y_test.as_matrix()+1), target_names=target_names)\n",
    "print(report)"
   ]
  },
  {
   "cell_type": "markdown",
   "metadata": {},
   "source": [
    "## GRU RNN:"
   ]
  },
  {
   "cell_type": "code",
   "execution_count": 130,
   "metadata": {},
   "outputs": [
    {
     "name": "stdout",
     "output_type": "stream",
     "text": [
      "_________________________________________________________________\n",
      "Layer (type)                 Output Shape              Param #   \n",
      "=================================================================\n",
      "embedding_1 (Embedding)      (None, 70, 128)           402176    \n",
      "_________________________________________________________________\n",
      "gru_1 (GRU)                  (None, 70, 128)           98688     \n",
      "_________________________________________________________________\n",
      "gru_2 (GRU)                  (None, 128)               98688     \n",
      "_________________________________________________________________\n",
      "dense_1 (Dense)              (None, 3)                 387       \n",
      "_________________________________________________________________\n",
      "activation_1 (Activation)    (None, 3)                 0         \n",
      "=================================================================\n",
      "Total params: 599,939\n",
      "Trainable params: 599,939\n",
      "Non-trainable params: 0\n",
      "_________________________________________________________________\n"
     ]
    }
   ],
   "source": [
    "model = Sequential()\n",
    "model.add(Embedding(keys+1, 128, input_length=70))\n",
    "model.add(GRU(128, dropout=0.2, return_sequences=True)) \n",
    "model.add(GRU(128, dropout=0.2))\n",
    "model.add(Dense(3))\n",
    "model.add(Activation('softmax'))\n",
    "\n",
    "model.compile(loss = 'categorical_crossentropy', optimizer='adam',metrics = ['accuracy'])\n",
    "\n",
    "model.summary()"
   ]
  },
  {
   "cell_type": "code",
   "execution_count": 131,
   "metadata": {},
   "outputs": [
    {
     "name": "stdout",
     "output_type": "stream",
     "text": [
      "Train on 540 samples, validate on 135 samples\n",
      "Epoch 1/50\n",
      "540/540 [==============================] - 4s 7ms/step - loss: 0.9541 - acc: 0.5019 - val_loss: 0.9670 - val_acc: 0.5926\n",
      "Epoch 2/50\n",
      "540/540 [==============================] - 2s 4ms/step - loss: 0.8043 - acc: 0.6315 - val_loss: 0.9088 - val_acc: 0.6148\n",
      "Epoch 3/50\n",
      "540/540 [==============================] - 2s 4ms/step - loss: 0.6418 - acc: 0.7056 - val_loss: 0.9439 - val_acc: 0.6148\n",
      "Epoch 4/50\n",
      "540/540 [==============================] - 2s 4ms/step - loss: 0.3735 - acc: 0.8778 - val_loss: 1.0605 - val_acc: 0.6519\n",
      "Epoch 5/50\n",
      "540/540 [==============================] - 2s 4ms/step - loss: 0.1875 - acc: 0.9389 - val_loss: 1.1708 - val_acc: 0.5926\n",
      "Epoch 6/50\n",
      "540/540 [==============================] - 2s 4ms/step - loss: 0.1126 - acc: 0.9667 - val_loss: 1.0976 - val_acc: 0.6593\n",
      "Epoch 7/50\n",
      "540/540 [==============================] - 2s 5ms/step - loss: 0.0652 - acc: 0.9870 - val_loss: 1.2214 - val_acc: 0.6889\n",
      "Epoch 8/50\n",
      "540/540 [==============================] - 2s 4ms/step - loss: 0.0547 - acc: 0.9852 - val_loss: 1.3384 - val_acc: 0.6815\n",
      "Epoch 9/50\n",
      "540/540 [==============================] - 2s 4ms/step - loss: 0.0467 - acc: 0.9870 - val_loss: 1.3520 - val_acc: 0.6667\n",
      "Epoch 10/50\n",
      "540/540 [==============================] - 3s 5ms/step - loss: 0.0396 - acc: 0.9870 - val_loss: 1.4139 - val_acc: 0.6667\n",
      "Epoch 11/50\n",
      "540/540 [==============================] - 2s 4ms/step - loss: 0.0443 - acc: 0.9778 - val_loss: 1.3972 - val_acc: 0.6889\n",
      "Epoch 12/50\n",
      "540/540 [==============================] - 2s 5ms/step - loss: 0.0408 - acc: 0.9907 - val_loss: 1.2779 - val_acc: 0.6519\n",
      "Epoch 13/50\n",
      "540/540 [==============================] - 3s 5ms/step - loss: 0.0271 - acc: 0.9926 - val_loss: 1.3586 - val_acc: 0.6741\n",
      "Epoch 14/50\n",
      "540/540 [==============================] - 3s 5ms/step - loss: 0.0207 - acc: 0.9926 - val_loss: 1.3892 - val_acc: 0.6593\n",
      "Epoch 15/50\n",
      "540/540 [==============================] - 2s 5ms/step - loss: 0.0197 - acc: 0.9926 - val_loss: 1.4800 - val_acc: 0.6667\n",
      "Epoch 16/50\n",
      "540/540 [==============================] - 3s 5ms/step - loss: 0.0202 - acc: 0.9889 - val_loss: 1.4952 - val_acc: 0.7037\n",
      "Epoch 17/50\n",
      "540/540 [==============================] - 2s 5ms/step - loss: 0.0271 - acc: 0.9852 - val_loss: 1.3729 - val_acc: 0.6889\n",
      "Epoch 18/50\n",
      "540/540 [==============================] - 3s 5ms/step - loss: 0.0214 - acc: 0.9907 - val_loss: 1.4596 - val_acc: 0.6889\n",
      "Epoch 19/50\n",
      "540/540 [==============================] - 2s 5ms/step - loss: 0.0231 - acc: 0.9907 - val_loss: 1.4509 - val_acc: 0.6667\n",
      "Epoch 20/50\n",
      "540/540 [==============================] - 3s 5ms/step - loss: 0.0326 - acc: 0.9852 - val_loss: 1.3820 - val_acc: 0.6741\n",
      "Epoch 21/50\n",
      "540/540 [==============================] - 2s 4ms/step - loss: 0.0253 - acc: 0.9907 - val_loss: 1.4387 - val_acc: 0.6667\n",
      "Epoch 22/50\n",
      "540/540 [==============================] - 2s 4ms/step - loss: 0.0248 - acc: 0.9889 - val_loss: 1.3304 - val_acc: 0.7037\n",
      "Epoch 23/50\n",
      "540/540 [==============================] - 2s 4ms/step - loss: 0.0189 - acc: 0.9926 - val_loss: 1.4435 - val_acc: 0.6963\n",
      "Epoch 24/50\n",
      "540/540 [==============================] - 2s 4ms/step - loss: 0.0195 - acc: 0.9926 - val_loss: 1.4004 - val_acc: 0.7037\n",
      "Epoch 25/50\n",
      "540/540 [==============================] - 2s 4ms/step - loss: 0.0156 - acc: 0.9944 - val_loss: 1.4226 - val_acc: 0.7037\n",
      "Epoch 26/50\n",
      "540/540 [==============================] - 2s 4ms/step - loss: 0.0252 - acc: 0.9907 - val_loss: 1.4701 - val_acc: 0.6889\n",
      "Epoch 27/50\n",
      "540/540 [==============================] - 2s 4ms/step - loss: 0.0155 - acc: 0.9963 - val_loss: 1.4915 - val_acc: 0.6815\n",
      "Epoch 28/50\n",
      "540/540 [==============================] - 2s 4ms/step - loss: 0.0172 - acc: 0.9926 - val_loss: 1.4040 - val_acc: 0.6815\n",
      "Epoch 29/50\n",
      "540/540 [==============================] - 2s 4ms/step - loss: 0.0195 - acc: 0.9889 - val_loss: 1.5054 - val_acc: 0.6889\n",
      "Epoch 30/50\n",
      "540/540 [==============================] - 2s 4ms/step - loss: 0.0199 - acc: 0.9944 - val_loss: 1.5282 - val_acc: 0.6815\n",
      "Epoch 31/50\n",
      "540/540 [==============================] - 2s 4ms/step - loss: 0.0180 - acc: 0.9907 - val_loss: 1.4221 - val_acc: 0.6963\n",
      "Epoch 32/50\n",
      "540/540 [==============================] - 2s 4ms/step - loss: 0.0212 - acc: 0.9907 - val_loss: 1.4263 - val_acc: 0.6963\n",
      "Epoch 33/50\n",
      "540/540 [==============================] - 2s 4ms/step - loss: 0.0194 - acc: 0.9907 - val_loss: 1.3725 - val_acc: 0.6963\n",
      "Epoch 34/50\n",
      "540/540 [==============================] - 2s 4ms/step - loss: 0.0199 - acc: 0.9870 - val_loss: 1.5817 - val_acc: 0.6815\n",
      "Epoch 35/50\n",
      "540/540 [==============================] - 2s 4ms/step - loss: 0.0151 - acc: 0.9944 - val_loss: 1.5913 - val_acc: 0.6741\n",
      "Epoch 36/50\n",
      "540/540 [==============================] - 2s 4ms/step - loss: 0.0216 - acc: 0.9870 - val_loss: 1.5247 - val_acc: 0.6667\n",
      "Epoch 37/50\n",
      "540/540 [==============================] - 2s 4ms/step - loss: 0.0171 - acc: 0.9926 - val_loss: 1.5252 - val_acc: 0.6815\n",
      "Epoch 38/50\n",
      "540/540 [==============================] - 3s 5ms/step - loss: 0.0186 - acc: 0.9907 - val_loss: 1.5636 - val_acc: 0.6741\n",
      "Epoch 39/50\n",
      "540/540 [==============================] - 2s 4ms/step - loss: 0.0205 - acc: 0.9889 - val_loss: 1.4717 - val_acc: 0.6889\n",
      "Epoch 40/50\n",
      "540/540 [==============================] - 2s 4ms/step - loss: 0.0181 - acc: 0.9926 - val_loss: 1.4017 - val_acc: 0.6963\n",
      "Epoch 41/50\n",
      "540/540 [==============================] - 2s 4ms/step - loss: 0.0167 - acc: 0.9907 - val_loss: 1.4297 - val_acc: 0.6815\n",
      "Epoch 42/50\n",
      "540/540 [==============================] - 2s 4ms/step - loss: 0.0140 - acc: 0.9907 - val_loss: 1.5475 - val_acc: 0.6963\n",
      "Epoch 43/50\n",
      "540/540 [==============================] - 2s 4ms/step - loss: 0.0207 - acc: 0.9926 - val_loss: 1.4661 - val_acc: 0.6741\n",
      "Epoch 44/50\n",
      "540/540 [==============================] - 2s 4ms/step - loss: 0.0221 - acc: 0.9852 - val_loss: 1.4259 - val_acc: 0.6889\n",
      "Epoch 45/50\n",
      "540/540 [==============================] - 2s 4ms/step - loss: 0.0171 - acc: 0.9870 - val_loss: 1.4473 - val_acc: 0.7111\n",
      "Epoch 46/50\n",
      "540/540 [==============================] - 2s 4ms/step - loss: 0.0197 - acc: 0.9907 - val_loss: 1.4833 - val_acc: 0.7037\n",
      "Epoch 47/50\n",
      "540/540 [==============================] - 2s 4ms/step - loss: 0.0152 - acc: 0.9926 - val_loss: 1.4855 - val_acc: 0.6741\n",
      "Epoch 48/50\n",
      "540/540 [==============================] - 2s 4ms/step - loss: 0.0180 - acc: 0.9907 - val_loss: 1.4503 - val_acc: 0.7111\n",
      "Epoch 49/50\n",
      "540/540 [==============================] - 2s 4ms/step - loss: 0.0167 - acc: 0.9926 - val_loss: 1.4385 - val_acc: 0.6889\n",
      "Epoch 50/50\n",
      "540/540 [==============================] - 2s 4ms/step - loss: 0.0124 - acc: 0.9963 - val_loss: 1.5167 - val_acc: 0.7037\n"
     ]
    }
   ],
   "source": [
    "history = model.fit([X_train], y,\n",
    "                    epochs=50,\n",
    "                    batch_size=32,\n",
    "                    validation_split=0.2)"
   ]
  },
  {
   "cell_type": "code",
   "execution_count": 132,
   "metadata": {},
   "outputs": [
    {
     "data": {
      "text/plain": [
       "dict_keys(['val_loss', 'val_acc', 'loss', 'acc'])"
      ]
     },
     "execution_count": 132,
     "metadata": {},
     "output_type": "execute_result"
    }
   ],
   "source": [
    "# Plotting Loss & Accuracy\n",
    "history_dict = history.history\n",
    "history_dict.keys()"
   ]
  },
  {
   "cell_type": "code",
   "execution_count": 133,
   "metadata": {},
   "outputs": [
    {
     "data": {
      "image/png": "[encoded data removed]",
      "text/plain": [
       "<Figure size 432x288 with 1 Axes>"
      ]
     },
     "metadata": {},
     "output_type": "display_data"
    }
   ],
   "source": [
    "acc = history.history['acc']\n",
    "val_acc = history.history['val_acc']\n",
    "loss = history.history['loss']\n",
    "val_loss = history.history['val_loss']\n",
    "\n",
    "epochs = range(1, len(acc) + 1)\n",
    "\n",
    "# \"bo\" is for \"blue dot\"\n",
    "plt.plot(epochs, loss, 'bo', label='Training loss')\n",
    "# b is for \"solid blue line\"\n",
    "plt.plot(epochs, val_loss, 'b', label='Validation loss')\n",
    "plt.title('Training and validation loss')\n",
    "plt.xlabel('Epochs')\n",
    "plt.ylabel('Loss')\n",
    "plt.legend()\n",
    "\n",
    "plt.show()"
   ]
  },
  {
   "cell_type": "code",
   "execution_count": 134,
   "metadata": {},
   "outputs": [
    {
     "data": {
      "image/png": "[encoded data removed]",
      "text/plain": [
       "<Figure size 432x288 with 1 Axes>"
      ]
     },
     "metadata": {},
     "output_type": "display_data"
    }
   ],
   "source": [
    "plt.clf()   # clear figure\n",
    "acc_values = history_dict['acc']\n",
    "val_acc_values = history_dict['val_acc']\n",
    "\n",
    "plt.plot(epochs, acc, 'bo', label='Training acc')\n",
    "plt.plot(epochs, val_acc, 'b', label='Validation acc')\n",
    "plt.title('Training and validation accuracy')\n",
    "plt.xlabel('Epochs')\n",
    "plt.ylabel('Loss')\n",
    "plt.legend()\n",
    "\n",
    "plt.show()"
   ]
  },
  {
   "cell_type": "code",
   "execution_count": 135,
   "metadata": {},
   "outputs": [
    {
     "name": "stdout",
     "output_type": "stream",
     "text": [
      "Best Training Accuracy: 99.62962971793281 Epoch: 26 Best Validation Accuracy: 71.1111111994143 Epoch: 44\n",
      "Lowest Training Loss value: 1.2413861785359956 Epoch: 49 Lowest Validation Loss: 90.88407825540614 Epoch: 1\n"
     ]
    }
   ],
   "source": [
    "print('Best Training Accuracy:', max(acc)*100, 'Epoch:', np.argmax(acc),\n",
    "     'Best Validation Accuracy:', max(val_acc)*100, 'Epoch:', np.argmax(val_acc))\n",
    "print('Lowest Training Loss value:', min(loss)*100, 'Epoch:', np.argmin(loss),\n",
    "     'Lowest Validation Loss:', min(val_loss)*100, 'Epoch:', np.argmin(val_loss))"
   ]
  },
  {
   "cell_type": "markdown",
   "metadata": {},
   "source": [
    "### GRU RNN BEST MODEL TEST RESULTS:"
   ]
  },
  {
   "cell_type": "code",
   "execution_count": 136,
   "metadata": {
    "collapsed": true
   },
   "outputs": [],
   "source": [
    "# Some memory clean-up\n",
    "K.clear_session()"
   ]
  },
  {
   "cell_type": "code",
   "execution_count": 137,
   "metadata": {
    "collapsed": true
   },
   "outputs": [],
   "source": [
    "model = Sequential()\n",
    "model.add(Embedding(keys+1, 128, input_length=70))\n",
    "model.add(GRU(128, dropout=0.2, return_sequences=True)) \n",
    "model.add(GRU(128, dropout=0.2))\n",
    "model.add(Dense(3))\n",
    "model.add(Activation('softmax'))\n",
    "\n",
    "model.compile(loss = 'categorical_crossentropy', optimizer='adam', metrics = ['accuracy'])"
   ]
  },
  {
   "cell_type": "code",
   "execution_count": 138,
   "metadata": {
    "collapsed": true
   },
   "outputs": [],
   "source": [
    "model.compile(loss='categorical_crossentropy', \n",
    "              optimizer='adam', \n",
    "              metrics=['accuracy'])"
   ]
  },
  {
   "cell_type": "code",
   "execution_count": 139,
   "metadata": {},
   "outputs": [
    {
     "data": {
      "text/plain": [
       "<keras.callbacks.History at 0x1321f1390>"
      ]
     },
     "execution_count": 139,
     "metadata": {},
     "output_type": "execute_result"
    }
   ],
   "source": [
    "model.fit([X_train], y, verbose=0, epochs=44, \n",
    "          batch_size=32)"
   ]
  },
  {
   "cell_type": "code",
   "execution_count": 140,
   "metadata": {
    "scrolled": true
   },
   "outputs": [
    {
     "name": "stdout",
     "output_type": "stream",
     "text": [
      "225/225 [==============================] - 0s 2ms/step\n"
     ]
    },
    {
     "data": {
      "text/plain": [
       "[1.7021820534600152, 0.6977777777777778]"
      ]
     },
     "execution_count": 140,
     "metadata": {},
     "output_type": "execute_result"
    }
   ],
   "source": [
    "model.evaluate(X_test, to_categorical(y_test.as_matrix()+1))"
   ]
  },
  {
   "cell_type": "code",
   "execution_count": 141,
   "metadata": {
    "collapsed": true
   },
   "outputs": [],
   "source": [
    "y_train.as_matrix()+1\n",
    "y_ = model.predict(X_test)\n",
    "y_[-1] = [0,0,1]"
   ]
  },
  {
   "cell_type": "code",
   "execution_count": 142,
   "metadata": {},
   "outputs": [
    {
     "name": "stdout",
     "output_type": "stream",
     "text": [
      "F1 Score (Macro): 0.6114395720149234\n",
      "F1 Score (Micro): 0.6977777777777778\n"
     ]
    }
   ],
   "source": [
    "f_macro = f1_score(to_categorical([np.argmax(x) for x in y_]), to_categorical(y_test.as_matrix()+1), average='macro')\n",
    "f_micro = f1_score(to_categorical([np.argmax(x) for x in y_]), to_categorical(y_test.as_matrix()+1), average='micro')\n",
    "print('F1 Score (Macro):', f_macro)\n",
    "print('F1 Score (Micro):', f_micro)"
   ]
  },
  {
   "cell_type": "code",
   "execution_count": 143,
   "metadata": {},
   "outputs": [
    {
     "name": "stdout",
     "output_type": "stream",
     "text": [
      "             precision    recall  f1-score   support\n",
      "\n",
      "         -1       0.39      0.35      0.37        26\n",
      "          0       0.76      0.77      0.77       114\n",
      "          1       0.70      0.71      0.70        85\n",
      "\n",
      "avg / total       0.69      0.70      0.70       225\n",
      "\n"
     ]
    }
   ],
   "source": [
    "target_names = ['-1', '0', '1']\n",
    "report = classification_report(to_categorical([np.argmax(x) for x in y_]), \n",
    "                               to_categorical(y_test.as_matrix()+1), target_names=target_names)\n",
    "print(report)"
   ]
  },
  {
   "cell_type": "markdown",
   "metadata": {},
   "source": [
    "## BiLSTM:"
   ]
  },
  {
   "cell_type": "code",
   "execution_count": 162,
   "metadata": {},
   "outputs": [
    {
     "name": "stdout",
     "output_type": "stream",
     "text": [
      "_________________________________________________________________\n",
      "Layer (type)                 Output Shape              Param #   \n",
      "=================================================================\n",
      "embedding_1 (Embedding)      (None, 70, 128)           402176    \n",
      "_________________________________________________________________\n",
      "bidirectional_1 (Bidirection (None, 128)               98816     \n",
      "_________________________________________________________________\n",
      "dropout_1 (Dropout)          (None, 128)               0         \n",
      "_________________________________________________________________\n",
      "dense_1 (Dense)              (None, 3)                 387       \n",
      "=================================================================\n",
      "Total params: 501,379\n",
      "Trainable params: 501,379\n",
      "Non-trainable params: 0\n",
      "_________________________________________________________________\n"
     ]
    }
   ],
   "source": [
    "model = Sequential()\n",
    "model.add(Embedding(keys+1, 128, input_length=70))\n",
    "model.add(Bidirectional(LSTM(64)))\n",
    "model.add(Dropout(0.5))\n",
    "model.add(Dense(3, activation='softmax'))\n",
    "\n",
    "model.compile(loss = 'categorical_crossentropy', optimizer='adam', metrics = ['accuracy'])\n",
    "\n",
    "model.summary()"
   ]
  },
  {
   "cell_type": "code",
   "execution_count": 163,
   "metadata": {},
   "outputs": [
    {
     "name": "stdout",
     "output_type": "stream",
     "text": [
      "Train on 540 samples, validate on 135 samples\n",
      "Epoch 1/50\n",
      "540/540 [==============================] - 3s 6ms/step - loss: 0.9880 - acc: 0.4833 - val_loss: 0.9574 - val_acc: 0.4667\n",
      "Epoch 2/50\n",
      "540/540 [==============================] - 2s 3ms/step - loss: 0.8814 - acc: 0.5833 - val_loss: 0.9056 - val_acc: 0.6000\n",
      "Epoch 3/50\n",
      "540/540 [==============================] - 1s 3ms/step - loss: 0.8252 - acc: 0.6296 - val_loss: 0.8922 - val_acc: 0.6074\n",
      "Epoch 4/50\n",
      "540/540 [==============================] - 1s 3ms/step - loss: 0.7247 - acc: 0.6907 - val_loss: 0.8603 - val_acc: 0.6444\n",
      "Epoch 5/50\n",
      "540/540 [==============================] - 2s 3ms/step - loss: 0.5953 - acc: 0.7611 - val_loss: 0.8295 - val_acc: 0.6222\n",
      "Epoch 6/50\n",
      "540/540 [==============================] - 2s 3ms/step - loss: 0.4111 - acc: 0.8463 - val_loss: 0.8405 - val_acc: 0.6741\n",
      "Epoch 7/50\n",
      "540/540 [==============================] - 1s 3ms/step - loss: 0.2664 - acc: 0.9167 - val_loss: 0.8745 - val_acc: 0.7037\n",
      "Epoch 8/50\n",
      "540/540 [==============================] - 2s 3ms/step - loss: 0.1694 - acc: 0.9537 - val_loss: 1.0159 - val_acc: 0.6222\n",
      "Epoch 9/50\n",
      "540/540 [==============================] - 2s 3ms/step - loss: 0.1369 - acc: 0.9574 - val_loss: 1.0325 - val_acc: 0.6667\n",
      "Epoch 10/50\n",
      "540/540 [==============================] - 2s 3ms/step - loss: 0.1116 - acc: 0.9778 - val_loss: 0.9020 - val_acc: 0.6889\n",
      "Epoch 11/50\n",
      "540/540 [==============================] - 1s 3ms/step - loss: 0.0838 - acc: 0.9796 - val_loss: 0.8960 - val_acc: 0.6667\n",
      "Epoch 12/50\n",
      "540/540 [==============================] - 2s 3ms/step - loss: 0.0682 - acc: 0.9870 - val_loss: 1.0127 - val_acc: 0.6370\n",
      "Epoch 13/50\n",
      "540/540 [==============================] - 1s 3ms/step - loss: 0.0507 - acc: 0.9889 - val_loss: 1.1327 - val_acc: 0.6815\n",
      "Epoch 14/50\n",
      "540/540 [==============================] - 2s 3ms/step - loss: 0.0449 - acc: 0.9889 - val_loss: 1.1725 - val_acc: 0.6741\n",
      "Epoch 15/50\n",
      "540/540 [==============================] - 2s 3ms/step - loss: 0.0467 - acc: 0.9889 - val_loss: 1.1600 - val_acc: 0.6667\n",
      "Epoch 16/50\n",
      "540/540 [==============================] - 2s 3ms/step - loss: 0.0390 - acc: 0.9926 - val_loss: 1.1918 - val_acc: 0.6815\n",
      "Epoch 17/50\n",
      "540/540 [==============================] - 2s 3ms/step - loss: 0.0294 - acc: 0.9926 - val_loss: 1.2683 - val_acc: 0.6889\n",
      "Epoch 18/50\n",
      "540/540 [==============================] - 2s 3ms/step - loss: 0.0403 - acc: 0.9907 - val_loss: 1.3255 - val_acc: 0.6889\n",
      "Epoch 19/50\n",
      "540/540 [==============================] - 2s 3ms/step - loss: 0.0400 - acc: 0.9870 - val_loss: 1.1872 - val_acc: 0.7037\n",
      "Epoch 20/50\n",
      "540/540 [==============================] - 2s 3ms/step - loss: 0.0349 - acc: 0.9907 - val_loss: 1.1920 - val_acc: 0.6963\n",
      "Epoch 21/50\n",
      "540/540 [==============================] - 1s 3ms/step - loss: 0.0254 - acc: 0.9926 - val_loss: 1.2847 - val_acc: 0.6889\n",
      "Epoch 22/50\n",
      "540/540 [==============================] - 2s 3ms/step - loss: 0.0276 - acc: 0.9907 - val_loss: 1.3549 - val_acc: 0.6963\n",
      "Epoch 23/50\n",
      "540/540 [==============================] - 2s 3ms/step - loss: 0.0271 - acc: 0.9926 - val_loss: 1.3196 - val_acc: 0.6889\n",
      "Epoch 24/50\n",
      "540/540 [==============================] - 2s 3ms/step - loss: 0.0252 - acc: 0.9926 - val_loss: 1.3423 - val_acc: 0.7111\n",
      "Epoch 25/50\n",
      "540/540 [==============================] - 1s 3ms/step - loss: 0.0239 - acc: 0.9944 - val_loss: 1.3918 - val_acc: 0.7111\n",
      "Epoch 26/50\n",
      "540/540 [==============================] - 2s 3ms/step - loss: 0.0277 - acc: 0.9889 - val_loss: 1.3779 - val_acc: 0.7037\n",
      "Epoch 27/50\n",
      "540/540 [==============================] - 2s 3ms/step - loss: 0.0228 - acc: 0.9926 - val_loss: 1.4429 - val_acc: 0.7037\n",
      "Epoch 28/50\n",
      "540/540 [==============================] - 2s 3ms/step - loss: 0.0230 - acc: 0.9926 - val_loss: 1.4397 - val_acc: 0.6963\n",
      "Epoch 29/50\n",
      "540/540 [==============================] - 1s 3ms/step - loss: 0.0212 - acc: 0.9944 - val_loss: 1.4339 - val_acc: 0.6963\n",
      "Epoch 30/50\n",
      "540/540 [==============================] - 2s 3ms/step - loss: 0.0281 - acc: 0.9926 - val_loss: 1.4309 - val_acc: 0.7259\n",
      "Epoch 31/50\n",
      "540/540 [==============================] - 1s 3ms/step - loss: 0.0242 - acc: 0.9907 - val_loss: 1.3802 - val_acc: 0.7259\n",
      "Epoch 32/50\n",
      "540/540 [==============================] - 2s 3ms/step - loss: 0.0229 - acc: 0.9907 - val_loss: 1.4269 - val_acc: 0.7111\n",
      "Epoch 33/50\n",
      "540/540 [==============================] - 1s 3ms/step - loss: 0.0205 - acc: 0.9926 - val_loss: 1.4529 - val_acc: 0.7185\n",
      "Epoch 34/50\n",
      "540/540 [==============================] - 2s 3ms/step - loss: 0.0203 - acc: 0.9907 - val_loss: 1.4996 - val_acc: 0.7259\n",
      "Epoch 35/50\n",
      "540/540 [==============================] - 2s 3ms/step - loss: 0.0166 - acc: 0.9926 - val_loss: 1.5518 - val_acc: 0.7259\n",
      "Epoch 36/50\n",
      "540/540 [==============================] - 2s 3ms/step - loss: 0.0201 - acc: 0.9926 - val_loss: 1.5502 - val_acc: 0.7333\n",
      "Epoch 37/50\n",
      "540/540 [==============================] - 2s 3ms/step - loss: 0.0250 - acc: 0.9889 - val_loss: 1.4838 - val_acc: 0.7037\n",
      "Epoch 38/50\n",
      "540/540 [==============================] - 1s 3ms/step - loss: 0.0203 - acc: 0.9889 - val_loss: 1.5567 - val_acc: 0.7037\n",
      "Epoch 39/50\n",
      "540/540 [==============================] - 2s 3ms/step - loss: 0.0201 - acc: 0.9889 - val_loss: 1.5792 - val_acc: 0.6963\n",
      "Epoch 40/50\n",
      "540/540 [==============================] - 1s 3ms/step - loss: 0.0191 - acc: 0.9926 - val_loss: 1.5752 - val_acc: 0.7111\n",
      "Epoch 41/50\n",
      "540/540 [==============================] - 2s 3ms/step - loss: 0.0158 - acc: 0.9926 - val_loss: 1.6164 - val_acc: 0.6889\n",
      "Epoch 42/50\n",
      "540/540 [==============================] - 1s 3ms/step - loss: 0.0190 - acc: 0.9926 - val_loss: 1.6547 - val_acc: 0.7037\n",
      "Epoch 43/50\n",
      "540/540 [==============================] - 1s 3ms/step - loss: 0.0207 - acc: 0.9926 - val_loss: 1.5509 - val_acc: 0.6963\n",
      "Epoch 44/50\n",
      "540/540 [==============================] - 1s 3ms/step - loss: 0.0214 - acc: 0.9889 - val_loss: 1.5354 - val_acc: 0.7037\n",
      "Epoch 45/50\n",
      "540/540 [==============================] - 1s 3ms/step - loss: 0.0160 - acc: 0.9926 - val_loss: 1.6107 - val_acc: 0.7037\n",
      "Epoch 46/50\n",
      "540/540 [==============================] - 2s 3ms/step - loss: 0.0165 - acc: 0.9907 - val_loss: 1.6787 - val_acc: 0.7111\n",
      "Epoch 47/50\n",
      "540/540 [==============================] - 2s 3ms/step - loss: 0.0238 - acc: 0.9889 - val_loss: 1.7396 - val_acc: 0.7037\n",
      "Epoch 48/50\n",
      "540/540 [==============================] - 2s 3ms/step - loss: 0.0229 - acc: 0.9907 - val_loss: 1.5061 - val_acc: 0.7185\n",
      "Epoch 49/50\n",
      "540/540 [==============================] - 2s 3ms/step - loss: 0.0178 - acc: 0.9889 - val_loss: 1.5917 - val_acc: 0.7185\n",
      "Epoch 50/50\n",
      "540/540 [==============================] - 1s 3ms/step - loss: 0.0206 - acc: 0.9926 - val_loss: 1.6315 - val_acc: 0.7037\n",
      "CPU times: user 4min 58s, sys: 45.6 s, total: 5min 44s\n",
      "Wall time: 1min 19s\n"
     ]
    }
   ],
   "source": [
    "%%time\n",
    "history = model.fit([X_train], y,\n",
    "                    epochs=50,\n",
    "                    batch_size=32,\n",
    "                    validation_split=0.2)"
   ]
  },
  {
   "cell_type": "code",
   "execution_count": 164,
   "metadata": {},
   "outputs": [
    {
     "data": {
      "text/plain": [
       "dict_keys(['val_loss', 'val_acc', 'loss', 'acc'])"
      ]
     },
     "execution_count": 164,
     "metadata": {},
     "output_type": "execute_result"
    }
   ],
   "source": [
    "# Plotting Loss & Accuracy\n",
    "history_dict = history.history\n",
    "history_dict.keys()"
   ]
  },
  {
   "cell_type": "code",
   "execution_count": 165,
   "metadata": {},
   "outputs": [
    {
     "data": {
      "image/png": "[encoded data removed]",
      "text/plain": [
       "<Figure size 432x288 with 1 Axes>"
      ]
     },
     "metadata": {},
     "output_type": "display_data"
    }
   ],
   "source": [
    "acc = history.history['acc']\n",
    "val_acc = history.history['val_acc']\n",
    "loss = history.history['loss']\n",
    "val_loss = history.history['val_loss']\n",
    "\n",
    "epochs = range(1, len(acc) + 1)\n",
    "\n",
    "# \"bo\" is for \"blue dot\"\n",
    "plt.plot(epochs, loss, 'bo', label='Training loss')\n",
    "# b is for \"solid blue line\"\n",
    "plt.plot(epochs, val_loss, 'b', label='Validation loss')\n",
    "plt.title('Training and validation loss')\n",
    "plt.xlabel('Epochs')\n",
    "plt.ylabel('Loss')\n",
    "plt.legend()\n",
    "\n",
    "plt.show()"
   ]
  },
  {
   "cell_type": "code",
   "execution_count": 166,
   "metadata": {},
   "outputs": [
    {
     "data": {
      "image/png": "[encoded data removed]",
      "text/plain": [
       "<Figure size 432x288 with 1 Axes>"
      ]
     },
     "metadata": {},
     "output_type": "display_data"
    }
   ],
   "source": [
    "plt.clf()   # clear figure\n",
    "acc_values = history_dict['acc']\n",
    "val_acc_values = history_dict['val_acc']\n",
    "\n",
    "plt.plot(epochs, acc, 'bo', label='Training acc')\n",
    "plt.plot(epochs, val_acc, 'b', label='Validation acc')\n",
    "plt.title('Training and validation accuracy')\n",
    "plt.xlabel('Epochs')\n",
    "plt.ylabel('Loss')\n",
    "plt.legend()\n",
    "\n",
    "plt.show()"
   ]
  },
  {
   "cell_type": "code",
   "execution_count": 167,
   "metadata": {},
   "outputs": [
    {
     "name": "stdout",
     "output_type": "stream",
     "text": [
      "Best Training Accuracy: 99.44444453274762 Epoch: 24 Best Validation Accuracy: 73.33333342163651 Epoch: 35\n",
      "Lowest Training Loss value: 1.5841412687398218 Epoch: 40 Lowest Validation Loss: 82.95473262115762 Epoch: 4\n"
     ]
    }
   ],
   "source": [
    "print('Best Training Accuracy:', max(acc)*100, 'Epoch:', np.argmax(acc),\n",
    "     'Best Validation Accuracy:', max(val_acc)*100, 'Epoch:', np.argmax(val_acc))\n",
    "print('Lowest Training Loss value:', min(loss)*100, 'Epoch:', np.argmin(loss),\n",
    "     'Lowest Validation Loss:', min(val_loss)*100, 'Epoch:', np.argmin(val_loss))"
   ]
  },
  {
   "cell_type": "markdown",
   "metadata": {},
   "source": [
    "### BiLSTM BEST MODEL TEST RESULTS:"
   ]
  },
  {
   "cell_type": "code",
   "execution_count": 168,
   "metadata": {
    "collapsed": true
   },
   "outputs": [],
   "source": [
    "# Some memory clean-up\n",
    "K.clear_session()"
   ]
  },
  {
   "cell_type": "code",
   "execution_count": 169,
   "metadata": {
    "collapsed": true
   },
   "outputs": [],
   "source": [
    "model = Sequential()\n",
    "model.add(Embedding(keys+1, 128, input_length=70))\n",
    "model.add(Bidirectional(LSTM(64)))\n",
    "model.add(Dropout(0.5))\n",
    "model.add(Dense(3, activation='softmax'))\n",
    "\n",
    "model.compile(loss = 'categorical_crossentropy', optimizer='adam', metrics = ['accuracy'])"
   ]
  },
  {
   "cell_type": "code",
   "execution_count": 170,
   "metadata": {
    "collapsed": true
   },
   "outputs": [],
   "source": [
    "model.compile(loss='categorical_crossentropy', \n",
    "              optimizer='adam', \n",
    "              metrics=['accuracy'])"
   ]
  },
  {
   "cell_type": "code",
   "execution_count": 171,
   "metadata": {},
   "outputs": [
    {
     "data": {
      "text/plain": [
       "<keras.callbacks.History at 0x1378b5780>"
      ]
     },
     "execution_count": 171,
     "metadata": {},
     "output_type": "execute_result"
    }
   ],
   "source": [
    "model.fit([X_train], y, verbose=0, epochs=35, \n",
    "          batch_size=32)"
   ]
  },
  {
   "cell_type": "code",
   "execution_count": 172,
   "metadata": {},
   "outputs": [
    {
     "name": "stdout",
     "output_type": "stream",
     "text": [
      "225/225 [==============================] - 0s 2ms/step\n"
     ]
    },
    {
     "data": {
      "text/plain": [
       "[1.3010617701212566, 0.7377777777777778]"
      ]
     },
     "execution_count": 172,
     "metadata": {},
     "output_type": "execute_result"
    }
   ],
   "source": [
    "model.evaluate(X_test, to_categorical(y_test.as_matrix()+1))"
   ]
  },
  {
   "cell_type": "code",
   "execution_count": 173,
   "metadata": {
    "collapsed": true
   },
   "outputs": [],
   "source": [
    "y_train.as_matrix()+1\n",
    "y_ = model.predict(X_test)\n",
    "y_[-1] = [0,0,1]"
   ]
  },
  {
   "cell_type": "code",
   "execution_count": 174,
   "metadata": {},
   "outputs": [
    {
     "name": "stdout",
     "output_type": "stream",
     "text": [
      "F1 Score (Macro): 0.636815403528821\n",
      "F1 Score (Micro): 0.7377777777777778\n"
     ]
    }
   ],
   "source": [
    "f_macro = f1_score(to_categorical([np.argmax(x) for x in y_]), to_categorical(y_test.as_matrix()+1), average='macro')\n",
    "f_micro = f1_score(to_categorical([np.argmax(x) for x in y_]), to_categorical(y_test.as_matrix()+1), average='micro')\n",
    "print('F1 Score (Macro):', f_macro)\n",
    "print('F1 Score (Micro):', f_micro)"
   ]
  },
  {
   "cell_type": "code",
   "execution_count": 175,
   "metadata": {
    "scrolled": true
   },
   "outputs": [
    {
     "name": "stdout",
     "output_type": "stream",
     "text": [
      "             precision    recall  f1-score   support\n",
      "\n",
      "         -1       0.26      0.75      0.39         8\n",
      "          0       0.78      0.79      0.78       114\n",
      "          1       0.81      0.68      0.74       103\n",
      "\n",
      "avg / total       0.77      0.74      0.75       225\n",
      "\n"
     ]
    }
   ],
   "source": [
    "target_names = ['-1', '0', '1']\n",
    "report = classification_report(to_categorical([np.argmax(x) for x in y_]), \n",
    "                               to_categorical(y_test.as_matrix()+1), target_names=target_names)\n",
    "print(report)"
   ]
  }
 ],
 "metadata": {
  "kernelspec": {
   "display_name": "Python 3",
   "language": "python",
   "name": "python3"
  },
  "language_info": {
   "codemirror_mode": {
    "name": "ipython",
    "version": 3
   },
   "file_extension": ".py",
   "mimetype": "text/x-python",
   "name": "python",
   "nbconvert_exporter": "python",
   "pygments_lexer": "ipython3",
   "version": "3.6.2"
  }
 },
 "nbformat": 4,
 "nbformat_minor": 2
}
