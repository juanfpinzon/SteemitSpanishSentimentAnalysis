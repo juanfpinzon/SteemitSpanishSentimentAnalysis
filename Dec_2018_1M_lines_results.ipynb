{
 "cells": [
  {
   "cell_type": "code",
   "execution_count": 1,
   "metadata": {},
   "outputs": [
    {
     "name": "stderr",
     "output_type": "stream",
     "text": [
      "Using TensorFlow backend.\n"
     ]
    }
   ],
   "source": [
    "import pandas as pd\n",
    "import numpy as np\n",
    "import matplotlib.pyplot as plt\n",
    "from sklearn.model_selection import train_test_split\n",
    "from sklearn.feature_extraction.text import TfidfVectorizer\n",
    "from sklearn.linear_model import LogisticRegression\n",
    "from sklearn.metrics import classification_report\n",
    "from keras.preprocessing.text import Tokenizer\n",
    "from sklearn.metrics import f1_score\n",
    "from keras.utils import to_categorical\n",
    "from keras import optimizers\n",
    "from keras import regularizers\n",
    "from keras.layers import Dense, concatenate, Activation, Dropout\n",
    "from keras.models import Model\n",
    "from keras.layers.convolutional import Conv1D\n",
    "from keras.layers.pooling import GlobalMaxPooling1D\n",
    "from keras.models import Sequential\n",
    "from keras.regularizers import l2\n",
    "from keras import layers\n",
    "from keras.layers import Dense, Embedding, LSTM, SpatialDropout1D, GRU, Bidirectional \n",
    "from keras import backend as K\n",
    "from keras.preprocessing.sequence import pad_sequences\n",
    "from sklearn.naive_bayes import GaussianNB, BernoulliNB, MultinomialNB\n",
    "from sklearn.svm import SVC\n",
    "from tqdm import tqdm\n",
    "from langua import Predict\n",
    "import gensim\n",
    "import time\n",
    "import re"
   ]
  },
  {
   "cell_type": "markdown",
   "metadata": {},
   "source": [
    "# Data Preparation & Exploration:"
   ]
  },
  {
   "cell_type": "code",
   "execution_count": 2,
   "metadata": {
    "collapsed": true
   },
   "outputs": [],
   "source": [
    "# Load data to pandas df:\n",
    "df = pd.DataFrame.from_csv('exportESP1M.csv', encoding='utf-8')"
   ]
  },
  {
   "cell_type": "code",
   "execution_count": 3,
   "metadata": {
    "collapsed": true
   },
   "outputs": [],
   "source": [
    "#Drop unnecessary columns\n",
    "df.drop(['tx_id', 'author', 'parent_author', 'timestamp', 'json_metadata', \n",
    "         'title', 'title', 'lang'], axis=1, inplace = True, errors='ignore')"
   ]
  },
  {
   "cell_type": "code",
   "execution_count": 4,
   "metadata": {
    "slideshow": {
     "slide_type": "fragment"
    }
   },
   "outputs": [
    {
     "data": {
      "text/html": [
       "<div>\n",
       "<style>\n",
       "    .dataframe thead tr:only-child th {\n",
       "        text-align: right;\n",
       "    }\n",
       "\n",
       "    .dataframe thead th {\n",
       "        text-align: left;\n",
       "    }\n",
       "\n",
       "    .dataframe tbody tr th {\n",
       "        vertical-align: top;\n",
       "    }\n",
       "</style>\n",
       "<table border=\"1\" class=\"dataframe\">\n",
       "  <thead>\n",
       "    <tr style=\"text-align: right;\">\n",
       "      <th></th>\n",
       "      <th>body</th>\n",
       "      <th>words_pos_polarity</th>\n",
       "      <th>words_neg_polarity</th>\n",
       "      <th>emoji_pos_polarity</th>\n",
       "      <th>emoji_neg_polarity</th>\n",
       "      <th>word_emoji_pos_pol_diff</th>\n",
       "      <th>word_emoji_neg_pol_diff</th>\n",
       "      <th>label</th>\n",
       "    </tr>\n",
       "  </thead>\n",
       "  <tbody>\n",
       "    <tr>\n",
       "      <th>0</th>\n",
       "      <td>Abit is no spammer</td>\n",
       "      <td>0.000000</td>\n",
       "      <td>-0.200000</td>\n",
       "      <td>0.0</td>\n",
       "      <td>0.0</td>\n",
       "      <td>0.0</td>\n",
       "      <td>0.0</td>\n",
       "      <td>0.0</td>\n",
       "    </tr>\n",
       "    <tr>\n",
       "      <th>1</th>\n",
       "      <td>You da man</td>\n",
       "      <td>0.000000</td>\n",
       "      <td>0.000000</td>\n",
       "      <td>0.0</td>\n",
       "      <td>0.0</td>\n",
       "      <td>0.0</td>\n",
       "      <td>0.0</td>\n",
       "      <td>0.0</td>\n",
       "    </tr>\n",
       "    <tr>\n",
       "      <th>2</th>\n",
       "      <td>B vs S</td>\n",
       "      <td>0.000000</td>\n",
       "      <td>0.000000</td>\n",
       "      <td>0.0</td>\n",
       "      <td>0.0</td>\n",
       "      <td>0.0</td>\n",
       "      <td>0.0</td>\n",
       "      <td>0.0</td>\n",
       "    </tr>\n",
       "    <tr>\n",
       "      <th>3</th>\n",
       "      <td>URL  Como ya sabéis Aniestudio esta en una con...</td>\n",
       "      <td>0.588500</td>\n",
       "      <td>-0.477500</td>\n",
       "      <td>0.0</td>\n",
       "      <td>0.0</td>\n",
       "      <td>0.0</td>\n",
       "      <td>0.0</td>\n",
       "      <td>1.0</td>\n",
       "    </tr>\n",
       "    <tr>\n",
       "      <th>4</th>\n",
       "      <td>Hace días que no puedo perder un rato en una g...</td>\n",
       "      <td>0.512667</td>\n",
       "      <td>-0.421667</td>\n",
       "      <td>0.0</td>\n",
       "      <td>0.0</td>\n",
       "      <td>0.0</td>\n",
       "      <td>0.0</td>\n",
       "      <td>1.0</td>\n",
       "    </tr>\n",
       "    <tr>\n",
       "      <th>5</th>\n",
       "      <td>El halving e acerca y con el las expectativas ...</td>\n",
       "      <td>0.000000</td>\n",
       "      <td>0.000000</td>\n",
       "      <td>0.0</td>\n",
       "      <td>0.0</td>\n",
       "      <td>0.0</td>\n",
       "      <td>0.0</td>\n",
       "      <td>0.0</td>\n",
       "    </tr>\n",
       "    <tr>\n",
       "      <th>6</th>\n",
       "      <td>Espero  pasarla muy bien en este sitio conocer...</td>\n",
       "      <td>0.841500</td>\n",
       "      <td>-0.200000</td>\n",
       "      <td>0.0</td>\n",
       "      <td>0.0</td>\n",
       "      <td>0.0</td>\n",
       "      <td>0.0</td>\n",
       "      <td>1.0</td>\n",
       "    </tr>\n",
       "    <tr>\n",
       "      <th>7</th>\n",
       "      <td>info  quien desea trabajar desde su casa</td>\n",
       "      <td>0.000000</td>\n",
       "      <td>0.000000</td>\n",
       "      <td>0.0</td>\n",
       "      <td>0.0</td>\n",
       "      <td>0.0</td>\n",
       "      <td>0.0</td>\n",
       "      <td>0.0</td>\n",
       "    </tr>\n",
       "    <tr>\n",
       "      <th>8</th>\n",
       "      <td>información.  Quien quiere trabajar desde casa</td>\n",
       "      <td>0.000000</td>\n",
       "      <td>0.000000</td>\n",
       "      <td>0.0</td>\n",
       "      <td>0.0</td>\n",
       "      <td>0.0</td>\n",
       "      <td>0.0</td>\n",
       "      <td>0.0</td>\n",
       "    </tr>\n",
       "    <tr>\n",
       "      <th>9</th>\n",
       "      <td>Quiero que alguien me explique como funciona r...</td>\n",
       "      <td>0.321500</td>\n",
       "      <td>0.000000</td>\n",
       "      <td>0.0</td>\n",
       "      <td>0.0</td>\n",
       "      <td>0.0</td>\n",
       "      <td>0.0</td>\n",
       "      <td>0.0</td>\n",
       "    </tr>\n",
       "    <tr>\n",
       "      <th>10</th>\n",
       "      <td>Yo tampoco entiendo muy bien pero creo que emp...</td>\n",
       "      <td>0.833000</td>\n",
       "      <td>0.000000</td>\n",
       "      <td>0.0</td>\n",
       "      <td>0.0</td>\n",
       "      <td>0.0</td>\n",
       "      <td>0.0</td>\n",
       "      <td>1.0</td>\n",
       "    </tr>\n",
       "    <tr>\n",
       "      <th>11</th>\n",
       "      <td>Es lamentable pero cierto Dios bendiga a Venez...</td>\n",
       "      <td>0.000000</td>\n",
       "      <td>-0.400000</td>\n",
       "      <td>0.0</td>\n",
       "      <td>0.0</td>\n",
       "      <td>0.0</td>\n",
       "      <td>0.0</td>\n",
       "      <td>-1.0</td>\n",
       "    </tr>\n",
       "    <tr>\n",
       "      <th>12</th>\n",
       "      <td>Espectacular</td>\n",
       "      <td>0.375000</td>\n",
       "      <td>0.000000</td>\n",
       "      <td>0.0</td>\n",
       "      <td>0.0</td>\n",
       "      <td>0.0</td>\n",
       "      <td>0.0</td>\n",
       "      <td>1.0</td>\n",
       "    </tr>\n",
       "    <tr>\n",
       "      <th>13</th>\n",
       "      <td>No</td>\n",
       "      <td>0.000000</td>\n",
       "      <td>-0.200000</td>\n",
       "      <td>0.0</td>\n",
       "      <td>0.0</td>\n",
       "      <td>0.0</td>\n",
       "      <td>0.0</td>\n",
       "      <td>0.0</td>\n",
       "    </tr>\n",
       "    <tr>\n",
       "      <th>14</th>\n",
       "      <td>Adorable</td>\n",
       "      <td>0.500000</td>\n",
       "      <td>0.000000</td>\n",
       "      <td>0.0</td>\n",
       "      <td>0.0</td>\n",
       "      <td>0.0</td>\n",
       "      <td>0.0</td>\n",
       "      <td>1.0</td>\n",
       "    </tr>\n",
       "    <tr>\n",
       "      <th>15</th>\n",
       "      <td>No</td>\n",
       "      <td>0.000000</td>\n",
       "      <td>-0.200000</td>\n",
       "      <td>0.0</td>\n",
       "      <td>0.0</td>\n",
       "      <td>0.0</td>\n",
       "      <td>0.0</td>\n",
       "      <td>0.0</td>\n",
       "    </tr>\n",
       "    <tr>\n",
       "      <th>16</th>\n",
       "      <td>no</td>\n",
       "      <td>0.000000</td>\n",
       "      <td>-0.200000</td>\n",
       "      <td>0.0</td>\n",
       "      <td>0.0</td>\n",
       "      <td>0.0</td>\n",
       "      <td>0.0</td>\n",
       "      <td>0.0</td>\n",
       "    </tr>\n",
       "    <tr>\n",
       "      <th>17</th>\n",
       "      <td>Dentista se hacía pasar por biólogo marino con...</td>\n",
       "      <td>0.000000</td>\n",
       "      <td>-0.630000</td>\n",
       "      <td>0.0</td>\n",
       "      <td>0.0</td>\n",
       "      <td>0.0</td>\n",
       "      <td>0.0</td>\n",
       "      <td>-1.0</td>\n",
       "    </tr>\n",
       "    <tr>\n",
       "      <th>18</th>\n",
       "      <td>Hoy me robaron violentamente un sony xpria e4g...</td>\n",
       "      <td>0.462600</td>\n",
       "      <td>-0.496250</td>\n",
       "      <td>0.0</td>\n",
       "      <td>0.0</td>\n",
       "      <td>0.0</td>\n",
       "      <td>0.0</td>\n",
       "      <td>-1.0</td>\n",
       "    </tr>\n",
       "    <tr>\n",
       "      <th>19</th>\n",
       "      <td>a</td>\n",
       "      <td>0.000000</td>\n",
       "      <td>0.000000</td>\n",
       "      <td>0.0</td>\n",
       "      <td>0.0</td>\n",
       "      <td>0.0</td>\n",
       "      <td>0.0</td>\n",
       "      <td>0.0</td>\n",
       "    </tr>\n",
       "    <tr>\n",
       "      <th>20</th>\n",
       "      <td>a</td>\n",
       "      <td>0.000000</td>\n",
       "      <td>0.000000</td>\n",
       "      <td>0.0</td>\n",
       "      <td>0.0</td>\n",
       "      <td>0.0</td>\n",
       "      <td>0.0</td>\n",
       "      <td>0.0</td>\n",
       "    </tr>\n",
       "    <tr>\n",
       "      <th>21</th>\n",
       "      <td>no :)</td>\n",
       "      <td>0.000000</td>\n",
       "      <td>-0.200000</td>\n",
       "      <td>1.0</td>\n",
       "      <td>0.0</td>\n",
       "      <td>1.0</td>\n",
       "      <td>0.0</td>\n",
       "      <td>1.0</td>\n",
       "    </tr>\n",
       "    <tr>\n",
       "      <th>22</th>\n",
       "      <td>aaaaaa</td>\n",
       "      <td>0.000000</td>\n",
       "      <td>0.000000</td>\n",
       "      <td>0.0</td>\n",
       "      <td>0.0</td>\n",
       "      <td>0.0</td>\n",
       "      <td>0.0</td>\n",
       "      <td>0.0</td>\n",
       "    </tr>\n",
       "    <tr>\n",
       "      <th>23</th>\n",
       "      <td>eeee</td>\n",
       "      <td>0.000000</td>\n",
       "      <td>0.000000</td>\n",
       "      <td>0.0</td>\n",
       "      <td>0.0</td>\n",
       "      <td>0.0</td>\n",
       "      <td>0.0</td>\n",
       "      <td>0.0</td>\n",
       "    </tr>\n",
       "    <tr>\n",
       "      <th>24</th>\n",
       "      <td>a</td>\n",
       "      <td>0.000000</td>\n",
       "      <td>0.000000</td>\n",
       "      <td>0.0</td>\n",
       "      <td>0.0</td>\n",
       "      <td>0.0</td>\n",
       "      <td>0.0</td>\n",
       "      <td>0.0</td>\n",
       "    </tr>\n",
       "    <tr>\n",
       "      <th>25</th>\n",
       "      <td>Quien puede explicarme que es exactamente URL</td>\n",
       "      <td>0.640000</td>\n",
       "      <td>0.000000</td>\n",
       "      <td>0.0</td>\n",
       "      <td>0.0</td>\n",
       "      <td>0.0</td>\n",
       "      <td>0.0</td>\n",
       "      <td>1.0</td>\n",
       "    </tr>\n",
       "    <tr>\n",
       "      <th>26</th>\n",
       "      <td>Donde se realizan los pagos</td>\n",
       "      <td>0.000000</td>\n",
       "      <td>0.000000</td>\n",
       "      <td>0.0</td>\n",
       "      <td>0.0</td>\n",
       "      <td>0.0</td>\n",
       "      <td>0.0</td>\n",
       "      <td>0.0</td>\n",
       "    </tr>\n",
       "    <tr>\n",
       "      <th>27</th>\n",
       "      <td>En que precio pensais que se estabilizara Steem</td>\n",
       "      <td>0.000000</td>\n",
       "      <td>0.000000</td>\n",
       "      <td>0.0</td>\n",
       "      <td>0.0</td>\n",
       "      <td>0.0</td>\n",
       "      <td>0.0</td>\n",
       "      <td>0.0</td>\n",
       "    </tr>\n",
       "    <tr>\n",
       "      <th>28</th>\n",
       "      <td>solar panel</td>\n",
       "      <td>0.000000</td>\n",
       "      <td>0.000000</td>\n",
       "      <td>0.0</td>\n",
       "      <td>0.0</td>\n",
       "      <td>0.0</td>\n",
       "      <td>0.0</td>\n",
       "      <td>0.0</td>\n",
       "    </tr>\n",
       "    <tr>\n",
       "      <th>29</th>\n",
       "      <td>Cual es la mejor criptodivisa</td>\n",
       "      <td>0.625000</td>\n",
       "      <td>0.000000</td>\n",
       "      <td>0.0</td>\n",
       "      <td>0.0</td>\n",
       "      <td>0.0</td>\n",
       "      <td>0.0</td>\n",
       "      <td>1.0</td>\n",
       "    </tr>\n",
       "    <tr>\n",
       "      <th>...</th>\n",
       "      <td>...</td>\n",
       "      <td>...</td>\n",
       "      <td>...</td>\n",
       "      <td>...</td>\n",
       "      <td>...</td>\n",
       "      <td>...</td>\n",
       "      <td>...</td>\n",
       "      <td>...</td>\n",
       "    </tr>\n",
       "    <tr>\n",
       "      <th>8113</th>\n",
       "      <td>Gracias por compartir este material Me gusta l...</td>\n",
       "      <td>0.000000</td>\n",
       "      <td>0.000000</td>\n",
       "      <td>0.0</td>\n",
       "      <td>0.0</td>\n",
       "      <td>0.0</td>\n",
       "      <td>0.0</td>\n",
       "      <td>0.0</td>\n",
       "    </tr>\n",
       "    <tr>\n",
       "      <th>8114</th>\n",
       "      <td>Gracias por compartir este material Me gusta l...</td>\n",
       "      <td>0.000000</td>\n",
       "      <td>0.000000</td>\n",
       "      <td>0.0</td>\n",
       "      <td>0.0</td>\n",
       "      <td>0.0</td>\n",
       "      <td>0.0</td>\n",
       "      <td>0.0</td>\n",
       "    </tr>\n",
       "    <tr>\n",
       "      <th>8115</th>\n",
       "      <td>Gracias por compartir este material Me gusta l...</td>\n",
       "      <td>0.000000</td>\n",
       "      <td>0.000000</td>\n",
       "      <td>0.0</td>\n",
       "      <td>0.0</td>\n",
       "      <td>0.0</td>\n",
       "      <td>0.0</td>\n",
       "      <td>0.0</td>\n",
       "    </tr>\n",
       "    <tr>\n",
       "      <th>8116</th>\n",
       "      <td>Gracias por compartir este material Me gusta l...</td>\n",
       "      <td>0.000000</td>\n",
       "      <td>0.000000</td>\n",
       "      <td>0.0</td>\n",
       "      <td>0.0</td>\n",
       "      <td>0.0</td>\n",
       "      <td>0.0</td>\n",
       "      <td>0.0</td>\n",
       "    </tr>\n",
       "    <tr>\n",
       "      <th>8117</th>\n",
       "      <td>Gracias por compartir este material Me gusta l...</td>\n",
       "      <td>0.000000</td>\n",
       "      <td>0.000000</td>\n",
       "      <td>0.0</td>\n",
       "      <td>0.0</td>\n",
       "      <td>0.0</td>\n",
       "      <td>0.0</td>\n",
       "      <td>0.0</td>\n",
       "    </tr>\n",
       "    <tr>\n",
       "      <th>8118</th>\n",
       "      <td>Usted es bienvenido , estoy feliz de que hayan...</td>\n",
       "      <td>0.571800</td>\n",
       "      <td>0.000000</td>\n",
       "      <td>0.0</td>\n",
       "      <td>0.0</td>\n",
       "      <td>0.0</td>\n",
       "      <td>0.0</td>\n",
       "      <td>1.0</td>\n",
       "    </tr>\n",
       "    <tr>\n",
       "      <th>8119</th>\n",
       "      <td>Gracias por visitarme Te aprecio mucho</td>\n",
       "      <td>0.344000</td>\n",
       "      <td>0.000000</td>\n",
       "      <td>0.0</td>\n",
       "      <td>0.0</td>\n",
       "      <td>0.0</td>\n",
       "      <td>0.0</td>\n",
       "      <td>0.0</td>\n",
       "    </tr>\n",
       "    <tr>\n",
       "      <th>8120</th>\n",
       "      <td>Gracias por compartir este material Me gusta l...</td>\n",
       "      <td>0.000000</td>\n",
       "      <td>0.000000</td>\n",
       "      <td>0.0</td>\n",
       "      <td>0.0</td>\n",
       "      <td>0.0</td>\n",
       "      <td>0.0</td>\n",
       "      <td>0.0</td>\n",
       "    </tr>\n",
       "    <tr>\n",
       "      <th>8121</th>\n",
       "      <td>Gracias por compartir este material Me gusta l...</td>\n",
       "      <td>0.000000</td>\n",
       "      <td>0.000000</td>\n",
       "      <td>0.0</td>\n",
       "      <td>0.0</td>\n",
       "      <td>0.0</td>\n",
       "      <td>0.0</td>\n",
       "      <td>0.0</td>\n",
       "    </tr>\n",
       "    <tr>\n",
       "      <th>8122</th>\n",
       "      <td>Gracias por compartir este material Me gusta l...</td>\n",
       "      <td>0.000000</td>\n",
       "      <td>0.000000</td>\n",
       "      <td>0.0</td>\n",
       "      <td>0.0</td>\n",
       "      <td>0.0</td>\n",
       "      <td>0.0</td>\n",
       "      <td>0.0</td>\n",
       "    </tr>\n",
       "    <tr>\n",
       "      <th>8123</th>\n",
       "      <td>Gracias por compartir este material Me gusta l...</td>\n",
       "      <td>0.000000</td>\n",
       "      <td>0.000000</td>\n",
       "      <td>0.0</td>\n",
       "      <td>0.0</td>\n",
       "      <td>0.0</td>\n",
       "      <td>0.0</td>\n",
       "      <td>0.0</td>\n",
       "    </tr>\n",
       "    <tr>\n",
       "      <th>8124</th>\n",
       "      <td>gracias por mirarlo y el upvote 8D</td>\n",
       "      <td>0.000000</td>\n",
       "      <td>0.000000</td>\n",
       "      <td>1.0</td>\n",
       "      <td>0.0</td>\n",
       "      <td>1.0</td>\n",
       "      <td>0.0</td>\n",
       "      <td>1.0</td>\n",
       "    </tr>\n",
       "    <tr>\n",
       "      <th>8125</th>\n",
       "      <td>Gracias por compartir este material Me gusta l...</td>\n",
       "      <td>0.000000</td>\n",
       "      <td>0.000000</td>\n",
       "      <td>0.0</td>\n",
       "      <td>0.0</td>\n",
       "      <td>0.0</td>\n",
       "      <td>0.0</td>\n",
       "      <td>0.0</td>\n",
       "    </tr>\n",
       "    <tr>\n",
       "      <th>8126</th>\n",
       "      <td>Gracias por compartir este material Me gusta l...</td>\n",
       "      <td>0.000000</td>\n",
       "      <td>0.000000</td>\n",
       "      <td>0.0</td>\n",
       "      <td>0.0</td>\n",
       "      <td>0.0</td>\n",
       "      <td>0.0</td>\n",
       "      <td>0.0</td>\n",
       "    </tr>\n",
       "    <tr>\n",
       "      <th>8127</th>\n",
       "      <td>Gracias por compartir este material Me gusta l...</td>\n",
       "      <td>0.000000</td>\n",
       "      <td>0.000000</td>\n",
       "      <td>0.0</td>\n",
       "      <td>0.0</td>\n",
       "      <td>0.0</td>\n",
       "      <td>0.0</td>\n",
       "      <td>0.0</td>\n",
       "    </tr>\n",
       "    <tr>\n",
       "      <th>8128</th>\n",
       "      <td>Gracias a ti mi mayor satisfaccion es que a la...</td>\n",
       "      <td>0.600000</td>\n",
       "      <td>0.000000</td>\n",
       "      <td>0.0</td>\n",
       "      <td>0.0</td>\n",
       "      <td>0.0</td>\n",
       "      <td>0.0</td>\n",
       "      <td>1.0</td>\n",
       "    </tr>\n",
       "    <tr>\n",
       "      <th>8129</th>\n",
       "      <td>Gracias por compartir este material Me gusta l...</td>\n",
       "      <td>0.000000</td>\n",
       "      <td>0.000000</td>\n",
       "      <td>0.0</td>\n",
       "      <td>0.0</td>\n",
       "      <td>0.0</td>\n",
       "      <td>0.0</td>\n",
       "      <td>0.0</td>\n",
       "    </tr>\n",
       "    <tr>\n",
       "      <th>8130</th>\n",
       "      <td>de nada tio</td>\n",
       "      <td>0.000000</td>\n",
       "      <td>0.000000</td>\n",
       "      <td>0.0</td>\n",
       "      <td>0.0</td>\n",
       "      <td>0.0</td>\n",
       "      <td>0.0</td>\n",
       "      <td>0.0</td>\n",
       "    </tr>\n",
       "    <tr>\n",
       "      <th>8131</th>\n",
       "      <td>Gracias por compartir este material Me gusta l...</td>\n",
       "      <td>0.000000</td>\n",
       "      <td>0.000000</td>\n",
       "      <td>0.0</td>\n",
       "      <td>0.0</td>\n",
       "      <td>0.0</td>\n",
       "      <td>0.0</td>\n",
       "      <td>0.0</td>\n",
       "    </tr>\n",
       "    <tr>\n",
       "      <th>8132</th>\n",
       "      <td>Gracias por compartir este material Me gusta l...</td>\n",
       "      <td>0.000000</td>\n",
       "      <td>0.000000</td>\n",
       "      <td>0.0</td>\n",
       "      <td>0.0</td>\n",
       "      <td>0.0</td>\n",
       "      <td>0.0</td>\n",
       "      <td>0.0</td>\n",
       "    </tr>\n",
       "    <tr>\n",
       "      <th>8133</th>\n",
       "      <td>Gracias por compartir este material Me gusta l...</td>\n",
       "      <td>0.000000</td>\n",
       "      <td>0.000000</td>\n",
       "      <td>0.0</td>\n",
       "      <td>0.0</td>\n",
       "      <td>0.0</td>\n",
       "      <td>0.0</td>\n",
       "      <td>0.0</td>\n",
       "    </tr>\n",
       "    <tr>\n",
       "      <th>8134</th>\n",
       "      <td>Gracias por compartir este material Me gusta l...</td>\n",
       "      <td>0.000000</td>\n",
       "      <td>0.000000</td>\n",
       "      <td>0.0</td>\n",
       "      <td>0.0</td>\n",
       "      <td>0.0</td>\n",
       "      <td>0.0</td>\n",
       "      <td>0.0</td>\n",
       "    </tr>\n",
       "    <tr>\n",
       "      <th>8135</th>\n",
       "      <td>Gracias por compartir este material Me gusta l...</td>\n",
       "      <td>0.000000</td>\n",
       "      <td>0.000000</td>\n",
       "      <td>0.0</td>\n",
       "      <td>0.0</td>\n",
       "      <td>0.0</td>\n",
       "      <td>0.0</td>\n",
       "      <td>0.0</td>\n",
       "    </tr>\n",
       "    <tr>\n",
       "      <th>8136</th>\n",
       "      <td>Muchas gracias</td>\n",
       "      <td>0.000000</td>\n",
       "      <td>0.000000</td>\n",
       "      <td>0.0</td>\n",
       "      <td>0.0</td>\n",
       "      <td>0.0</td>\n",
       "      <td>0.0</td>\n",
       "      <td>0.0</td>\n",
       "    </tr>\n",
       "    <tr>\n",
       "      <th>8137</th>\n",
       "      <td>Gracias por compartir este material Me gusta l...</td>\n",
       "      <td>0.000000</td>\n",
       "      <td>0.000000</td>\n",
       "      <td>0.0</td>\n",
       "      <td>0.0</td>\n",
       "      <td>0.0</td>\n",
       "      <td>0.0</td>\n",
       "      <td>0.0</td>\n",
       "    </tr>\n",
       "    <tr>\n",
       "      <th>8138</th>\n",
       "      <td>Gracias por compartir este material Me gusta l...</td>\n",
       "      <td>0.000000</td>\n",
       "      <td>0.000000</td>\n",
       "      <td>0.0</td>\n",
       "      <td>0.0</td>\n",
       "      <td>0.0</td>\n",
       "      <td>0.0</td>\n",
       "      <td>0.0</td>\n",
       "    </tr>\n",
       "    <tr>\n",
       "      <th>8139</th>\n",
       "      <td>Bienvenidos</td>\n",
       "      <td>0.600000</td>\n",
       "      <td>0.000000</td>\n",
       "      <td>0.0</td>\n",
       "      <td>0.0</td>\n",
       "      <td>0.0</td>\n",
       "      <td>0.0</td>\n",
       "      <td>1.0</td>\n",
       "    </tr>\n",
       "    <tr>\n",
       "      <th>8140</th>\n",
       "      <td>Gracias</td>\n",
       "      <td>0.000000</td>\n",
       "      <td>0.000000</td>\n",
       "      <td>0.0</td>\n",
       "      <td>0.0</td>\n",
       "      <td>0.0</td>\n",
       "      <td>0.0</td>\n",
       "      <td>0.0</td>\n",
       "    </tr>\n",
       "    <tr>\n",
       "      <th>8141</th>\n",
       "      <td>Gracias</td>\n",
       "      <td>0.000000</td>\n",
       "      <td>0.000000</td>\n",
       "      <td>0.0</td>\n",
       "      <td>0.0</td>\n",
       "      <td>0.0</td>\n",
       "      <td>0.0</td>\n",
       "      <td>0.0</td>\n",
       "    </tr>\n",
       "    <tr>\n",
       "      <th>8142</th>\n",
       "      <td>Muchas gracias Saludos URL</td>\n",
       "      <td>0.560000</td>\n",
       "      <td>0.000000</td>\n",
       "      <td>0.0</td>\n",
       "      <td>0.0</td>\n",
       "      <td>0.0</td>\n",
       "      <td>0.0</td>\n",
       "      <td>1.0</td>\n",
       "    </tr>\n",
       "  </tbody>\n",
       "</table>\n",
       "<p>8143 rows × 8 columns</p>\n",
       "</div>"
      ],
      "text/plain": [
       "                                                   body  words_pos_polarity  \\\n",
       "0                                    Abit is no spammer            0.000000   \n",
       "1                                            You da man            0.000000   \n",
       "2                                                B vs S            0.000000   \n",
       "3     URL  Como ya sabéis Aniestudio esta en una con...            0.588500   \n",
       "4     Hace días que no puedo perder un rato en una g...            0.512667   \n",
       "5     El halving e acerca y con el las expectativas ...            0.000000   \n",
       "6     Espero  pasarla muy bien en este sitio conocer...            0.841500   \n",
       "7              info  quien desea trabajar desde su casa            0.000000   \n",
       "8        información.  Quien quiere trabajar desde casa            0.000000   \n",
       "9     Quiero que alguien me explique como funciona r...            0.321500   \n",
       "10    Yo tampoco entiendo muy bien pero creo que emp...            0.833000   \n",
       "11    Es lamentable pero cierto Dios bendiga a Venez...            0.000000   \n",
       "12                                         Espectacular            0.375000   \n",
       "13                                                   No            0.000000   \n",
       "14                                             Adorable            0.500000   \n",
       "15                                                   No            0.000000   \n",
       "16                                                   no            0.000000   \n",
       "17    Dentista se hacía pasar por biólogo marino con...            0.000000   \n",
       "18    Hoy me robaron violentamente un sony xpria e4g...            0.462600   \n",
       "19                                                    a            0.000000   \n",
       "20                                                    a            0.000000   \n",
       "21                                                no :)            0.000000   \n",
       "22                                               aaaaaa            0.000000   \n",
       "23                                                 eeee            0.000000   \n",
       "24                                                    a            0.000000   \n",
       "25        Quien puede explicarme que es exactamente URL            0.640000   \n",
       "26                          Donde se realizan los pagos            0.000000   \n",
       "27      En que precio pensais que se estabilizara Steem            0.000000   \n",
       "28                                          solar panel            0.000000   \n",
       "29                        Cual es la mejor criptodivisa            0.625000   \n",
       "...                                                 ...                 ...   \n",
       "8113  Gracias por compartir este material Me gusta l...            0.000000   \n",
       "8114  Gracias por compartir este material Me gusta l...            0.000000   \n",
       "8115  Gracias por compartir este material Me gusta l...            0.000000   \n",
       "8116  Gracias por compartir este material Me gusta l...            0.000000   \n",
       "8117  Gracias por compartir este material Me gusta l...            0.000000   \n",
       "8118  Usted es bienvenido , estoy feliz de que hayan...            0.571800   \n",
       "8119             Gracias por visitarme Te aprecio mucho            0.344000   \n",
       "8120  Gracias por compartir este material Me gusta l...            0.000000   \n",
       "8121  Gracias por compartir este material Me gusta l...            0.000000   \n",
       "8122  Gracias por compartir este material Me gusta l...            0.000000   \n",
       "8123  Gracias por compartir este material Me gusta l...            0.000000   \n",
       "8124                 gracias por mirarlo y el upvote 8D            0.000000   \n",
       "8125  Gracias por compartir este material Me gusta l...            0.000000   \n",
       "8126  Gracias por compartir este material Me gusta l...            0.000000   \n",
       "8127  Gracias por compartir este material Me gusta l...            0.000000   \n",
       "8128  Gracias a ti mi mayor satisfaccion es que a la...            0.600000   \n",
       "8129  Gracias por compartir este material Me gusta l...            0.000000   \n",
       "8130                                        de nada tio            0.000000   \n",
       "8131  Gracias por compartir este material Me gusta l...            0.000000   \n",
       "8132  Gracias por compartir este material Me gusta l...            0.000000   \n",
       "8133  Gracias por compartir este material Me gusta l...            0.000000   \n",
       "8134  Gracias por compartir este material Me gusta l...            0.000000   \n",
       "8135  Gracias por compartir este material Me gusta l...            0.000000   \n",
       "8136                                     Muchas gracias            0.000000   \n",
       "8137  Gracias por compartir este material Me gusta l...            0.000000   \n",
       "8138  Gracias por compartir este material Me gusta l...            0.000000   \n",
       "8139                                        Bienvenidos            0.600000   \n",
       "8140                                            Gracias            0.000000   \n",
       "8141                                            Gracias            0.000000   \n",
       "8142                         Muchas gracias Saludos URL            0.560000   \n",
       "\n",
       "      words_neg_polarity  emoji_pos_polarity  emoji_neg_polarity  \\\n",
       "0              -0.200000                 0.0                 0.0   \n",
       "1               0.000000                 0.0                 0.0   \n",
       "2               0.000000                 0.0                 0.0   \n",
       "3              -0.477500                 0.0                 0.0   \n",
       "4              -0.421667                 0.0                 0.0   \n",
       "5               0.000000                 0.0                 0.0   \n",
       "6              -0.200000                 0.0                 0.0   \n",
       "7               0.000000                 0.0                 0.0   \n",
       "8               0.000000                 0.0                 0.0   \n",
       "9               0.000000                 0.0                 0.0   \n",
       "10              0.000000                 0.0                 0.0   \n",
       "11             -0.400000                 0.0                 0.0   \n",
       "12              0.000000                 0.0                 0.0   \n",
       "13             -0.200000                 0.0                 0.0   \n",
       "14              0.000000                 0.0                 0.0   \n",
       "15             -0.200000                 0.0                 0.0   \n",
       "16             -0.200000                 0.0                 0.0   \n",
       "17             -0.630000                 0.0                 0.0   \n",
       "18             -0.496250                 0.0                 0.0   \n",
       "19              0.000000                 0.0                 0.0   \n",
       "20              0.000000                 0.0                 0.0   \n",
       "21             -0.200000                 1.0                 0.0   \n",
       "22              0.000000                 0.0                 0.0   \n",
       "23              0.000000                 0.0                 0.0   \n",
       "24              0.000000                 0.0                 0.0   \n",
       "25              0.000000                 0.0                 0.0   \n",
       "26              0.000000                 0.0                 0.0   \n",
       "27              0.000000                 0.0                 0.0   \n",
       "28              0.000000                 0.0                 0.0   \n",
       "29              0.000000                 0.0                 0.0   \n",
       "...                  ...                 ...                 ...   \n",
       "8113            0.000000                 0.0                 0.0   \n",
       "8114            0.000000                 0.0                 0.0   \n",
       "8115            0.000000                 0.0                 0.0   \n",
       "8116            0.000000                 0.0                 0.0   \n",
       "8117            0.000000                 0.0                 0.0   \n",
       "8118            0.000000                 0.0                 0.0   \n",
       "8119            0.000000                 0.0                 0.0   \n",
       "8120            0.000000                 0.0                 0.0   \n",
       "8121            0.000000                 0.0                 0.0   \n",
       "8122            0.000000                 0.0                 0.0   \n",
       "8123            0.000000                 0.0                 0.0   \n",
       "8124            0.000000                 1.0                 0.0   \n",
       "8125            0.000000                 0.0                 0.0   \n",
       "8126            0.000000                 0.0                 0.0   \n",
       "8127            0.000000                 0.0                 0.0   \n",
       "8128            0.000000                 0.0                 0.0   \n",
       "8129            0.000000                 0.0                 0.0   \n",
       "8130            0.000000                 0.0                 0.0   \n",
       "8131            0.000000                 0.0                 0.0   \n",
       "8132            0.000000                 0.0                 0.0   \n",
       "8133            0.000000                 0.0                 0.0   \n",
       "8134            0.000000                 0.0                 0.0   \n",
       "8135            0.000000                 0.0                 0.0   \n",
       "8136            0.000000                 0.0                 0.0   \n",
       "8137            0.000000                 0.0                 0.0   \n",
       "8138            0.000000                 0.0                 0.0   \n",
       "8139            0.000000                 0.0                 0.0   \n",
       "8140            0.000000                 0.0                 0.0   \n",
       "8141            0.000000                 0.0                 0.0   \n",
       "8142            0.000000                 0.0                 0.0   \n",
       "\n",
       "      word_emoji_pos_pol_diff  word_emoji_neg_pol_diff  label  \n",
       "0                         0.0                      0.0    0.0  \n",
       "1                         0.0                      0.0    0.0  \n",
       "2                         0.0                      0.0    0.0  \n",
       "3                         0.0                      0.0    1.0  \n",
       "4                         0.0                      0.0    1.0  \n",
       "5                         0.0                      0.0    0.0  \n",
       "6                         0.0                      0.0    1.0  \n",
       "7                         0.0                      0.0    0.0  \n",
       "8                         0.0                      0.0    0.0  \n",
       "9                         0.0                      0.0    0.0  \n",
       "10                        0.0                      0.0    1.0  \n",
       "11                        0.0                      0.0   -1.0  \n",
       "12                        0.0                      0.0    1.0  \n",
       "13                        0.0                      0.0    0.0  \n",
       "14                        0.0                      0.0    1.0  \n",
       "15                        0.0                      0.0    0.0  \n",
       "16                        0.0                      0.0    0.0  \n",
       "17                        0.0                      0.0   -1.0  \n",
       "18                        0.0                      0.0   -1.0  \n",
       "19                        0.0                      0.0    0.0  \n",
       "20                        0.0                      0.0    0.0  \n",
       "21                        1.0                      0.0    1.0  \n",
       "22                        0.0                      0.0    0.0  \n",
       "23                        0.0                      0.0    0.0  \n",
       "24                        0.0                      0.0    0.0  \n",
       "25                        0.0                      0.0    1.0  \n",
       "26                        0.0                      0.0    0.0  \n",
       "27                        0.0                      0.0    0.0  \n",
       "28                        0.0                      0.0    0.0  \n",
       "29                        0.0                      0.0    1.0  \n",
       "...                       ...                      ...    ...  \n",
       "8113                      0.0                      0.0    0.0  \n",
       "8114                      0.0                      0.0    0.0  \n",
       "8115                      0.0                      0.0    0.0  \n",
       "8116                      0.0                      0.0    0.0  \n",
       "8117                      0.0                      0.0    0.0  \n",
       "8118                      0.0                      0.0    1.0  \n",
       "8119                      0.0                      0.0    0.0  \n",
       "8120                      0.0                      0.0    0.0  \n",
       "8121                      0.0                      0.0    0.0  \n",
       "8122                      0.0                      0.0    0.0  \n",
       "8123                      0.0                      0.0    0.0  \n",
       "8124                      1.0                      0.0    1.0  \n",
       "8125                      0.0                      0.0    0.0  \n",
       "8126                      0.0                      0.0    0.0  \n",
       "8127                      0.0                      0.0    0.0  \n",
       "8128                      0.0                      0.0    1.0  \n",
       "8129                      0.0                      0.0    0.0  \n",
       "8130                      0.0                      0.0    0.0  \n",
       "8131                      0.0                      0.0    0.0  \n",
       "8132                      0.0                      0.0    0.0  \n",
       "8133                      0.0                      0.0    0.0  \n",
       "8134                      0.0                      0.0    0.0  \n",
       "8135                      0.0                      0.0    0.0  \n",
       "8136                      0.0                      0.0    0.0  \n",
       "8137                      0.0                      0.0    0.0  \n",
       "8138                      0.0                      0.0    0.0  \n",
       "8139                      0.0                      0.0    1.0  \n",
       "8140                      0.0                      0.0    0.0  \n",
       "8141                      0.0                      0.0    0.0  \n",
       "8142                      0.0                      0.0    1.0  \n",
       "\n",
       "[8143 rows x 8 columns]"
      ]
     },
     "execution_count": 4,
     "metadata": {},
     "output_type": "execute_result"
    }
   ],
   "source": [
    "df"
   ]
  },
  {
   "cell_type": "markdown",
   "metadata": {},
   "source": [
    "### Label Distribution:"
   ]
  },
  {
   "cell_type": "markdown",
   "metadata": {},
   "source": [
    "-1 = Negative sentiment,\n",
    " 0 = No sentiment,\n",
    " 1 = Positive sentiment"
   ]
  },
  {
   "cell_type": "code",
   "execution_count": 5,
   "metadata": {},
   "outputs": [
    {
     "data": {
      "text/plain": [
       " 0.0    5643\n",
       " 1.0    2099\n",
       "-1.0     401\n",
       "Name: label, dtype: int64"
      ]
     },
     "execution_count": 5,
     "metadata": {},
     "output_type": "execute_result"
    }
   ],
   "source": [
    "df.label.value_counts()"
   ]
  },
  {
   "cell_type": "markdown",
   "metadata": {},
   "source": [
    "## Data Description:"
   ]
  },
  {
   "cell_type": "code",
   "execution_count": 7,
   "metadata": {
    "scrolled": false
   },
   "outputs": [
    {
     "data": {
      "text/html": [
       "<div>\n",
       "<style>\n",
       "    .dataframe thead tr:only-child th {\n",
       "        text-align: right;\n",
       "    }\n",
       "\n",
       "    .dataframe thead th {\n",
       "        text-align: left;\n",
       "    }\n",
       "\n",
       "    .dataframe tbody tr th {\n",
       "        vertical-align: top;\n",
       "    }\n",
       "</style>\n",
       "<table border=\"1\" class=\"dataframe\">\n",
       "  <thead>\n",
       "    <tr style=\"text-align: right;\">\n",
       "      <th></th>\n",
       "      <th>words_pos_polarity</th>\n",
       "      <th>words_neg_polarity</th>\n",
       "      <th>emoji_pos_polarity</th>\n",
       "      <th>emoji_neg_polarity</th>\n",
       "      <th>word_emoji_pos_pol_diff</th>\n",
       "      <th>word_emoji_neg_pol_diff</th>\n",
       "      <th>label</th>\n",
       "    </tr>\n",
       "  </thead>\n",
       "  <tbody>\n",
       "    <tr>\n",
       "      <th>count</th>\n",
       "      <td>8143.000000</td>\n",
       "      <td>8143.000000</td>\n",
       "      <td>8143.000000</td>\n",
       "      <td>8143.000000</td>\n",
       "      <td>8143.000000</td>\n",
       "      <td>8143.000000</td>\n",
       "      <td>8143.000000</td>\n",
       "    </tr>\n",
       "    <tr>\n",
       "      <th>mean</th>\n",
       "      <td>0.162196</td>\n",
       "      <td>-0.064786</td>\n",
       "      <td>0.045561</td>\n",
       "      <td>-0.002210</td>\n",
       "      <td>0.035734</td>\n",
       "      <td>0.001854</td>\n",
       "      <td>0.208523</td>\n",
       "    </tr>\n",
       "    <tr>\n",
       "      <th>std</th>\n",
       "      <td>0.258237</td>\n",
       "      <td>0.153083</td>\n",
       "      <td>0.208543</td>\n",
       "      <td>0.046967</td>\n",
       "      <td>0.173672</td>\n",
       "      <td>0.040255</td>\n",
       "      <td>0.513384</td>\n",
       "    </tr>\n",
       "    <tr>\n",
       "      <th>min</th>\n",
       "      <td>0.000000</td>\n",
       "      <td>-1.000000</td>\n",
       "      <td>0.000000</td>\n",
       "      <td>-1.000000</td>\n",
       "      <td>0.000000</td>\n",
       "      <td>0.000000</td>\n",
       "      <td>-1.000000</td>\n",
       "    </tr>\n",
       "    <tr>\n",
       "      <th>25%</th>\n",
       "      <td>0.000000</td>\n",
       "      <td>0.000000</td>\n",
       "      <td>0.000000</td>\n",
       "      <td>0.000000</td>\n",
       "      <td>0.000000</td>\n",
       "      <td>0.000000</td>\n",
       "      <td>0.000000</td>\n",
       "    </tr>\n",
       "    <tr>\n",
       "      <th>50%</th>\n",
       "      <td>0.000000</td>\n",
       "      <td>0.000000</td>\n",
       "      <td>0.000000</td>\n",
       "      <td>0.000000</td>\n",
       "      <td>0.000000</td>\n",
       "      <td>0.000000</td>\n",
       "      <td>0.000000</td>\n",
       "    </tr>\n",
       "    <tr>\n",
       "      <th>75%</th>\n",
       "      <td>0.330000</td>\n",
       "      <td>0.000000</td>\n",
       "      <td>0.000000</td>\n",
       "      <td>0.000000</td>\n",
       "      <td>0.000000</td>\n",
       "      <td>0.000000</td>\n",
       "      <td>1.000000</td>\n",
       "    </tr>\n",
       "    <tr>\n",
       "      <th>max</th>\n",
       "      <td>1.000000</td>\n",
       "      <td>0.000000</td>\n",
       "      <td>1.000000</td>\n",
       "      <td>0.000000</td>\n",
       "      <td>1.000000</td>\n",
       "      <td>1.000000</td>\n",
       "      <td>1.000000</td>\n",
       "    </tr>\n",
       "  </tbody>\n",
       "</table>\n",
       "</div>"
      ],
      "text/plain": [
       "       words_pos_polarity  words_neg_polarity  emoji_pos_polarity  \\\n",
       "count         8143.000000         8143.000000         8143.000000   \n",
       "mean             0.162196           -0.064786            0.045561   \n",
       "std              0.258237            0.153083            0.208543   \n",
       "min              0.000000           -1.000000            0.000000   \n",
       "25%              0.000000            0.000000            0.000000   \n",
       "50%              0.000000            0.000000            0.000000   \n",
       "75%              0.330000            0.000000            0.000000   \n",
       "max              1.000000            0.000000            1.000000   \n",
       "\n",
       "       emoji_neg_polarity  word_emoji_pos_pol_diff  word_emoji_neg_pol_diff  \\\n",
       "count         8143.000000              8143.000000              8143.000000   \n",
       "mean            -0.002210                 0.035734                 0.001854   \n",
       "std              0.046967                 0.173672                 0.040255   \n",
       "min             -1.000000                 0.000000                 0.000000   \n",
       "25%              0.000000                 0.000000                 0.000000   \n",
       "50%              0.000000                 0.000000                 0.000000   \n",
       "75%              0.000000                 0.000000                 0.000000   \n",
       "max              0.000000                 1.000000                 1.000000   \n",
       "\n",
       "             label  \n",
       "count  8143.000000  \n",
       "mean      0.208523  \n",
       "std       0.513384  \n",
       "min      -1.000000  \n",
       "25%       0.000000  \n",
       "50%       0.000000  \n",
       "75%       1.000000  \n",
       "max       1.000000  "
      ]
     },
     "execution_count": 7,
     "metadata": {},
     "output_type": "execute_result"
    }
   ],
   "source": [
    "df.describe()"
   ]
  },
  {
   "cell_type": "markdown",
   "metadata": {},
   "source": [
    "### Train Test Split"
   ]
  },
  {
   "cell_type": "code",
   "execution_count": 163,
   "metadata": {
    "collapsed": true
   },
   "outputs": [],
   "source": [
    "X = df.iloc[:, :-1]\n",
    "y = df.iloc[:, -1]\n",
    "y = y.astype(int)\n",
    "\n",
    "X_train, X_test, y_train, y_test = train_test_split(X, y, test_size=0.25, random_state=42)"
   ]
  },
  {
   "cell_type": "markdown",
   "metadata": {},
   "source": [
    "## TF-IDF Vectorizer:"
   ]
  },
  {
   "cell_type": "code",
   "execution_count": 95,
   "metadata": {},
   "outputs": [
    {
     "name": "stderr",
     "output_type": "stream",
     "text": [
      "/Users/juan/anaconda3/lib/python3.6/site-packages/sklearn/feature_extraction/text.py:1089: FutureWarning: Conversion of the second argument of issubdtype from `float` to `np.floating` is deprecated. In future, it will be treated as `np.float64 == np.dtype(float).type`.\n",
      "  if hasattr(X, 'dtype') and np.issubdtype(X.dtype, np.float):\n"
     ]
    },
    {
     "data": {
      "text/plain": [
       "(6107, 6977)"
      ]
     },
     "execution_count": 95,
     "metadata": {},
     "output_type": "execute_result"
    }
   ],
   "source": [
    "vectorizer = TfidfVectorizer()\n",
    "X_train = vectorizer.fit_transform(X_train.body)\n",
    "X_train.shape"
   ]
  },
  {
   "cell_type": "code",
   "execution_count": 17,
   "metadata": {},
   "outputs": [
    {
     "name": "stderr",
     "output_type": "stream",
     "text": [
      "/Users/juan/anaconda3/lib/python3.6/site-packages/sklearn/feature_extraction/text.py:1089: FutureWarning: Conversion of the second argument of issubdtype from `float` to `np.floating` is deprecated. In future, it will be treated as `np.float64 == np.dtype(float).type`.\n",
      "  if hasattr(X, 'dtype') and np.issubdtype(X.dtype, np.float):\n"
     ]
    },
    {
     "data": {
      "text/plain": [
       "(2036, 6977)"
      ]
     },
     "execution_count": 17,
     "metadata": {},
     "output_type": "execute_result"
    }
   ],
   "source": [
    "X_test = vectorizer.transform(X_test.body)\n",
    "X_test.shape"
   ]
  },
  {
   "cell_type": "markdown",
   "metadata": {},
   "source": [
    "# MACHINE LEARNING ALGORITHMS:"
   ]
  },
  {
   "cell_type": "markdown",
   "metadata": {},
   "source": [
    "## NAIVE BAYES:"
   ]
  },
  {
   "cell_type": "code",
   "execution_count": 25,
   "metadata": {},
   "outputs": [
    {
     "data": {
      "text/plain": [
       "GaussianNB(priors=None)"
      ]
     },
     "execution_count": 25,
     "metadata": {},
     "output_type": "execute_result"
    }
   ],
   "source": [
    "gnb = GaussianNB()\n",
    "gnb.fit(X_train.toarray(), y_train)"
   ]
  },
  {
   "cell_type": "code",
   "execution_count": 26,
   "metadata": {},
   "outputs": [
    {
     "name": "stdout",
     "output_type": "stream",
     "text": [
      "Model Accuracy: 68.95874263261297 %\n"
     ]
    }
   ],
   "source": [
    "score = gnb.score(X_test.toarray(), y_test)\n",
    "print('Model Accuracy:', (score*100), '%')"
   ]
  },
  {
   "cell_type": "code",
   "execution_count": 27,
   "metadata": {},
   "outputs": [
    {
     "name": "stdout",
     "output_type": "stream",
     "text": [
      "             precision    recall  f1-score   support\n",
      "\n",
      "         -1       0.11      0.39      0.17       124\n",
      "          0       0.92      0.75      0.83      1393\n",
      "          1       0.68      0.60      0.64       519\n",
      "\n",
      "avg / total       0.81      0.69      0.74      2036\n",
      "\n"
     ]
    }
   ],
   "source": [
    "predicted = gnb.predict(X_test.toarray())\n",
    "report = classification_report(y_test, predicted)\n",
    "print(report)"
   ]
  },
  {
   "cell_type": "markdown",
   "metadata": {},
   "source": [
    "## LOGISTIC REGRESSION:"
   ]
  },
  {
   "cell_type": "code",
   "execution_count": 18,
   "metadata": {
    "collapsed": true
   },
   "outputs": [],
   "source": [
    "model = LogisticRegression(multi_class='ovr')"
   ]
  },
  {
   "cell_type": "code",
   "execution_count": 19,
   "metadata": {},
   "outputs": [
    {
     "data": {
      "text/plain": [
       "LogisticRegression(C=1.0, class_weight=None, dual=False, fit_intercept=True,\n",
       "          intercept_scaling=1, max_iter=100, multi_class='ovr', n_jobs=1,\n",
       "          penalty='l2', random_state=None, solver='liblinear', tol=0.0001,\n",
       "          verbose=0, warm_start=False)"
      ]
     },
     "execution_count": 19,
     "metadata": {},
     "output_type": "execute_result"
    }
   ],
   "source": [
    "model.fit(X_train, y_train)"
   ]
  },
  {
   "cell_type": "code",
   "execution_count": 20,
   "metadata": {},
   "outputs": [
    {
     "name": "stdout",
     "output_type": "stream",
     "text": [
      "Model Accuracy: 86.68958742632613 %\n"
     ]
    }
   ],
   "source": [
    "score = model.score(X_test, y_test)\n",
    "print('Model Accuracy:', (score*100), '%')"
   ]
  },
  {
   "cell_type": "code",
   "execution_count": 21,
   "metadata": {},
   "outputs": [
    {
     "name": "stdout",
     "output_type": "stream",
     "text": [
      "             precision    recall  f1-score   support\n",
      "\n",
      "         -1       0.80      0.13      0.22       124\n",
      "          0       0.91      0.96      0.93      1393\n",
      "          1       0.77      0.81      0.78       519\n",
      "\n",
      "avg / total       0.86      0.87      0.85      2036\n",
      "\n"
     ]
    }
   ],
   "source": [
    "predicted = model.predict(X_test)\n",
    "report = classification_report(y_test, predicted)\n",
    "print(report)"
   ]
  },
  {
   "cell_type": "markdown",
   "metadata": {},
   "source": [
    "## SVM (GAUSIAN KERNEL):"
   ]
  },
  {
   "cell_type": "code",
   "execution_count": 22,
   "metadata": {},
   "outputs": [
    {
     "data": {
      "text/plain": [
       "SVC(C=1.0, cache_size=200, class_weight=None, coef0=0.0,\n",
       "  decision_function_shape='ovr', degree=3, gamma='auto', kernel='rbf',\n",
       "  max_iter=-1, probability=False, random_state=None, shrinking=True,\n",
       "  tol=0.001, verbose=False)"
      ]
     },
     "execution_count": 22,
     "metadata": {},
     "output_type": "execute_result"
    }
   ],
   "source": [
    "svclassifier = SVC(kernel='rbf')  \n",
    "svclassifier.fit(X_train, y_train)"
   ]
  },
  {
   "cell_type": "code",
   "execution_count": 23,
   "metadata": {},
   "outputs": [
    {
     "name": "stdout",
     "output_type": "stream",
     "text": [
      "Model Accuracy: 68.41846758349706 %\n"
     ]
    }
   ],
   "source": [
    "score = svclassifier.score(X_test, y_test)\n",
    "print('Model Accuracy:', (score*100), '%')"
   ]
  },
  {
   "cell_type": "code",
   "execution_count": 24,
   "metadata": {},
   "outputs": [
    {
     "name": "stdout",
     "output_type": "stream",
     "text": [
      "             precision    recall  f1-score   support\n",
      "\n",
      "         -1       0.00      0.00      0.00       124\n",
      "          0       0.68      1.00      0.81      1393\n",
      "          1       0.00      0.00      0.00       519\n",
      "\n",
      "avg / total       0.47      0.68      0.56      2036\n",
      "\n"
     ]
    },
    {
     "name": "stderr",
     "output_type": "stream",
     "text": [
      "/Users/juan/anaconda3/lib/python3.6/site-packages/sklearn/metrics/classification.py:1135: UndefinedMetricWarning: Precision and F-score are ill-defined and being set to 0.0 in labels with no predicted samples.\n",
      "  'precision', 'predicted', average, warn_for)\n"
     ]
    }
   ],
   "source": [
    "predicted = svclassifier.predict(X_test)\n",
    "report = classification_report(y_test, predicted)\n",
    "print(report)"
   ]
  },
  {
   "cell_type": "markdown",
   "metadata": {},
   "source": [
    "# DEEP LEARNING IMPLEMENTATIONS:"
   ]
  },
  {
   "cell_type": "markdown",
   "metadata": {},
   "source": [
    "### WORD2VEC & EMBEDDING MATRIX:"
   ]
  },
  {
   "cell_type": "code",
   "execution_count": 164,
   "metadata": {
    "collapsed": true
   },
   "outputs": [],
   "source": [
    "# Split text:\n",
    "split_text = X.body.apply(lambda sent: sent.lower().split())"
   ]
  },
  {
   "cell_type": "code",
   "execution_count": 165,
   "metadata": {
    "collapsed": true
   },
   "outputs": [],
   "source": [
    "# Training W2V on posts texts:\n",
    "w2v = gensim.models.Word2Vec(sentences=split_text, sg=1, min_count=1)"
   ]
  },
  {
   "cell_type": "code",
   "execution_count": 166,
   "metadata": {},
   "outputs": [
    {
     "data": {
      "text/plain": [
       "8747"
      ]
     },
     "execution_count": 166,
     "metadata": {},
     "output_type": "execute_result"
    }
   ],
   "source": [
    "# Check # of unique words:\n",
    "keys = len(list(w2v.wv.vocab.keys()))\n",
    "keys"
   ]
  },
  {
   "cell_type": "code",
   "execution_count": 167,
   "metadata": {},
   "outputs": [
    {
     "data": {
      "text/plain": [
       "2     3167\n",
       "1     1504\n",
       "3      518\n",
       "4      263\n",
       "13     215\n",
       "6      187\n",
       "5      164\n",
       "9      164\n",
       "7      159\n",
       "11     127\n",
       "8      112\n",
       "10      91\n",
       "12      76\n",
       "17      69\n",
       "14      66\n",
       "18      66\n",
       "16      66\n",
       "15      65\n",
       "19      49\n",
       "22      49\n",
       "21      46\n",
       "20      45\n",
       "25      41\n",
       "23      40\n",
       "27      39\n",
       "24      39\n",
       "26      34\n",
       "34      28\n",
       "30      27\n",
       "35      27\n",
       "      ... \n",
       "43      12\n",
       "42      12\n",
       "50      12\n",
       "55      12\n",
       "53      11\n",
       "57      11\n",
       "46      11\n",
       "72      10\n",
       "51       9\n",
       "56       8\n",
       "68       7\n",
       "66       7\n",
       "65       7\n",
       "75       7\n",
       "67       6\n",
       "64       6\n",
       "60       6\n",
       "63       6\n",
       "74       5\n",
       "77       5\n",
       "69       5\n",
       "80       4\n",
       "59       4\n",
       "78       4\n",
       "79       3\n",
       "73       3\n",
       "70       3\n",
       "71       3\n",
       "76       2\n",
       "81       1\n",
       "Name: body, Length: 81, dtype: int64"
      ]
     },
     "execution_count": 167,
     "metadata": {},
     "output_type": "execute_result"
    }
   ],
   "source": [
    "split_text.apply(lambda row: len(row)).value_counts()"
   ]
  },
  {
   "cell_type": "code",
   "execution_count": 168,
   "metadata": {},
   "outputs": [
    {
     "name": "stdout",
     "output_type": "stream",
     "text": [
      "                                                   body words_pos_polarity  \\\n",
      "5642                                          Muy bueno              0.833   \n",
      "5674                              Oh no no no Thank you                  0   \n",
      "2456                 Buena idea usar los dos de momento               0.59   \n",
      "6274                                     Que historia /                  0   \n",
      "6317                     Muy bueno lo que has publicado              0.833   \n",
      "7787                                              spams                  0   \n",
      "2303                                          Ciao Ciao                  0   \n",
      "1966                                               Ciao                  0   \n",
      "5199                                          Ciao Ciao                  0   \n",
      "51    El índice Dow Jones de industriales referencia...               0.25   \n",
      "3620                                          Ciao Ciao                  0   \n",
      "3898                                          Ciao Ciao                  0   \n",
      "5785  Me gusta Mucho Lo que publicas Los temas son v...               0.75   \n",
      "1600                                         Jajajajaja                  0   \n",
      "4999                                          Ciao Ciao                  0   \n",
      "3143                                          Ciao Ciao                  0   \n",
      "3478                                            I am in               0.25   \n",
      "2602                                          Ciao Ciao                  0   \n",
      "4353                                                  a                  0   \n",
      "6699                                         Ciao Ciao                   0   \n",
      "426   Para entender la tecnología blockchain harían ...               0.25   \n",
      "410   Poco a poco los de habla hispana nos iremos in...                  0   \n",
      "6800                                               Goku                  0   \n",
      "7997                                                  p                  0   \n",
      "2929                                                  a                  0   \n",
      "3316                                                  Y                  0   \n",
      "4541                                          Ciao Ciao                  0   \n",
      "210   Me parece buena idea USER para que entre todos...               0.59   \n",
      "7403                gracias por compartir este material                  0   \n",
      "5553     muy buenas informacion gracias por compartirla               0.99   \n",
      "...                                                 ...                ...   \n",
      "5051                                          Ciao Ciao                  0   \n",
      "5311                                          Ciao Ciao                  0   \n",
      "2433                                          Ciao Ciao                  0   \n",
      "6949                                         Ciao Ciao                   0   \n",
      "7581                                                 Ha                  0   \n",
      "5611  Saludos desde Venezuela espero ganar mucho din...              0.705   \n",
      "2391                                          Ciao Ciao                  0   \n",
      "769   Gran aporte estaba un poco confundido en algun...             0.3178   \n",
      "7476  Buesnos amigos Me llamo Vladimir Yo de Russia ...              0.403   \n",
      "1685   Oh eres Chileno eh Un placer amigo conocerte URL              0.442   \n",
      "130   Gracias por tu respuesta y comentarios  Si qui...           0.527667   \n",
      "7831            Muchas gracias me funciono de maravilla              0.417   \n",
      "2919  puedes usar el traductor de google a un amigo ...             0.7065   \n",
      "3171  excelentes noticias Ya podemos pasar página y ...                  0   \n",
      "3444                                                  a                  0   \n",
      "6231                                         Ciao Ciao                   0   \n",
      "5578                 Gracias bro es un muy buen aportei              0.734   \n",
      "4426                                          Ciao Ciao                  0   \n",
      "5334                                          Ciao Ciao                  0   \n",
      "466   En este episodio de Keiser Report USER y Stacy...             0.5172   \n",
      "6265          Yes this in in El Paso county in Colorado            0.28125   \n",
      "5734                             Gracias amigo muy util              0.565   \n",
      "3092  URL  Un nuevo paradigma económico se está crea...             0.4208   \n",
      "3772                                          Ciao Ciao                  0   \n",
      "5191                                          Ciao Ciao                  0   \n",
      "5226              muy interesante gracias por compartir              0.563   \n",
      "5390              Gracias USER de verdad muchas gracias                0.3   \n",
      "860                                          ay caramba               0.57   \n",
      "7603  Hello USER Como Esta Saludos desde los angeles...                0.7   \n",
      "7270                                    Claro que si :)                0.2   \n",
      "\n",
      "     words_neg_polarity emoji_pos_polarity emoji_neg_polarity  \\\n",
      "5642                  0                  0                  0   \n",
      "5674               -0.2                  0                  0   \n",
      "2456                  0                  0                  0   \n",
      "6274                  0                  0                  0   \n",
      "6317                  0                  0                  0   \n",
      "7787                  0                  0                  0   \n",
      "2303                  0                  0                  0   \n",
      "1966                  0                  0                  0   \n",
      "5199                  0                  0                  0   \n",
      "51                    0                  0                  0   \n",
      "3620                  0                  0                  0   \n",
      "3898                  0                  0                  0   \n",
      "5785                  0                  0                  0   \n",
      "1600                  0                  0                  0   \n",
      "4999                  0                  0                  0   \n",
      "3143                  0                  0                  0   \n",
      "3478                  0                  0                  0   \n",
      "2602                  0                  0                  0   \n",
      "4353                  0                  0                  0   \n",
      "6699                  0                  0                  0   \n",
      "426              -0.375                  0                  0   \n",
      "410              -0.375                  1                  0   \n",
      "6800                  0                  0                  0   \n",
      "7997                  0                  0                  0   \n",
      "2929                  0                  0                  0   \n",
      "3316                  0                  0                  0   \n",
      "4541                  0                  0                  0   \n",
      "210                -0.2                  0                  0   \n",
      "7403                  0                  0                  0   \n",
      "5553                  0                  0                  0   \n",
      "...                 ...                ...                ...   \n",
      "5051                  0                  0                  0   \n",
      "5311                  0                  0                  0   \n",
      "2433                  0                  0                  0   \n",
      "6949                  0                  0                  0   \n",
      "7581                  0                  0                  0   \n",
      "5611                  0                  0                  0   \n",
      "2391                  0                  0                  0   \n",
      "769              -0.375                  0                  0   \n",
      "7476                  0                  0                  0   \n",
      "1685             -0.375                  0                  0   \n",
      "130                   0                  0                  0   \n",
      "7831                  0                  0                  0   \n",
      "2919             -0.375                  0                  0   \n",
      "3171                  0                  0                  0   \n",
      "3444                  0                  0                  0   \n",
      "6231                  0                  0                  0   \n",
      "5578             -0.375                  0                  0   \n",
      "4426                  0                  0                  0   \n",
      "5334                  0                  0                  0   \n",
      "466              -0.445                  0                  0   \n",
      "6265                  0                  0                  0   \n",
      "5734                  0                  0                  0   \n",
      "3092             -0.375                  0                  0   \n",
      "3772                  0                  0                  0   \n",
      "5191                  0                  0                  0   \n",
      "5226                  0                  0                  0   \n",
      "5390                  0                  0                  0   \n",
      "860                -0.5                  0                  0   \n",
      "7603             -0.225                  0                  0   \n",
      "7270              -0.25                  1                  0   \n",
      "\n",
      "     word_emoji_pos_pol_diff word_emoji_neg_pol_diff  \n",
      "5642                       0                       0  \n",
      "5674                       0                       0  \n",
      "2456                       0                       0  \n",
      "6274                       0                       0  \n",
      "6317                       0                       0  \n",
      "7787                       0                       0  \n",
      "2303                       0                       0  \n",
      "1966                       0                       0  \n",
      "5199                       0                       0  \n",
      "51                         0                       0  \n",
      "3620                       0                       0  \n",
      "3898                       0                       0  \n",
      "5785                       0                       0  \n",
      "1600                       0                       0  \n",
      "4999                       0                       0  \n",
      "3143                       0                       0  \n",
      "3478                       0                       0  \n",
      "2602                       0                       0  \n",
      "4353                       0                       0  \n",
      "6699                       0                       0  \n",
      "426                        0                       0  \n",
      "410                        1                       0  \n",
      "6800                       0                       0  \n",
      "7997                       0                       0  \n",
      "2929                       0                       0  \n",
      "3316                       0                       0  \n",
      "4541                       0                       0  \n",
      "210                        0                       0  \n",
      "7403                       0                       0  \n",
      "5553                       0                       0  \n",
      "...                      ...                     ...  \n",
      "5051                       0                       0  \n",
      "5311                       0                       0  \n",
      "2433                       0                       0  \n",
      "6949                       0                       0  \n",
      "7581                       0                       0  \n",
      "5611                       0                       0  \n",
      "2391                       0                       0  \n",
      "769                        0                       0  \n",
      "7476                       0                       0  \n",
      "1685                       0                       0  \n",
      "130                        0                       0  \n",
      "7831                       0                       0  \n",
      "2919                       0                       0  \n",
      "3171                       0                       0  \n",
      "3444                       0                       0  \n",
      "6231                       0                       0  \n",
      "5578                       0                       0  \n",
      "4426                       0                       0  \n",
      "5334                       0                       0  \n",
      "466                        0                       0  \n",
      "6265                       0                       0  \n",
      "5734                       0                       0  \n",
      "3092                       0                       0  \n",
      "3772                       0                       0  \n",
      "5191                       0                       0  \n",
      "5226                       0                       0  \n",
      "5390                       0                       0  \n",
      "860                        0                       0  \n",
      "7603                       0                       0  \n",
      "7270                     0.8                       0  \n",
      "\n",
      "[6107 rows x 7 columns]\n"
     ]
    }
   ],
   "source": [
    "print(X_train)"
   ]
  },
  {
   "cell_type": "code",
   "execution_count": 169,
   "metadata": {
    "collapsed": true
   },
   "outputs": [],
   "source": [
    "# TRANSFORMING DATA:\n",
    "tokenizer = Tokenizer()\n",
    "tokenizer.fit_on_texts(X.body)\n",
    "X_train = tokenizer.texts_to_sequences(X_train.body)\n",
    "X_test = tokenizer.texts_to_sequences(X_test.body)"
   ]
  },
  {
   "cell_type": "code",
   "execution_count": 170,
   "metadata": {},
   "outputs": [
    {
     "name": "stdout",
     "output_type": "stream",
     "text": [
      "max: 96 min: 1 avg: 8.209104306533487\n"
     ]
    }
   ],
   "source": [
    "# Checking length of sequences\n",
    "seq = []\n",
    "for s in range(len(X_train)):\n",
    "    seq.append(len(X_train[s]))\n",
    "    #print(s, len(X_train[s]))\n",
    "print('max:', max(seq), 'min:', min(seq), 'avg:', sum(seq)/len(seq))"
   ]
  },
  {
   "cell_type": "code",
   "execution_count": 171,
   "metadata": {
    "collapsed": true
   },
   "outputs": [],
   "source": [
    "X_train = pad_sequences(X_train, maxlen=90)\n",
    "X_test = pad_sequences(X_test, maxlen=90)"
   ]
  },
  {
   "cell_type": "code",
   "execution_count": 172,
   "metadata": {},
   "outputs": [
    {
     "data": {
      "text/plain": [
       "array([[   0,    0,    0, ...,    0,   23,   52],\n",
       "       [   0,    0,    0, ...,   11, 1587,  471],\n",
       "       [   0,    0,    0, ...,  292,    3,  164],\n",
       "       ...,\n",
       "       [   0,    0,    0, ...,    0,  793, 4486],\n",
       "       [   0,    0,    0, ..., 7971,    4,  700],\n",
       "       [   0,    0,    0, ...,  273,    2,   20]], dtype=int32)"
      ]
     },
     "execution_count": 172,
     "metadata": {},
     "output_type": "execute_result"
    }
   ],
   "source": [
    "X_train"
   ]
  },
  {
   "cell_type": "code",
   "execution_count": 173,
   "metadata": {
    "collapsed": true
   },
   "outputs": [],
   "source": [
    "# Embedding Matrix:\n",
    "embedding_matrix = np.zeros((len(tokenizer.word_index) + 1, 100))\n",
    "vec = []\n",
    "for word, i in tokenizer.word_index.items():\n",
    "    if word in w2v.wv.vocab:\n",
    "        embedding_vector = w2v.wv.get_vector(word)\n",
    "        # words not found in embedding index will be all-zeros.\n",
    "        embedding_matrix[i] = embedding_vector\n",
    "    else:\n",
    "        vec.append(word)"
   ]
  },
  {
   "cell_type": "code",
   "execution_count": 174,
   "metadata": {},
   "outputs": [
    {
     "data": {
      "text/plain": [
       "(8485, 100)"
      ]
     },
     "execution_count": 174,
     "metadata": {},
     "output_type": "execute_result"
    }
   ],
   "source": [
    "embedding_matrix.shape"
   ]
  },
  {
   "cell_type": "code",
   "execution_count": 175,
   "metadata": {
    "collapsed": true
   },
   "outputs": [],
   "source": [
    "# y as categorical\n",
    "y = to_categorical(y_train.as_matrix()+1)"
   ]
  },
  {
   "cell_type": "code",
   "execution_count": 176,
   "metadata": {},
   "outputs": [
    {
     "data": {
      "text/plain": [
       "array([[0., 0., 1.],\n",
       "       [0., 1., 0.],\n",
       "       [0., 0., 1.],\n",
       "       ...,\n",
       "       [0., 0., 1.],\n",
       "       [0., 0., 1.],\n",
       "       [0., 0., 1.]], dtype=float32)"
      ]
     },
     "execution_count": 176,
     "metadata": {},
     "output_type": "execute_result"
    }
   ],
   "source": [
    "y"
   ]
  },
  {
   "cell_type": "markdown",
   "metadata": {
    "collapsed": true
   },
   "source": [
    "## 1D CNN:"
   ]
  },
  {
   "cell_type": "code",
   "execution_count": 69,
   "metadata": {
    "collapsed": true
   },
   "outputs": [],
   "source": [
    "# CNN Model\n",
    "model = Sequential()       \n",
    "model.add(layers.Embedding(keys+1, 128, input_length=90))\n",
    "model.add(layers.Dropout(0.2))\n",
    "model.add(layers.Conv1D(8, 5, activation='relu', kernel_regularizer=regularizers.l2(0.001)))\n",
    "model.add(layers.MaxPooling1D(2))\n",
    "model.add(layers.Dropout(0.2))\n",
    "model.add(layers.Conv1D(8, 2, activation='relu', kernel_regularizer=regularizers.l2(0.001)))\n",
    "model.add(layers.MaxPooling1D(2))\n",
    "model.add(layers.Dropout(0.2))\n",
    "model.add(layers.Conv1D(8, 5, activation='relu', kernel_regularizer=regularizers.l2(0.001)))\n",
    "model.add(layers.GlobalMaxPooling1D())\n",
    "model.add(layers.Dropout(0.5))\n",
    "model.add(layers.Dense(3, activation='softmax'))"
   ]
  },
  {
   "cell_type": "code",
   "execution_count": 70,
   "metadata": {},
   "outputs": [
    {
     "name": "stdout",
     "output_type": "stream",
     "text": [
      "_________________________________________________________________\n",
      "Layer (type)                 Output Shape              Param #   \n",
      "=================================================================\n",
      "embedding_1 (Embedding)      (None, 90, 128)           1119744   \n",
      "_________________________________________________________________\n",
      "dropout_1 (Dropout)          (None, 90, 128)           0         \n",
      "_________________________________________________________________\n",
      "conv1d_1 (Conv1D)            (None, 86, 8)             5128      \n",
      "_________________________________________________________________\n",
      "max_pooling1d_1 (MaxPooling1 (None, 43, 8)             0         \n",
      "_________________________________________________________________\n",
      "dropout_2 (Dropout)          (None, 43, 8)             0         \n",
      "_________________________________________________________________\n",
      "conv1d_2 (Conv1D)            (None, 42, 8)             136       \n",
      "_________________________________________________________________\n",
      "max_pooling1d_2 (MaxPooling1 (None, 21, 8)             0         \n",
      "_________________________________________________________________\n",
      "dropout_3 (Dropout)          (None, 21, 8)             0         \n",
      "_________________________________________________________________\n",
      "conv1d_3 (Conv1D)            (None, 17, 8)             328       \n",
      "_________________________________________________________________\n",
      "global_max_pooling1d_1 (Glob (None, 8)                 0         \n",
      "_________________________________________________________________\n",
      "dropout_4 (Dropout)          (None, 8)                 0         \n",
      "_________________________________________________________________\n",
      "dense_1 (Dense)              (None, 3)                 27        \n",
      "=================================================================\n",
      "Total params: 1,125,363\n",
      "Trainable params: 1,125,363\n",
      "Non-trainable params: 0\n",
      "_________________________________________________________________\n"
     ]
    }
   ],
   "source": [
    "model.compile(loss='categorical_crossentropy', \n",
    "              optimizer='adam', \n",
    "              metrics=['accuracy'])\n",
    "model.summary()"
   ]
  },
  {
   "cell_type": "code",
   "execution_count": 71,
   "metadata": {},
   "outputs": [
    {
     "name": "stdout",
     "output_type": "stream",
     "text": [
      "Train on 4885 samples, validate on 1222 samples\n",
      "Epoch 1/60\n",
      "4885/4885 [==============================] - 3s 654us/step - loss: 0.9717 - acc: 0.6418 - val_loss: 0.8849 - val_acc: 0.6858\n",
      "Epoch 2/60\n",
      "4885/4885 [==============================] - 2s 469us/step - loss: 0.8306 - acc: 0.6981 - val_loss: 0.8561 - val_acc: 0.6858\n",
      "Epoch 3/60\n",
      "4885/4885 [==============================] - 2s 477us/step - loss: 0.7874 - acc: 0.7144 - val_loss: 0.8255 - val_acc: 0.7414\n",
      "Epoch 4/60\n",
      "4885/4885 [==============================] - 2s 481us/step - loss: 0.7539 - acc: 0.7238 - val_loss: 0.7919 - val_acc: 0.7537\n",
      "Epoch 5/60\n",
      "4885/4885 [==============================] - 2s 479us/step - loss: 0.7494 - acc: 0.7427 - val_loss: 0.7644 - val_acc: 0.7733\n",
      "Epoch 6/60\n",
      "4885/4885 [==============================] - 2s 469us/step - loss: 0.7011 - acc: 0.7570 - val_loss: 0.7073 - val_acc: 0.7962\n",
      "Epoch 7/60\n",
      "4885/4885 [==============================] - 2s 475us/step - loss: 0.6538 - acc: 0.7889 - val_loss: 0.6887 - val_acc: 0.8134\n",
      "Epoch 8/60\n",
      "4885/4885 [==============================] - 2s 478us/step - loss: 0.6069 - acc: 0.8149 - val_loss: 0.6634 - val_acc: 0.8257\n",
      "Epoch 9/60\n",
      "4885/4885 [==============================] - 2s 481us/step - loss: 0.5653 - acc: 0.8416 - val_loss: 0.6319 - val_acc: 0.8552\n",
      "Epoch 10/60\n",
      "4885/4885 [==============================] - 2s 489us/step - loss: 0.5037 - acc: 0.8682 - val_loss: 0.5618 - val_acc: 0.8682\n",
      "Epoch 11/60\n",
      "4885/4885 [==============================] - 2s 474us/step - loss: 0.4720 - acc: 0.8800 - val_loss: 0.5549 - val_acc: 0.8723\n",
      "Epoch 12/60\n",
      "4885/4885 [==============================] - 2s 467us/step - loss: 0.4323 - acc: 0.8917 - val_loss: 0.5090 - val_acc: 0.8740\n",
      "Epoch 13/60\n",
      "4885/4885 [==============================] - 2s 487us/step - loss: 0.4236 - acc: 0.8962 - val_loss: 0.5329 - val_acc: 0.8715\n",
      "Epoch 14/60\n",
      "4885/4885 [==============================] - 2s 476us/step - loss: 0.3994 - acc: 0.8983 - val_loss: 0.5230 - val_acc: 0.8723\n",
      "Epoch 15/60\n",
      "4885/4885 [==============================] - 2s 475us/step - loss: 0.3897 - acc: 0.9011 - val_loss: 0.5124 - val_acc: 0.8707\n",
      "Epoch 16/60\n",
      "4885/4885 [==============================] - 2s 481us/step - loss: 0.3731 - acc: 0.9011 - val_loss: 0.5190 - val_acc: 0.8699\n",
      "Epoch 17/60\n",
      "4885/4885 [==============================] - 2s 504us/step - loss: 0.3895 - acc: 0.8974 - val_loss: 0.5054 - val_acc: 0.8732\n",
      "Epoch 18/60\n",
      "4885/4885 [==============================] - 2s 483us/step - loss: 0.3647 - acc: 0.9042 - val_loss: 0.4961 - val_acc: 0.8740\n",
      "Epoch 19/60\n",
      "4885/4885 [==============================] - 2s 462us/step - loss: 0.3592 - acc: 0.9038 - val_loss: 0.5106 - val_acc: 0.8764\n",
      "Epoch 20/60\n",
      "4885/4885 [==============================] - 2s 458us/step - loss: 0.3524 - acc: 0.9058 - val_loss: 0.5012 - val_acc: 0.8740\n",
      "Epoch 21/60\n",
      "4885/4885 [==============================] - 2s 459us/step - loss: 0.3516 - acc: 0.9071 - val_loss: 0.5206 - val_acc: 0.8732\n",
      "Epoch 22/60\n",
      "4885/4885 [==============================] - 2s 459us/step - loss: 0.3384 - acc: 0.9077 - val_loss: 0.5364 - val_acc: 0.8723\n",
      "Epoch 23/60\n",
      "4885/4885 [==============================] - 2s 458us/step - loss: 0.3375 - acc: 0.9097 - val_loss: 0.5250 - val_acc: 0.8813\n",
      "Epoch 24/60\n",
      "4885/4885 [==============================] - 2s 459us/step - loss: 0.3373 - acc: 0.9097 - val_loss: 0.5717 - val_acc: 0.8699\n",
      "Epoch 25/60\n",
      "4885/4885 [==============================] - 2s 451us/step - loss: 0.3235 - acc: 0.9101 - val_loss: 0.5941 - val_acc: 0.8691\n",
      "Epoch 26/60\n",
      "4885/4885 [==============================] - 2s 457us/step - loss: 0.3225 - acc: 0.9079 - val_loss: 0.5863 - val_acc: 0.8723\n",
      "Epoch 27/60\n",
      "4885/4885 [==============================] - 2s 459us/step - loss: 0.3266 - acc: 0.9081 - val_loss: 0.5994 - val_acc: 0.8707\n",
      "Epoch 28/60\n",
      "4885/4885 [==============================] - 2s 486us/step - loss: 0.2889 - acc: 0.9128 - val_loss: 0.6073 - val_acc: 0.8732\n",
      "Epoch 29/60\n",
      "4885/4885 [==============================] - 2s 454us/step - loss: 0.2962 - acc: 0.9116 - val_loss: 0.6135 - val_acc: 0.8715\n",
      "Epoch 30/60\n",
      "4885/4885 [==============================] - 2s 446us/step - loss: 0.2939 - acc: 0.9083 - val_loss: 0.6019 - val_acc: 0.8756\n",
      "Epoch 31/60\n",
      "4885/4885 [==============================] - 2s 481us/step - loss: 0.2811 - acc: 0.9140 - val_loss: 0.6276 - val_acc: 0.8699\n",
      "Epoch 32/60\n",
      "4885/4885 [==============================] - 2s 470us/step - loss: 0.2799 - acc: 0.9091 - val_loss: 0.6356 - val_acc: 0.8699\n",
      "Epoch 33/60\n",
      "4885/4885 [==============================] - 2s 471us/step - loss: 0.2740 - acc: 0.9103 - val_loss: 0.6286 - val_acc: 0.8699\n",
      "Epoch 34/60\n",
      "4885/4885 [==============================] - 2s 473us/step - loss: 0.2778 - acc: 0.9060 - val_loss: 0.6399 - val_acc: 0.8666\n",
      "Epoch 35/60\n",
      "4885/4885 [==============================] - 2s 466us/step - loss: 0.2620 - acc: 0.9140 - val_loss: 0.6238 - val_acc: 0.8723\n",
      "Epoch 36/60\n",
      "4885/4885 [==============================] - 2s 470us/step - loss: 0.2609 - acc: 0.9114 - val_loss: 0.6478 - val_acc: 0.8666\n",
      "Epoch 37/60\n",
      "4885/4885 [==============================] - 2s 466us/step - loss: 0.2603 - acc: 0.9095 - val_loss: 0.6703 - val_acc: 0.8642\n",
      "Epoch 38/60\n",
      "4885/4885 [==============================] - 2s 479us/step - loss: 0.2556 - acc: 0.9089 - val_loss: 0.6374 - val_acc: 0.8707\n",
      "Epoch 39/60\n",
      "4885/4885 [==============================] - 2s 472us/step - loss: 0.2437 - acc: 0.9130 - val_loss: 0.6687 - val_acc: 0.8650\n",
      "Epoch 40/60\n",
      "4885/4885 [==============================] - 2s 465us/step - loss: 0.2471 - acc: 0.9099 - val_loss: 0.6469 - val_acc: 0.8699\n",
      "Epoch 41/60\n",
      "4885/4885 [==============================] - 2s 488us/step - loss: 0.2443 - acc: 0.9120 - val_loss: 0.6690 - val_acc: 0.8674\n",
      "Epoch 42/60\n",
      "4885/4885 [==============================] - 2s 471us/step - loss: 0.2428 - acc: 0.9124 - val_loss: 0.6589 - val_acc: 0.8691\n",
      "Epoch 43/60\n",
      "4885/4885 [==============================] - 2s 471us/step - loss: 0.2486 - acc: 0.9101 - val_loss: 0.6545 - val_acc: 0.8666\n",
      "Epoch 44/60\n",
      "4885/4885 [==============================] - 2s 479us/step - loss: 0.2408 - acc: 0.9110 - val_loss: 0.6917 - val_acc: 0.8642\n",
      "Epoch 45/60\n",
      "4885/4885 [==============================] - 2s 471us/step - loss: 0.2460 - acc: 0.9095 - val_loss: 0.6936 - val_acc: 0.8650\n",
      "Epoch 46/60\n",
      "4885/4885 [==============================] - 2s 461us/step - loss: 0.2286 - acc: 0.9120 - val_loss: 0.7029 - val_acc: 0.8642\n",
      "Epoch 47/60\n",
      "4885/4885 [==============================] - 2s 444us/step - loss: 0.2250 - acc: 0.9138 - val_loss: 0.6934 - val_acc: 0.8650\n",
      "Epoch 48/60\n",
      "4885/4885 [==============================] - 2s 494us/step - loss: 0.2347 - acc: 0.9130 - val_loss: 0.6806 - val_acc: 0.8650\n",
      "Epoch 49/60\n",
      "4885/4885 [==============================] - 2s 468us/step - loss: 0.2215 - acc: 0.9150 - val_loss: 0.7102 - val_acc: 0.8642\n",
      "Epoch 50/60\n",
      "4885/4885 [==============================] - 2s 455us/step - loss: 0.2217 - acc: 0.9150 - val_loss: 0.6774 - val_acc: 0.8658\n",
      "Epoch 51/60\n",
      "4885/4885 [==============================] - 2s 474us/step - loss: 0.2289 - acc: 0.9122 - val_loss: 0.6835 - val_acc: 0.8691\n",
      "Epoch 52/60\n",
      "4885/4885 [==============================] - 2s 470us/step - loss: 0.2263 - acc: 0.9110 - val_loss: 0.6853 - val_acc: 0.8633\n",
      "Epoch 53/60\n",
      "4885/4885 [==============================] - 2s 470us/step - loss: 0.2335 - acc: 0.9110 - val_loss: 0.6841 - val_acc: 0.8666\n",
      "Epoch 54/60\n",
      "4885/4885 [==============================] - 2s 467us/step - loss: 0.2234 - acc: 0.9124 - val_loss: 0.6766 - val_acc: 0.8707\n",
      "Epoch 55/60\n",
      "4885/4885 [==============================] - 2s 469us/step - loss: 0.2324 - acc: 0.9085 - val_loss: 0.6851 - val_acc: 0.8691\n",
      "Epoch 56/60\n",
      "4885/4885 [==============================] - 2s 490us/step - loss: 0.2367 - acc: 0.9075 - val_loss: 0.6979 - val_acc: 0.8682\n",
      "Epoch 57/60\n",
      "4885/4885 [==============================] - 2s 467us/step - loss: 0.2249 - acc: 0.9124 - val_loss: 0.7165 - val_acc: 0.8658\n",
      "Epoch 58/60\n",
      "4885/4885 [==============================] - 2s 484us/step - loss: 0.2235 - acc: 0.9110 - val_loss: 0.7015 - val_acc: 0.8650\n",
      "Epoch 59/60\n",
      "4885/4885 [==============================] - 2s 463us/step - loss: 0.2231 - acc: 0.9130 - val_loss: 0.7126 - val_acc: 0.8682\n",
      "Epoch 60/60\n",
      "4885/4885 [==============================] - 2s 457us/step - loss: 0.2195 - acc: 0.9155 - val_loss: 0.7229 - val_acc: 0.8658\n",
      "CPU times: user 6min 34s, sys: 1min 28s, total: 8min 2s\n",
      "Wall time: 2min 19s\n"
     ]
    }
   ],
   "source": [
    "%%time\n",
    "# Fit Model\n",
    "history = model.fit([X_train], y, verbose=1, epochs=60, \n",
    "                    batch_size=128, validation_split=0.2)"
   ]
  },
  {
   "cell_type": "code",
   "execution_count": 72,
   "metadata": {},
   "outputs": [
    {
     "data": {
      "text/plain": [
       "dict_keys(['val_loss', 'val_acc', 'loss', 'acc'])"
      ]
     },
     "execution_count": 72,
     "metadata": {},
     "output_type": "execute_result"
    }
   ],
   "source": [
    "# Plotting Loss & Accuracy\n",
    "history_dict = history.history\n",
    "history_dict.keys()"
   ]
  },
  {
   "cell_type": "code",
   "execution_count": 73,
   "metadata": {},
   "outputs": [
    {
     "data": {
      "image/png": "[encoded data removed]",
      "text/plain": [
       "<Figure size 432x288 with 1 Axes>"
      ]
     },
     "metadata": {},
     "output_type": "display_data"
    }
   ],
   "source": [
    "acc = history.history['acc']\n",
    "val_acc = history.history['val_acc']\n",
    "loss = history.history['loss']\n",
    "val_loss = history.history['val_loss']\n",
    "\n",
    "epochs = range(1, len(acc) + 1)\n",
    "\n",
    "# \"bo\" is for \"blue dot\"\n",
    "plt.plot(epochs, loss, 'bo', label='Training loss')\n",
    "# b is for \"solid blue line\"\n",
    "plt.plot(epochs, val_loss, 'b', label='Validation loss')\n",
    "plt.title('Training and validation loss')\n",
    "plt.xlabel('Epochs')\n",
    "plt.ylabel('Loss')\n",
    "plt.legend()\n",
    "\n",
    "plt.show()"
   ]
  },
  {
   "cell_type": "code",
   "execution_count": 74,
   "metadata": {},
   "outputs": [
    {
     "data": {
      "image/png": "[encoded data removed]",
      "text/plain": [
       "<Figure size 432x288 with 1 Axes>"
      ]
     },
     "metadata": {},
     "output_type": "display_data"
    }
   ],
   "source": [
    "plt.clf()   # clear figure\n",
    "acc_values = history_dict['acc']\n",
    "val_acc_values = history_dict['val_acc']\n",
    "\n",
    "plt.plot(epochs, acc, 'bo', label='Training acc')\n",
    "plt.plot(epochs, val_acc, 'b', label='Validation acc')\n",
    "plt.title('Training and validation accuracy')\n",
    "plt.xlabel('Epochs')\n",
    "plt.ylabel('Loss')\n",
    "plt.legend()\n",
    "\n",
    "plt.show()"
   ]
  },
  {
   "cell_type": "code",
   "execution_count": 75,
   "metadata": {},
   "outputs": [
    {
     "name": "stdout",
     "output_type": "stream",
     "text": [
      "Best Training Accuracy: 91.5455475995582 Epoch: 59 Best Validation Accuracy: 88.13420625833365 Epoch: 22\n",
      "Lowest Training Loss value: 21.951498480755816 Epoch: 59 Lowest Validation Loss: 49.60790664786793 Epoch: 17\n"
     ]
    }
   ],
   "source": [
    "print('Best Training Accuracy:', max(acc)*100, 'Epoch:', np.argmax(acc),\n",
    "     'Best Validation Accuracy:', max(val_acc)*100, 'Epoch:', np.argmax(val_acc))\n",
    "print('Lowest Training Loss value:', min(loss)*100, 'Epoch:', np.argmin(loss),\n",
    "     'Lowest Validation Loss:', min(val_loss)*100, 'Epoch:', np.argmin(val_loss))"
   ]
  },
  {
   "cell_type": "markdown",
   "metadata": {},
   "source": [
    "### 1D CNN BEST MODEL TEST RESULTS:"
   ]
  },
  {
   "cell_type": "code",
   "execution_count": 84,
   "metadata": {
    "collapsed": true
   },
   "outputs": [],
   "source": [
    "# Some memory clean-up\n",
    "K.clear_session()"
   ]
  },
  {
   "cell_type": "code",
   "execution_count": 77,
   "metadata": {
    "collapsed": true
   },
   "outputs": [],
   "source": [
    "model = Sequential()       \n",
    "model.add(layers.Embedding(keys+1, 128, input_length=90))\n",
    "model.add(layers.Dropout(0.2))\n",
    "model.add(layers.Conv1D(8, 5, activation='relu', kernel_regularizer=regularizers.l2(0.001)))\n",
    "model.add(layers.MaxPooling1D(2))\n",
    "model.add(layers.Dropout(0.2))\n",
    "model.add(layers.Conv1D(8, 2, activation='relu', kernel_regularizer=regularizers.l2(0.001)))\n",
    "model.add(layers.MaxPooling1D(2))\n",
    "model.add(layers.Dropout(0.2))\n",
    "model.add(layers.Conv1D(8, 5, activation='relu', kernel_regularizer=regularizers.l2(0.001)))\n",
    "model.add(layers.GlobalMaxPooling1D())\n",
    "model.add(layers.Dropout(0.5))\n",
    "model.add(layers.Dense(3, activation='softmax'))"
   ]
  },
  {
   "cell_type": "code",
   "execution_count": 78,
   "metadata": {
    "collapsed": true
   },
   "outputs": [],
   "source": [
    "model.compile(loss='categorical_crossentropy', \n",
    "              optimizer='adam', \n",
    "              metrics=['accuracy'])"
   ]
  },
  {
   "cell_type": "code",
   "execution_count": 79,
   "metadata": {},
   "outputs": [
    {
     "data": {
      "text/plain": [
       "<keras.callbacks.History at 0x139873cf8>"
      ]
     },
     "execution_count": 79,
     "metadata": {},
     "output_type": "execute_result"
    }
   ],
   "source": [
    "model.fit([X_train], y, verbose=0, epochs=22, \n",
    "          batch_size=128)"
   ]
  },
  {
   "cell_type": "code",
   "execution_count": 80,
   "metadata": {},
   "outputs": [
    {
     "name": "stdout",
     "output_type": "stream",
     "text": [
      "2036/2036 [==============================] - 0s 156us/step\n"
     ]
    },
    {
     "data": {
      "text/plain": [
       "[0.4541293900233121, 0.8659135557579385]"
      ]
     },
     "execution_count": 80,
     "metadata": {},
     "output_type": "execute_result"
    }
   ],
   "source": [
    "model.evaluate(X_test, to_categorical(y_test.as_matrix()+1))"
   ]
  },
  {
   "cell_type": "code",
   "execution_count": 81,
   "metadata": {
    "collapsed": true
   },
   "outputs": [],
   "source": [
    "y_train.as_matrix()+1\n",
    "y_ = model.predict(X_test)\n",
    "y_[-1] = [0,0,1]"
   ]
  },
  {
   "cell_type": "code",
   "execution_count": 82,
   "metadata": {},
   "outputs": [
    {
     "name": "stdout",
     "output_type": "stream",
     "text": [
      "F1 Score (Macro): 0.5759355210132412\n",
      "F1 Score (Micro): 0.8654223968565815\n"
     ]
    },
    {
     "name": "stderr",
     "output_type": "stream",
     "text": [
      "/Users/juan/anaconda3/lib/python3.6/site-packages/sklearn/metrics/classification.py:1137: UndefinedMetricWarning: F-score is ill-defined and being set to 0.0 in labels with no true samples.\n",
      "  'recall', 'true', average, warn_for)\n"
     ]
    }
   ],
   "source": [
    "f_macro = f1_score(to_categorical([np.argmax(x) for x in y_]), to_categorical(y_test.as_matrix()+1), average='macro')\n",
    "f_micro = f1_score(to_categorical([np.argmax(x) for x in y_]), to_categorical(y_test.as_matrix()+1), average='micro')\n",
    "print('F1 Score (Macro):', f_macro)\n",
    "print('F1 Score (Micro):', f_micro)"
   ]
  },
  {
   "cell_type": "code",
   "execution_count": 83,
   "metadata": {
    "scrolled": true
   },
   "outputs": [
    {
     "name": "stdout",
     "output_type": "stream",
     "text": [
      "             precision    recall  f1-score   support\n",
      "\n",
      "         -1       0.00      0.00      0.00         0\n",
      "          0       0.93      0.93      0.93      1397\n",
      "          1       0.89      0.72      0.79       639\n",
      "\n",
      "avg / total       0.92      0.87      0.89      2036\n",
      "\n"
     ]
    },
    {
     "name": "stderr",
     "output_type": "stream",
     "text": [
      "/Users/juan/anaconda3/lib/python3.6/site-packages/sklearn/metrics/classification.py:1137: UndefinedMetricWarning: Recall and F-score are ill-defined and being set to 0.0 in labels with no true samples.\n",
      "  'recall', 'true', average, warn_for)\n"
     ]
    }
   ],
   "source": [
    "target_names = ['-1', '0', '1']\n",
    "report = classification_report(to_categorical([np.argmax(x) for x in y_]), \n",
    "                               to_categorical(y_test.as_matrix()+1), target_names=target_names)\n",
    "print(report)"
   ]
  },
  {
   "cell_type": "markdown",
   "metadata": {},
   "source": [
    "## LSTM:"
   ]
  },
  {
   "cell_type": "code",
   "execution_count": 113,
   "metadata": {},
   "outputs": [
    {
     "name": "stdout",
     "output_type": "stream",
     "text": [
      "_________________________________________________________________\n",
      "Layer (type)                 Output Shape              Param #   \n",
      "=================================================================\n",
      "embedding_2 (Embedding)      (None, 90, 128)           1119744   \n",
      "_________________________________________________________________\n",
      "spatial_dropout1d_2 (Spatial (None, 90, 128)           0         \n",
      "_________________________________________________________________\n",
      "lstm_2 (LSTM)                (None, 128)               131584    \n",
      "_________________________________________________________________\n",
      "dense_2 (Dense)              (None, 3)                 387       \n",
      "=================================================================\n",
      "Total params: 1,251,715\n",
      "Trainable params: 1,251,715\n",
      "Non-trainable params: 0\n",
      "_________________________________________________________________\n"
     ]
    }
   ],
   "source": [
    "model = Sequential()\n",
    "model.add(Embedding(keys+1, 128, input_length=90))\n",
    "model.add(SpatialDropout1D(0.4))\n",
    "model.add(LSTM(128, dropout=0.4, recurrent_dropout=0.4))\n",
    "model.add(Dense(3, activation='softmax'))\n",
    "model.compile(loss = 'categorical_crossentropy', optimizer='adam',metrics = ['accuracy'])\n",
    "\n",
    "model.summary()"
   ]
  },
  {
   "cell_type": "code",
   "execution_count": 114,
   "metadata": {},
   "outputs": [
    {
     "name": "stdout",
     "output_type": "stream",
     "text": [
      "Train on 4885 samples, validate on 1222 samples\n",
      "Epoch 1/50\n",
      "4885/4885 [==============================] - 23s 5ms/step - loss: 0.5449 - acc: 0.7656 - val_loss: 0.4311 - val_acc: 0.8290\n",
      "Epoch 2/50\n",
      "4885/4885 [==============================] - 23s 5ms/step - loss: 0.3478 - acc: 0.8690 - val_loss: 0.3838 - val_acc: 0.8502\n",
      "Epoch 3/50\n",
      "4885/4885 [==============================] - 23s 5ms/step - loss: 0.2470 - acc: 0.9116 - val_loss: 0.3596 - val_acc: 0.8543\n",
      "Epoch 4/50\n",
      "4885/4885 [==============================] - 25s 5ms/step - loss: 0.1807 - acc: 0.9353 - val_loss: 0.3448 - val_acc: 0.8773\n",
      "Epoch 5/50\n",
      "4885/4885 [==============================] - 24s 5ms/step - loss: 0.1354 - acc: 0.9533 - val_loss: 0.3457 - val_acc: 0.8789\n",
      "Epoch 6/50\n",
      "4885/4885 [==============================] - 24s 5ms/step - loss: 0.0950 - acc: 0.9728 - val_loss: 0.3966 - val_acc: 0.8650\n",
      "Epoch 7/50\n",
      "4885/4885 [==============================] - 23s 5ms/step - loss: 0.0743 - acc: 0.9783 - val_loss: 0.4231 - val_acc: 0.8797\n",
      "Epoch 8/50\n",
      "4885/4885 [==============================] - 22s 5ms/step - loss: 0.0675 - acc: 0.9781 - val_loss: 0.4236 - val_acc: 0.8642\n",
      "Epoch 9/50\n",
      "4885/4885 [==============================] - 22s 4ms/step - loss: 0.0618 - acc: 0.9810 - val_loss: 0.4476 - val_acc: 0.8830\n",
      "Epoch 10/50\n",
      "4885/4885 [==============================] - 24s 5ms/step - loss: 0.0520 - acc: 0.9846 - val_loss: 0.4381 - val_acc: 0.8732\n",
      "Epoch 11/50\n",
      "4885/4885 [==============================] - 22s 5ms/step - loss: 0.0489 - acc: 0.9861 - val_loss: 0.4587 - val_acc: 0.8813\n",
      "Epoch 12/50\n",
      "4885/4885 [==============================] - 22s 4ms/step - loss: 0.0452 - acc: 0.9863 - val_loss: 0.4712 - val_acc: 0.8707\n",
      "Epoch 13/50\n",
      "4885/4885 [==============================] - 22s 4ms/step - loss: 0.0426 - acc: 0.9875 - val_loss: 0.5124 - val_acc: 0.8789\n",
      "Epoch 14/50\n",
      "4885/4885 [==============================] - 21s 4ms/step - loss: 0.0398 - acc: 0.9875 - val_loss: 0.5210 - val_acc: 0.8871\n",
      "Epoch 15/50\n",
      "4885/4885 [==============================] - 22s 4ms/step - loss: 0.0386 - acc: 0.9875 - val_loss: 0.5787 - val_acc: 0.8740\n",
      "Epoch 16/50\n",
      "4885/4885 [==============================] - 23s 5ms/step - loss: 0.0399 - acc: 0.9877 - val_loss: 0.5425 - val_acc: 0.8732\n",
      "Epoch 17/50\n",
      "4885/4885 [==============================] - 22s 5ms/step - loss: 0.0403 - acc: 0.9873 - val_loss: 0.5502 - val_acc: 0.8830\n",
      "Epoch 18/50\n",
      "4885/4885 [==============================] - 22s 4ms/step - loss: 0.0393 - acc: 0.9881 - val_loss: 0.5427 - val_acc: 0.8797\n",
      "Epoch 19/50\n",
      "4885/4885 [==============================] - 23s 5ms/step - loss: 0.0358 - acc: 0.9883 - val_loss: 0.5761 - val_acc: 0.8797\n",
      "Epoch 20/50\n",
      "4885/4885 [==============================] - 21s 4ms/step - loss: 0.0367 - acc: 0.9881 - val_loss: 0.6059 - val_acc: 0.8846\n",
      "Epoch 21/50\n",
      "4885/4885 [==============================] - 23s 5ms/step - loss: 0.0401 - acc: 0.9881 - val_loss: 0.5594 - val_acc: 0.8723\n",
      "Epoch 22/50\n",
      "4885/4885 [==============================] - 21s 4ms/step - loss: 0.0465 - acc: 0.9853 - val_loss: 0.5390 - val_acc: 0.8797\n",
      "Epoch 23/50\n",
      "4885/4885 [==============================] - 21s 4ms/step - loss: 0.0382 - acc: 0.9879 - val_loss: 0.5473 - val_acc: 0.8691\n",
      "Epoch 24/50\n",
      "4885/4885 [==============================] - 22s 4ms/step - loss: 0.0369 - acc: 0.9885 - val_loss: 0.5693 - val_acc: 0.8797\n",
      "Epoch 25/50\n",
      "4885/4885 [==============================] - 21s 4ms/step - loss: 0.0358 - acc: 0.9883 - val_loss: 0.5492 - val_acc: 0.8707\n",
      "Epoch 26/50\n",
      "4885/4885 [==============================] - 22s 4ms/step - loss: 0.0351 - acc: 0.9879 - val_loss: 0.5848 - val_acc: 0.8756\n",
      "Epoch 27/50\n",
      "4885/4885 [==============================] - 22s 4ms/step - loss: 0.0338 - acc: 0.9887 - val_loss: 0.6017 - val_acc: 0.8748\n",
      "Epoch 28/50\n",
      "4885/4885 [==============================] - 22s 4ms/step - loss: 0.0347 - acc: 0.9894 - val_loss: 0.5974 - val_acc: 0.8715\n",
      "Epoch 29/50\n",
      "4885/4885 [==============================] - 21s 4ms/step - loss: 0.0329 - acc: 0.9889 - val_loss: 0.6164 - val_acc: 0.8781\n",
      "Epoch 30/50\n",
      "4885/4885 [==============================] - 21s 4ms/step - loss: 0.0331 - acc: 0.9900 - val_loss: 0.6267 - val_acc: 0.8789\n",
      "Epoch 31/50\n",
      "4885/4885 [==============================] - 22s 4ms/step - loss: 0.0338 - acc: 0.9889 - val_loss: 0.6318 - val_acc: 0.8813\n",
      "Epoch 32/50\n",
      "4885/4885 [==============================] - 22s 4ms/step - loss: 0.0346 - acc: 0.9889 - val_loss: 0.6358 - val_acc: 0.8740\n",
      "Epoch 33/50\n",
      "4885/4885 [==============================] - 22s 4ms/step - loss: 0.0363 - acc: 0.9894 - val_loss: 0.6017 - val_acc: 0.8723\n",
      "Epoch 34/50\n",
      "4885/4885 [==============================] - 22s 4ms/step - loss: 0.0347 - acc: 0.9885 - val_loss: 0.6015 - val_acc: 0.8756\n",
      "Epoch 35/50\n",
      "4885/4885 [==============================] - 22s 4ms/step - loss: 0.0366 - acc: 0.9881 - val_loss: 0.6258 - val_acc: 0.8707\n",
      "Epoch 36/50\n",
      "4885/4885 [==============================] - 21s 4ms/step - loss: 0.0333 - acc: 0.9896 - val_loss: 0.6385 - val_acc: 0.8764\n",
      "Epoch 37/50\n",
      "4885/4885 [==============================] - 23s 5ms/step - loss: 0.0318 - acc: 0.9904 - val_loss: 0.6368 - val_acc: 0.8715\n",
      "Epoch 38/50\n",
      "4885/4885 [==============================] - 23s 5ms/step - loss: 0.0322 - acc: 0.9898 - val_loss: 0.6808 - val_acc: 0.8748\n",
      "Epoch 39/50\n",
      "4885/4885 [==============================] - 24s 5ms/step - loss: 0.0326 - acc: 0.9896 - val_loss: 0.6616 - val_acc: 0.8756\n",
      "Epoch 40/50\n",
      "4885/4885 [==============================] - 23s 5ms/step - loss: 0.0327 - acc: 0.9894 - val_loss: 0.6849 - val_acc: 0.8773\n",
      "Epoch 41/50\n",
      "4885/4885 [==============================] - 22s 5ms/step - loss: 0.0311 - acc: 0.9896 - val_loss: 0.7814 - val_acc: 0.8592\n",
      "Epoch 42/50\n",
      "4885/4885 [==============================] - 22s 4ms/step - loss: 0.0340 - acc: 0.9889 - val_loss: 0.6812 - val_acc: 0.8740\n",
      "Epoch 43/50\n",
      "4885/4885 [==============================] - 22s 4ms/step - loss: 0.0365 - acc: 0.9889 - val_loss: 0.6682 - val_acc: 0.8748\n",
      "Epoch 44/50\n",
      "4885/4885 [==============================] - 21s 4ms/step - loss: 0.0327 - acc: 0.9887 - val_loss: 0.6907 - val_acc: 0.8740\n",
      "Epoch 45/50\n",
      "4885/4885 [==============================] - 22s 4ms/step - loss: 0.0339 - acc: 0.9900 - val_loss: 0.6661 - val_acc: 0.8699\n",
      "Epoch 46/50\n",
      "4885/4885 [==============================] - 21s 4ms/step - loss: 0.0337 - acc: 0.9887 - val_loss: 0.6506 - val_acc: 0.8633\n",
      "Epoch 47/50\n",
      "4885/4885 [==============================] - 22s 4ms/step - loss: 0.0351 - acc: 0.9889 - val_loss: 0.6616 - val_acc: 0.8756\n",
      "Epoch 48/50\n",
      "4885/4885 [==============================] - 21s 4ms/step - loss: 0.0322 - acc: 0.9894 - val_loss: 0.6950 - val_acc: 0.8699\n",
      "Epoch 49/50\n",
      "4885/4885 [==============================] - 22s 4ms/step - loss: 0.0320 - acc: 0.9904 - val_loss: 0.7009 - val_acc: 0.8756\n",
      "Epoch 50/50\n",
      "4885/4885 [==============================] - 22s 4ms/step - loss: 0.0305 - acc: 0.9902 - val_loss: 0.7061 - val_acc: 0.8789\n",
      "CPU times: user 56min 53s, sys: 12min 47s, total: 1h 9min 41s\n",
      "Wall time: 18min 32s\n"
     ]
    }
   ],
   "source": [
    "%%time\n",
    "history = model.fit([X_train], y,\n",
    "                    epochs=50,\n",
    "                    batch_size=32,\n",
    "                    validation_split=0.2)"
   ]
  },
  {
   "cell_type": "code",
   "execution_count": 115,
   "metadata": {},
   "outputs": [
    {
     "data": {
      "text/plain": [
       "dict_keys(['val_loss', 'val_acc', 'loss', 'acc'])"
      ]
     },
     "execution_count": 115,
     "metadata": {},
     "output_type": "execute_result"
    }
   ],
   "source": [
    "# Plotting Loss & Accuracy\n",
    "history_dict = history.history\n",
    "history_dict.keys()"
   ]
  },
  {
   "cell_type": "code",
   "execution_count": 116,
   "metadata": {},
   "outputs": [
    {
     "data": {
      "image/png": "[encoded data removed]",
      "text/plain": [
       "<Figure size 432x288 with 1 Axes>"
      ]
     },
     "metadata": {},
     "output_type": "display_data"
    }
   ],
   "source": [
    "acc = history.history['acc']\n",
    "val_acc = history.history['val_acc']\n",
    "loss = history.history['loss']\n",
    "val_loss = history.history['val_loss']\n",
    "\n",
    "epochs = range(1, len(acc) + 1)\n",
    "\n",
    "# \"bo\" is for \"blue dot\"\n",
    "plt.plot(epochs, loss, 'bo', label='Training loss')\n",
    "# b is for \"solid blue line\"\n",
    "plt.plot(epochs, val_loss, 'b', label='Validation loss')\n",
    "plt.title('Training and validation loss')\n",
    "plt.xlabel('Epochs')\n",
    "plt.ylabel('Loss')\n",
    "plt.legend()\n",
    "\n",
    "plt.show()"
   ]
  },
  {
   "cell_type": "code",
   "execution_count": 117,
   "metadata": {},
   "outputs": [
    {
     "data": {
      "image/png": "[encoded data removed]",
      "text/plain": [
       "<Figure size 432x288 with 1 Axes>"
      ]
     },
     "metadata": {},
     "output_type": "display_data"
    }
   ],
   "source": [
    "plt.clf()   # clear figure\n",
    "acc_values = history_dict['acc']\n",
    "val_acc_values = history_dict['val_acc']\n",
    "\n",
    "plt.plot(epochs, acc, 'bo', label='Training acc')\n",
    "plt.plot(epochs, val_acc, 'b', label='Validation acc')\n",
    "plt.title('Training and validation accuracy')\n",
    "plt.xlabel('Epochs')\n",
    "plt.ylabel('Loss')\n",
    "plt.legend()\n",
    "\n",
    "plt.show()"
   ]
  },
  {
   "cell_type": "code",
   "execution_count": 118,
   "metadata": {},
   "outputs": [
    {
     "name": "stdout",
     "output_type": "stream",
     "text": [
      "Best Training Accuracy: 99.03787103377687 Epoch: 36 Best Validation Accuracy: 88.70703765296312 Epoch: 13\n",
      "Lowest Training Loss value: 3.0540876469156393 Epoch: 49 Lowest Validation Loss: 34.475575258220665 Epoch: 3\n"
     ]
    }
   ],
   "source": [
    "print('Best Training Accuracy:', max(acc)*100, 'Epoch:', np.argmax(acc),\n",
    "     'Best Validation Accuracy:', max(val_acc)*100, 'Epoch:', np.argmax(val_acc))\n",
    "print('Lowest Training Loss value:', min(loss)*100, 'Epoch:', np.argmin(loss),\n",
    "     'Lowest Validation Loss:', min(val_loss)*100, 'Epoch:', np.argmin(val_loss))"
   ]
  },
  {
   "cell_type": "markdown",
   "metadata": {},
   "source": [
    "### LSTM BEST MODEL TEST RESULTS:"
   ]
  },
  {
   "cell_type": "code",
   "execution_count": 127,
   "metadata": {
    "collapsed": true
   },
   "outputs": [],
   "source": [
    "# Some memory clean-up\n",
    "K.clear_session()"
   ]
  },
  {
   "cell_type": "code",
   "execution_count": 120,
   "metadata": {
    "collapsed": true
   },
   "outputs": [],
   "source": [
    "model = Sequential()\n",
    "model.add(Embedding(keys+1, 128, input_length=90))\n",
    "model.add(SpatialDropout1D(0.4))\n",
    "model.add(LSTM(128, dropout=0.4, recurrent_dropout=0.4))\n",
    "model.add(Dense(3, activation='softmax'))\n",
    "model.compile(loss = 'categorical_crossentropy', optimizer='adam',metrics = ['accuracy'])"
   ]
  },
  {
   "cell_type": "code",
   "execution_count": 121,
   "metadata": {
    "collapsed": true
   },
   "outputs": [],
   "source": [
    "model.compile(loss='categorical_crossentropy', \n",
    "              optimizer='adam', \n",
    "              metrics=['accuracy'])"
   ]
  },
  {
   "cell_type": "code",
   "execution_count": 122,
   "metadata": {},
   "outputs": [
    {
     "data": {
      "text/plain": [
       "<keras.callbacks.History at 0x1347afb38>"
      ]
     },
     "execution_count": 122,
     "metadata": {},
     "output_type": "execute_result"
    }
   ],
   "source": [
    "model.fit([X_train], y, verbose=0, epochs=13, \n",
    "          batch_size=32)"
   ]
  },
  {
   "cell_type": "code",
   "execution_count": 123,
   "metadata": {},
   "outputs": [
    {
     "name": "stdout",
     "output_type": "stream",
     "text": [
      "2036/2036 [==============================] - 3s 1ms/step\n"
     ]
    },
    {
     "data": {
      "text/plain": [
       "[0.5988891250609415, 0.8777013751284781]"
      ]
     },
     "execution_count": 123,
     "metadata": {},
     "output_type": "execute_result"
    }
   ],
   "source": [
    "model.evaluate(X_test, to_categorical(y_test.as_matrix()+1))"
   ]
  },
  {
   "cell_type": "code",
   "execution_count": 124,
   "metadata": {
    "collapsed": true
   },
   "outputs": [],
   "source": [
    "y_train.as_matrix()+1\n",
    "y_ = model.predict(X_test)\n",
    "y_[-1] = [0,0,1]"
   ]
  },
  {
   "cell_type": "code",
   "execution_count": 125,
   "metadata": {},
   "outputs": [
    {
     "name": "stdout",
     "output_type": "stream",
     "text": [
      "F1 Score (Macro): 0.7323719442783044\n",
      "F1 Score (Micro): 0.8772102161100196\n"
     ]
    }
   ],
   "source": [
    "f_macro = f1_score(to_categorical([np.argmax(x) for x in y_]), to_categorical(y_test.as_matrix()+1), average='macro')\n",
    "f_micro = f1_score(to_categorical([np.argmax(x) for x in y_]), to_categorical(y_test.as_matrix()+1), average='micro')\n",
    "print('F1 Score (Macro):', f_macro)\n",
    "print('F1 Score (Micro):', f_micro)"
   ]
  },
  {
   "cell_type": "code",
   "execution_count": 126,
   "metadata": {
    "scrolled": true
   },
   "outputs": [
    {
     "name": "stdout",
     "output_type": "stream",
     "text": [
      "             precision    recall  f1-score   support\n",
      "\n",
      "         -1       0.37      0.59      0.46        78\n",
      "          0       0.94      0.93      0.93      1415\n",
      "          1       0.83      0.79      0.81       543\n",
      "\n",
      "avg / total       0.89      0.88      0.88      2036\n",
      "\n"
     ]
    }
   ],
   "source": [
    "target_names = ['-1', '0', '1']\n",
    "report = classification_report(to_categorical([np.argmax(x) for x in y_]), \n",
    "                               to_categorical(y_test.as_matrix()+1), target_names=target_names)\n",
    "print(report)"
   ]
  },
  {
   "cell_type": "markdown",
   "metadata": {},
   "source": [
    "## GRU RNN:"
   ]
  },
  {
   "cell_type": "code",
   "execution_count": 145,
   "metadata": {},
   "outputs": [
    {
     "name": "stdout",
     "output_type": "stream",
     "text": [
      "_________________________________________________________________\n",
      "Layer (type)                 Output Shape              Param #   \n",
      "=================================================================\n",
      "embedding_1 (Embedding)      (None, 90, 128)           1119744   \n",
      "_________________________________________________________________\n",
      "gru_1 (GRU)                  (None, 90, 128)           98688     \n",
      "_________________________________________________________________\n",
      "gru_2 (GRU)                  (None, 128)               98688     \n",
      "_________________________________________________________________\n",
      "dense_1 (Dense)              (None, 3)                 387       \n",
      "_________________________________________________________________\n",
      "activation_1 (Activation)    (None, 3)                 0         \n",
      "=================================================================\n",
      "Total params: 1,317,507\n",
      "Trainable params: 1,317,507\n",
      "Non-trainable params: 0\n",
      "_________________________________________________________________\n"
     ]
    }
   ],
   "source": [
    "model = Sequential()\n",
    "model.add(Embedding(keys+1, 128, input_length=90))\n",
    "model.add(GRU(128, dropout=0.2, return_sequences=True)) \n",
    "model.add(GRU(128, dropout=0.2))\n",
    "model.add(Dense(3))\n",
    "model.add(Activation('softmax'))\n",
    "\n",
    "model.compile(loss = 'categorical_crossentropy', optimizer='adam',metrics = ['accuracy'])\n",
    "\n",
    "model.summary()"
   ]
  },
  {
   "cell_type": "code",
   "execution_count": 146,
   "metadata": {},
   "outputs": [
    {
     "name": "stdout",
     "output_type": "stream",
     "text": [
      "Train on 4885 samples, validate on 1222 samples\n",
      "Epoch 1/50\n",
      "4885/4885 [==============================] - 31s 6ms/step - loss: 0.4675 - acc: 0.8020 - val_loss: 0.3736 - val_acc: 0.8552\n",
      "Epoch 2/50\n",
      "4885/4885 [==============================] - 30s 6ms/step - loss: 0.2498 - acc: 0.9140 - val_loss: 0.3457 - val_acc: 0.8682\n",
      "Epoch 3/50\n",
      "4885/4885 [==============================] - 29s 6ms/step - loss: 0.1284 - acc: 0.9589 - val_loss: 0.4254 - val_acc: 0.8723\n",
      "Epoch 4/50\n",
      "4885/4885 [==============================] - 28s 6ms/step - loss: 0.0764 - acc: 0.9771 - val_loss: 0.4599 - val_acc: 0.8764\n",
      "Epoch 5/50\n",
      "4885/4885 [==============================] - 28s 6ms/step - loss: 0.0540 - acc: 0.9826 - val_loss: 0.5129 - val_acc: 0.8773\n",
      "Epoch 6/50\n",
      "4885/4885 [==============================] - 29s 6ms/step - loss: 0.0511 - acc: 0.9846 - val_loss: 0.5408 - val_acc: 0.8625\n",
      "Epoch 7/50\n",
      "4885/4885 [==============================] - 28s 6ms/step - loss: 0.0497 - acc: 0.9840 - val_loss: 0.5775 - val_acc: 0.8699\n",
      "Epoch 8/50\n",
      "4885/4885 [==============================] - 28s 6ms/step - loss: 0.0432 - acc: 0.9869 - val_loss: 0.5285 - val_acc: 0.8781\n",
      "Epoch 9/50\n",
      "4885/4885 [==============================] - 28s 6ms/step - loss: 0.0381 - acc: 0.9885 - val_loss: 0.5673 - val_acc: 0.8797\n",
      "Epoch 10/50\n",
      "4885/4885 [==============================] - 28s 6ms/step - loss: 0.0383 - acc: 0.9879 - val_loss: 0.5517 - val_acc: 0.8822\n",
      "Epoch 11/50\n",
      "4885/4885 [==============================] - 28s 6ms/step - loss: 0.0360 - acc: 0.9887 - val_loss: 0.5993 - val_acc: 0.8748\n",
      "Epoch 12/50\n",
      "4885/4885 [==============================] - 28s 6ms/step - loss: 0.0355 - acc: 0.9873 - val_loss: 0.6019 - val_acc: 0.8764\n",
      "Epoch 13/50\n",
      "4885/4885 [==============================] - 28s 6ms/step - loss: 0.0338 - acc: 0.9900 - val_loss: 0.6126 - val_acc: 0.8658\n",
      "Epoch 14/50\n",
      "4885/4885 [==============================] - 28s 6ms/step - loss: 0.0331 - acc: 0.9896 - val_loss: 0.6480 - val_acc: 0.8732\n",
      "Epoch 15/50\n",
      "4885/4885 [==============================] - 29s 6ms/step - loss: 0.0344 - acc: 0.9889 - val_loss: 0.6616 - val_acc: 0.8813\n",
      "Epoch 16/50\n",
      "4885/4885 [==============================] - 29s 6ms/step - loss: 0.0524 - acc: 0.9836 - val_loss: 0.5664 - val_acc: 0.8740\n",
      "Epoch 17/50\n",
      "4885/4885 [==============================] - 31s 6ms/step - loss: 0.0430 - acc: 0.9853 - val_loss: 0.5940 - val_acc: 0.8723\n",
      "Epoch 18/50\n",
      "4885/4885 [==============================] - 28s 6ms/step - loss: 0.0366 - acc: 0.9887 - val_loss: 0.6367 - val_acc: 0.8732\n",
      "Epoch 19/50\n",
      "4885/4885 [==============================] - 29s 6ms/step - loss: 0.0357 - acc: 0.9885 - val_loss: 0.6039 - val_acc: 0.8748\n",
      "Epoch 20/50\n",
      "4885/4885 [==============================] - 29s 6ms/step - loss: 0.0325 - acc: 0.9896 - val_loss: 0.6553 - val_acc: 0.8666\n",
      "Epoch 21/50\n",
      "4885/4885 [==============================] - 28s 6ms/step - loss: 0.0313 - acc: 0.9904 - val_loss: 0.6583 - val_acc: 0.8658\n",
      "Epoch 22/50\n",
      "4885/4885 [==============================] - 28s 6ms/step - loss: 0.0320 - acc: 0.9898 - val_loss: 0.6806 - val_acc: 0.8666\n",
      "Epoch 23/50\n",
      "4885/4885 [==============================] - 28s 6ms/step - loss: 0.0326 - acc: 0.9896 - val_loss: 0.7051 - val_acc: 0.8642\n",
      "Epoch 24/50\n",
      "4885/4885 [==============================] - 30s 6ms/step - loss: 0.0331 - acc: 0.9889 - val_loss: 0.6598 - val_acc: 0.8732\n",
      "Epoch 25/50\n",
      "4885/4885 [==============================] - 28s 6ms/step - loss: 0.0316 - acc: 0.9896 - val_loss: 0.7278 - val_acc: 0.8748\n",
      "Epoch 26/50\n",
      "4885/4885 [==============================] - 28s 6ms/step - loss: 0.0306 - acc: 0.9900 - val_loss: 0.7007 - val_acc: 0.8650\n",
      "Epoch 27/50\n",
      "4885/4885 [==============================] - 28s 6ms/step - loss: 0.0347 - acc: 0.9896 - val_loss: 0.6389 - val_acc: 0.8633\n",
      "Epoch 28/50\n",
      "4885/4885 [==============================] - 28s 6ms/step - loss: 0.0413 - acc: 0.9869 - val_loss: 0.6838 - val_acc: 0.8789\n",
      "Epoch 29/50\n",
      "4885/4885 [==============================] - 28s 6ms/step - loss: 0.0461 - acc: 0.9853 - val_loss: 0.6769 - val_acc: 0.8732\n",
      "Epoch 30/50\n",
      "4885/4885 [==============================] - 28s 6ms/step - loss: 0.0353 - acc: 0.9889 - val_loss: 0.6843 - val_acc: 0.8674\n",
      "Epoch 31/50\n",
      "4885/4885 [==============================] - 28s 6ms/step - loss: 0.0331 - acc: 0.9883 - val_loss: 0.6812 - val_acc: 0.8674\n",
      "Epoch 32/50\n",
      "4885/4885 [==============================] - 28s 6ms/step - loss: 0.0307 - acc: 0.9898 - val_loss: 0.6919 - val_acc: 0.8723\n",
      "Epoch 33/50\n",
      "4885/4885 [==============================] - 29s 6ms/step - loss: 0.0311 - acc: 0.9898 - val_loss: 0.6966 - val_acc: 0.8707\n",
      "Epoch 34/50\n",
      "4885/4885 [==============================] - 28s 6ms/step - loss: 0.0294 - acc: 0.9900 - val_loss: 0.6870 - val_acc: 0.8723\n",
      "Epoch 35/50\n",
      "4885/4885 [==============================] - 28s 6ms/step - loss: 0.0296 - acc: 0.9904 - val_loss: 0.6888 - val_acc: 0.8723\n",
      "Epoch 36/50\n",
      "4885/4885 [==============================] - 28s 6ms/step - loss: 0.0296 - acc: 0.9904 - val_loss: 0.7216 - val_acc: 0.8691\n",
      "Epoch 37/50\n",
      "4885/4885 [==============================] - 28s 6ms/step - loss: 0.0288 - acc: 0.9902 - val_loss: 0.6972 - val_acc: 0.8642\n",
      "Epoch 38/50\n",
      "4885/4885 [==============================] - 28s 6ms/step - loss: 0.0286 - acc: 0.9906 - val_loss: 0.7112 - val_acc: 0.8691\n",
      "Epoch 39/50\n",
      "4885/4885 [==============================] - 28s 6ms/step - loss: 0.0288 - acc: 0.9908 - val_loss: 0.7332 - val_acc: 0.8707\n",
      "Epoch 40/50\n",
      "4885/4885 [==============================] - 28s 6ms/step - loss: 0.0290 - acc: 0.9904 - val_loss: 0.7339 - val_acc: 0.8699\n",
      "Epoch 41/50\n",
      "4885/4885 [==============================] - 29s 6ms/step - loss: 0.0326 - acc: 0.9887 - val_loss: 0.7814 - val_acc: 0.8674\n",
      "Epoch 42/50\n",
      "4885/4885 [==============================] - 28s 6ms/step - loss: 0.0308 - acc: 0.9892 - val_loss: 0.8111 - val_acc: 0.8691\n",
      "Epoch 43/50\n",
      "4885/4885 [==============================] - 28s 6ms/step - loss: 0.0319 - acc: 0.9898 - val_loss: 0.7506 - val_acc: 0.8633\n",
      "Epoch 44/50\n",
      "4885/4885 [==============================] - 28s 6ms/step - loss: 0.0309 - acc: 0.9896 - val_loss: 0.7888 - val_acc: 0.8691\n",
      "Epoch 45/50\n",
      "4885/4885 [==============================] - 28s 6ms/step - loss: 0.0298 - acc: 0.9898 - val_loss: 0.7888 - val_acc: 0.8723\n",
      "Epoch 46/50\n",
      "4885/4885 [==============================] - 28s 6ms/step - loss: 0.0288 - acc: 0.9896 - val_loss: 0.8213 - val_acc: 0.8707\n",
      "Epoch 47/50\n",
      "4885/4885 [==============================] - 28s 6ms/step - loss: 0.0291 - acc: 0.9908 - val_loss: 0.8256 - val_acc: 0.8723\n",
      "Epoch 48/50\n",
      "4885/4885 [==============================] - 28s 6ms/step - loss: 0.0285 - acc: 0.9908 - val_loss: 0.8156 - val_acc: 0.8699\n",
      "Epoch 49/50\n",
      "4885/4885 [==============================] - 28s 6ms/step - loss: 0.0276 - acc: 0.9908 - val_loss: 0.8174 - val_acc: 0.8633\n",
      "Epoch 50/50\n",
      "4885/4885 [==============================] - 28s 6ms/step - loss: 0.0288 - acc: 0.9887 - val_loss: 0.8183 - val_acc: 0.8732\n",
      "CPU times: user 1h 18min 31s, sys: 17min 10s, total: 1h 35min 41s\n",
      "Wall time: 23min 44s\n"
     ]
    }
   ],
   "source": [
    "%%time\n",
    "history = model.fit([X_train], y,\n",
    "                    epochs=50,\n",
    "                    batch_size=32,\n",
    "                    validation_split=0.2)"
   ]
  },
  {
   "cell_type": "code",
   "execution_count": 147,
   "metadata": {},
   "outputs": [
    {
     "data": {
      "text/plain": [
       "dict_keys(['val_loss', 'val_acc', 'loss', 'acc'])"
      ]
     },
     "execution_count": 147,
     "metadata": {},
     "output_type": "execute_result"
    }
   ],
   "source": [
    "# Plotting Loss & Accuracy\n",
    "history_dict = history.history\n",
    "history_dict.keys()"
   ]
  },
  {
   "cell_type": "code",
   "execution_count": 148,
   "metadata": {},
   "outputs": [
    {
     "data": {
      "image/png": "[encoded data removed]",
      "text/plain": [
       "<Figure size 432x288 with 1 Axes>"
      ]
     },
     "metadata": {},
     "output_type": "display_data"
    }
   ],
   "source": [
    "acc = history.history['acc']\n",
    "val_acc = history.history['val_acc']\n",
    "loss = history.history['loss']\n",
    "val_loss = history.history['val_loss']\n",
    "\n",
    "epochs = range(1, len(acc) + 1)\n",
    "\n",
    "# \"bo\" is for \"blue dot\"\n",
    "plt.plot(epochs, loss, 'bo', label='Training loss')\n",
    "# b is for \"solid blue line\"\n",
    "plt.plot(epochs, val_loss, 'b', label='Validation loss')\n",
    "plt.title('Training and validation loss')\n",
    "plt.xlabel('Epochs')\n",
    "plt.ylabel('Loss')\n",
    "plt.legend()\n",
    "\n",
    "plt.show()"
   ]
  },
  {
   "cell_type": "code",
   "execution_count": 149,
   "metadata": {},
   "outputs": [
    {
     "data": {
      "image/png": "[encoded data removed]",
      "text/plain": [
       "<Figure size 432x288 with 1 Axes>"
      ]
     },
     "metadata": {},
     "output_type": "display_data"
    }
   ],
   "source": [
    "plt.clf()   # clear figure\n",
    "acc_values = history_dict['acc']\n",
    "val_acc_values = history_dict['val_acc']\n",
    "\n",
    "plt.plot(epochs, acc, 'bo', label='Training acc')\n",
    "plt.plot(epochs, val_acc, 'b', label='Validation acc')\n",
    "plt.title('Training and validation accuracy')\n",
    "plt.xlabel('Epochs')\n",
    "plt.ylabel('Loss')\n",
    "plt.legend()\n",
    "\n",
    "plt.show()"
   ]
  },
  {
   "cell_type": "code",
   "execution_count": 150,
   "metadata": {},
   "outputs": [
    {
     "name": "stdout",
     "output_type": "stream",
     "text": [
      "Best Training Accuracy: 99.07881269313418 Epoch: 48 Best Validation Accuracy: 88.21603928962432 Epoch: 9\n",
      "Lowest Training Loss value: 2.7596392228383433 Epoch: 48 Lowest Validation Loss: 34.56887536470317 Epoch: 1\n"
     ]
    }
   ],
   "source": [
    "print('Best Training Accuracy:', max(acc)*100, 'Epoch:', np.argmax(acc),\n",
    "     'Best Validation Accuracy:', max(val_acc)*100, 'Epoch:', np.argmax(val_acc))\n",
    "print('Lowest Training Loss value:', min(loss)*100, 'Epoch:', np.argmin(loss),\n",
    "     'Lowest Validation Loss:', min(val_loss)*100, 'Epoch:', np.argmin(val_loss))"
   ]
  },
  {
   "cell_type": "markdown",
   "metadata": {},
   "source": [
    "### GRU RNN BEST MODEL TEST RESULTS:"
   ]
  },
  {
   "cell_type": "code",
   "execution_count": 159,
   "metadata": {
    "collapsed": true
   },
   "outputs": [],
   "source": [
    "# Some memory clean-up\n",
    "K.clear_session()"
   ]
  },
  {
   "cell_type": "code",
   "execution_count": 152,
   "metadata": {
    "collapsed": true
   },
   "outputs": [],
   "source": [
    "model = Sequential()\n",
    "model.add(Embedding(keys+1, 128, input_length=90))\n",
    "model.add(GRU(128, dropout=0.2, return_sequences=True)) \n",
    "model.add(GRU(128, dropout=0.2))\n",
    "model.add(Dense(3))\n",
    "model.add(Activation('softmax'))\n",
    "\n",
    "model.compile(loss = 'categorical_crossentropy', optimizer='adam', metrics = ['accuracy'])"
   ]
  },
  {
   "cell_type": "code",
   "execution_count": 153,
   "metadata": {
    "collapsed": true
   },
   "outputs": [],
   "source": [
    "model.compile(loss='categorical_crossentropy', \n",
    "              optimizer='adam', \n",
    "              metrics=['accuracy'])"
   ]
  },
  {
   "cell_type": "code",
   "execution_count": 154,
   "metadata": {},
   "outputs": [
    {
     "name": "stdout",
     "output_type": "stream",
     "text": [
      "CPU times: user 16min 32s, sys: 3min 30s, total: 20min 2s\n",
      "Wall time: 5min 9s\n"
     ]
    },
    {
     "data": {
      "text/plain": [
       "<keras.callbacks.History at 0x139e04978>"
      ]
     },
     "execution_count": 154,
     "metadata": {},
     "output_type": "execute_result"
    }
   ],
   "source": [
    "%%time\n",
    "model.fit([X_train], y, verbose=0, epochs=9, \n",
    "          batch_size=32)"
   ]
  },
  {
   "cell_type": "code",
   "execution_count": 155,
   "metadata": {},
   "outputs": [
    {
     "name": "stdout",
     "output_type": "stream",
     "text": [
      "2036/2036 [==============================] - 3s 1ms/step\n"
     ]
    },
    {
     "data": {
      "text/plain": [
       "[0.6200723410355319, 0.8796660115536163]"
      ]
     },
     "execution_count": 155,
     "metadata": {},
     "output_type": "execute_result"
    }
   ],
   "source": [
    "model.evaluate(X_test, to_categorical(y_test.as_matrix()+1))"
   ]
  },
  {
   "cell_type": "code",
   "execution_count": 156,
   "metadata": {
    "collapsed": true
   },
   "outputs": [],
   "source": [
    "y_train.as_matrix()+1\n",
    "y_ = model.predict(X_test)\n",
    "y_[-1] = [0,0,1]"
   ]
  },
  {
   "cell_type": "code",
   "execution_count": 157,
   "metadata": {},
   "outputs": [
    {
     "name": "stdout",
     "output_type": "stream",
     "text": [
      "F1 Score (Macro): 0.743504851565413\n",
      "F1 Score (Micro): 0.8791748526522594\n"
     ]
    }
   ],
   "source": [
    "f_macro = f1_score(to_categorical([np.argmax(x) for x in y_]), to_categorical(y_test.as_matrix()+1), average='macro')\n",
    "f_micro = f1_score(to_categorical([np.argmax(x) for x in y_]), to_categorical(y_test.as_matrix()+1), average='micro')\n",
    "print('F1 Score (Macro):', f_macro)\n",
    "print('F1 Score (Micro):', f_micro)"
   ]
  },
  {
   "cell_type": "code",
   "execution_count": 158,
   "metadata": {
    "scrolled": true
   },
   "outputs": [
    {
     "name": "stdout",
     "output_type": "stream",
     "text": [
      "             precision    recall  f1-score   support\n",
      "\n",
      "         -1       0.41      0.58      0.48        88\n",
      "          0       0.94      0.93      0.93      1414\n",
      "          1       0.83      0.81      0.82       534\n",
      "\n",
      "avg / total       0.89      0.88      0.88      2036\n",
      "\n"
     ]
    }
   ],
   "source": [
    "target_names = ['-1', '0', '1']\n",
    "report = classification_report(to_categorical([np.argmax(x) for x in y_]), \n",
    "                               to_categorical(y_test.as_matrix()+1), target_names=target_names)\n",
    "print(report)"
   ]
  },
  {
   "cell_type": "markdown",
   "metadata": {},
   "source": [
    "## BiLSTM:"
   ]
  },
  {
   "cell_type": "code",
   "execution_count": 177,
   "metadata": {},
   "outputs": [
    {
     "name": "stdout",
     "output_type": "stream",
     "text": [
      "_________________________________________________________________\n",
      "Layer (type)                 Output Shape              Param #   \n",
      "=================================================================\n",
      "embedding_1 (Embedding)      (None, 90, 128)           1119744   \n",
      "_________________________________________________________________\n",
      "bidirectional_1 (Bidirection (None, 128)               98816     \n",
      "_________________________________________________________________\n",
      "dropout_1 (Dropout)          (None, 128)               0         \n",
      "_________________________________________________________________\n",
      "dense_1 (Dense)              (None, 3)                 387       \n",
      "=================================================================\n",
      "Total params: 1,218,947\n",
      "Trainable params: 1,218,947\n",
      "Non-trainable params: 0\n",
      "_________________________________________________________________\n"
     ]
    }
   ],
   "source": [
    "model = Sequential()\n",
    "model.add(Embedding(keys+1, 128, input_length=90))\n",
    "model.add(Bidirectional(LSTM(64)))\n",
    "model.add(Dropout(0.5))\n",
    "model.add(Dense(3, activation='softmax'))\n",
    "\n",
    "model.compile(loss = 'categorical_crossentropy', optimizer='adam', metrics = ['accuracy'])\n",
    "\n",
    "model.summary()"
   ]
  },
  {
   "cell_type": "code",
   "execution_count": 178,
   "metadata": {},
   "outputs": [
    {
     "name": "stdout",
     "output_type": "stream",
     "text": [
      "Train on 4885 samples, validate on 1222 samples\n",
      "Epoch 1/50\n",
      "4885/4885 [==============================] - 20s 4ms/step - loss: 0.5363 - acc: 0.7840 - val_loss: 0.4041 - val_acc: 0.8380\n",
      "Epoch 2/50\n",
      "4885/4885 [==============================] - 19s 4ms/step - loss: 0.2921 - acc: 0.8979 - val_loss: 0.3560 - val_acc: 0.8691\n",
      "Epoch 3/50\n",
      "4885/4885 [==============================] - 19s 4ms/step - loss: 0.1825 - acc: 0.9333 - val_loss: 0.3727 - val_acc: 0.8592\n",
      "Epoch 4/50\n",
      "4885/4885 [==============================] - 18s 4ms/step - loss: 0.1229 - acc: 0.9625 - val_loss: 0.4089 - val_acc: 0.8764\n",
      "Epoch 5/50\n",
      "4885/4885 [==============================] - 18s 4ms/step - loss: 0.0750 - acc: 0.9791 - val_loss: 0.4242 - val_acc: 0.8756\n",
      "Epoch 6/50\n",
      "4885/4885 [==============================] - 18s 4ms/step - loss: 0.0637 - acc: 0.9834 - val_loss: 0.4599 - val_acc: 0.8707\n",
      "Epoch 7/50\n",
      "4885/4885 [==============================] - 18s 4ms/step - loss: 0.0528 - acc: 0.9857 - val_loss: 0.4661 - val_acc: 0.8756\n",
      "Epoch 8/50\n",
      "4885/4885 [==============================] - 18s 4ms/step - loss: 0.0465 - acc: 0.9867 - val_loss: 0.5201 - val_acc: 0.8830\n",
      "Epoch 9/50\n",
      "4885/4885 [==============================] - 18s 4ms/step - loss: 0.0432 - acc: 0.9875 - val_loss: 0.5217 - val_acc: 0.8682\n",
      "Epoch 10/50\n",
      "4885/4885 [==============================] - 18s 4ms/step - loss: 0.0404 - acc: 0.9889 - val_loss: 0.5327 - val_acc: 0.8781\n",
      "Epoch 11/50\n",
      "4885/4885 [==============================] - 18s 4ms/step - loss: 0.0378 - acc: 0.9885 - val_loss: 0.5625 - val_acc: 0.8846\n",
      "Epoch 12/50\n",
      "4885/4885 [==============================] - 20s 4ms/step - loss: 0.0386 - acc: 0.9879 - val_loss: 0.5945 - val_acc: 0.8830\n",
      "Epoch 13/50\n",
      "4885/4885 [==============================] - 23s 5ms/step - loss: 0.0370 - acc: 0.9892 - val_loss: 0.5989 - val_acc: 0.8789\n",
      "Epoch 14/50\n",
      "4885/4885 [==============================] - 19s 4ms/step - loss: 0.0376 - acc: 0.9889 - val_loss: 0.5964 - val_acc: 0.8805\n",
      "Epoch 15/50\n",
      "4885/4885 [==============================] - 18s 4ms/step - loss: 0.0346 - acc: 0.9883 - val_loss: 0.6230 - val_acc: 0.8789\n",
      "Epoch 16/50\n",
      "4885/4885 [==============================] - 18s 4ms/step - loss: 0.0349 - acc: 0.9883 - val_loss: 0.6675 - val_acc: 0.8830\n",
      "Epoch 17/50\n",
      "4885/4885 [==============================] - 18s 4ms/step - loss: 0.0365 - acc: 0.9894 - val_loss: 0.6462 - val_acc: 0.8863\n",
      "Epoch 18/50\n",
      "4885/4885 [==============================] - 18s 4ms/step - loss: 0.0505 - acc: 0.9838 - val_loss: 0.6129 - val_acc: 0.8764\n",
      "Epoch 19/50\n",
      "4885/4885 [==============================] - 18s 4ms/step - loss: 0.0447 - acc: 0.9857 - val_loss: 0.5365 - val_acc: 0.8707\n",
      "Epoch 20/50\n",
      "4885/4885 [==============================] - 18s 4ms/step - loss: 0.0371 - acc: 0.9879 - val_loss: 0.6112 - val_acc: 0.8642\n",
      "Epoch 21/50\n",
      "4885/4885 [==============================] - 18s 4ms/step - loss: 0.0350 - acc: 0.9894 - val_loss: 0.6417 - val_acc: 0.8707\n",
      "Epoch 22/50\n",
      "4885/4885 [==============================] - 18s 4ms/step - loss: 0.0336 - acc: 0.9892 - val_loss: 0.6394 - val_acc: 0.8756\n",
      "Epoch 23/50\n",
      "4885/4885 [==============================] - 18s 4ms/step - loss: 0.0328 - acc: 0.9892 - val_loss: 0.6639 - val_acc: 0.8723\n",
      "Epoch 24/50\n",
      "4885/4885 [==============================] - 18s 4ms/step - loss: 0.0343 - acc: 0.9889 - val_loss: 0.6617 - val_acc: 0.8764\n",
      "Epoch 25/50\n",
      "4885/4885 [==============================] - 18s 4ms/step - loss: 0.0334 - acc: 0.9896 - val_loss: 0.6802 - val_acc: 0.8732\n",
      "Epoch 26/50\n",
      "4885/4885 [==============================] - 18s 4ms/step - loss: 0.0322 - acc: 0.9894 - val_loss: 0.6961 - val_acc: 0.8797\n",
      "Epoch 27/50\n",
      "4885/4885 [==============================] - 18s 4ms/step - loss: 0.0338 - acc: 0.9892 - val_loss: 0.7091 - val_acc: 0.8748\n",
      "Epoch 28/50\n",
      "4885/4885 [==============================] - 18s 4ms/step - loss: 0.0314 - acc: 0.9900 - val_loss: 0.6891 - val_acc: 0.8707\n",
      "Epoch 29/50\n",
      "4885/4885 [==============================] - 18s 4ms/step - loss: 0.0317 - acc: 0.9900 - val_loss: 0.7350 - val_acc: 0.8773\n",
      "Epoch 30/50\n",
      "4885/4885 [==============================] - 18s 4ms/step - loss: 0.0326 - acc: 0.9889 - val_loss: 0.7402 - val_acc: 0.8756\n",
      "Epoch 31/50\n",
      "4885/4885 [==============================] - 18s 4ms/step - loss: 0.0341 - acc: 0.9896 - val_loss: 0.7255 - val_acc: 0.8723\n",
      "Epoch 32/50\n",
      "4885/4885 [==============================] - 18s 4ms/step - loss: 0.0318 - acc: 0.9904 - val_loss: 0.7457 - val_acc: 0.8797\n",
      "Epoch 33/50\n",
      "4885/4885 [==============================] - 20s 4ms/step - loss: 0.0309 - acc: 0.9902 - val_loss: 0.7393 - val_acc: 0.8748\n",
      "Epoch 34/50\n",
      "4885/4885 [==============================] - 18s 4ms/step - loss: 0.0302 - acc: 0.9902 - val_loss: 0.7480 - val_acc: 0.8805\n",
      "Epoch 35/50\n",
      "4885/4885 [==============================] - 18s 4ms/step - loss: 0.0317 - acc: 0.9904 - val_loss: 0.7924 - val_acc: 0.8789\n",
      "Epoch 36/50\n",
      "4885/4885 [==============================] - 19s 4ms/step - loss: 0.0331 - acc: 0.9898 - val_loss: 0.7687 - val_acc: 0.8781\n",
      "Epoch 37/50\n",
      "4885/4885 [==============================] - 19s 4ms/step - loss: 0.0319 - acc: 0.9894 - val_loss: 0.7037 - val_acc: 0.8830\n",
      "Epoch 38/50\n",
      "4885/4885 [==============================] - 19s 4ms/step - loss: 0.0441 - acc: 0.9853 - val_loss: 0.6271 - val_acc: 0.8740\n",
      "Epoch 39/50\n",
      "4885/4885 [==============================] - 19s 4ms/step - loss: 0.0333 - acc: 0.9892 - val_loss: 0.7662 - val_acc: 0.8838\n",
      "Epoch 40/50\n",
      "4885/4885 [==============================] - 18s 4ms/step - loss: 0.0322 - acc: 0.9902 - val_loss: 0.7031 - val_acc: 0.8756\n",
      "Epoch 41/50\n",
      "4885/4885 [==============================] - 18s 4ms/step - loss: 0.0301 - acc: 0.9904 - val_loss: 0.7572 - val_acc: 0.8805\n",
      "Epoch 42/50\n",
      "4885/4885 [==============================] - 18s 4ms/step - loss: 0.0319 - acc: 0.9906 - val_loss: 0.7593 - val_acc: 0.8838\n",
      "Epoch 43/50\n",
      "4885/4885 [==============================] - 19s 4ms/step - loss: 0.0305 - acc: 0.9898 - val_loss: 0.7774 - val_acc: 0.8846\n",
      "Epoch 44/50\n",
      "4885/4885 [==============================] - 18s 4ms/step - loss: 0.0297 - acc: 0.9902 - val_loss: 0.7773 - val_acc: 0.8838\n",
      "Epoch 45/50\n",
      "4885/4885 [==============================] - 18s 4ms/step - loss: 0.0301 - acc: 0.9900 - val_loss: 0.7831 - val_acc: 0.8830\n",
      "Epoch 46/50\n",
      "4885/4885 [==============================] - 18s 4ms/step - loss: 0.0296 - acc: 0.9904 - val_loss: 0.7800 - val_acc: 0.8805\n",
      "Epoch 47/50\n",
      "4885/4885 [==============================] - 18s 4ms/step - loss: 0.0377 - acc: 0.9877 - val_loss: 0.6876 - val_acc: 0.8789\n",
      "Epoch 48/50\n",
      "4885/4885 [==============================] - 18s 4ms/step - loss: 0.0312 - acc: 0.9900 - val_loss: 0.7973 - val_acc: 0.8781\n",
      "Epoch 49/50\n",
      "4885/4885 [==============================] - 18s 4ms/step - loss: 0.0323 - acc: 0.9898 - val_loss: 0.7866 - val_acc: 0.8781\n",
      "Epoch 50/50\n",
      "4885/4885 [==============================] - 19s 4ms/step - loss: 0.0301 - acc: 0.9900 - val_loss: 0.7912 - val_acc: 0.8773\n",
      "CPU times: user 1h 2s, sys: 9min 42s, total: 1h 9min 44s\n",
      "Wall time: 15min 18s\n"
     ]
    }
   ],
   "source": [
    "%%time\n",
    "history = model.fit([X_train], y,\n",
    "                    epochs=50,\n",
    "                    batch_size=32,\n",
    "                    validation_split=0.2)"
   ]
  },
  {
   "cell_type": "code",
   "execution_count": 179,
   "metadata": {},
   "outputs": [
    {
     "data": {
      "text/plain": [
       "dict_keys(['val_loss', 'val_acc', 'loss', 'acc'])"
      ]
     },
     "execution_count": 179,
     "metadata": {},
     "output_type": "execute_result"
    }
   ],
   "source": [
    "# Plotting Loss & Accuracy\n",
    "history_dict = history.history\n",
    "history_dict.keys()"
   ]
  },
  {
   "cell_type": "code",
   "execution_count": 180,
   "metadata": {},
   "outputs": [
    {
     "data": {
      "image/png": "[encoded data removed]",
      "text/plain": [
       "<Figure size 432x288 with 1 Axes>"
      ]
     },
     "metadata": {},
     "output_type": "display_data"
    }
   ],
   "source": [
    "acc = history.history['acc']\n",
    "val_acc = history.history['val_acc']\n",
    "loss = history.history['loss']\n",
    "val_loss = history.history['val_loss']\n",
    "\n",
    "epochs = range(1, len(acc) + 1)\n",
    "\n",
    "# \"bo\" is for \"blue dot\"\n",
    "plt.plot(epochs, loss, 'bo', label='Training loss')\n",
    "# b is for \"solid blue line\"\n",
    "plt.plot(epochs, val_loss, 'b', label='Validation loss')\n",
    "plt.title('Training and validation loss')\n",
    "plt.xlabel('Epochs')\n",
    "plt.ylabel('Loss')\n",
    "plt.legend()\n",
    "\n",
    "plt.show()"
   ]
  },
  {
   "cell_type": "code",
   "execution_count": 181,
   "metadata": {},
   "outputs": [
    {
     "data": {
      "image/png": "[encoded data removed]",
      "text/plain": [
       "<Figure size 432x288 with 1 Axes>"
      ]
     },
     "metadata": {},
     "output_type": "display_data"
    }
   ],
   "source": [
    "plt.clf()   # clear figure\n",
    "acc_values = history_dict['acc']\n",
    "val_acc_values = history_dict['val_acc']\n",
    "\n",
    "plt.plot(epochs, acc, 'bo', label='Training acc')\n",
    "plt.plot(epochs, val_acc, 'b', label='Validation acc')\n",
    "plt.title('Training and validation accuracy')\n",
    "plt.xlabel('Epochs')\n",
    "plt.ylabel('Loss')\n",
    "plt.legend()\n",
    "\n",
    "plt.show()"
   ]
  },
  {
   "cell_type": "code",
   "execution_count": 182,
   "metadata": {},
   "outputs": [
    {
     "name": "stdout",
     "output_type": "stream",
     "text": [
      "Best Training Accuracy: 99.05834186284544 Epoch: 41 Best Validation Accuracy: 88.62520459240665 Epoch: 16\n",
      "Lowest Training Loss value: 2.957029398721371 Epoch: 45 Lowest Validation Loss: 35.59880167392194 Epoch: 1\n"
     ]
    }
   ],
   "source": [
    "print('Best Training Accuracy:', max(acc)*100, 'Epoch:', np.argmax(acc),\n",
    "     'Best Validation Accuracy:', max(val_acc)*100, 'Epoch:', np.argmax(val_acc))\n",
    "print('Lowest Training Loss value:', min(loss)*100, 'Epoch:', np.argmin(loss),\n",
    "     'Lowest Validation Loss:', min(val_loss)*100, 'Epoch:', np.argmin(val_loss))"
   ]
  },
  {
   "cell_type": "markdown",
   "metadata": {},
   "source": [
    "### BiLSTM BEST MODEL TEST RESULTS:"
   ]
  },
  {
   "cell_type": "code",
   "execution_count": 183,
   "metadata": {
    "collapsed": true
   },
   "outputs": [],
   "source": [
    "# Some memory clean-up\n",
    "K.clear_session()"
   ]
  },
  {
   "cell_type": "code",
   "execution_count": 184,
   "metadata": {
    "collapsed": true
   },
   "outputs": [],
   "source": [
    "model = Sequential()\n",
    "model.add(Embedding(keys+1, 128, input_length=90))\n",
    "model.add(Bidirectional(LSTM(64)))\n",
    "model.add(Dropout(0.5))\n",
    "model.add(Dense(3, activation='softmax'))\n",
    "\n",
    "model.compile(loss = 'categorical_crossentropy', optimizer='adam', metrics = ['accuracy'])"
   ]
  },
  {
   "cell_type": "code",
   "execution_count": 185,
   "metadata": {
    "collapsed": true
   },
   "outputs": [],
   "source": [
    "model.compile(loss='categorical_crossentropy', \n",
    "              optimizer='adam', \n",
    "              metrics=['accuracy'])"
   ]
  },
  {
   "cell_type": "code",
   "execution_count": 186,
   "metadata": {},
   "outputs": [
    {
     "name": "stdout",
     "output_type": "stream",
     "text": [
      "CPU times: user 22min 40s, sys: 3min 56s, total: 26min 37s\n",
      "Wall time: 5min 25s\n"
     ]
    },
    {
     "data": {
      "text/plain": [
       "<keras.callbacks.History at 0x146e39c18>"
      ]
     },
     "execution_count": 186,
     "metadata": {},
     "output_type": "execute_result"
    }
   ],
   "source": [
    "%%time\n",
    "model.fit([X_train], y, verbose=0, epochs=16, \n",
    "          batch_size=32)"
   ]
  },
  {
   "cell_type": "code",
   "execution_count": 187,
   "metadata": {},
   "outputs": [
    {
     "name": "stdout",
     "output_type": "stream",
     "text": [
      "2036/2036 [==============================] - 2s 790us/step\n"
     ]
    },
    {
     "data": {
      "text/plain": [
       "[0.640946771517718, 0.8693516701752638]"
      ]
     },
     "execution_count": 187,
     "metadata": {},
     "output_type": "execute_result"
    }
   ],
   "source": [
    "model.evaluate(X_test, to_categorical(y_test.as_matrix()+1))"
   ]
  },
  {
   "cell_type": "code",
   "execution_count": 188,
   "metadata": {
    "collapsed": true
   },
   "outputs": [],
   "source": [
    "y_train.as_matrix()+1\n",
    "y_ = model.predict(X_test)\n",
    "y_[-1] = [0,0,1]"
   ]
  },
  {
   "cell_type": "code",
   "execution_count": 189,
   "metadata": {},
   "outputs": [
    {
     "name": "stdout",
     "output_type": "stream",
     "text": [
      "F1 Score (Macro): 0.7178993528120009\n",
      "F1 Score (Micro): 0.868860510805501\n"
     ]
    }
   ],
   "source": [
    "f_macro = f1_score(to_categorical([np.argmax(x) for x in y_]), to_categorical(y_test.as_matrix()+1), average='macro')\n",
    "f_micro = f1_score(to_categorical([np.argmax(x) for x in y_]), to_categorical(y_test.as_matrix()+1), average='micro')\n",
    "print('F1 Score (Macro):', f_macro)\n",
    "print('F1 Score (Micro):', f_micro)"
   ]
  },
  {
   "cell_type": "code",
   "execution_count": 190,
   "metadata": {
    "scrolled": true
   },
   "outputs": [
    {
     "name": "stdout",
     "output_type": "stream",
     "text": [
      "             precision    recall  f1-score   support\n",
      "\n",
      "         -1       0.31      0.70      0.43        56\n",
      "          0       0.95      0.90      0.92      1473\n",
      "          1       0.79      0.81      0.80       507\n",
      "\n",
      "avg / total       0.89      0.87      0.88      2036\n",
      "\n"
     ]
    }
   ],
   "source": [
    "target_names = ['-1', '0', '1']\n",
    "report = classification_report(to_categorical([np.argmax(x) for x in y_]), \n",
    "                               to_categorical(y_test.as_matrix()+1), target_names=target_names)\n",
    "print(report)"
   ]
  },
  {
   "cell_type": "code",
   "execution_count": null,
   "metadata": {
    "collapsed": true
   },
   "outputs": [],
   "source": []
  }
 ],
 "metadata": {
  "kernelspec": {
   "display_name": "Python 3",
   "language": "python",
   "name": "python3"
  },
  "language_info": {
   "codemirror_mode": {
    "name": "ipython",
    "version": 3
   },
   "file_extension": ".py",
   "mimetype": "text/x-python",
   "name": "python",
   "nbconvert_exporter": "python",
   "pygments_lexer": "ipython3",
   "version": "3.6.2"
  }
 },
 "nbformat": 4,
 "nbformat_minor": 2
}
